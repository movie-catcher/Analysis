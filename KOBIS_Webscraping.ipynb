{
 "cells": [
  {
   "cell_type": "markdown",
   "metadata": {},
   "source": [
    "# KOBIS Webscraping\n",
    "- https://www.kobis.or.kr/kobis/business/stat/boxs/findYearlyBoxOfficeList.do\n",
    "\n",
    "\n",
    "> 코드 -> id\n",
    "- 20204117\n",
    "\n",
    "> 요약정보\n",
    "- 장편/단편 | 종류 | 장르 | runtime | 연령 | 국가\n",
    "- 장편 | 일반영화 | 액션, 드라마 | 121분 2초 | 15세이상관람가 | 한국\n",
    "\n",
    "> 배우 [주연]\n",
    "- 김윤석(한신성 대사) | 조인성(강대진 참사관) | 허준호(림용수 대사) | 구교환(태준기 참사관) | 김소진(김명희) | 정만식(공수철 서기관)"
   ]
  },
  {
   "cell_type": "markdown",
   "metadata": {},
   "source": [
    "## 2019"
   ]
  },
  {
   "cell_type": "code",
   "execution_count": 18,
   "metadata": {
    "ExecuteTime": {
     "end_time": "2021-11-14T12:16:07.805713Z",
     "start_time": "2021-11-14T12:16:02.238877Z"
    }
   },
   "outputs": [
    {
     "name": "stderr",
     "output_type": "stream",
     "text": [
      "<ipython-input-18-56d1d14d6f69>:14: DeprecationWarning: find_element_by_* commands are deprecated. Please use find_element() instead\n",
      "  select = Select(browser.find_element_by_id('sSearchYearFrom'))\n",
      "<ipython-input-18-56d1d14d6f69>:19: DeprecationWarning: find_element_by_* commands are deprecated. Please use find_element() instead\n",
      "  browser.find_element_by_class_name('btn_blue').click()\n"
     ]
    }
   ],
   "source": [
    "import requests\n",
    "from bs4 import BeautifulSoup\n",
    "from selenium import webdriver\n",
    "from selenium.webdriver.support.ui import Select\n",
    "import time\n",
    "\n",
    "browser = webdriver.Chrome()\n",
    "# browser.maximize_window()\n",
    "\n",
    "url = 'https://www.kobis.or.kr/kobis/business/stat/boxs/findYearlyBoxOfficeList.do'\n",
    "browser.get(url)\n",
    "\n",
    "# select by value \n",
    "select = Select(browser.find_element_by_id('sSearchYearFrom'))\n",
    "# 2019년 선택\n",
    "select.select_by_value('2019')\n",
    "\n",
    "# 조회 버튼 클릭\n",
    "browser.find_element_by_class_name('btn_blue').click()\n"
   ]
  },
  {
   "cell_type": "code",
   "execution_count": 35,
   "metadata": {
    "ExecuteTime": {
     "end_time": "2021-11-14T12:27:40.937085Z",
     "start_time": "2021-11-14T12:27:40.833442Z"
    }
   },
   "outputs": [
    {
     "name": "stdout",
     "output_type": "stream",
     "text": [
      "['극한직업', '어벤져스: 엔드게임', '겨울왕국 2', '알라딘', '기생충', '엑시트', '스파이더맨: 파 프롬 홈', '백두산', '캡틴 마블', '조커', '봉오동 전투', '라이온 킹', '나쁜 녀석들: 더 무비', '82년생 김지영', '분노의 질주: 홉스&쇼', '토이 스토리 4', '돈', '악인전', '가장 보통의 연애', '말모이', '증인', '시동', '블랙머니', '터미네이터: 다크 페이트', '사바하', '타짜: 원 아이드 잭', '신의 한 수: 귀수편', '알리타: 배틀 엔젤', '내안의 그놈', '뺑반', '변신', '주먹왕 랄프 2: 인터넷 속으로', '걸캅스', '사자', '아쿠아맨', '드래곤 길들이기 3', '나의 특별한 형제', '어스', '말레피센트 2', '유열의 음악앨범', '퍼펙트맨', '포드 V 페라리', '생일', '힘을 내요, 미스터 리', '항거:유관순 이야기', '장사리 : 잊혀진 영웅들', '마이펫의 이중생활 2', '롱 리브 더 킹: 목포 영웅', '쥬만지: 넥스트 레벨', '존 윅 3: 파라벨룸']\n"
     ]
    }
   ],
   "source": [
    "# 영화명 추출\n",
    "soup = BeautifulSoup(browser.page_source, 'lxml')\n",
    "movies = soup.find_all('td', attrs = {'class':'tal'})\n",
    "\n",
    "movie_title = []\n",
    "for movie in movies:\n",
    "    title = movie.find('span', attrs={'class':'ellip per90'}).get_text()\n",
    "    movie_title.append(title)\n",
    "\n",
    "print(movie_title)\n",
    "# 영화명 클릭\n",
    "# zero = browser.find_element_by_class_name('ellip per90')\n",
    "# sample = zero.find_element_by_css_select('a')\n",
    "# browser.execute_script(\"arguments[0].click();\", sample)\n",
    "\n",
    "\n"
   ]
  },
  {
   "cell_type": "code",
   "execution_count": null,
   "metadata": {},
   "outputs": [],
   "source": []
  }
 ],
 "metadata": {
  "hide_input": false,
  "kernelspec": {
   "display_name": "Python 3",
   "language": "python",
   "name": "python3"
  },
  "language_info": {
   "codemirror_mode": {
    "name": "ipython",
    "version": 3
   },
   "file_extension": ".py",
   "mimetype": "text/x-python",
   "name": "python",
   "nbconvert_exporter": "python",
   "pygments_lexer": "ipython3",
   "version": "3.8.3"
  },
  "toc": {
   "base_numbering": 1,
   "nav_menu": {},
   "number_sections": true,
   "sideBar": true,
   "skip_h1_title": false,
   "title_cell": "Table of Contents",
   "title_sidebar": "Contents",
   "toc_cell": false,
   "toc_position": {},
   "toc_section_display": true,
   "toc_window_display": false
  },
  "varInspector": {
   "cols": {
    "lenName": 16,
    "lenType": 16,
    "lenVar": 40
   },
   "kernels_config": {
    "python": {
     "delete_cmd_postfix": "",
     "delete_cmd_prefix": "del ",
     "library": "var_list.py",
     "varRefreshCmd": "print(var_dic_list())"
    },
    "r": {
     "delete_cmd_postfix": ") ",
     "delete_cmd_prefix": "rm(",
     "library": "var_list.r",
     "varRefreshCmd": "cat(var_dic_list()) "
    }
   },
   "types_to_exclude": [
    "module",
    "function",
    "builtin_function_or_method",
    "instance",
    "_Feature"
   ],
   "window_display": false
  }
 },
 "nbformat": 4,
 "nbformat_minor": 4
}
