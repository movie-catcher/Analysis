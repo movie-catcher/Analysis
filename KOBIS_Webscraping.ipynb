{
 "cells": [
  {
   "cell_type": "markdown",
   "metadata": {},
   "source": [
    "# KOBIS Webscraping\n",
    "- https://www.kobis.or.kr/kobis/business/stat/boxs/findYearlyBoxOfficeList.do\n",
    "\n",
    "\n",
    "> 코드 -> id\n",
    "- 20204117\n",
    "\n",
    "> 요약정보\n",
    "- 장편/단편 | 종류 | 장르 | runtime | 연령 | 국가\n",
    "- 장편 | 일반영화 | 액션, 드라마 | 121분 2초 | 15세이상관람가 | 한국\n",
    "\n",
    "> 배우 [주연]\n",
    "- 김윤석(한신성 대사) | 조인성(강대진 참사관) | 허준호(림용수 대사) | 구교환(태준기 참사관) | 김소진(김명희) | 정만식(공수철 서기관)"
   ]
  },
  {
   "cell_type": "code",
   "execution_count": 3,
   "metadata": {
    "ExecuteTime": {
     "end_time": "2021-11-15T12:03:03.864832Z",
     "start_time": "2021-11-15T12:02:59.028744Z"
    }
   },
   "outputs": [],
   "source": [
    "import requests\n",
    "from bs4 import BeautifulSoup\n",
    "from selenium import webdriver\n",
    "from selenium.webdriver.support.ui import Select\n",
    "import time\n",
    "\n",
    "browser = webdriver.Chrome()\n",
    "# browser.maximize_window()\n",
    "\n",
    "url = 'https://www.kobis.or.kr/kobis/business/stat/boxs/findYearlyBoxOfficeList.do'\n",
    "browser.get(url)"
   ]
  },
  {
   "cell_type": "markdown",
   "metadata": {},
   "source": [
    "## Function"
   ]
  },
  {
   "cell_type": "code",
   "execution_count": 186,
   "metadata": {
    "ExecuteTime": {
     "end_time": "2021-11-15T13:56:17.766213Z",
     "start_time": "2021-11-15T13:56:17.759210Z"
    }
   },
   "outputs": [],
   "source": [
    "# 연도 선택 후 조회\n",
    "def select_year(year):\n",
    "    # select by value \n",
    "    select = Select(browser.find_element_by_id('sSearchYearFrom'))\n",
    "    # 2019년 선택\n",
    "    select.select_by_value(str(year))\n",
    "    # 조회 버튼 클릭\n",
    "    browser.find_element_by_class_name('btn_blue').click()\n",
    "    \n",
    "    return"
   ]
  },
  {
   "cell_type": "code",
   "execution_count": 187,
   "metadata": {
    "ExecuteTime": {
     "end_time": "2021-11-15T13:56:18.629079Z",
     "start_time": "2021-11-15T13:56:18.614077Z"
    }
   },
   "outputs": [],
   "source": [
    "# 영화명 추출\n",
    "def movie_name_extract():\n",
    "    soup = BeautifulSoup(browser.page_source, 'lxml')\n",
    "    movies = soup.find_all('td', attrs = {'class':'tal'})\n",
    "\n",
    "    movie_title = []\n",
    "    for movie in movies:\n",
    "        title = movie.find('span', attrs={'class':'ellip per90'}).get_text()\n",
    "        movie_title.append(title)\n",
    "\n",
    "    return movie_title"
   ]
  },
  {
   "cell_type": "code",
   "execution_count": 188,
   "metadata": {
    "ExecuteTime": {
     "end_time": "2021-11-15T13:56:19.343735Z",
     "start_time": "2021-11-15T13:56:19.337718Z"
    }
   },
   "outputs": [],
   "source": [
    "# 불러올 tr_id 생성하는 함수\n",
    "# 가져오고 싶은 영화 갯수\n",
    "def make_id(num):\n",
    "    lst = []\n",
    "    for i in range(num):\n",
    "         lst.append('tr_' + str(i))\n",
    "    return lst"
   ]
  },
  {
   "cell_type": "code",
   "execution_count": 208,
   "metadata": {
    "ExecuteTime": {
     "end_time": "2021-11-15T14:07:46.864870Z",
     "start_time": "2021-11-15T14:07:46.843869Z"
    }
   },
   "outputs": [],
   "source": [
    "# 필요한 영화 정보 가져오는 함수\n",
    "def extract_movie_info(soup):\n",
    "    movie_contents = soup.find('dl',{'class':'ovf cont'}).find_all('dd')\n",
    "    movie_info_lst = []\n",
    "    for movie_content in movie_contents:\n",
    "        movie_info = movie_content.get_text(strip = True)\n",
    "        movie_info_lst.append(movie_info)\n",
    "\n",
    "    movie_info_dic = {}\n",
    "    movie_info_dic['name'] = soup.find('div',{'class':'hd_layer'}).find('strong').get_text()\n",
    "    movie_info_dic['code'] = movie_info_lst[0]\n",
    "    movie_info_dic['summary'] = movie_info_lst[3]\n",
    "    movie_info_dic['release'] = movie_info_lst[4]\n",
    "\n",
    "    movie_info_dic['summary'] = movie_info_dic['summary'].replace('\\n',\"\").replace('\\t',\"\").split('|')\n",
    "\n",
    "    movie_info_dic['scale'] = movie_info_dic['summary'][0].strip()\n",
    "    movie_info_dic['kind'] = movie_info_dic['summary'][1].strip()\n",
    "    movie_info_dic['genre'] = movie_info_dic['summary'][2].strip()\n",
    "    movie_info_dic['running_time'] = movie_info_dic['summary'][3].strip()\n",
    "    movie_info_dic['age'] = movie_info_dic['summary'][4].strip()\n",
    "    movie_info_dic['nation'] = movie_info_dic['summary'][5].strip()\n",
    "\n",
    "    del movie_info_dic['summary']\n",
    "    \n",
    "    return movie_info_dic"
   ]
  },
  {
   "cell_type": "code",
   "execution_count": 209,
   "metadata": {
    "ExecuteTime": {
     "end_time": "2021-11-15T14:07:47.717122Z",
     "start_time": "2021-11-15T14:07:47.696604Z"
    }
   },
   "outputs": [],
   "source": [
    "# 영화 클릭해서 필요 정보 가져오고 창 닫는 함수\n",
    "def movie_click(ids):\n",
    "    movie_info = []\n",
    "    for id in ids:\n",
    "        print(\"Scrapping movie_id : {}\".format(id))\n",
    "        movie_tr_id = browser.find_element_by_id(id)\n",
    "        movie_click = movie_tr_id.find_element_by_css_selector('#td_movie > span > a')\n",
    "        movie_click.click()\n",
    "        \n",
    "        html = browser.page_source\n",
    "        soup = BeautifulSoup(html,'lxml')\n",
    "\n",
    "        movie = extract_movie_info(soup)\n",
    "        movie_info.append(movie)\n",
    "        \n",
    "        time.sleep(1) # 벤 안먹기위해서\n",
    "\n",
    "        # 창 닫기\n",
    "        browser.find_element_by_css_selector('body > div.ui-dialog.ui-corner-all.ui-widget.ui-widget-content.ui-front.ui-draggable.ui-resizable > div.ui-dialog-titlebar.ui-corner-all.ui-widget-header.ui-helper-clearfix.ui-draggable-handle > div.hd_layer > a:nth-child(3) > span').click()\n",
    "\n",
    "    return movie_info"
   ]
  },
  {
   "cell_type": "markdown",
   "metadata": {},
   "source": [
    "## 2020~2019"
   ]
  },
  {
   "cell_type": "code",
   "execution_count": 199,
   "metadata": {
    "ExecuteTime": {
     "end_time": "2021-11-15T14:00:35.503722Z",
     "start_time": "2021-11-15T14:00:35.498722Z"
    }
   },
   "outputs": [],
   "source": [
    "import warnings\n",
    "warnings.filterwarnings(\"ignore\") "
   ]
  },
  {
   "cell_type": "code",
   "execution_count": 210,
   "metadata": {
    "ExecuteTime": {
     "end_time": "2021-11-15T14:07:58.201372Z",
     "start_time": "2021-11-15T14:07:51.417726Z"
    }
   },
   "outputs": [],
   "source": [
    "import requests\n",
    "from bs4 import BeautifulSoup\n",
    "from selenium import webdriver\n",
    "from selenium.webdriver.support.ui import Select\n",
    "import time\n",
    "\n",
    "browser = webdriver.Chrome()\n",
    "# browser.maximize_window()\n",
    "\n",
    "url = 'https://www.kobis.or.kr/kobis/business/stat/boxs/findYearlyBoxOfficeList.do'\n",
    "browser.get(url)"
   ]
  },
  {
   "cell_type": "markdown",
   "metadata": {},
   "source": [
    "### 2020"
   ]
  },
  {
   "cell_type": "code",
   "execution_count": 213,
   "metadata": {
    "ExecuteTime": {
     "end_time": "2021-11-15T14:13:24.032549Z",
     "start_time": "2021-11-15T14:11:09.690126Z"
    },
    "scrolled": true
   },
   "outputs": [
    {
     "name": "stdout",
     "output_type": "stream",
     "text": [
      "Scrapping movie_id : tr_0\n",
      "Scrapping movie_id : tr_1\n",
      "Scrapping movie_id : tr_2\n",
      "Scrapping movie_id : tr_3\n",
      "Scrapping movie_id : tr_4\n",
      "Scrapping movie_id : tr_5\n",
      "Scrapping movie_id : tr_6\n",
      "Scrapping movie_id : tr_7\n",
      "Scrapping movie_id : tr_8\n",
      "Scrapping movie_id : tr_9\n",
      "Scrapping movie_id : tr_10\n",
      "Scrapping movie_id : tr_11\n",
      "Scrapping movie_id : tr_12\n",
      "Scrapping movie_id : tr_13\n",
      "Scrapping movie_id : tr_14\n",
      "Scrapping movie_id : tr_15\n",
      "Scrapping movie_id : tr_16\n",
      "Scrapping movie_id : tr_17\n",
      "Scrapping movie_id : tr_18\n",
      "Scrapping movie_id : tr_19\n",
      "Scrapping movie_id : tr_20\n",
      "Scrapping movie_id : tr_21\n",
      "Scrapping movie_id : tr_22\n",
      "Scrapping movie_id : tr_23\n",
      "Scrapping movie_id : tr_24\n",
      "Scrapping movie_id : tr_25\n",
      "Scrapping movie_id : tr_26\n",
      "Scrapping movie_id : tr_27\n",
      "Scrapping movie_id : tr_28\n",
      "Scrapping movie_id : tr_29\n",
      "Scrapping movie_id : tr_30\n",
      "Scrapping movie_id : tr_31\n",
      "Scrapping movie_id : tr_32\n",
      "Scrapping movie_id : tr_33\n",
      "Scrapping movie_id : tr_34\n",
      "Scrapping movie_id : tr_35\n",
      "Scrapping movie_id : tr_36\n",
      "Scrapping movie_id : tr_37\n",
      "Scrapping movie_id : tr_38\n",
      "Scrapping movie_id : tr_39\n",
      "Scrapping movie_id : tr_40\n",
      "Scrapping movie_id : tr_41\n",
      "Scrapping movie_id : tr_42\n",
      "Scrapping movie_id : tr_43\n",
      "Scrapping movie_id : tr_44\n",
      "Scrapping movie_id : tr_45\n",
      "Scrapping movie_id : tr_46\n",
      "Scrapping movie_id : tr_47\n",
      "Scrapping movie_id : tr_48\n",
      "Scrapping movie_id : tr_49\n"
     ]
    }
   ],
   "source": [
    "select_year(2020) # 2020 선택 후 조회 버튼 클릭\n",
    "\n",
    "movie_title_2020 = movie_name_extract() # 영화명 list\n",
    "\n",
    "movie_ids = make_id(50) # 영화 50개 id\n",
    "movie_info_20 = movie_click(movie_ids)"
   ]
  },
  {
   "cell_type": "code",
   "execution_count": 214,
   "metadata": {
    "ExecuteTime": {
     "end_time": "2021-11-15T14:13:26.945274Z",
     "start_time": "2021-11-15T14:13:26.940256Z"
    }
   },
   "outputs": [
    {
     "name": "stdout",
     "output_type": "stream",
     "text": [
      "['남산의 부장들', '다만 악에서 구하소서', '반도', '히트맨', '테넷', '백두산', '#살아있다', '강철비2: 정상회담', '담보', '닥터 두리틀', '삼진그룹 영어토익반', '정직한 후보', '도굴', '클로젯', '오케이 마담', '해치지않아', '천문: 하늘에 묻는다', '결백', '1917', '작은 아씨들', '미드웨이', '시동', '지푸라기라도 잡고 싶은 짐승들', '미스터 주: 사라진 VIP', '인비저블맨', '나쁜 녀석들: 포에버', '국제수사', '침입자', '스타워즈: 라이즈 오브 스카이워커', '스파이 지니어스 ', '이웃사촌', '온워드: 단 하루의 기적', '소리도 없이', '버즈 오브 프레이(할리 퀸의 황홀한 해방)', '원더 우먼 1984', '겨울왕국 2', '오! 문희', '그린랜드', '위대한 쇼맨', '런', '뮬란', '내가 죽던 날', '기생충', '신비아파트 극장판 하늘도깨비 대 요르문간드', '프리즌 이스케이프', '검객', '조제', '사라진 시간', '밤쉘: 세상을 바꾼 폭탄선언', '알라딘']\n",
      "[{'name': '남산의 부장들', 'code': '20180939', 'release': '2020-01-22', 'scale': '장편', 'kind': '일반영화', 'genre': '드라마', 'running_time': '113분 38초', 'age': '15세이상관람가', 'nation': '한국'}, {'name': '다만 악에서 구하소서', 'code': '20197922', 'release': '2020-08-05', 'scale': '장편', 'kind': '일반영화', 'genre': '범죄,                                              액션', 'running_time': '107분 49초', 'age': '15세이상관람가', 'nation': '한국'}, {'name': '반도', 'code': '20193450', 'release': '재난, 액션, 드라마', 'scale': '장편', 'kind': '일반영화', 'genre': '액션,                                              드라마', 'running_time': '115분 35초', 'age': '15세이상관람가', 'nation': '한국'}, {'name': '히트맨', 'code': '20192101', 'release': '2020-01-22', 'scale': '장편', 'kind': '일반영화', 'genre': '코미디,                                              액션', 'running_time': '109분 47초', 'age': '15세이상관람가', 'nation': '한국'}, {'name': '테넷', 'code': '20201122', 'release': '멀티 장르 액션 블록버스터', 'scale': '장편', 'kind': '일반영화', 'genre': '액션,                                              SF', 'running_time': '149분 59초', 'age': '12세이상관람가', 'nation': '미국'}, {'name': '백두산', 'code': '20192206', 'release': '모험 드라마', 'scale': '장편', 'kind': '일반영화', 'genre': '어드벤처,                                              드라마', 'running_time': '128분 0초', 'age': '12세이상관람가', 'nation': '한국'}, {'name': '#살아있다', 'code': '20193069', 'release': '2020-06-24', 'scale': '장편', 'kind': '일반영화', 'genre': '드라마', 'running_time': '97분 59초', 'age': '15세이상관람가', 'nation': '한국'}, {'name': '강철비2: 정상회담', 'code': '20196271', 'release': '2020-07-29', 'scale': '장편', 'kind': '일반영화', 'genre': '드라마,                                              액션', 'running_time': '131분 33초', 'age': '15세이상관람가', 'nation': '한국'}, {'name': '담보', 'code': '20199816', 'release': '휴먼 드라마', 'scale': '장편', 'kind': '일반영화', 'genre': '드라마', 'running_time': '113분 0초', 'age': '12세이상관람가', 'nation': '한국'}, {'name': '닥터 두리틀', 'code': '20199581', 'release': '2020-01-08', 'scale': '장편', 'kind': '일반영화', 'genre': '판타지,                                              어드벤처', 'running_time': '101분 24초', 'age': '전체관람가', 'nation': '미국'}, {'name': '삼진그룹 영어토익반', 'code': '20197121', 'release': '2020-10-21', 'scale': '장편', 'kind': '일반영화', 'genre': '드라마', 'running_time': '110분 18초', 'age': '12세이상관람가', 'nation': '한국'}, {'name': '정직한 후보', 'code': '20193321', 'release': '2020-02-12', 'scale': '장편', 'kind': '일반영화', 'genre': '코미디', 'running_time': '104분 30초', 'age': '12세이상관람가', 'nation': '한국'}, {'name': '도굴', 'code': '20192193', 'release': '범죄,오락', 'scale': '장편', 'kind': '일반영화', 'genre': '범죄', 'running_time': '114분 50초', 'age': '12세이상관람가', 'nation': '한국'}, {'name': '클로젯', 'code': '20182447', 'release': '2020-02-05', 'scale': '장편', 'kind': '일반영화', 'genre': '미스터리,                                              드라마', 'running_time': '97분 50초', 'age': '15세이상관람가', 'nation': '한국'}, {'name': '오케이 마담', 'code': '20199883', 'release': '2020-08-12', 'scale': '장편', 'kind': '일반영화', 'genre': '코미디,                                              액션', 'running_time': '100분 28초', 'age': '15세이상관람가', 'nation': '한국'}, {'name': '해치지않아', 'code': '20183002', 'release': '2020-01-15', 'scale': '장편', 'kind': '일반영화', 'genre': '코미디', 'running_time': '117분 29초', 'age': '12세이상관람가', 'nation': '한국'}, {'name': '천문: 하늘에 묻는다', 'code': '20184571', 'release': '2019-12-26', 'scale': '장편', 'kind': '일반영화', 'genre': '사극', 'running_time': '132분 59초', 'age': '12세이상관람가', 'nation': '한국'}, {'name': '결백', 'code': '20183813', 'release': '무죄 입증 추적극', 'scale': '장편', 'kind': '일반영화', 'genre': '드라마', 'running_time': '110분 39초', 'age': '15세이상관람가', 'nation': '한국'}, {'name': '1917', 'code': '20192399', 'release': '2020-02-19', 'scale': '장편', 'kind': '일반영화', 'genre': '드라마,                                              전쟁', 'running_time': '119분 19초', 'age': '15세이상관람가', 'nation': '미국'}, {'name': '작은 아씨들', 'code': '20192240', 'release': '2020-02-12', 'scale': '장편', 'kind': '일반영화', 'genre': '드라마,                                              멜로/로맨스', 'running_time': '134분 42초', 'age': '전체관람가', 'nation': '미국'}, {'name': '미드웨이', 'code': '20196272', 'release': '2019-12-31', 'scale': '장편', 'kind': '일반영화', 'genre': '액션,                                              드라마', 'running_time': '138분 0초', 'age': '15세이상관람가', 'nation': '미국'}, {'name': '시동', 'code': '20198414', 'release': '2019-12-18', 'scale': '장편', 'kind': '일반영화', 'genre': '드라마', 'running_time': '101분 48초', 'age': '15세이상관람가', 'nation': '한국'}, {'name': '지푸라기라도 잡고 싶은 짐승들', 'code': '20180962', 'release': '2020-02-19', 'scale': '장편', 'kind': '일반영화', 'genre': '스릴러,                                              범죄', 'running_time': '108분 34초', 'age': '청소년관람불가', 'nation': '한국'}, {'name': '미스터 주: 사라진 VIP', 'code': '20188421', 'release': '2020-01-22', 'scale': '장편', 'kind': '일반영화', 'genre': '코미디,                                              드라마', 'running_time': '113분 42초', 'age': '12세이상관람가', 'nation': '한국'}, {'name': '인비저블맨', 'code': '20199842', 'release': '2020-02-26', 'scale': '장편', 'kind': '일반영화', 'genre': '공포(호러)', 'running_time': '124분 21초', 'age': '15세이상관람가', 'nation': '미국'}, {'name': '나쁜 녀석들: 포에버', 'code': '20196670', 'release': '액션 블록버스터', 'scale': '장편', 'kind': '일반영화', 'genre': '액션', 'running_time': '123분 47초', 'age': '청소년관람불가', 'nation': '미국'}, {'name': '국제수사', 'code': '20184482', 'release': '2020-09-29', 'scale': '장편', 'kind': '일반영화', 'genre': '코미디,                                              액션', 'running_time': '105분 50초', 'age': '15세이상관람가', 'nation': '한국'}, {'name': '침입자', 'code': '20197863', 'release': '2020-06-04', 'scale': '장편', 'kind': '일반영화', 'genre': '미스터리,                                              스릴러', 'running_time': '102분 7초', 'age': '15세이상관람가', 'nation': '한국'}, {'name': '스타워즈: 라이즈 오브 스카이워커', 'code': '20195462', 'release': '2020-01-08', 'scale': '장편', 'kind': '일반영화', 'genre': '액션,                                              어드벤처,                                              판타지,                                              SF', 'running_time': '141분 41초', 'age': '12세이상관람가', 'nation': '미국'}, {'name': '스파이 지니어스 ', 'code': '20192300', 'release': '2020-01-22', 'scale': '장편', 'kind': '일반영화', 'genre': '애니메이션,                                              액션,                                              코미디,                                              가족,                                              SF', 'running_time': '101분 44초', 'age': '전체관람가', 'nation': '미국'}, {'name': '이웃사촌', 'code': '20181983', 'release': '2020-11-25', 'scale': '장편', 'kind': '일반영화', 'genre': '드라마,                                              코미디', 'running_time': '130분 2초', 'age': '12세이상관람가', 'nation': '한국'}, {'name': '온워드: 단 하루의 기적', 'code': '20191048', 'release': '2020-06-17', 'scale': '장편', 'kind': '일반영화', 'genre': '애니메이션,                                              어드벤처,                                              판타지', 'running_time': '102분 13초', 'age': '전체관람가', 'nation': '미국'}, {'name': '소리도 없이', 'code': '20194424', 'release': '2020-10-15', 'scale': '장편', 'kind': '일반영화', 'genre': '범죄,                                              드라마', 'running_time': '99분 11초', 'age': '15세이상관람가', 'nation': '한국'}, {'name': '버즈 오브 프레이(할리 퀸의 황홀한 해방)', 'code': '20198431', 'release': '2020-02-05', 'scale': '장편', 'kind': '일반영화', 'genre': '액션,                                              어드벤처,                                              범죄', 'running_time': '108분 46초', 'age': '15세이상관람가', 'nation': '미국'}, {'name': '원더 우먼 1984', 'code': '20192567', 'release': '2020-12-23', 'scale': '장편', 'kind': '일반영화', 'genre': '액션,                                              어드벤처', 'running_time': '150분 59초', 'age': '12세이상관람가', 'nation': '미국'}, {'name': '겨울왕국 2', 'code': '20197803', 'release': '2019-11-21', 'scale': '장편', 'kind': '일반영화', 'genre': '애니메이션', 'running_time': '103분 4초', 'age': '전체관람가', 'nation': '미국'}, {'name': '오! 문희', 'code': '20193666', 'release': '2020-09-02', 'scale': '장편', 'kind': '일반영화', 'genre': '코미디,                                              드라마', 'running_time': '109분 30초', 'age': '12세이상관람가', 'nation': '한국'}, {'name': '그린랜드', 'code': '20204008', 'release': '2020-09-29', 'scale': '장편', 'kind': '일반영화', 'genre': '액션,                                              스릴러', 'running_time': '119분 52초', 'age': '12세이상관람가', 'nation': '미국'}, {'name': '위대한 쇼맨', 'code': '20179462', 'release': '2017-12-20', 'scale': '장편', 'kind': '일반영화', 'genre': '드라마,                                              뮤지컬', 'running_time': '104분 9초', 'age': '12세이상관람가', 'nation': '미국'}, {'name': '런', 'code': '20200294', 'release': '2020-11-20', 'scale': '장편', 'kind': '일반영화', 'genre': '미스터리,                                              스릴러', 'running_time': '89분 16초', 'age': '15세이상관람가', 'nation': '미국'}, {'name': '뮬란', 'code': '20193822', 'release': '2020-09-17', 'scale': '장편', 'kind': '일반영화', 'genre': '어드벤처,                                              드라마,                                              가족', 'running_time': '115분 9초', 'age': '12세이상관람가', 'nation': '미국'}, {'name': '내가 죽던 날', 'code': '20190582', 'release': '2020-11-12', 'scale': '장편', 'kind': '일반영화', 'genre': '드라마', 'running_time': '116분 8초', 'age': '12세이상관람가', 'nation': '한국'}, {'name': '기생충', 'code': '20183782', 'release': '2019-05-30', 'scale': '장편', 'kind': '일반영화', 'genre': '드라마', 'running_time': '131분 39초', 'age': '15세이상관람가', 'nation': '한국'}, {'name': '신비아파트 극장판 하늘도깨비 대 요르문간드', 'code': '20198374', 'release': '2019-12-19', 'scale': '장편', 'kind': '일반영화', 'genre': '애니메이션', 'running_time': '96분 52초', 'age': '전체관람가', 'nation': '한국'}, {'name': '프리즌 이스케이프', 'code': '20207893', 'release': '2020-05-06', 'scale': '장편', 'kind': '예술영화', 'genre': '어드벤처,                                              스릴러', 'running_time': '106분 16초', 'age': '12세이상관람가', 'nation': '영국,                                                호주'}, {'name': '검객', 'code': '20178401', 'release': '2020-09-23', 'scale': '장편', 'kind': '일반영화', 'genre': '액션', 'running_time': '100분 24초', 'age': '15세이상관람가', 'nation': '한국'}, {'name': '조제', 'code': '20201002', 'release': '2020-12-10', 'scale': '장편', 'kind': '일반영화', 'genre': '멜로/로맨스,                                              드라마', 'running_time': '116분 51초', 'age': '15세이상관람가', 'nation': '한국'}, {'name': '사라진 시간', 'code': '20193859', 'release': '2020-06-18', 'scale': '장편', 'kind': '일반영화', 'genre': '미스터리,                                              드라마', 'running_time': '104분 38초', 'age': '15세이상관람가', 'nation': '한국'}, {'name': '밤쉘: 세상을 바꾼 폭탄선언', 'code': '20204644', 'release': '2020-07-08', 'scale': '장편', 'kind': '예술영화', 'genre': '드라마', 'running_time': '108분 51초', 'age': '15세이상관람가', 'nation': '미국,                                                캐나다'}, {'name': '알라딘', 'code': '20183867', 'release': '2019-05-23', 'scale': '장편', 'kind': '일반영화', 'genre': '어드벤처,                                              가족,                                              판타지', 'running_time': '127분 48초', 'age': '전체관람가', 'nation': '미국'}]\n"
     ]
    }
   ],
   "source": [
    "print(movie_title_20)\n",
    "print(movie_info_20)"
   ]
  },
  {
   "cell_type": "code",
   "execution_count": 217,
   "metadata": {
    "ExecuteTime": {
     "end_time": "2021-11-15T14:18:14.632567Z",
     "start_time": "2021-11-15T14:18:14.621544Z"
    }
   },
   "outputs": [
    {
     "name": "stdout",
     "output_type": "stream",
     "text": [
      "dict_values(['남산의 부장들', '20180939', '2020-01-22', '장편', '일반영화', '드라마', '113분 38초', '15세이상관람가', '한국'])\n",
      "dict_values(['다만 악에서 구하소서', '20197922', '2020-08-05', '장편', '일반영화', '범죄,                                              액션', '107분 49초', '15세이상관람가', '한국'])\n",
      "dict_values(['반도', '20193450', '재난, 액션, 드라마', '장편', '일반영화', '액션,                                              드라마', '115분 35초', '15세이상관람가', '한국'])\n",
      "dict_values(['히트맨', '20192101', '2020-01-22', '장편', '일반영화', '코미디,                                              액션', '109분 47초', '15세이상관람가', '한국'])\n",
      "dict_values(['테넷', '20201122', '멀티 장르 액션 블록버스터', '장편', '일반영화', '액션,                                              SF', '149분 59초', '12세이상관람가', '미국'])\n",
      "dict_values(['백두산', '20192206', '모험 드라마', '장편', '일반영화', '어드벤처,                                              드라마', '128분 0초', '12세이상관람가', '한국'])\n",
      "dict_values(['#살아있다', '20193069', '2020-06-24', '장편', '일반영화', '드라마', '97분 59초', '15세이상관람가', '한국'])\n",
      "dict_values(['강철비2: 정상회담', '20196271', '2020-07-29', '장편', '일반영화', '드라마,                                              액션', '131분 33초', '15세이상관람가', '한국'])\n",
      "dict_values(['담보', '20199816', '휴먼 드라마', '장편', '일반영화', '드라마', '113분 0초', '12세이상관람가', '한국'])\n",
      "dict_values(['닥터 두리틀', '20199581', '2020-01-08', '장편', '일반영화', '판타지,                                              어드벤처', '101분 24초', '전체관람가', '미국'])\n",
      "dict_values(['삼진그룹 영어토익반', '20197121', '2020-10-21', '장편', '일반영화', '드라마', '110분 18초', '12세이상관람가', '한국'])\n",
      "dict_values(['정직한 후보', '20193321', '2020-02-12', '장편', '일반영화', '코미디', '104분 30초', '12세이상관람가', '한국'])\n",
      "dict_values(['도굴', '20192193', '범죄,오락', '장편', '일반영화', '범죄', '114분 50초', '12세이상관람가', '한국'])\n",
      "dict_values(['클로젯', '20182447', '2020-02-05', '장편', '일반영화', '미스터리,                                              드라마', '97분 50초', '15세이상관람가', '한국'])\n",
      "dict_values(['오케이 마담', '20199883', '2020-08-12', '장편', '일반영화', '코미디,                                              액션', '100분 28초', '15세이상관람가', '한국'])\n",
      "dict_values(['해치지않아', '20183002', '2020-01-15', '장편', '일반영화', '코미디', '117분 29초', '12세이상관람가', '한국'])\n",
      "dict_values(['천문: 하늘에 묻는다', '20184571', '2019-12-26', '장편', '일반영화', '사극', '132분 59초', '12세이상관람가', '한국'])\n",
      "dict_values(['결백', '20183813', '무죄 입증 추적극', '장편', '일반영화', '드라마', '110분 39초', '15세이상관람가', '한국'])\n",
      "dict_values(['1917', '20192399', '2020-02-19', '장편', '일반영화', '드라마,                                              전쟁', '119분 19초', '15세이상관람가', '미국'])\n",
      "dict_values(['작은 아씨들', '20192240', '2020-02-12', '장편', '일반영화', '드라마,                                              멜로/로맨스', '134분 42초', '전체관람가', '미국'])\n",
      "dict_values(['미드웨이', '20196272', '2019-12-31', '장편', '일반영화', '액션,                                              드라마', '138분 0초', '15세이상관람가', '미국'])\n",
      "dict_values(['시동', '20198414', '2019-12-18', '장편', '일반영화', '드라마', '101분 48초', '15세이상관람가', '한국'])\n",
      "dict_values(['지푸라기라도 잡고 싶은 짐승들', '20180962', '2020-02-19', '장편', '일반영화', '스릴러,                                              범죄', '108분 34초', '청소년관람불가', '한국'])\n",
      "dict_values(['미스터 주: 사라진 VIP', '20188421', '2020-01-22', '장편', '일반영화', '코미디,                                              드라마', '113분 42초', '12세이상관람가', '한국'])\n",
      "dict_values(['인비저블맨', '20199842', '2020-02-26', '장편', '일반영화', '공포(호러)', '124분 21초', '15세이상관람가', '미국'])\n",
      "dict_values(['나쁜 녀석들: 포에버', '20196670', '액션 블록버스터', '장편', '일반영화', '액션', '123분 47초', '청소년관람불가', '미국'])\n",
      "dict_values(['국제수사', '20184482', '2020-09-29', '장편', '일반영화', '코미디,                                              액션', '105분 50초', '15세이상관람가', '한국'])\n",
      "dict_values(['침입자', '20197863', '2020-06-04', '장편', '일반영화', '미스터리,                                              스릴러', '102분 7초', '15세이상관람가', '한국'])\n",
      "dict_values(['스타워즈: 라이즈 오브 스카이워커', '20195462', '2020-01-08', '장편', '일반영화', '액션,                                              어드벤처,                                              판타지,                                              SF', '141분 41초', '12세이상관람가', '미국'])\n",
      "dict_values(['스파이 지니어스 ', '20192300', '2020-01-22', '장편', '일반영화', '애니메이션,                                              액션,                                              코미디,                                              가족,                                              SF', '101분 44초', '전체관람가', '미국'])\n",
      "dict_values(['이웃사촌', '20181983', '2020-11-25', '장편', '일반영화', '드라마,                                              코미디', '130분 2초', '12세이상관람가', '한국'])\n",
      "dict_values(['온워드: 단 하루의 기적', '20191048', '2020-06-17', '장편', '일반영화', '애니메이션,                                              어드벤처,                                              판타지', '102분 13초', '전체관람가', '미국'])\n",
      "dict_values(['소리도 없이', '20194424', '2020-10-15', '장편', '일반영화', '범죄,                                              드라마', '99분 11초', '15세이상관람가', '한국'])\n",
      "dict_values(['버즈 오브 프레이(할리 퀸의 황홀한 해방)', '20198431', '2020-02-05', '장편', '일반영화', '액션,                                              어드벤처,                                              범죄', '108분 46초', '15세이상관람가', '미국'])\n",
      "dict_values(['원더 우먼 1984', '20192567', '2020-12-23', '장편', '일반영화', '액션,                                              어드벤처', '150분 59초', '12세이상관람가', '미국'])\n",
      "dict_values(['겨울왕국 2', '20197803', '2019-11-21', '장편', '일반영화', '애니메이션', '103분 4초', '전체관람가', '미국'])\n",
      "dict_values(['오! 문희', '20193666', '2020-09-02', '장편', '일반영화', '코미디,                                              드라마', '109분 30초', '12세이상관람가', '한국'])\n",
      "dict_values(['그린랜드', '20204008', '2020-09-29', '장편', '일반영화', '액션,                                              스릴러', '119분 52초', '12세이상관람가', '미국'])\n",
      "dict_values(['위대한 쇼맨', '20179462', '2017-12-20', '장편', '일반영화', '드라마,                                              뮤지컬', '104분 9초', '12세이상관람가', '미국'])\n",
      "dict_values(['런', '20200294', '2020-11-20', '장편', '일반영화', '미스터리,                                              스릴러', '89분 16초', '15세이상관람가', '미국'])\n",
      "dict_values(['뮬란', '20193822', '2020-09-17', '장편', '일반영화', '어드벤처,                                              드라마,                                              가족', '115분 9초', '12세이상관람가', '미국'])\n",
      "dict_values(['내가 죽던 날', '20190582', '2020-11-12', '장편', '일반영화', '드라마', '116분 8초', '12세이상관람가', '한국'])\n",
      "dict_values(['기생충', '20183782', '2019-05-30', '장편', '일반영화', '드라마', '131분 39초', '15세이상관람가', '한국'])\n",
      "dict_values(['신비아파트 극장판 하늘도깨비 대 요르문간드', '20198374', '2019-12-19', '장편', '일반영화', '애니메이션', '96분 52초', '전체관람가', '한국'])\n",
      "dict_values(['프리즌 이스케이프', '20207893', '2020-05-06', '장편', '예술영화', '어드벤처,                                              스릴러', '106분 16초', '12세이상관람가', '영국,                                                호주'])\n",
      "dict_values(['검객', '20178401', '2020-09-23', '장편', '일반영화', '액션', '100분 24초', '15세이상관람가', '한국'])\n",
      "dict_values(['조제', '20201002', '2020-12-10', '장편', '일반영화', '멜로/로맨스,                                              드라마', '116분 51초', '15세이상관람가', '한국'])\n",
      "dict_values(['사라진 시간', '20193859', '2020-06-18', '장편', '일반영화', '미스터리,                                              드라마', '104분 38초', '15세이상관람가', '한국'])\n",
      "dict_values(['밤쉘: 세상을 바꾼 폭탄선언', '20204644', '2020-07-08', '장편', '예술영화', '드라마', '108분 51초', '15세이상관람가', '미국,                                                캐나다'])\n",
      "dict_values(['알라딘', '20183867', '2019-05-23', '장편', '일반영화', '어드벤처,                                              가족,                                              판타지', '127분 48초', '전체관람가', '미국'])\n"
     ]
    }
   ],
   "source": [
    "# 국가, 장르 여러개 인 것들이 있음...!\n",
    "for info in movie_info_20:\n",
    "    print(info.values())"
   ]
  },
  {
   "cell_type": "code",
   "execution_count": null,
   "metadata": {},
   "outputs": [],
   "source": [
    "# Dataframe 만들어서 병합하면 될 듯 (원래 있던 DataFrame이랑)"
   ]
  }
 ],
 "metadata": {
  "hide_input": false,
  "kernelspec": {
   "display_name": "Python 3",
   "language": "python",
   "name": "python3"
  },
  "language_info": {
   "codemirror_mode": {
    "name": "ipython",
    "version": 3
   },
   "file_extension": ".py",
   "mimetype": "text/x-python",
   "name": "python",
   "nbconvert_exporter": "python",
   "pygments_lexer": "ipython3",
   "version": "3.8.3"
  },
  "toc": {
   "base_numbering": 1,
   "nav_menu": {},
   "number_sections": true,
   "sideBar": true,
   "skip_h1_title": false,
   "title_cell": "Table of Contents",
   "title_sidebar": "Contents",
   "toc_cell": false,
   "toc_position": {},
   "toc_section_display": true,
   "toc_window_display": false
  },
  "varInspector": {
   "cols": {
    "lenName": 16,
    "lenType": 16,
    "lenVar": 40
   },
   "kernels_config": {
    "python": {
     "delete_cmd_postfix": "",
     "delete_cmd_prefix": "del ",
     "library": "var_list.py",
     "varRefreshCmd": "print(var_dic_list())"
    },
    "r": {
     "delete_cmd_postfix": ") ",
     "delete_cmd_prefix": "rm(",
     "library": "var_list.r",
     "varRefreshCmd": "cat(var_dic_list()) "
    }
   },
   "types_to_exclude": [
    "module",
    "function",
    "builtin_function_or_method",
    "instance",
    "_Feature"
   ],
   "window_display": false
  }
 },
 "nbformat": 4,
 "nbformat_minor": 4
}
