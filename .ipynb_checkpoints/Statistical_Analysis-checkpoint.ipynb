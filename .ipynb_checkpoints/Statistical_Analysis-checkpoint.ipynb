{
 "cells": [
  {
   "cell_type": "code",
   "execution_count": 2,
   "metadata": {
    "ExecuteTime": {
     "end_time": "2021-11-08T14:26:11.618048Z",
     "start_time": "2021-11-08T14:26:10.360792Z"
    }
   },
   "outputs": [],
   "source": [
    "import numpy as np\n",
    "import pandas as pd\n",
    "import seaborn as sns\n",
    "import matplotlib.pyplot as plt"
   ]
  },
  {
   "cell_type": "code",
   "execution_count": 3,
   "metadata": {
    "ExecuteTime": {
     "end_time": "2021-11-08T14:26:12.766514Z",
     "start_time": "2021-11-08T14:26:11.630406Z"
    }
   },
   "outputs": [],
   "source": [
    "data_19 = pd.read_excel('KOBIS_2019.xlsx', sep='\\t')[:50]\n",
    "data_20 = pd.read_excel('KOBIS_2020.xlsx', sep='\\t')[:50]\n",
    "movie_df = pd.concat([data_19, data_20])\n",
    "movie_df.reset_index(inplace = True)\n",
    "movie_df.drop(['index', '순위'], axis = 1, inplace=True)"
   ]
  },
  {
   "cell_type": "code",
   "execution_count": 4,
   "metadata": {
    "ExecuteTime": {
     "end_time": "2021-11-08T14:26:12.830407Z",
     "start_time": "2021-11-08T14:26:12.825415Z"
    }
   },
   "outputs": [],
   "source": [
    "col = list(movie_df.columns)\n",
    "for i in ['국적', '매출액 점유율', '상영횟수', '스크린수']:\n",
    "    col.remove(i)\n",
    "movie_df = movie_df[col]"
   ]
  },
  {
   "cell_type": "code",
   "execution_count": 5,
   "metadata": {
    "ExecuteTime": {
     "end_time": "2021-11-08T14:26:13.512746Z",
     "start_time": "2021-11-08T14:26:13.503783Z"
    }
   },
   "outputs": [],
   "source": [
    "# 겹치는 영화 처리하는 함수\n",
    "# 영화명, 개봉일, 대표국적, 배급사 : 관객수 많은 행 사용\n",
    "# 매출액, 관객수 : 더해서 사용\n",
    "\n",
    "def duplicate_movie(movie_df):\n",
    "    # 겹치는 영화 확인\n",
    "    movie_cnt = movie_df['영화명'].value_counts()\n",
    "    num = 0\n",
    "    dup_movie = []\n",
    "\n",
    "    for i in movie_cnt:\n",
    "        if i == 2:\n",
    "            dup_movie.append(movie_cnt.index[num])\n",
    "        num += 1\n",
    "    \n",
    "    # 관객수 적은 행 \n",
    "    small_movie = []\n",
    "    for name in dup_movie:\n",
    "        small_view = (movie_df[movie_df['영화명'] == name].loc[:,'관객수'] > movie_df[movie_df['영화명'] == name].loc[:,'관객수'].mean())\n",
    "        small_movie.extend(small_view.index[small_view])\n",
    "        \n",
    "    # 매출액, 관객수 합 사용\n",
    "    for name in dup_movie:\n",
    "        dup_movie_idx = movie_df[movie_df['영화명'] == name].index\n",
    "        movie_df.loc[dup_movie_idx, '관객수'] = movie_df[movie_df['영화명']== name].loc[:,'관객수'].sum()\n",
    "        movie_df.loc[dup_movie_idx, '매출액'] = movie_df[movie_df['영화명']== name].loc[:,'매출액'].sum()\n",
    "        \n",
    "    # 관객수 적은 행 삭제\n",
    "    movie_df = movie_df.drop(small_movie)\n",
    "\n",
    "    return movie_df"
   ]
  },
  {
   "cell_type": "code",
   "execution_count": 6,
   "metadata": {
    "ExecuteTime": {
     "end_time": "2021-11-08T14:26:14.670360Z",
     "start_time": "2021-11-08T14:26:14.621523Z"
    }
   },
   "outputs": [],
   "source": [
    "movie_df = duplicate_movie(movie_df)"
   ]
  },
  {
   "cell_type": "code",
   "execution_count": 7,
   "metadata": {
    "ExecuteTime": {
     "end_time": "2021-11-08T14:26:15.537202Z",
     "start_time": "2021-11-08T14:26:15.532202Z"
    }
   },
   "outputs": [
    {
     "name": "stdout",
     "output_type": "stream",
     "text": [
      "['극한직업', '어벤져스: 엔드게임', '엑시트', '스파이더맨: 파 프롬 홈', '캡틴 마블', '조커', '봉오동 전투', '라이온 킹', '나쁜 녀석들: 더 무비', '82년생 김지영', '분노의 질주: 홉스&쇼', '토이 스토리 4', '돈', '악인전', '가장 보통의 연애', '말모이', '증인', '블랙머니', '터미네이터: 다크 페이트', '사바하', '타짜: 원 아이드 잭', '신의 한 수: 귀수편', '알리타: 배틀 엔젤', '내안의 그놈', '뺑반', '변신', '주먹왕 랄프 2: 인터넷 속으로', '걸캅스', '사자', '아쿠아맨', '드래곤 길들이기 3', '나의 특별한 형제', '어스', '말레피센트 2', '유열의 음악앨범', '퍼펙트맨', '포드 V 페라리', '생일', '힘을 내요, 미스터 리', '항거:유관순 이야기', '장사리 : 잊혀진 영웅들', '마이펫의 이중생활 2', '롱 리브 더 킹: 목포 영웅', '쥬만지: 넥스트 레벨', '존 윅 3: 파라벨룸', '남산의 부장들', '다만 악에서 구하소서', '반도', '히트맨', '테넷', '백두산', '#살아있다', '강철비2: 정상회담', '담보', '닥터 두리틀', '삼진그룹 영어토익반', '정직한 후보', '도굴', '클로젯', '오케이 마담', '해치지않아', '천문: 하늘에 묻는다', '결백', 1917, '작은 아씨들', '미드웨이', '시동', '지푸라기라도 잡고 싶은 짐승들', '미스터 주: 사라진 VIP', '인비저블맨', '나쁜 녀석들: 포에버', '국제수사', '침입자', '스타워즈: 라이즈 오브 스카이워커', '스파이 지니어스', '이웃사촌', '온워드: 단 하루의 기적', '소리도 없이', '버즈 오브 프레이(할리 퀸의 황홀한 해방)', '원더 우먼 1984', '겨울왕국 2', '오! 문희', '그린랜드', '위대한 쇼맨', '런', '뮬란', '내가 죽던 날', '기생충', '신비아파트 극장판 하늘도깨비 대 요르문간드', '프리즌 이스케이프', '검객', '조제', '사라진 시간', '밤쉘: 세상을 바꾼 폭탄선언', '알라딘']\n"
     ]
    }
   ],
   "source": [
    "# 중복되는 영화 제거 후 영화명\n",
    "movie_name = list(movie_df.loc[:, '영화명'])\n",
    "print(movie_name)"
   ]
  },
  {
   "cell_type": "markdown",
   "metadata": {},
   "source": [
    "# Check Feature"
   ]
  },
  {
   "cell_type": "markdown",
   "metadata": {},
   "source": [
    "## Audiences(관객수)"
   ]
  },
  {
   "cell_type": "code",
   "execution_count": 9,
   "metadata": {
    "ExecuteTime": {
     "end_time": "2021-11-08T14:26:37.591736Z",
     "start_time": "2021-11-08T14:26:37.588736Z"
    }
   },
   "outputs": [],
   "source": [
    "# 과학적 표기법(지수표현식)으로 나와서 설정 변경\n",
    "pd.options.display.float_format = '{:.1f}'.format"
   ]
  },
  {
   "cell_type": "code",
   "execution_count": 10,
   "metadata": {
    "ExecuteTime": {
     "end_time": "2021-11-08T14:26:42.987627Z",
     "start_time": "2021-11-08T14:26:42.981590Z"
    }
   },
   "outputs": [
    {
     "data": {
      "text/plain": [
       "0"
      ]
     },
     "execution_count": 10,
     "metadata": {},
     "output_type": "execute_result"
    }
   ],
   "source": [
    "# 결측값 없음\n",
    "movie_df['관객수'].isnull().sum()"
   ]
  },
  {
   "cell_type": "code",
   "execution_count": 11,
   "metadata": {
    "ExecuteTime": {
     "end_time": "2021-11-08T14:26:46.930537Z",
     "start_time": "2021-11-08T14:26:46.911444Z"
    }
   },
   "outputs": [
    {
     "data": {
      "text/plain": [
       "count         95.0\n",
       "mean     2501951.6\n",
       "std      3160200.7\n",
       "min       182026.0\n",
       "25%       616090.0\n",
       "50%      1507922.0\n",
       "75%      2673812.5\n",
       "max     16265618.0\n",
       "Name: 관객수, dtype: float64"
      ]
     },
     "execution_count": 11,
     "metadata": {},
     "output_type": "execute_result"
    }
   ],
   "source": [
    "movie_df['관객수'].describe()"
   ]
  },
  {
   "cell_type": "code",
   "execution_count": 14,
   "metadata": {
    "ExecuteTime": {
     "end_time": "2021-11-08T14:27:10.436126Z",
     "start_time": "2021-11-08T14:27:10.212984Z"
    }
   },
   "outputs": [
    {
     "name": "stderr",
     "output_type": "stream",
     "text": [
      "C:\\Users\\User\\anaconda3\\lib\\site-packages\\matplotlib\\backends\\backend_agg.py:214: RuntimeWarning: Glyph 44288 missing from current font.\n",
      "  font.set_text(s, 0.0, flags=flags)\n",
      "C:\\Users\\User\\anaconda3\\lib\\site-packages\\matplotlib\\backends\\backend_agg.py:214: RuntimeWarning: Glyph 44061 missing from current font.\n",
      "  font.set_text(s, 0.0, flags=flags)\n",
      "C:\\Users\\User\\anaconda3\\lib\\site-packages\\matplotlib\\backends\\backend_agg.py:214: RuntimeWarning: Glyph 49688 missing from current font.\n",
      "  font.set_text(s, 0.0, flags=flags)\n",
      "C:\\Users\\User\\anaconda3\\lib\\site-packages\\matplotlib\\backends\\backend_agg.py:183: RuntimeWarning: Glyph 44288 missing from current font.\n",
      "  font.set_text(s, 0, flags=flags)\n",
      "C:\\Users\\User\\anaconda3\\lib\\site-packages\\matplotlib\\backends\\backend_agg.py:183: RuntimeWarning: Glyph 44061 missing from current font.\n",
      "  font.set_text(s, 0, flags=flags)\n",
      "C:\\Users\\User\\anaconda3\\lib\\site-packages\\matplotlib\\backends\\backend_agg.py:183: RuntimeWarning: Glyph 49688 missing from current font.\n",
      "  font.set_text(s, 0, flags=flags)\n"
     ]
    },
    {
     "data": {
      "image/png": "[encoded data removed]",
      "text/plain": [
       "<Figure size 432x288 with 1 Axes>"
      ]
     },
     "metadata": {
      "needs_background": "light"
     },
     "output_type": "display_data"
    }
   ],
   "source": [
    "# ad : audiences\n",
    "# 한국어 오류 해결\n",
    "ad_plot = sns.distplot(movie_df['관객수'])\n",
    "plt.show()"
   ]
  },
  {
   "cell_type": "code",
   "execution_count": 13,
   "metadata": {
    "ExecuteTime": {
     "end_time": "2021-11-08T14:27:03.991549Z",
     "start_time": "2021-11-08T14:27:03.817552Z"
    }
   },
   "outputs": [
    {
     "data": {
      "image/png": "[encoded data removed]",
      "text/plain": [
       "<Figure size 432x288 with 1 Axes>"
      ]
     },
     "metadata": {
      "needs_background": "light"
     },
     "output_type": "display_data"
    }
   ],
   "source": [
    "fig, ax = plt.subplots()\n",
    "fig = movie_df['관객수'].hist(ax=ax)\n",
    "plt.show()"
   ]
  },
  {
   "cell_type": "code",
   "execution_count": null,
   "metadata": {},
   "outputs": [],
   "source": []
  }
 ],
 "metadata": {
  "hide_input": false,
  "kernelspec": {
   "display_name": "Python 3",
   "language": "python",
   "name": "python3"
  },
  "language_info": {
   "codemirror_mode": {
    "name": "ipython",
    "version": 3
   },
   "file_extension": ".py",
   "mimetype": "text/x-python",
   "name": "python",
   "nbconvert_exporter": "python",
   "pygments_lexer": "ipython3",
   "version": "3.8.3"
  },
  "toc": {
   "base_numbering": 1,
   "nav_menu": {},
   "number_sections": true,
   "sideBar": true,
   "skip_h1_title": false,
   "title_cell": "Table of Contents",
   "title_sidebar": "Contents",
   "toc_cell": false,
   "toc_position": {},
   "toc_section_display": true,
   "toc_window_display": false
  },
  "varInspector": {
   "cols": {
    "lenName": 16,
    "lenType": 16,
    "lenVar": 40
   },
   "kernels_config": {
    "python": {
     "delete_cmd_postfix": "",
     "delete_cmd_prefix": "del ",
     "library": "var_list.py",
     "varRefreshCmd": "print(var_dic_list())"
    },
    "r": {
     "delete_cmd_postfix": ") ",
     "delete_cmd_prefix": "rm(",
     "library": "var_list.r",
     "varRefreshCmd": "cat(var_dic_list()) "
    }
   },
   "types_to_exclude": [
    "module",
    "function",
    "builtin_function_or_method",
    "instance",
    "_Feature"
   ],
   "window_display": false
  }
 },
 "nbformat": 4,
 "nbformat_minor": 4
}
