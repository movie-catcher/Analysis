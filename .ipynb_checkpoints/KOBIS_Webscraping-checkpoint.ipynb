{
 "cells": [
  {
   "cell_type": "markdown",
   "metadata": {},
   "source": [
    "# KOBIS Webscraping\n",
    "- https://www.kobis.or.kr/kobis/business/stat/boxs/findYearlyBoxOfficeList.do\n",
    "\n",
    "\n",
    "> 코드 -> id\n",
    "- 20204117\n",
    "\n",
    "> 요약정보\n",
    "- 장편/단편 | 종류 | 장르 | runtime | 연령 | 국가\n",
    "- 장편 | 일반영화 | 액션, 드라마 | 121분 2초 | 15세이상관람가 | 한국\n",
    "\n",
    "> 배우 [주연]\n",
    "- 김윤석(한신성 대사) | 조인성(강대진 참사관) | 허준호(림용수 대사) | 구교환(태준기 참사관) | 김소진(김명희) | 정만식(공수철 서기관)"
   ]
  },
  {
   "cell_type": "markdown",
   "metadata": {},
   "source": [
    "## 2019"
   ]
  },
  {
   "cell_type": "code",
   "execution_count": 10,
   "metadata": {
    "ExecuteTime": {
     "end_time": "2021-11-14T18:07:47.630898Z",
     "start_time": "2021-11-14T18:07:33.237412Z"
    }
   },
   "outputs": [
    {
     "name": "stderr",
     "output_type": "stream",
     "text": [
      "<ipython-input-10-56d1d14d6f69>:14: DeprecationWarning: find_element_by_* commands are deprecated. Please use find_element() instead\n",
      "  select = Select(browser.find_element_by_id('sSearchYearFrom'))\n",
      "<ipython-input-10-56d1d14d6f69>:19: DeprecationWarning: find_element_by_* commands are deprecated. Please use find_element() instead\n",
      "  browser.find_element_by_class_name('btn_blue').click()\n"
     ]
    }
   ],
   "source": [
    "import requests\n",
    "from bs4 import BeautifulSoup\n",
    "from selenium import webdriver\n",
    "from selenium.webdriver.support.ui import Select\n",
    "import time\n",
    "\n",
    "browser = webdriver.Chrome()\n",
    "# browser.maximize_window()\n",
    "\n",
    "url = 'https://www.kobis.or.kr/kobis/business/stat/boxs/findYearlyBoxOfficeList.do'\n",
    "browser.get(url)\n",
    "\n",
    "# select by value \n",
    "select = Select(browser.find_element_by_id('sSearchYearFrom'))\n",
    "# 2019년 선택\n",
    "select.select_by_value('2019')\n",
    "\n",
    "# 조회 버튼 클릭\n",
    "browser.find_element_by_class_name('btn_blue').click()"
   ]
  },
  {
   "cell_type": "code",
   "execution_count": 26,
   "metadata": {
    "ExecuteTime": {
     "end_time": "2021-11-14T18:20:50.122457Z",
     "start_time": "2021-11-14T18:20:50.107460Z"
    }
   },
   "outputs": [],
   "source": [
    "# 영화명 추출\n",
    "def movie_name_extract():\n",
    "    soup = BeautifulSoup(browser.page_source, 'lxml')\n",
    "    movies = soup.find_all('td', attrs = {'class':'tal'})\n",
    "\n",
    "    movie_title = []\n",
    "    for movie in movies:\n",
    "        title = movie.find('span', attrs={'class':'ellip per90'}).get_text()\n",
    "        movie_title.append(title)\n",
    "\n",
    "    print(movie_title)"
   ]
  },
  {
   "cell_type": "code",
   "execution_count": 35,
   "metadata": {
    "ExecuteTime": {
     "end_time": "2021-11-14T18:26:17.596984Z",
     "start_time": "2021-11-14T18:26:17.589979Z"
    }
   },
   "outputs": [],
   "source": [
    "# 불러올 tr_id 생성하는 함수\n",
    "def make_id(num):\n",
    "    lst = []\n",
    "    for i in range(num):\n",
    "         lst.append('tr_' + str(i))\n",
    "    return lst"
   ]
  },
  {
   "cell_type": "code",
   "execution_count": 29,
   "metadata": {
    "ExecuteTime": {
     "end_time": "2021-11-14T18:24:37.548575Z",
     "start_time": "2021-11-14T18:24:37.536568Z"
    }
   },
   "outputs": [],
   "source": [
    "# 영화 클릭해서 필요 정보 가져오고 창 닫기\n",
    "def movie_click(id):\n",
    "    movie_tr_id = browser.find_element_by_id(id)\n",
    "    movie_click = movie_tr_id.find_element_by_css_selector('#td_movie > span > a')\n",
    "    movie_click.click()\n",
    "\n",
    "    # 필요한 정보 긁어오는 코드 작성!!!!!!!!!!!!!!!!!!!!!!\n",
    "    \n",
    "    \n",
    "    time.sleep(1) # 벤 안먹기위해서\n",
    "    \n",
    "    \n",
    "\n",
    "    # 창 닫기\n",
    "    browser.find_element_by_css_selector('body > div.ui-dialog.ui-corner-all.ui-widget.ui-widget-content.ui-front.ui-draggable.ui-resizable > div.ui-dialog-titlebar.ui-corner-all.ui-widget-header.ui-helper-clearfix.ui-draggable-handle > div.hd_layer > a:nth-child(3) > span').click()"
   ]
  },
  {
   "cell_type": "code",
   "execution_count": 39,
   "metadata": {
    "ExecuteTime": {
     "end_time": "2021-11-14T18:27:45.044566Z",
     "start_time": "2021-11-14T18:27:33.247425Z"
    }
   },
   "outputs": [
    {
     "name": "stderr",
     "output_type": "stream",
     "text": [
      "<ipython-input-29-e7378c8ae20b>:2: DeprecationWarning: find_element_by_* commands are deprecated. Please use find_element() instead\n",
      "  movie_tr_id = browser.find_element_by_id(id)\n",
      "C:\\Users\\User\\anaconda3\\lib\\site-packages\\selenium\\webdriver\\remote\\webelement.py:483: UserWarning: find_element_by_* commands are deprecated. Please use find_element() instead\n",
      "  warnings.warn(\"find_element_by_* commands are deprecated. Please use find_element() instead\")\n",
      "<ipython-input-29-e7378c8ae20b>:9: DeprecationWarning: find_element_by_* commands are deprecated. Please use find_element() instead\n",
      "  browser.find_element_by_css_selector('body > div.ui-dialog.ui-corner-all.ui-widget.ui-widget-content.ui-front.ui-draggable.ui-resizable > div.ui-dialog-titlebar.ui-corner-all.ui-widget-header.ui-helper-clearfix.ui-draggable-handle > div.hd_layer > a:nth-child(3) > span').click()\n"
     ]
    }
   ],
   "source": [
    "# 실행 코드\n",
    "tr_ids = make_id(2)\n",
    "for tr_id in tr_ids:\n",
    "    movie_click(tr_id)"
   ]
  },
  {
   "cell_type": "code",
   "execution_count": null,
   "metadata": {},
   "outputs": [],
   "source": []
  }
 ],
 "metadata": {
  "hide_input": false,
  "kernelspec": {
   "display_name": "Python 3",
   "language": "python",
   "name": "python3"
  },
  "language_info": {
   "codemirror_mode": {
    "name": "ipython",
    "version": 3
   },
   "file_extension": ".py",
   "mimetype": "text/x-python",
   "name": "python",
   "nbconvert_exporter": "python",
   "pygments_lexer": "ipython3",
   "version": "3.8.3"
  },
  "toc": {
   "base_numbering": 1,
   "nav_menu": {},
   "number_sections": true,
   "sideBar": true,
   "skip_h1_title": false,
   "title_cell": "Table of Contents",
   "title_sidebar": "Contents",
   "toc_cell": false,
   "toc_position": {},
   "toc_section_display": true,
   "toc_window_display": false
  },
  "varInspector": {
   "cols": {
    "lenName": 16,
    "lenType": 16,
    "lenVar": 40
   },
   "kernels_config": {
    "python": {
     "delete_cmd_postfix": "",
     "delete_cmd_prefix": "del ",
     "library": "var_list.py",
     "varRefreshCmd": "print(var_dic_list())"
    },
    "r": {
     "delete_cmd_postfix": ") ",
     "delete_cmd_prefix": "rm(",
     "library": "var_list.r",
     "varRefreshCmd": "cat(var_dic_list()) "
    }
   },
   "types_to_exclude": [
    "module",
    "function",
    "builtin_function_or_method",
    "instance",
    "_Feature"
   ],
   "window_display": false
  }
 },
 "nbformat": 4,
 "nbformat_minor": 4
}
