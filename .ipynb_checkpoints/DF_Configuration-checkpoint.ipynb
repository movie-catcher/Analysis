{
 "cells": [
  {
   "cell_type": "markdown",
   "metadata": {},
   "source": [
    "# Read File\n",
    "- https://www.kobis.or.kr/kobis/business/stat/boxs/findYearlyBoxOfficeList.do\n",
    "- 2019년, 2020년 기간별 박스오피스 관객 수 상위 50개씩 DataFrame"
   ]
  },
  {
   "cell_type": "code",
   "execution_count": 254,
   "metadata": {
    "ExecuteTime": {
     "end_time": "2021-11-08T14:28:00.587424Z",
     "start_time": "2021-11-08T14:28:00.552392Z"
    }
   },
   "outputs": [
    {
     "name": "stdout",
     "output_type": "stream",
     "text": [
      " C 드라이브의 볼륨에는 이름이 없습니다.\n",
      " 볼륨 일련 번호: CA2E-52A2\n",
      "\n",
      " C:\\Users\\User\\Desktop\\Viral_Effect\\Analysis 디렉터리\n",
      "\n",
      "2021-11-08  오후 11:27    <DIR>          .\n",
      "2021-11-08  오후 11:27    <DIR>          ..\n",
      "2021-11-08  오후 11:23    <DIR>          .ipynb_checkpoints\n",
      "2021-11-08  오후 11:27            28,238 DF_Configuration.ipynb\n",
      "2021-11-06  오후 09:04           373,658 KOBIS_2019.xlsx\n",
      "2021-11-06  오후 09:07           350,418 KOBIS_2020.xlsx\n",
      "2021-11-08  오후 09:14                65 README.md\n",
      "2021-11-08  오후 11:27            32,166 Statistical_Analysis.ipynb\n",
      "               5개 파일             784,545 바이트\n",
      "               3개 디렉터리  42,837,454,848 바이트 남음\n"
     ]
    }
   ],
   "source": [
    "%ls"
   ]
  },
  {
   "cell_type": "code",
   "execution_count": 2,
   "metadata": {
    "ExecuteTime": {
     "end_time": "2021-11-12T09:27:48.324155Z",
     "start_time": "2021-11-12T09:27:46.162638Z"
    }
   },
   "outputs": [],
   "source": [
    "import numpy as np\n",
    "import pandas as pd\n",
    "import seaborn as sns\n",
    "import matplotlib.pyplot as plt"
   ]
  },
  {
   "cell_type": "code",
   "execution_count": 17,
   "metadata": {
    "ExecuteTime": {
     "end_time": "2021-11-12T09:30:13.034625Z",
     "start_time": "2021-11-12T09:30:11.618272Z"
    }
   },
   "outputs": [],
   "source": [
    "data_19 = pd.read_excel('KOBIS_2019.xlsx', sep='\\t')[:50]\n",
    "data_20 = pd.read_excel('KOBIS_2020.xlsx', sep='\\t')[:50]\n",
    "movie_df = pd.concat([data_19, data_20])\n",
    "movie_df.reset_index(inplace = True)\n",
    "movie_df.drop(['index', '순위'], axis = 1, inplace=True)"
   ]
  },
  {
   "cell_type": "code",
   "execution_count": 18,
   "metadata": {
    "ExecuteTime": {
     "end_time": "2021-11-12T09:30:13.086593Z",
     "start_time": "2021-11-12T09:30:13.067587Z"
    },
    "scrolled": true
   },
   "outputs": [
    {
     "data": {
      "text/html": [
       "<div>\n",
       "<style scoped>\n",
       "    .dataframe tbody tr th:only-of-type {\n",
       "        vertical-align: middle;\n",
       "    }\n",
       "\n",
       "    .dataframe tbody tr th {\n",
       "        vertical-align: top;\n",
       "    }\n",
       "\n",
       "    .dataframe thead th {\n",
       "        text-align: right;\n",
       "    }\n",
       "</style>\n",
       "<table border=\"1\" class=\"dataframe\">\n",
       "  <thead>\n",
       "    <tr style=\"text-align: right;\">\n",
       "      <th></th>\n",
       "      <th>영화명</th>\n",
       "      <th>개봉일</th>\n",
       "      <th>매출액</th>\n",
       "      <th>매출액 점유율</th>\n",
       "      <th>관객수</th>\n",
       "      <th>스크린수</th>\n",
       "      <th>상영횟수</th>\n",
       "      <th>대표국적</th>\n",
       "      <th>국적</th>\n",
       "      <th>배급사</th>\n",
       "    </tr>\n",
       "  </thead>\n",
       "  <tbody>\n",
       "    <tr>\n",
       "      <th>0</th>\n",
       "      <td>극한직업</td>\n",
       "      <td>2019-01-23</td>\n",
       "      <td>139651845516</td>\n",
       "      <td>0.073</td>\n",
       "      <td>16265618</td>\n",
       "      <td>2003</td>\n",
       "      <td>292584</td>\n",
       "      <td>한국</td>\n",
       "      <td>한국</td>\n",
       "      <td>(주)씨제이이엔엠</td>\n",
       "    </tr>\n",
       "    <tr>\n",
       "      <th>1</th>\n",
       "      <td>어벤져스: 엔드게임</td>\n",
       "      <td>2019-04-24</td>\n",
       "      <td>122182694160</td>\n",
       "      <td>0.064</td>\n",
       "      <td>13934592</td>\n",
       "      <td>2835</td>\n",
       "      <td>242001</td>\n",
       "      <td>미국</td>\n",
       "      <td>미국</td>\n",
       "      <td>월트디즈니컴퍼니코리아 유한책임회사</td>\n",
       "    </tr>\n",
       "    <tr>\n",
       "      <th>2</th>\n",
       "      <td>겨울왕국 2</td>\n",
       "      <td>2019-11-21</td>\n",
       "      <td>111596248720</td>\n",
       "      <td>0.058</td>\n",
       "      <td>13369064</td>\n",
       "      <td>2648</td>\n",
       "      <td>282557</td>\n",
       "      <td>미국</td>\n",
       "      <td>미국</td>\n",
       "      <td>월트디즈니컴퍼니코리아 유한책임회사</td>\n",
       "    </tr>\n",
       "    <tr>\n",
       "      <th>3</th>\n",
       "      <td>알라딘</td>\n",
       "      <td>2019-05-23</td>\n",
       "      <td>106955138359</td>\n",
       "      <td>0.056</td>\n",
       "      <td>12552283</td>\n",
       "      <td>1409</td>\n",
       "      <td>266469</td>\n",
       "      <td>미국</td>\n",
       "      <td>미국</td>\n",
       "      <td>월트디즈니컴퍼니코리아 유한책임회사</td>\n",
       "    </tr>\n",
       "    <tr>\n",
       "      <th>4</th>\n",
       "      <td>기생충</td>\n",
       "      <td>2019-05-30</td>\n",
       "      <td>85883963645</td>\n",
       "      <td>0.045</td>\n",
       "      <td>10085275</td>\n",
       "      <td>1948</td>\n",
       "      <td>192855</td>\n",
       "      <td>한국</td>\n",
       "      <td>한국</td>\n",
       "      <td>(주)씨제이이엔엠</td>\n",
       "    </tr>\n",
       "    <tr>\n",
       "      <th>...</th>\n",
       "      <td>...</td>\n",
       "      <td>...</td>\n",
       "      <td>...</td>\n",
       "      <td>...</td>\n",
       "      <td>...</td>\n",
       "      <td>...</td>\n",
       "      <td>...</td>\n",
       "      <td>...</td>\n",
       "      <td>...</td>\n",
       "      <td>...</td>\n",
       "    </tr>\n",
       "    <tr>\n",
       "      <th>95</th>\n",
       "      <td>검객</td>\n",
       "      <td>2020-09-23</td>\n",
       "      <td>1619781870</td>\n",
       "      <td>0.003</td>\n",
       "      <td>190237</td>\n",
       "      <td>832</td>\n",
       "      <td>21595</td>\n",
       "      <td>한국</td>\n",
       "      <td>한국</td>\n",
       "      <td>(주)키위미디어그룹,오퍼스픽쳐스(유),(주)씨네필운</td>\n",
       "    </tr>\n",
       "    <tr>\n",
       "      <th>96</th>\n",
       "      <td>조제</td>\n",
       "      <td>2020-12-10</td>\n",
       "      <td>1673427570</td>\n",
       "      <td>0.003</td>\n",
       "      <td>186647</td>\n",
       "      <td>1179</td>\n",
       "      <td>38291</td>\n",
       "      <td>한국</td>\n",
       "      <td>한국</td>\n",
       "      <td>워너브러더스 코리아(주)</td>\n",
       "    </tr>\n",
       "    <tr>\n",
       "      <th>97</th>\n",
       "      <td>사라진 시간</td>\n",
       "      <td>2020-06-18</td>\n",
       "      <td>1652522580</td>\n",
       "      <td>0.003</td>\n",
       "      <td>185802</td>\n",
       "      <td>874</td>\n",
       "      <td>20790</td>\n",
       "      <td>한국</td>\n",
       "      <td>한국</td>\n",
       "      <td>(주)에이스메이커무비웍스</td>\n",
       "    </tr>\n",
       "    <tr>\n",
       "      <th>98</th>\n",
       "      <td>밤쉘: 세상을 바꾼 폭탄선언</td>\n",
       "      <td>2020-07-08</td>\n",
       "      <td>1544025340</td>\n",
       "      <td>0.003</td>\n",
       "      <td>182026</td>\n",
       "      <td>882</td>\n",
       "      <td>27363</td>\n",
       "      <td>미국</td>\n",
       "      <td>미국,캐나다</td>\n",
       "      <td>(주)홈초이스</td>\n",
       "    </tr>\n",
       "    <tr>\n",
       "      <th>99</th>\n",
       "      <td>알라딘</td>\n",
       "      <td>2019-05-23</td>\n",
       "      <td>1205410680</td>\n",
       "      <td>0.002</td>\n",
       "      <td>171494</td>\n",
       "      <td>549</td>\n",
       "      <td>15752</td>\n",
       "      <td>미국</td>\n",
       "      <td>미국</td>\n",
       "      <td>월트디즈니컴퍼니코리아 유한책임회사</td>\n",
       "    </tr>\n",
       "  </tbody>\n",
       "</table>\n",
       "<p>100 rows × 10 columns</p>\n",
       "</div>"
      ],
      "text/plain": [
       "                영화명        개봉일           매출액  매출액 점유율       관객수  스크린수    상영횟수  \\\n",
       "0              극한직업 2019-01-23  139651845516    0.073  16265618  2003  292584   \n",
       "1        어벤져스: 엔드게임 2019-04-24  122182694160    0.064  13934592  2835  242001   \n",
       "2            겨울왕국 2 2019-11-21  111596248720    0.058  13369064  2648  282557   \n",
       "3               알라딘 2019-05-23  106955138359    0.056  12552283  1409  266469   \n",
       "4               기생충 2019-05-30   85883963645    0.045  10085275  1948  192855   \n",
       "..              ...        ...           ...      ...       ...   ...     ...   \n",
       "95               검객 2020-09-23    1619781870    0.003    190237   832   21595   \n",
       "96               조제 2020-12-10    1673427570    0.003    186647  1179   38291   \n",
       "97           사라진 시간 2020-06-18    1652522580    0.003    185802   874   20790   \n",
       "98  밤쉘: 세상을 바꾼 폭탄선언 2020-07-08    1544025340    0.003    182026   882   27363   \n",
       "99              알라딘 2019-05-23    1205410680    0.002    171494   549   15752   \n",
       "\n",
       "   대표국적      국적                           배급사  \n",
       "0    한국      한국                     (주)씨제이이엔엠  \n",
       "1    미국      미국            월트디즈니컴퍼니코리아 유한책임회사  \n",
       "2    미국      미국            월트디즈니컴퍼니코리아 유한책임회사  \n",
       "3    미국      미국            월트디즈니컴퍼니코리아 유한책임회사  \n",
       "4    한국      한국                     (주)씨제이이엔엠  \n",
       "..  ...     ...                           ...  \n",
       "95   한국      한국  (주)키위미디어그룹,오퍼스픽쳐스(유),(주)씨네필운  \n",
       "96   한국      한국                 워너브러더스 코리아(주)  \n",
       "97   한국      한국                 (주)에이스메이커무비웍스  \n",
       "98   미국  미국,캐나다                       (주)홈초이스  \n",
       "99   미국      미국            월트디즈니컴퍼니코리아 유한책임회사  \n",
       "\n",
       "[100 rows x 10 columns]"
      ]
     },
     "execution_count": 18,
     "metadata": {},
     "output_type": "execute_result"
    }
   ],
   "source": [
    "movie_df"
   ]
  },
  {
   "cell_type": "markdown",
   "metadata": {},
   "source": [
    "# DataFrame Configuration"
   ]
  },
  {
   "cell_type": "markdown",
   "metadata": {},
   "source": [
    "## Delete Feature\n",
    "> 필요없는 Feature 삭제 \n",
    "- 영화와 OTT 둘 다 해당되지 않으면 제거\n",
    "- 없어도 되겠다 싶은 Feature 제거"
   ]
  },
  {
   "cell_type": "code",
   "execution_count": 19,
   "metadata": {
    "ExecuteTime": {
     "end_time": "2021-11-12T09:30:14.738627Z",
     "start_time": "2021-11-12T09:30:14.733625Z"
    }
   },
   "outputs": [],
   "source": [
    "def movie_columns(movie_df):\n",
    "    col = list(movie_df.columns)\n",
    "    for i in ['국적', '매출액 점유율', '상영횟수', '스크린수']:\n",
    "        col.remove(i)\n",
    "    movie_df = movie_df[col]\n",
    "    \n",
    "    return movie_df"
   ]
  },
  {
   "cell_type": "code",
   "execution_count": 20,
   "metadata": {
    "ExecuteTime": {
     "end_time": "2021-11-12T09:30:16.218658Z",
     "start_time": "2021-11-12T09:30:16.213626Z"
    }
   },
   "outputs": [],
   "source": [
    "movie_df = movie_columns(movie_df)"
   ]
  },
  {
   "cell_type": "markdown",
   "metadata": {},
   "source": [
    "## 영화이름\n",
    "- movie_name\n",
    "\n",
    "> 겹치는 영화 -> 합치는 게 나을 것 같음\n",
    "- 관객수 많이 차이 : 재개봉\n",
    "- 관객수 조금 차이 : 12월에 개봉해서 해 넘어감"
   ]
  },
  {
   "cell_type": "code",
   "execution_count": 7,
   "metadata": {
    "ExecuteTime": {
     "end_time": "2021-11-12T09:27:50.077723Z",
     "start_time": "2021-11-12T09:27:50.066712Z"
    }
   },
   "outputs": [
    {
     "data": {
      "text/plain": [
       "0                극한직업\n",
       "1          어벤져스: 엔드게임\n",
       "2              겨울왕국 2\n",
       "3                 알라딘\n",
       "4                 기생충\n",
       "           ...       \n",
       "95                 검객\n",
       "96                 조제\n",
       "97             사라진 시간\n",
       "98    밤쉘: 세상을 바꾼 폭탄선언\n",
       "99                알라딘\n",
       "Name: 영화명, Length: 100, dtype: object"
      ]
     },
     "execution_count": 7,
     "metadata": {},
     "output_type": "execute_result"
    }
   ],
   "source": [
    "# 겹치는 이름들이 있음 -> 알라딘\n",
    "movie_name = movie_df['영화명']\n",
    "movie_name"
   ]
  },
  {
   "cell_type": "code",
   "execution_count": 8,
   "metadata": {
    "ExecuteTime": {
     "end_time": "2021-11-12T09:27:50.138708Z",
     "start_time": "2021-11-12T09:27:50.130708Z"
    }
   },
   "outputs": [
    {
     "data": {
      "text/plain": [
       "5"
      ]
     },
     "execution_count": 8,
     "metadata": {},
     "output_type": "execute_result"
    }
   ],
   "source": [
    "# 겹치는 영화명이 5개 있음\n",
    "sum(movie_name.value_counts()==2)"
   ]
  },
  {
   "cell_type": "code",
   "execution_count": 9,
   "metadata": {
    "ExecuteTime": {
     "end_time": "2021-11-12T09:27:50.355277Z",
     "start_time": "2021-11-12T09:27:50.348713Z"
    }
   },
   "outputs": [],
   "source": [
    "# 겹치는 영화 처리하는 함수\n",
    "# 영화명, 개봉일, 대표국적, 배급사 : 관객수 많은 행 사용\n",
    "# 매출액, 관객수 : 더해서 사용\n",
    "\n",
    "def duplicate_movie(movie_df):\n",
    "    # 겹치는 영화 확인\n",
    "    movie_cnt = movie_df.loc[:,'영화명'].value_counts()\n",
    "    num = 0\n",
    "    dup_movie = []\n",
    "\n",
    "    for i in movie_cnt:\n",
    "        if i == 2:\n",
    "            dup_movie.append(movie_cnt.index[num])\n",
    "        num += 1\n",
    "    \n",
    "    # 관객수 적은 행 \n",
    "    small_movie = []\n",
    "    for name in dup_movie:\n",
    "        small_view = (movie_df[movie_df['영화명'] == name].loc[:,'관객수'] > movie_df[movie_df['영화명'] == name].loc[:,'관객수'].mean())\n",
    "        small_movie.extend(small_view.index[small_view])\n",
    "        \n",
    "    # 매출액, 관객수 합 사용\n",
    "    for name in dup_movie:\n",
    "        dup_movie_idx = movie_df[movie_df['영화명'] == name].index\n",
    "        movie_df.loc[dup_movie_idx, '관객수'] = movie_df[movie_df['영화명']== name].loc[:,'관객수'].sum()\n",
    "        movie_df.loc[dup_movie_idx, '매출액'] = movie_df[movie_df['영화명']== name].loc[:,'매출액'].sum()\n",
    "        \n",
    "    # 관객수 적은 행 삭제\n",
    "    movie_df = movie_df.drop(small_movie)\n",
    "\n",
    "    return movie_df"
   ]
  },
  {
   "cell_type": "code",
   "execution_count": 10,
   "metadata": {
    "ExecuteTime": {
     "end_time": "2021-11-12T09:27:50.955124Z",
     "start_time": "2021-11-12T09:27:50.901218Z"
    }
   },
   "outputs": [
    {
     "name": "stderr",
     "output_type": "stream",
     "text": [
      "C:\\Users\\User\\anaconda3\\lib\\site-packages\\pandas\\core\\indexing.py:966: SettingWithCopyWarning: \n",
      "A value is trying to be set on a copy of a slice from a DataFrame.\n",
      "Try using .loc[row_indexer,col_indexer] = value instead\n",
      "\n",
      "See the caveats in the documentation: https://pandas.pydata.org/pandas-docs/stable/user_guide/indexing.html#returning-a-view-versus-a-copy\n",
      "  self.obj[item] = s\n"
     ]
    }
   ],
   "source": [
    "movie_df = duplicate_movie(movie_df)"
   ]
  },
  {
   "cell_type": "code",
   "execution_count": 11,
   "metadata": {
    "ExecuteTime": {
     "end_time": "2021-11-12T09:27:51.343128Z",
     "start_time": "2021-11-12T09:27:51.336130Z"
    }
   },
   "outputs": [
    {
     "data": {
      "text/plain": [
       "조제                    1\n",
       "남산의 부장들               1\n",
       "나의 특별한 형제             1\n",
       "82년생 김지영              1\n",
       "겨울왕국 2                1\n",
       "                     ..\n",
       "미스터 주: 사라진 VIP        1\n",
       "스타워즈: 라이즈 오브 스카이워커    1\n",
       "히트맨                   1\n",
       "주먹왕 랄프 2: 인터넷 속으로     1\n",
       "내안의 그놈                1\n",
       "Name: 영화명, Length: 95, dtype: int64"
      ]
     },
     "execution_count": 11,
     "metadata": {},
     "output_type": "execute_result"
    }
   ],
   "source": [
    "# 겹치는 영화 있나 확인\n",
    "movie_df.loc[:,'영화명'].value_counts()"
   ]
  },
  {
   "cell_type": "code",
   "execution_count": 12,
   "metadata": {
    "ExecuteTime": {
     "end_time": "2021-11-12T09:27:51.831214Z",
     "start_time": "2021-11-12T09:27:51.820209Z"
    }
   },
   "outputs": [
    {
     "data": {
      "text/html": [
       "<div>\n",
       "<style scoped>\n",
       "    .dataframe tbody tr th:only-of-type {\n",
       "        vertical-align: middle;\n",
       "    }\n",
       "\n",
       "    .dataframe tbody tr th {\n",
       "        vertical-align: top;\n",
       "    }\n",
       "\n",
       "    .dataframe thead th {\n",
       "        text-align: right;\n",
       "    }\n",
       "</style>\n",
       "<table border=\"1\" class=\"dataframe\">\n",
       "  <thead>\n",
       "    <tr style=\"text-align: right;\">\n",
       "      <th></th>\n",
       "      <th>영화명</th>\n",
       "      <th>개봉일</th>\n",
       "      <th>매출액</th>\n",
       "      <th>관객수</th>\n",
       "      <th>대표국적</th>\n",
       "      <th>배급사</th>\n",
       "    </tr>\n",
       "  </thead>\n",
       "  <tbody>\n",
       "    <tr>\n",
       "      <th>99</th>\n",
       "      <td>알라딘</td>\n",
       "      <td>2019-05-23</td>\n",
       "      <td>108160549039</td>\n",
       "      <td>12723777</td>\n",
       "      <td>미국</td>\n",
       "      <td>월트디즈니컴퍼니코리아 유한책임회사</td>\n",
       "    </tr>\n",
       "  </tbody>\n",
       "</table>\n",
       "</div>"
      ],
      "text/plain": [
       "    영화명        개봉일           매출액       관객수 대표국적                 배급사\n",
       "99  알라딘 2019-05-23  108160549039  12723777   미국  월트디즈니컴퍼니코리아 유한책임회사"
      ]
     },
     "execution_count": 12,
     "metadata": {},
     "output_type": "execute_result"
    }
   ],
   "source": [
    "movie_df.loc[movie_df['영화명'] == '알라딘',]"
   ]
  },
  {
   "cell_type": "code",
   "execution_count": 13,
   "metadata": {
    "ExecuteTime": {
     "end_time": "2021-11-12T09:27:52.473208Z",
     "start_time": "2021-11-12T09:27:52.469205Z"
    },
    "scrolled": true
   },
   "outputs": [
    {
     "name": "stdout",
     "output_type": "stream",
     "text": [
      "['극한직업', '어벤져스: 엔드게임', '엑시트', '스파이더맨: 파 프롬 홈', '캡틴 마블', '조커', '봉오동 전투', '라이온 킹', '나쁜 녀석들: 더 무비', '82년생 김지영', '분노의 질주: 홉스&쇼', '토이 스토리 4', '돈', '악인전', '가장 보통의 연애', '말모이', '증인', '블랙머니', '터미네이터: 다크 페이트', '사바하', '타짜: 원 아이드 잭', '신의 한 수: 귀수편', '알리타: 배틀 엔젤', '내안의 그놈', '뺑반', '변신', '주먹왕 랄프 2: 인터넷 속으로', '걸캅스', '사자', '아쿠아맨', '드래곤 길들이기 3', '나의 특별한 형제', '어스', '말레피센트 2', '유열의 음악앨범', '퍼펙트맨', '포드 V 페라리', '생일', '힘을 내요, 미스터 리', '항거:유관순 이야기', '장사리 : 잊혀진 영웅들', '마이펫의 이중생활 2', '롱 리브 더 킹: 목포 영웅', '쥬만지: 넥스트 레벨', '존 윅 3: 파라벨룸', '남산의 부장들', '다만 악에서 구하소서', '반도', '히트맨', '테넷', '백두산', '#살아있다', '강철비2: 정상회담', '담보', '닥터 두리틀', '삼진그룹 영어토익반', '정직한 후보', '도굴', '클로젯', '오케이 마담', '해치지않아', '천문: 하늘에 묻는다', '결백', 1917, '작은 아씨들', '미드웨이', '시동', '지푸라기라도 잡고 싶은 짐승들', '미스터 주: 사라진 VIP', '인비저블맨', '나쁜 녀석들: 포에버', '국제수사', '침입자', '스타워즈: 라이즈 오브 스카이워커', '스파이 지니어스', '이웃사촌', '온워드: 단 하루의 기적', '소리도 없이', '버즈 오브 프레이(할리 퀸의 황홀한 해방)', '원더 우먼 1984', '겨울왕국 2', '오! 문희', '그린랜드', '위대한 쇼맨', '런', '뮬란', '내가 죽던 날', '기생충', '신비아파트 극장판 하늘도깨비 대 요르문간드', '프리즌 이스케이프', '검객', '조제', '사라진 시간', '밤쉘: 세상을 바꾼 폭탄선언', '알라딘']\n"
     ]
    }
   ],
   "source": [
    "# 중복되는 영화 제거 후 영화명\n",
    "movie_name = list(movie_df.loc[:, '영화명'])\n",
    "print(movie_name)"
   ]
  },
  {
   "cell_type": "markdown",
   "metadata": {},
   "source": [
    "# Processed DataFrame "
   ]
  },
  {
   "cell_type": "code",
   "execution_count": 68,
   "metadata": {
    "ExecuteTime": {
     "end_time": "2021-11-12T09:36:29.204437Z",
     "start_time": "2021-11-12T09:36:29.201419Z"
    }
   },
   "outputs": [],
   "source": [
    "import numpy as np\n",
    "import pandas as pd\n",
    "import seaborn as sns\n",
    "import matplotlib.pyplot as plt"
   ]
  },
  {
   "cell_type": "code",
   "execution_count": 69,
   "metadata": {
    "ExecuteTime": {
     "end_time": "2021-11-12T09:36:30.885146Z",
     "start_time": "2021-11-12T09:36:29.398433Z"
    }
   },
   "outputs": [],
   "source": [
    "data_19 = pd.read_excel('KOBIS_2019.xlsx', sep='\\t')[:50]\n",
    "data_20 = pd.read_excel('KOBIS_2020.xlsx', sep='\\t')[:50]\n",
    "movie_df = pd.concat([data_19, data_20])\n",
    "movie_df.reset_index(inplace = True)\n",
    "movie_df.drop(['index', '순위'], axis = 1, inplace=True)"
   ]
  },
  {
   "cell_type": "code",
   "execution_count": 70,
   "metadata": {
    "ExecuteTime": {
     "end_time": "2021-11-12T09:36:30.922109Z",
     "start_time": "2021-11-12T09:36:30.918124Z"
    }
   },
   "outputs": [],
   "source": [
    "def movie_columns(movie_df):\n",
    "    col = list(movie_df.columns)\n",
    "    for i in ['국적', '매출액 점유율', '상영횟수', '스크린수']:\n",
    "        col.remove(i)\n",
    "    movie_df = movie_df[col]\n",
    "    \n",
    "    return movie_df"
   ]
  },
  {
   "cell_type": "code",
   "execution_count": 71,
   "metadata": {
    "ExecuteTime": {
     "end_time": "2021-11-12T09:36:30.961106Z",
     "start_time": "2021-11-12T09:36:30.954104Z"
    }
   },
   "outputs": [],
   "source": [
    "def duplicate_movie(movie_df):\n",
    "    # 겹치는 영화 확인\n",
    "    movie_cnt = movie_df.loc[:,'영화명'].value_counts()\n",
    "    num = 0\n",
    "    dup_movie = []\n",
    "\n",
    "    for i in movie_cnt:\n",
    "        if i == 2:\n",
    "            dup_movie.append(movie_cnt.index[num])\n",
    "        num += 1\n",
    "    \n",
    "    # 관객수 적은 행 \n",
    "    small_movie = []\n",
    "    for name in dup_movie:\n",
    "        small_view = (movie_df[movie_df['영화명'] == name].loc[:,'관객수'] > movie_df[movie_df['영화명'] == name].loc[:,'관객수'].mean())\n",
    "        small_movie.extend(small_view.index[small_view])\n",
    "        \n",
    "    # 매출액, 관객수 합 사용\n",
    "    for name in dup_movie:\n",
    "        dup_movie_idx = movie_df[movie_df['영화명'] == name].index\n",
    "        movie_df.loc[dup_movie_idx, '관객수'] = movie_df[movie_df['영화명']== name].loc[:,'관객수'].sum()\n",
    "        movie_df.loc[dup_movie_idx, '매출액'] = movie_df[movie_df['영화명']== name].loc[:,'매출액'].sum()\n",
    "        \n",
    "    # 관객수 적은 행 삭제\n",
    "    movie_df = movie_df.drop(small_movie)\n",
    "\n",
    "    return movie_df"
   ]
  },
  {
   "cell_type": "code",
   "execution_count": 72,
   "metadata": {
    "ExecuteTime": {
     "end_time": "2021-11-12T09:36:36.588705Z",
     "start_time": "2021-11-12T09:36:36.585701Z"
    }
   },
   "outputs": [],
   "source": [
    "def df_reset_index(movie_df):\n",
    "    movie_df.reset_index(inplace=True)\n",
    "    movie_df.drop(['index'], inplace = True, axis = 1)\n",
    "    return movie_df"
   ]
  },
  {
   "cell_type": "code",
   "execution_count": 73,
   "metadata": {
    "ExecuteTime": {
     "end_time": "2021-11-12T09:36:37.008742Z",
     "start_time": "2021-11-12T09:36:36.958704Z"
    }
   },
   "outputs": [],
   "source": [
    "movie_df = movie_columns(movie_df)\n",
    "movie_df = duplicate_movie(movie_df)\n",
    "movie_df = df_reset_index(movie_df)"
   ]
  },
  {
   "cell_type": "code",
   "execution_count": 74,
   "metadata": {
    "ExecuteTime": {
     "end_time": "2021-11-12T09:36:37.653740Z",
     "start_time": "2021-11-12T09:36:37.639770Z"
    }
   },
   "outputs": [
    {
     "data": {
      "text/html": [
       "<div>\n",
       "<style scoped>\n",
       "    .dataframe tbody tr th:only-of-type {\n",
       "        vertical-align: middle;\n",
       "    }\n",
       "\n",
       "    .dataframe tbody tr th {\n",
       "        vertical-align: top;\n",
       "    }\n",
       "\n",
       "    .dataframe thead th {\n",
       "        text-align: right;\n",
       "    }\n",
       "</style>\n",
       "<table border=\"1\" class=\"dataframe\">\n",
       "  <thead>\n",
       "    <tr style=\"text-align: right;\">\n",
       "      <th></th>\n",
       "      <th>영화명</th>\n",
       "      <th>개봉일</th>\n",
       "      <th>매출액</th>\n",
       "      <th>관객수</th>\n",
       "      <th>대표국적</th>\n",
       "      <th>배급사</th>\n",
       "    </tr>\n",
       "  </thead>\n",
       "  <tbody>\n",
       "    <tr>\n",
       "      <th>0</th>\n",
       "      <td>극한직업</td>\n",
       "      <td>2019-01-23</td>\n",
       "      <td>139651845516</td>\n",
       "      <td>16265618</td>\n",
       "      <td>한국</td>\n",
       "      <td>(주)씨제이이엔엠</td>\n",
       "    </tr>\n",
       "    <tr>\n",
       "      <th>1</th>\n",
       "      <td>어벤져스: 엔드게임</td>\n",
       "      <td>2019-04-24</td>\n",
       "      <td>122182694160</td>\n",
       "      <td>13934592</td>\n",
       "      <td>미국</td>\n",
       "      <td>월트디즈니컴퍼니코리아 유한책임회사</td>\n",
       "    </tr>\n",
       "    <tr>\n",
       "      <th>2</th>\n",
       "      <td>엑시트</td>\n",
       "      <td>2019-07-31</td>\n",
       "      <td>79232012162</td>\n",
       "      <td>9426011</td>\n",
       "      <td>한국</td>\n",
       "      <td>(주)씨제이이엔엠</td>\n",
       "    </tr>\n",
       "    <tr>\n",
       "      <th>3</th>\n",
       "      <td>스파이더맨: 파 프롬 홈</td>\n",
       "      <td>2019-07-02</td>\n",
       "      <td>69010000100</td>\n",
       "      <td>8021145</td>\n",
       "      <td>미국</td>\n",
       "      <td>소니픽쳐스엔터테인먼트코리아주식회사극장배급지점</td>\n",
       "    </tr>\n",
       "    <tr>\n",
       "      <th>4</th>\n",
       "      <td>캡틴 마블</td>\n",
       "      <td>2019-03-06</td>\n",
       "      <td>51507488723</td>\n",
       "      <td>5802810</td>\n",
       "      <td>미국</td>\n",
       "      <td>월트디즈니컴퍼니코리아 유한책임회사</td>\n",
       "    </tr>\n",
       "    <tr>\n",
       "      <th>...</th>\n",
       "      <td>...</td>\n",
       "      <td>...</td>\n",
       "      <td>...</td>\n",
       "      <td>...</td>\n",
       "      <td>...</td>\n",
       "      <td>...</td>\n",
       "    </tr>\n",
       "    <tr>\n",
       "      <th>90</th>\n",
       "      <td>검객</td>\n",
       "      <td>2020-09-23</td>\n",
       "      <td>1619781870</td>\n",
       "      <td>190237</td>\n",
       "      <td>한국</td>\n",
       "      <td>(주)키위미디어그룹,오퍼스픽쳐스(유),(주)씨네필운</td>\n",
       "    </tr>\n",
       "    <tr>\n",
       "      <th>91</th>\n",
       "      <td>조제</td>\n",
       "      <td>2020-12-10</td>\n",
       "      <td>1673427570</td>\n",
       "      <td>186647</td>\n",
       "      <td>한국</td>\n",
       "      <td>워너브러더스 코리아(주)</td>\n",
       "    </tr>\n",
       "    <tr>\n",
       "      <th>92</th>\n",
       "      <td>사라진 시간</td>\n",
       "      <td>2020-06-18</td>\n",
       "      <td>1652522580</td>\n",
       "      <td>185802</td>\n",
       "      <td>한국</td>\n",
       "      <td>(주)에이스메이커무비웍스</td>\n",
       "    </tr>\n",
       "    <tr>\n",
       "      <th>93</th>\n",
       "      <td>밤쉘: 세상을 바꾼 폭탄선언</td>\n",
       "      <td>2020-07-08</td>\n",
       "      <td>1544025340</td>\n",
       "      <td>182026</td>\n",
       "      <td>미국</td>\n",
       "      <td>(주)홈초이스</td>\n",
       "    </tr>\n",
       "    <tr>\n",
       "      <th>94</th>\n",
       "      <td>알라딘</td>\n",
       "      <td>2019-05-23</td>\n",
       "      <td>108160549039</td>\n",
       "      <td>12723777</td>\n",
       "      <td>미국</td>\n",
       "      <td>월트디즈니컴퍼니코리아 유한책임회사</td>\n",
       "    </tr>\n",
       "  </tbody>\n",
       "</table>\n",
       "<p>95 rows × 6 columns</p>\n",
       "</div>"
      ],
      "text/plain": [
       "                영화명        개봉일           매출액       관객수 대표국적  \\\n",
       "0              극한직업 2019-01-23  139651845516  16265618   한국   \n",
       "1        어벤져스: 엔드게임 2019-04-24  122182694160  13934592   미국   \n",
       "2               엑시트 2019-07-31   79232012162   9426011   한국   \n",
       "3     스파이더맨: 파 프롬 홈 2019-07-02   69010000100   8021145   미국   \n",
       "4             캡틴 마블 2019-03-06   51507488723   5802810   미국   \n",
       "..              ...        ...           ...       ...  ...   \n",
       "90               검객 2020-09-23    1619781870    190237   한국   \n",
       "91               조제 2020-12-10    1673427570    186647   한국   \n",
       "92           사라진 시간 2020-06-18    1652522580    185802   한국   \n",
       "93  밤쉘: 세상을 바꾼 폭탄선언 2020-07-08    1544025340    182026   미국   \n",
       "94              알라딘 2019-05-23  108160549039  12723777   미국   \n",
       "\n",
       "                             배급사  \n",
       "0                      (주)씨제이이엔엠  \n",
       "1             월트디즈니컴퍼니코리아 유한책임회사  \n",
       "2                      (주)씨제이이엔엠  \n",
       "3       소니픽쳐스엔터테인먼트코리아주식회사극장배급지점  \n",
       "4             월트디즈니컴퍼니코리아 유한책임회사  \n",
       "..                           ...  \n",
       "90  (주)키위미디어그룹,오퍼스픽쳐스(유),(주)씨네필운  \n",
       "91                 워너브러더스 코리아(주)  \n",
       "92                 (주)에이스메이커무비웍스  \n",
       "93                       (주)홈초이스  \n",
       "94            월트디즈니컴퍼니코리아 유한책임회사  \n",
       "\n",
       "[95 rows x 6 columns]"
      ]
     },
     "execution_count": 74,
     "metadata": {},
     "output_type": "execute_result"
    }
   ],
   "source": [
    "movie_df"
   ]
  },
  {
   "cell_type": "code",
   "execution_count": null,
   "metadata": {},
   "outputs": [],
   "source": []
  }
 ],
 "metadata": {
  "hide_input": false,
  "kernelspec": {
   "display_name": "Python 3",
   "language": "python",
   "name": "python3"
  },
  "language_info": {
   "codemirror_mode": {
    "name": "ipython",
    "version": 3
   },
   "file_extension": ".py",
   "mimetype": "text/x-python",
   "name": "python",
   "nbconvert_exporter": "python",
   "pygments_lexer": "ipython3",
   "version": "3.8.3"
  },
  "toc": {
   "base_numbering": 1,
   "nav_menu": {},
   "number_sections": true,
   "sideBar": true,
   "skip_h1_title": false,
   "title_cell": "Table of Contents",
   "title_sidebar": "Contents",
   "toc_cell": false,
   "toc_position": {
    "height": "calc(100% - 180px)",
    "left": "10px",
    "top": "150px",
    "width": "303.75px"
   },
   "toc_section_display": true,
   "toc_window_display": true
  },
  "varInspector": {
   "cols": {
    "lenName": 16,
    "lenType": 16,
    "lenVar": 40
   },
   "kernels_config": {
    "python": {
     "delete_cmd_postfix": "",
     "delete_cmd_prefix": "del ",
     "library": "var_list.py",
     "varRefreshCmd": "print(var_dic_list())"
    },
    "r": {
     "delete_cmd_postfix": ") ",
     "delete_cmd_prefix": "rm(",
     "library": "var_list.r",
     "varRefreshCmd": "cat(var_dic_list()) "
    }
   },
   "types_to_exclude": [
    "module",
    "function",
    "builtin_function_or_method",
    "instance",
    "_Feature"
   ],
   "window_display": false
  }
 },
 "nbformat": 4,
 "nbformat_minor": 4
}
