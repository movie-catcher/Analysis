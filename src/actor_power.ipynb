{
 "cells": [
  {
   "cell_type": "markdown",
   "id": "08ea3501",
   "metadata": {},
   "source": [
    "## 배우 영향력 구하기\n",
    "영화 하나하나마다 배우 프로필에 들어가서 이전 출연작 정보를 가져오는 것은 너무 비효율적    \n",
    "-> 정보를 가져와야 할 모든 배우의 유니크한 리스트를 만들어서 배우 프로필을 방문하여 이전 출연작 정보를 모두 가져옴"
   ]
  },
  {
   "cell_type": "code",
   "execution_count": 1,
   "id": "42b03fb7",
   "metadata": {},
   "outputs": [],
   "source": [
    "import numpy as np\n",
    "import pandas as pd\n",
    "\n",
    "from bs4 import BeautifulSoup\n",
    "from selenium import webdriver\n",
    "from selenium.webdriver.common.by import By\n",
    "\n",
    "import time\n",
    "import re"
   ]
  },
  {
   "cell_type": "code",
   "execution_count": 11,
   "id": "24db3e20",
   "metadata": {},
   "outputs": [],
   "source": [
    "options = webdriver.ChromeOptions()\n",
    "options.add_argument('headless')\n",
    "options.add_argument('window-size=1920x1080')\n",
    "options.add_argument(\"disable-gpu\")\n",
    "\n",
    "driver = webdriver.Chrome('chromedriver',options=options)\n",
    "driver.implicitly_wait(3)\n",
    "\n",
    "url = 'https://www.kobis.or.kr/kobis/business/mast/mvie/searchMovieList.do'"
   ]
  },
  {
   "cell_type": "markdown",
   "id": "bd25d56a",
   "metadata": {},
   "source": [
    "### 파일 이름\n",
    "|name|desc|\n",
    "|:---|:---|\n",
    "|file_name_movie_df|가져올 영화 정보 파일|\n",
    "|file_name_movie_actor_df|수집해야 할 영화의 주연 배우 2명의 배우 코드|\n",
    "|file_name_actor_movie|배우가 주연으로 출연한 모든 출연작|\n",
    "|directory_movie_info|영화의 관람객수와 개봉일을 저장할 디렉토리|\n",
    "|file_name_movie_info_total|분산되어 있던 파일 병합|"
   ]
  },
  {
   "cell_type": "code",
   "execution_count": null,
   "id": "2bb79664",
   "metadata": {},
   "outputs": [],
   "source": [
    "# 파일이름\n",
    "file_name_movie_df = './Preprocessed_Data.xlsx'\n",
    "file_name_movie_actor_df = '17_18_preprocessed_data/movie_actor_df.csv'\n",
    "file_name_actor_movie = '17_18_preprocessed_data/actor_movie.csv'\n",
    "directory_movie_info = './17_18_preprocessed_data/movie_info/'\n",
    "file_name_movie_info_total = '17_18_preprocessed_data/movie_info_total.csv'"
   ]
  },
  {
   "cell_type": "code",
   "execution_count": 4,
   "id": "8344499b",
   "metadata": {},
   "outputs": [],
   "source": [
    "# 넷플릭스용 파일이름\n",
    "file_name_movie_df = './Preprocessed_Data.xlsx'\n",
    "file_name_movie_actor_df = './netflix_preprocessed_data/movie_actor_df.csv'\n",
    "file_name_actor_movie = './netflix_preprocessed_data/actor_movie.csv'\n",
    "directory_movie_info = './netflix_preprocessed_data/movie_info/'\n",
    "file_name_movie_info_total = 'netflix_preprocessed_data/movie_info_total.csv'"
   ]
  },
  {
   "cell_type": "markdown",
   "id": "a6979fa5",
   "metadata": {},
   "source": [
    "### 모든 배우의 KOBIS code 가져오기\n",
    "주연 배우 2명의 배우 코드를 영화별로 가져옴"
   ]
  },
  {
   "cell_type": "code",
   "execution_count": 5,
   "id": "a23c3b7a",
   "metadata": {},
   "outputs": [],
   "source": [
    "def get_actors(movie_df):\n",
    "    driver.get(url)\n",
    "    \n",
    "    movie_actor_df = pd.DataFrame(movie_df)\n",
    "    movie_actor_df['actor1_code'] = np.nan\n",
    "    movie_actor_df['actor2_code'] = np.nan\n",
    "    \n",
    "    for i in range(len(movie_df)):\n",
    "        driver.execute_script(\"mstView('movie','\"+str(movie_df.loc[i,\"code\"])+\"')\")\n",
    "        driver.implicitly_wait(10)\n",
    "        \n",
    "        try:\n",
    "            elem = driver.find_element(By.CSS_SELECTOR, \"div[name=\\\"\"+str(movie_df.loc[i,\"code\"])+\"_staff\\\"] > dl > div:nth-child(2) > dd > table:nth-child(1) > tbody > tr > td > a:nth-child(2)\")\n",
    "            onClickStr = elem.get_attribute('onClick')\n",
    "            movie_df.loc[i,\"actor1_code\"] = onClickStr.split(\"'\")[3]\n",
    "        except Exception:\n",
    "            continue\n",
    "            \n",
    "        try:\n",
    "            elem = driver.find_element(By.CSS_SELECTOR, \"div[name=\\\"\"+str(movie_df.loc[i,\"code\"])+\"_staff\\\"] > dl > div:nth-child(2) > dd > table:nth-child(1) > tbody > tr > td > a:nth-child(3)\")\n",
    "            onClickStr = elem.get_attribute('onClick')\n",
    "            movie_df.loc[i,\"actor2_code\"] = onClickStr.split(\"'\")[3]\n",
    "        except Exception:\n",
    "            continue\n",
    "    \n",
    "    return movie_actor_df\n"
   ]
  },
  {
   "cell_type": "code",
   "execution_count": 4,
   "id": "d07ac924",
   "metadata": {
    "scrolled": true
   },
   "outputs": [],
   "source": [
    "movie_df = pd.read_excel(file_name_movie_df).loc[:,['movie_name','code']]\n",
    "movie_actor_df = get_actors(movie_df)"
   ]
  },
  {
   "cell_type": "code",
   "execution_count": 2,
   "id": "293420a7",
   "metadata": {},
   "outputs": [
    {
     "ename": "NameError",
     "evalue": "name 'movie_actor_df' is not defined",
     "output_type": "error",
     "traceback": [
      "\u001b[1;31m---------------------------------------------------------------------------\u001b[0m",
      "\u001b[1;31mNameError\u001b[0m                                 Traceback (most recent call last)",
      "\u001b[1;32m~\\AppData\\Local\\Temp/ipykernel_17336/3762210079.py\u001b[0m in \u001b[0;36m<module>\u001b[1;34m\u001b[0m\n\u001b[1;32m----> 1\u001b[1;33m \u001b[0mmovie_actor_df\u001b[0m\u001b[1;33m.\u001b[0m\u001b[0mto_csv\u001b[0m\u001b[1;33m(\u001b[0m\u001b[0mfile_name_movie_actor_df\u001b[0m\u001b[1;33m,\u001b[0m \u001b[0mindex_col\u001b[0m\u001b[1;33m=\u001b[0m\u001b[1;36m0\u001b[0m\u001b[1;33m)\u001b[0m\u001b[1;33m\u001b[0m\u001b[1;33m\u001b[0m\u001b[0m\n\u001b[0m\u001b[0;32m      2\u001b[0m \u001b[0mmovie_actor_df\u001b[0m\u001b[1;33m\u001b[0m\u001b[1;33m\u001b[0m\u001b[0m\n",
      "\u001b[1;31mNameError\u001b[0m: name 'movie_actor_df' is not defined"
     ]
    }
   ],
   "source": [
    "movie_actor_df.to_csv(file_name_movie_actor_df, index_col=0)\n",
    "movie_actor_df"
   ]
  },
  {
   "cell_type": "code",
   "execution_count": 6,
   "id": "f73607ed",
   "metadata": {},
   "outputs": [
    {
     "data": {
      "text/html": [
       "<div>\n",
       "<style scoped>\n",
       "    .dataframe tbody tr th:only-of-type {\n",
       "        vertical-align: middle;\n",
       "    }\n",
       "\n",
       "    .dataframe tbody tr th {\n",
       "        vertical-align: top;\n",
       "    }\n",
       "\n",
       "    .dataframe thead th {\n",
       "        text-align: right;\n",
       "    }\n",
       "</style>\n",
       "<table border=\"1\" class=\"dataframe\">\n",
       "  <thead>\n",
       "    <tr style=\"text-align: right;\">\n",
       "      <th></th>\n",
       "      <th>movie_name</th>\n",
       "      <th>code</th>\n",
       "      <th>actor1_code</th>\n",
       "      <th>actor2_code</th>\n",
       "    </tr>\n",
       "  </thead>\n",
       "  <tbody>\n",
       "    <tr>\n",
       "      <th>0</th>\n",
       "      <td>오징어 게임</td>\n",
       "      <td>NaN</td>\n",
       "      <td>10057315</td>\n",
       "      <td>20305129</td>\n",
       "    </tr>\n",
       "    <tr>\n",
       "      <th>1</th>\n",
       "      <td>킹덤</td>\n",
       "      <td>NaN</td>\n",
       "      <td>10069179</td>\n",
       "      <td>10019065</td>\n",
       "    </tr>\n",
       "    <tr>\n",
       "      <th>2</th>\n",
       "      <td>보건교사 안은영</td>\n",
       "      <td>NaN</td>\n",
       "      <td>10062071</td>\n",
       "      <td>20279929</td>\n",
       "    </tr>\n",
       "    <tr>\n",
       "      <th>3</th>\n",
       "      <td>옥자</td>\n",
       "      <td>NaN</td>\n",
       "      <td>10081721</td>\n",
       "      <td>10063816</td>\n",
       "    </tr>\n",
       "    <tr>\n",
       "      <th>4</th>\n",
       "      <td>승리호</td>\n",
       "      <td>NaN</td>\n",
       "      <td>10037229</td>\n",
       "      <td>20201026</td>\n",
       "    </tr>\n",
       "  </tbody>\n",
       "</table>\n",
       "</div>"
      ],
      "text/plain": [
       "  movie_name  code  actor1_code  actor2_code\n",
       "0     오징어 게임   NaN     10057315     20305129\n",
       "1         킹덤   NaN     10069179     10019065\n",
       "2   보건교사 안은영   NaN     10062071     20279929\n",
       "3         옥자   NaN     10081721     10063816\n",
       "4        승리호   NaN     10037229     20201026"
      ]
     },
     "execution_count": 6,
     "metadata": {},
     "output_type": "execute_result"
    }
   ],
   "source": [
    "movie_actor_df=pd.read_csv(file_name_movie_actor_df, index_col=0)\n",
    "movie_actor_df"
   ]
  },
  {
   "cell_type": "markdown",
   "id": "1872ecac",
   "metadata": {},
   "source": [
    "`actor1`과 `actor2`의 배우 코드를 유니크한 리스트로 생성"
   ]
  },
  {
   "cell_type": "code",
   "execution_count": 7,
   "id": "fb33eeb2",
   "metadata": {},
   "outputs": [],
   "source": [
    "actor_list = list(set(list(movie_actor_df['actor1_code'].dropna())+list(movie_actor_df['actor2_code'].dropna())))"
   ]
  },
  {
   "cell_type": "markdown",
   "id": "f4d92c2c",
   "metadata": {},
   "source": [
    "### 배우의 출연작 수집\n",
    "배우가 **주연으로** 출연했던 모든 영화 코드를 가져옴"
   ]
  },
  {
   "cell_type": "code",
   "execution_count": 8,
   "id": "b25c3aa7",
   "metadata": {},
   "outputs": [],
   "source": [
    "def get_actor_movies(actor_list):\n",
    "    driver.get(url)\n",
    "    columns = ['actor_code', 'movie_name', 'movie_code']\n",
    "    actor_movie = pd.DataFrame(columns=columns)\n",
    "    \n",
    "    driver.execute_script(\"mstView('people','\"+str(actor_list[0])+\"')\")\n",
    "    driver.implicitly_wait(10)\n",
    "    driver.find_element(By.CSS_SELECTOR, \"ul.list_tab > li:nth-child(2)\").click()\n",
    "    driver.implicitly_wait(10)\n",
    "\n",
    "    \n",
    "    for i in range(len(actor_list)):\n",
    "        page_index = 0\n",
    "        while True:\n",
    "            page_index += 1\n",
    "            driver.execute_script(\"dtlReq('people','\"+str(actor_list[i])+\"','filmo','N','\"+str(page_index)+\"')\")\n",
    "            driver.implicitly_wait(10)\n",
    "            \n",
    "            html = BeautifulSoup(driver.page_source, 'html.parser')\n",
    "            movie_list = html.select('ul.fmList > li')\n",
    "            if len(movie_list) == 0: break\n",
    "            \n",
    "            for li in html.select('.fmList > li'):\n",
    "                if '주연' not in li.select_one('dl > dd').get_text(): continue\n",
    "\n",
    "                movie = li.select_one('dl > dt > a')\n",
    "                movie_name = movie.get_text()\n",
    "                movie_code = movie['onclick'].split(\"'\")[3]\n",
    "                \n",
    "                new_row = [[actor_list[i], movie_name, movie_code]]\n",
    "                actor_movie = actor_movie.append(pd.DataFrame(new_row, columns=columns), ignore_index=True)\n",
    "\n",
    "    return actor_movie\n"
   ]
  },
  {
   "cell_type": "code",
   "execution_count": 9,
   "id": "79fa544d",
   "metadata": {},
   "outputs": [],
   "source": [
    "actor_movie = get_actor_movies(actor_list)"
   ]
  },
  {
   "cell_type": "code",
   "execution_count": 10,
   "id": "403c3ffc",
   "metadata": {},
   "outputs": [
    {
     "data": {
      "text/html": [
       "<div>\n",
       "<style scoped>\n",
       "    .dataframe tbody tr th:only-of-type {\n",
       "        vertical-align: middle;\n",
       "    }\n",
       "\n",
       "    .dataframe tbody tr th {\n",
       "        vertical-align: top;\n",
       "    }\n",
       "\n",
       "    .dataframe thead th {\n",
       "        text-align: right;\n",
       "    }\n",
       "</style>\n",
       "<table border=\"1\" class=\"dataframe\">\n",
       "  <thead>\n",
       "    <tr style=\"text-align: right;\">\n",
       "      <th></th>\n",
       "      <th>actor_code</th>\n",
       "      <th>movie_name</th>\n",
       "      <th>movie_code</th>\n",
       "    </tr>\n",
       "  </thead>\n",
       "  <tbody>\n",
       "    <tr>\n",
       "      <th>0</th>\n",
       "      <td>20201026</td>\n",
       "      <td>승리호(SPACE SWEEPERS)</td>\n",
       "      <td>20192662</td>\n",
       "    </tr>\n",
       "    <tr>\n",
       "      <th>1</th>\n",
       "      <td>20201026</td>\n",
       "      <td>외계+인</td>\n",
       "      <td>20208446</td>\n",
       "    </tr>\n",
       "    <tr>\n",
       "      <th>2</th>\n",
       "      <td>20201026</td>\n",
       "      <td>리틀 포레스트(Little Forest)</td>\n",
       "      <td>20170841</td>\n",
       "    </tr>\n",
       "    <tr>\n",
       "      <th>3</th>\n",
       "      <td>20201026</td>\n",
       "      <td>1987(1987: When the Day Comes)</td>\n",
       "      <td>20170590</td>\n",
       "    </tr>\n",
       "    <tr>\n",
       "      <th>4</th>\n",
       "      <td>20201026</td>\n",
       "      <td>아가씨(The Handmaiden)</td>\n",
       "      <td>20144444</td>\n",
       "    </tr>\n",
       "    <tr>\n",
       "      <th>...</th>\n",
       "      <td>...</td>\n",
       "      <td>...</td>\n",
       "      <td>...</td>\n",
       "    </tr>\n",
       "    <tr>\n",
       "      <th>190</th>\n",
       "      <td>10069179</td>\n",
       "      <td>좋은 친구들(Confession)</td>\n",
       "      <td>20148745</td>\n",
       "    </tr>\n",
       "    <tr>\n",
       "      <th>191</th>\n",
       "      <td>10069179</td>\n",
       "      <td>결혼전야(Marriage Blue)</td>\n",
       "      <td>20136061</td>\n",
       "    </tr>\n",
       "    <tr>\n",
       "      <th>192</th>\n",
       "      <td>10069179</td>\n",
       "      <td>나는 왕이로소이다(I am the King)</td>\n",
       "      <td>20124080</td>\n",
       "    </tr>\n",
       "    <tr>\n",
       "      <th>193</th>\n",
       "      <td>10069179</td>\n",
       "      <td>키친(The Naked Kitchen)</td>\n",
       "      <td>20090022</td>\n",
       "    </tr>\n",
       "    <tr>\n",
       "      <th>194</th>\n",
       "      <td>10069179</td>\n",
       "      <td>서양 골동 양과자점 앤티크(Antique)</td>\n",
       "      <td>20080637</td>\n",
       "    </tr>\n",
       "  </tbody>\n",
       "</table>\n",
       "<p>195 rows × 3 columns</p>\n",
       "</div>"
      ],
      "text/plain": [
       "    actor_code                      movie_name movie_code\n",
       "0     20201026             승리호(SPACE SWEEPERS)   20192662\n",
       "1     20201026                            외계+인   20208446\n",
       "2     20201026          리틀 포레스트(Little Forest)   20170841\n",
       "3     20201026  1987(1987: When the Day Comes)   20170590\n",
       "4     20201026             아가씨(The Handmaiden)   20144444\n",
       "..         ...                             ...        ...\n",
       "190   10069179              좋은 친구들(Confession)   20148745\n",
       "191   10069179             결혼전야(Marriage Blue)   20136061\n",
       "192   10069179        나는 왕이로소이다(I am the King)   20124080\n",
       "193   10069179           키친(The Naked Kitchen)   20090022\n",
       "194   10069179         서양 골동 양과자점 앤티크(Antique)   20080637\n",
       "\n",
       "[195 rows x 3 columns]"
      ]
     },
     "execution_count": 10,
     "metadata": {},
     "output_type": "execute_result"
    }
   ],
   "source": [
    "actor_movie"
   ]
  },
  {
   "cell_type": "code",
   "execution_count": 12,
   "id": "de6c61cd",
   "metadata": {
    "scrolled": false
   },
   "outputs": [
    {
     "data": {
      "text/html": [
       "<div>\n",
       "<style scoped>\n",
       "    .dataframe tbody tr th:only-of-type {\n",
       "        vertical-align: middle;\n",
       "    }\n",
       "\n",
       "    .dataframe tbody tr th {\n",
       "        vertical-align: top;\n",
       "    }\n",
       "\n",
       "    .dataframe thead th {\n",
       "        text-align: right;\n",
       "    }\n",
       "</style>\n",
       "<table border=\"1\" class=\"dataframe\">\n",
       "  <thead>\n",
       "    <tr style=\"text-align: right;\">\n",
       "      <th></th>\n",
       "      <th>actor_code</th>\n",
       "      <th>movie_name</th>\n",
       "      <th>movie_code</th>\n",
       "    </tr>\n",
       "  </thead>\n",
       "  <tbody>\n",
       "    <tr>\n",
       "      <th>0</th>\n",
       "      <td>20201026</td>\n",
       "      <td>승리호(SPACE SWEEPERS)</td>\n",
       "      <td>20192662</td>\n",
       "    </tr>\n",
       "    <tr>\n",
       "      <th>1</th>\n",
       "      <td>20201026</td>\n",
       "      <td>외계+인</td>\n",
       "      <td>20208446</td>\n",
       "    </tr>\n",
       "    <tr>\n",
       "      <th>2</th>\n",
       "      <td>20201026</td>\n",
       "      <td>리틀 포레스트(Little Forest)</td>\n",
       "      <td>20170841</td>\n",
       "    </tr>\n",
       "    <tr>\n",
       "      <th>3</th>\n",
       "      <td>20201026</td>\n",
       "      <td>1987(1987: When the Day Comes)</td>\n",
       "      <td>20170590</td>\n",
       "    </tr>\n",
       "    <tr>\n",
       "      <th>4</th>\n",
       "      <td>20201026</td>\n",
       "      <td>아가씨(The Handmaiden)</td>\n",
       "      <td>20144444</td>\n",
       "    </tr>\n",
       "    <tr>\n",
       "      <th>...</th>\n",
       "      <td>...</td>\n",
       "      <td>...</td>\n",
       "      <td>...</td>\n",
       "    </tr>\n",
       "    <tr>\n",
       "      <th>190</th>\n",
       "      <td>10069179</td>\n",
       "      <td>좋은 친구들(Confession)</td>\n",
       "      <td>20148745</td>\n",
       "    </tr>\n",
       "    <tr>\n",
       "      <th>191</th>\n",
       "      <td>10069179</td>\n",
       "      <td>결혼전야(Marriage Blue)</td>\n",
       "      <td>20136061</td>\n",
       "    </tr>\n",
       "    <tr>\n",
       "      <th>192</th>\n",
       "      <td>10069179</td>\n",
       "      <td>나는 왕이로소이다(I am the King)</td>\n",
       "      <td>20124080</td>\n",
       "    </tr>\n",
       "    <tr>\n",
       "      <th>193</th>\n",
       "      <td>10069179</td>\n",
       "      <td>키친(The Naked Kitchen)</td>\n",
       "      <td>20090022</td>\n",
       "    </tr>\n",
       "    <tr>\n",
       "      <th>194</th>\n",
       "      <td>10069179</td>\n",
       "      <td>서양 골동 양과자점 앤티크(Antique)</td>\n",
       "      <td>20080637</td>\n",
       "    </tr>\n",
       "  </tbody>\n",
       "</table>\n",
       "<p>195 rows × 3 columns</p>\n",
       "</div>"
      ],
      "text/plain": [
       "    actor_code                      movie_name movie_code\n",
       "0     20201026             승리호(SPACE SWEEPERS)   20192662\n",
       "1     20201026                            외계+인   20208446\n",
       "2     20201026          리틀 포레스트(Little Forest)   20170841\n",
       "3     20201026  1987(1987: When the Day Comes)   20170590\n",
       "4     20201026             아가씨(The Handmaiden)   20144444\n",
       "..         ...                             ...        ...\n",
       "190   10069179              좋은 친구들(Confession)   20148745\n",
       "191   10069179             결혼전야(Marriage Blue)   20136061\n",
       "192   10069179        나는 왕이로소이다(I am the King)   20124080\n",
       "193   10069179           키친(The Naked Kitchen)   20090022\n",
       "194   10069179         서양 골동 양과자점 앤티크(Antique)   20080637\n",
       "\n",
       "[195 rows x 3 columns]"
      ]
     },
     "execution_count": 12,
     "metadata": {},
     "output_type": "execute_result"
    }
   ],
   "source": [
    "actor_movie.to_csv(file_name_actor_movie, encoding='utf-8-sig')\n",
    "actor_movie"
   ]
  },
  {
   "cell_type": "code",
   "execution_count": 13,
   "id": "525fde42",
   "metadata": {},
   "outputs": [
    {
     "data": {
      "text/html": [
       "<div>\n",
       "<style scoped>\n",
       "    .dataframe tbody tr th:only-of-type {\n",
       "        vertical-align: middle;\n",
       "    }\n",
       "\n",
       "    .dataframe tbody tr th {\n",
       "        vertical-align: top;\n",
       "    }\n",
       "\n",
       "    .dataframe thead th {\n",
       "        text-align: right;\n",
       "    }\n",
       "</style>\n",
       "<table border=\"1\" class=\"dataframe\">\n",
       "  <thead>\n",
       "    <tr style=\"text-align: right;\">\n",
       "      <th></th>\n",
       "      <th>actor_code</th>\n",
       "      <th>movie_name</th>\n",
       "      <th>movie_code</th>\n",
       "    </tr>\n",
       "  </thead>\n",
       "  <tbody>\n",
       "    <tr>\n",
       "      <th>0</th>\n",
       "      <td>20201026</td>\n",
       "      <td>승리호(SPACE SWEEPERS)</td>\n",
       "      <td>20192662</td>\n",
       "    </tr>\n",
       "    <tr>\n",
       "      <th>1</th>\n",
       "      <td>20201026</td>\n",
       "      <td>외계+인</td>\n",
       "      <td>20208446</td>\n",
       "    </tr>\n",
       "    <tr>\n",
       "      <th>2</th>\n",
       "      <td>20201026</td>\n",
       "      <td>리틀 포레스트(Little Forest)</td>\n",
       "      <td>20170841</td>\n",
       "    </tr>\n",
       "    <tr>\n",
       "      <th>3</th>\n",
       "      <td>20201026</td>\n",
       "      <td>1987(1987: When the Day Comes)</td>\n",
       "      <td>20170590</td>\n",
       "    </tr>\n",
       "    <tr>\n",
       "      <th>4</th>\n",
       "      <td>20201026</td>\n",
       "      <td>아가씨(The Handmaiden)</td>\n",
       "      <td>20144444</td>\n",
       "    </tr>\n",
       "    <tr>\n",
       "      <th>...</th>\n",
       "      <td>...</td>\n",
       "      <td>...</td>\n",
       "      <td>...</td>\n",
       "    </tr>\n",
       "    <tr>\n",
       "      <th>190</th>\n",
       "      <td>10069179</td>\n",
       "      <td>좋은 친구들(Confession)</td>\n",
       "      <td>20148745</td>\n",
       "    </tr>\n",
       "    <tr>\n",
       "      <th>191</th>\n",
       "      <td>10069179</td>\n",
       "      <td>결혼전야(Marriage Blue)</td>\n",
       "      <td>20136061</td>\n",
       "    </tr>\n",
       "    <tr>\n",
       "      <th>192</th>\n",
       "      <td>10069179</td>\n",
       "      <td>나는 왕이로소이다(I am the King)</td>\n",
       "      <td>20124080</td>\n",
       "    </tr>\n",
       "    <tr>\n",
       "      <th>193</th>\n",
       "      <td>10069179</td>\n",
       "      <td>키친(The Naked Kitchen)</td>\n",
       "      <td>20090022</td>\n",
       "    </tr>\n",
       "    <tr>\n",
       "      <th>194</th>\n",
       "      <td>10069179</td>\n",
       "      <td>서양 골동 양과자점 앤티크(Antique)</td>\n",
       "      <td>20080637</td>\n",
       "    </tr>\n",
       "  </tbody>\n",
       "</table>\n",
       "<p>195 rows × 3 columns</p>\n",
       "</div>"
      ],
      "text/plain": [
       "     actor_code                      movie_name  movie_code\n",
       "0      20201026             승리호(SPACE SWEEPERS)    20192662\n",
       "1      20201026                            외계+인    20208446\n",
       "2      20201026          리틀 포레스트(Little Forest)    20170841\n",
       "3      20201026  1987(1987: When the Day Comes)    20170590\n",
       "4      20201026             아가씨(The Handmaiden)    20144444\n",
       "..          ...                             ...         ...\n",
       "190    10069179              좋은 친구들(Confession)    20148745\n",
       "191    10069179             결혼전야(Marriage Blue)    20136061\n",
       "192    10069179        나는 왕이로소이다(I am the King)    20124080\n",
       "193    10069179           키친(The Naked Kitchen)    20090022\n",
       "194    10069179         서양 골동 양과자점 앤티크(Antique)    20080637\n",
       "\n",
       "[195 rows x 3 columns]"
      ]
     },
     "execution_count": 13,
     "metadata": {},
     "output_type": "execute_result"
    }
   ],
   "source": [
    "actor_movie = pd.read_csv(file_name_actor_movie, index_col=0)\n",
    "actor_movie"
   ]
  },
  {
   "cell_type": "code",
   "execution_count": 14,
   "id": "3de39a64",
   "metadata": {},
   "outputs": [
    {
     "data": {
      "text/plain": [
       "193"
      ]
     },
     "execution_count": 14,
     "metadata": {},
     "output_type": "execute_result"
    }
   ],
   "source": [
    "movie_code_list = list(set(actor_movie['movie_code']))\n",
    "len(movie_code_list)"
   ]
  },
  {
   "cell_type": "markdown",
   "id": "42ab84f6",
   "metadata": {},
   "source": [
    "### 영화 정보 수집\n",
    "위에서 가져온 영화 코드를 기준으로 영화의 최종 관람객수와 개봉일을 가져옴"
   ]
  },
  {
   "cell_type": "code",
   "execution_count": 15,
   "id": "5578e440",
   "metadata": {},
   "outputs": [],
   "source": [
    "def get_movie_info(movie_list):\n",
    "    columns = ['movie_code', 'release', 'acc_audience_num']\n",
    "    movie_info = pd.DataFrame(columns=columns)\n",
    "    \n",
    "    for i in range(len(movie_list)):\n",
    "        if i%30 == 0 and i != 0:\n",
    "            movie_info.to_csv(directory_movie_info+'movie_info_'+str(i)+'.csv', encoding='utf-8-sig')\n",
    "            movie_info = pd.DataFrame(columns=columns)\n",
    "            print(i)\n",
    "            \n",
    "        new_row = [movie_list[i]]\n",
    "        \n",
    "        driver.get(url)\n",
    "        driver.execute_script(\"mstView('movie','\"+str(movie_list[i])+\"')\")\n",
    "        \n",
    "        html = BeautifulSoup(driver.page_source, 'html.parser')\n",
    "        elem = html.find('dt', text='개봉일')\n",
    "        release = '해당정보없음' if elem is None else elem.find_next_sibling('dd').text.strip()\n",
    "\n",
    "        new_row.append(release)\n",
    "        \n",
    "        if release == '해당정보없음':\n",
    "            new_row.append(0)\n",
    "            movie_info = movie_info.append(pd.DataFrame([new_row], columns=columns), ignore_index=True)\n",
    "            continue\n",
    "        \n",
    "        driver.find_element(By.CSS_SELECTOR, \"div.wrap_tab.tab2 > ul.list_tab > li:nth-child(2) > a\").click()\n",
    "        driver.implicitly_wait(60)\n",
    "        \n",
    "        try:\n",
    "            acc_audience_num = driver.find_element(By.CSS_SELECTOR, \"div.item_tab.statistics > div:nth-child(1) > table > tbody > tr:nth-child(2) > td:nth-child(4)\").text\n",
    "            acc_audience_num = re.match(r'^([0-9].+)\\s\\(.+\\)$', acc_audience_num).group(1).replace(',', '')\n",
    "            new_row.append(int(acc_audience_num))\n",
    "        except Exception:\n",
    "            new_row.append(0)\n",
    "        \n",
    "        movie_info = movie_info.append(pd.DataFrame([new_row], columns=columns), ignore_index=True)\n",
    "        \n",
    "    return movie_info\n"
   ]
  },
  {
   "cell_type": "code",
   "execution_count": 16,
   "id": "e3bcbd24",
   "metadata": {
    "scrolled": true
   },
   "outputs": [
    {
     "name": "stdout",
     "output_type": "stream",
     "text": [
      "30\n",
      "60\n",
      "90\n",
      "120\n",
      "150\n",
      "180\n"
     ]
    }
   ],
   "source": [
    "movie_info = get_movie_info(movie_code_list)"
   ]
  },
  {
   "cell_type": "code",
   "execution_count": 17,
   "id": "890709f2",
   "metadata": {},
   "outputs": [],
   "source": [
    "movie_info.to_csv(directory_movie_info+'movie_info_'+str(len(movie_code_list))+'.csv', encoding='utf-8-sig')"
   ]
  },
  {
   "cell_type": "code",
   "execution_count": 18,
   "id": "cc5d9a28",
   "metadata": {},
   "outputs": [
    {
     "data": {
      "text/html": [
       "<div>\n",
       "<style scoped>\n",
       "    .dataframe tbody tr th:only-of-type {\n",
       "        vertical-align: middle;\n",
       "    }\n",
       "\n",
       "    .dataframe tbody tr th {\n",
       "        vertical-align: top;\n",
       "    }\n",
       "\n",
       "    .dataframe thead th {\n",
       "        text-align: right;\n",
       "    }\n",
       "</style>\n",
       "<table border=\"1\" class=\"dataframe\">\n",
       "  <thead>\n",
       "    <tr style=\"text-align: right;\">\n",
       "      <th></th>\n",
       "      <th>movie_code</th>\n",
       "      <th>release</th>\n",
       "      <th>acc_audience_num</th>\n",
       "    </tr>\n",
       "  </thead>\n",
       "  <tbody>\n",
       "    <tr>\n",
       "      <th>0</th>\n",
       "      <td>20196309</td>\n",
       "      <td>2019-07-02</td>\n",
       "      <td>8021064</td>\n",
       "    </tr>\n",
       "    <tr>\n",
       "      <th>1</th>\n",
       "      <td>20100056</td>\n",
       "      <td>해당정보없음</td>\n",
       "      <td>0</td>\n",
       "    </tr>\n",
       "    <tr>\n",
       "      <th>2</th>\n",
       "      <td>20119515</td>\n",
       "      <td>2011-07-20</td>\n",
       "      <td>2945137</td>\n",
       "    </tr>\n",
       "    <tr>\n",
       "      <th>3</th>\n",
       "      <td>20210140</td>\n",
       "      <td>해당정보없음</td>\n",
       "      <td>0</td>\n",
       "    </tr>\n",
       "    <tr>\n",
       "      <th>4</th>\n",
       "      <td>20110302</td>\n",
       "      <td>2011-08-10</td>\n",
       "      <td>7470633</td>\n",
       "    </tr>\n",
       "    <tr>\n",
       "      <th>5</th>\n",
       "      <td>20130783</td>\n",
       "      <td>2013-10-02</td>\n",
       "      <td>188084</td>\n",
       "    </tr>\n",
       "    <tr>\n",
       "      <th>6</th>\n",
       "      <td>20018147</td>\n",
       "      <td>해당정보없음</td>\n",
       "      <td>0</td>\n",
       "    </tr>\n",
       "    <tr>\n",
       "      <th>7</th>\n",
       "      <td>20060644</td>\n",
       "      <td>해당정보없음</td>\n",
       "      <td>0</td>\n",
       "    </tr>\n",
       "    <tr>\n",
       "      <th>8</th>\n",
       "      <td>20182001</td>\n",
       "      <td>2018-06-21</td>\n",
       "      <td>33229</td>\n",
       "    </tr>\n",
       "    <tr>\n",
       "      <th>9</th>\n",
       "      <td>19970036</td>\n",
       "      <td>1997-04-26</td>\n",
       "      <td>0</td>\n",
       "    </tr>\n",
       "    <tr>\n",
       "      <th>10</th>\n",
       "      <td>20219892</td>\n",
       "      <td>2021-09-15</td>\n",
       "      <td>11064</td>\n",
       "    </tr>\n",
       "    <tr>\n",
       "      <th>11</th>\n",
       "      <td>20080637</td>\n",
       "      <td>2008-11-13</td>\n",
       "      <td>1173310</td>\n",
       "    </tr>\n",
       "    <tr>\n",
       "      <th>12</th>\n",
       "      <td>19970047</td>\n",
       "      <td>1997-02-01</td>\n",
       "      <td>0</td>\n",
       "    </tr>\n",
       "  </tbody>\n",
       "</table>\n",
       "</div>"
      ],
      "text/plain": [
       "   movie_code     release acc_audience_num\n",
       "0    20196309  2019-07-02          8021064\n",
       "1    20100056      해당정보없음                0\n",
       "2    20119515  2011-07-20          2945137\n",
       "3    20210140      해당정보없음                0\n",
       "4    20110302  2011-08-10          7470633\n",
       "5    20130783  2013-10-02           188084\n",
       "6    20018147      해당정보없음                0\n",
       "7    20060644      해당정보없음                0\n",
       "8    20182001  2018-06-21            33229\n",
       "9    19970036  1997-04-26                0\n",
       "10   20219892  2021-09-15            11064\n",
       "11   20080637  2008-11-13          1173310\n",
       "12   19970047  1997-02-01                0"
      ]
     },
     "execution_count": 18,
     "metadata": {},
     "output_type": "execute_result"
    }
   ],
   "source": [
    "movie_info"
   ]
  },
  {
   "cell_type": "code",
   "execution_count": 19,
   "id": "ab4f6ae6",
   "metadata": {},
   "outputs": [],
   "source": [
    "import glob"
   ]
  },
  {
   "cell_type": "code",
   "execution_count": 20,
   "id": "08f66a35",
   "metadata": {},
   "outputs": [
    {
     "data": {
      "text/plain": [
       "7"
      ]
     },
     "execution_count": 20,
     "metadata": {},
     "output_type": "execute_result"
    }
   ],
   "source": [
    "file_list = glob.glob(directory_movie_info+'*')\n",
    "len(file_list)"
   ]
  },
  {
   "cell_type": "code",
   "execution_count": 21,
   "id": "1e294910",
   "metadata": {
    "scrolled": true
   },
   "outputs": [],
   "source": [
    "columns = list(pd.read_csv(file_list[0], index_col=0).columns)"
   ]
  },
  {
   "cell_type": "code",
   "execution_count": 22,
   "id": "7ce47bdf",
   "metadata": {},
   "outputs": [],
   "source": [
    "movie_info_total = pd.DataFrame(columns=columns)\n",
    "\n",
    "for file in file_list:\n",
    "    movie_info = pd.read_csv(file)\n",
    "    movie_info_total = movie_info_total.append(pd.DataFrame(movie_info, columns=columns), ignore_index=True)"
   ]
  },
  {
   "cell_type": "code",
   "execution_count": 23,
   "id": "92481aef",
   "metadata": {},
   "outputs": [],
   "source": [
    "movie_info_total.to_csv(file_name_movie_info_total, encoding='utf-8-sig')"
   ]
  },
  {
   "cell_type": "code",
   "execution_count": null,
   "id": "8797dba8",
   "metadata": {},
   "outputs": [],
   "source": []
  }
 ],
 "metadata": {
  "kernelspec": {
   "display_name": "Python 3 (ipykernel)",
   "language": "python",
   "name": "python3"
  },
  "language_info": {
   "codemirror_mode": {
    "name": "ipython",
    "version": 3
   },
   "file_extension": ".py",
   "mimetype": "text/x-python",
   "name": "python",
   "nbconvert_exporter": "python",
   "pygments_lexer": "ipython3",
   "version": "3.9.7"
  }
 },
 "nbformat": 4,
 "nbformat_minor": 5
}
