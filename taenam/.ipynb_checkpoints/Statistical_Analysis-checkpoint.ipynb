{
 "cells": [
  {
   "cell_type": "markdown",
   "metadata": {},
   "source": [
    "# Data\n",
    "- EDA & preprocess"
   ]
  },
  {
   "cell_type": "code",
   "execution_count": 1,
   "metadata": {
    "ExecuteTime": {
     "end_time": "2021-11-25T07:48:15.413719Z",
     "start_time": "2021-11-25T07:48:14.094097Z"
    }
   },
   "outputs": [],
   "source": [
    "import numpy as np\n",
    "import pandas as pd\n",
    "import seaborn as sns\n",
    "import matplotlib.pyplot as plt\n",
    "\n",
    "from scipy import stats\n",
    "\n",
    "# 정규성 검정\n",
    "from scipy.stats import norm\n",
    "from scipy.stats import shapiro\n",
    "\n",
    "import warnings\n",
    "warnings.filterwarnings('ignore')"
   ]
  },
  {
   "cell_type": "code",
   "execution_count": 2,
   "metadata": {
    "ExecuteTime": {
     "end_time": "2021-11-25T07:48:16.069917Z",
     "start_time": "2021-11-25T07:48:15.988722Z"
    }
   },
   "outputs": [],
   "source": [
    "data = pd.read_excel('C:/Users/User/Desktop/Viral_Effect/Analysis/taenam/Movie_Data.xlsx', encoding='cp949')\n",
    "data = data.iloc[:,1:]"
   ]
  },
  {
   "cell_type": "code",
   "execution_count": 3,
   "metadata": {
    "ExecuteTime": {
     "end_time": "2021-11-25T07:48:16.655349Z",
     "start_time": "2021-11-25T07:48:16.610382Z"
    }
   },
   "outputs": [
    {
     "data": {
      "text/html": [
       "<div>\n",
       "<style scoped>\n",
       "    .dataframe tbody tr th:only-of-type {\n",
       "        vertical-align: middle;\n",
       "    }\n",
       "\n",
       "    .dataframe tbody tr th {\n",
       "        vertical-align: top;\n",
       "    }\n",
       "\n",
       "    .dataframe thead th {\n",
       "        text-align: right;\n",
       "    }\n",
       "</style>\n",
       "<table border=\"1\" class=\"dataframe\">\n",
       "  <thead>\n",
       "    <tr style=\"text-align: right;\">\n",
       "      <th></th>\n",
       "      <th>movie_name</th>\n",
       "      <th>release</th>\n",
       "      <th>take</th>\n",
       "      <th>audience</th>\n",
       "      <th>nation</th>\n",
       "      <th>distribution_company</th>\n",
       "      <th>code</th>\n",
       "      <th>genre</th>\n",
       "      <th>kind</th>\n",
       "      <th>scale</th>\n",
       "      <th>running_time</th>\n",
       "      <th>age</th>\n",
       "      <th>actor</th>\n",
       "      <th>youtube_comment_count</th>\n",
       "      <th>youtube_view_sum</th>\n",
       "      <th>youtube_view_mean</th>\n",
       "      <th>mean_score</th>\n",
       "      <th>sqr_mean_score</th>\n",
       "      <th>abs_mean_score</th>\n",
       "      <th>actor_power</th>\n",
       "    </tr>\n",
       "  </thead>\n",
       "  <tbody>\n",
       "    <tr>\n",
       "      <th>0</th>\n",
       "      <td>극한직업</td>\n",
       "      <td>2019-01-23</td>\n",
       "      <td>139651845516</td>\n",
       "      <td>16265618</td>\n",
       "      <td>한국</td>\n",
       "      <td>(주)씨제이이엔엠</td>\n",
       "      <td>20182530</td>\n",
       "      <td>['코미디']</td>\n",
       "      <td>일반영화</td>\n",
       "      <td>장편</td>\n",
       "      <td>111분 0초</td>\n",
       "      <td>15세이상관람가</td>\n",
       "      <td>['류승룡', '이하늬', '진선규', '이동휘', '공명', '진선규', '홍은진']</td>\n",
       "      <td>9518</td>\n",
       "      <td>6169458</td>\n",
       "      <td>616945.8</td>\n",
       "      <td>0.423979</td>\n",
       "      <td>3.100996</td>\n",
       "      <td>1.019999</td>\n",
       "      <td>4.539712e+06</td>\n",
       "    </tr>\n",
       "    <tr>\n",
       "      <th>1</th>\n",
       "      <td>어벤져스: 엔드게임</td>\n",
       "      <td>2019-04-24</td>\n",
       "      <td>122182694160</td>\n",
       "      <td>13934592</td>\n",
       "      <td>미국</td>\n",
       "      <td>월트디즈니컴퍼니코리아 유한책임회사</td>\n",
       "      <td>20184889</td>\n",
       "      <td>['액션', 'SF']</td>\n",
       "      <td>일반영화</td>\n",
       "      <td>장편</td>\n",
       "      <td>180분 57초</td>\n",
       "      <td>12세이상관람가</td>\n",
       "      <td>['로버트 다우니 주니어', '크리스 에반스', '마크 러팔로', '크리스 헴스워스...</td>\n",
       "      <td>26299</td>\n",
       "      <td>30475747</td>\n",
       "      <td>3047574.7</td>\n",
       "      <td>-1.797502</td>\n",
       "      <td>16.775890</td>\n",
       "      <td>2.126920</td>\n",
       "      <td>9.367612e+06</td>\n",
       "    </tr>\n",
       "    <tr>\n",
       "      <th>2</th>\n",
       "      <td>겨울왕국 2</td>\n",
       "      <td>2019-11-21</td>\n",
       "      <td>229620842900</td>\n",
       "      <td>27495584</td>\n",
       "      <td>미국</td>\n",
       "      <td>월트디즈니컴퍼니코리아 유한책임회사</td>\n",
       "      <td>20197803</td>\n",
       "      <td>['애니메이션']</td>\n",
       "      <td>일반영화</td>\n",
       "      <td>장편</td>\n",
       "      <td>103분 4초</td>\n",
       "      <td>전체관람가</td>\n",
       "      <td>['크리스틴 벨', '이디나 멘젤', '조시 게드', '조나단 그로프']</td>\n",
       "      <td>20661</td>\n",
       "      <td>98141742</td>\n",
       "      <td>9814174.2</td>\n",
       "      <td>-0.396436</td>\n",
       "      <td>6.719689</td>\n",
       "      <td>1.154460</td>\n",
       "      <td>9.751492e+06</td>\n",
       "    </tr>\n",
       "    <tr>\n",
       "      <th>3</th>\n",
       "      <td>알라딘</td>\n",
       "      <td>2019-05-23</td>\n",
       "      <td>216321098078</td>\n",
       "      <td>25447554</td>\n",
       "      <td>미국</td>\n",
       "      <td>월트디즈니컴퍼니코리아 유한책임회사</td>\n",
       "      <td>20183867</td>\n",
       "      <td>['어드벤처', '가족', '판타지']</td>\n",
       "      <td>일반영화</td>\n",
       "      <td>장편</td>\n",
       "      <td>127분 48초</td>\n",
       "      <td>전체관람가</td>\n",
       "      <td>['메나 마수드', '윌 스미스', '나오미 스콧']</td>\n",
       "      <td>6934</td>\n",
       "      <td>48941252</td>\n",
       "      <td>4894125.2</td>\n",
       "      <td>-0.197228</td>\n",
       "      <td>12.235387</td>\n",
       "      <td>1.495438</td>\n",
       "      <td>6.752496e+06</td>\n",
       "    </tr>\n",
       "    <tr>\n",
       "      <th>4</th>\n",
       "      <td>기생충</td>\n",
       "      <td>2019-05-30</td>\n",
       "      <td>174921006190</td>\n",
       "      <td>20626290</td>\n",
       "      <td>한국</td>\n",
       "      <td>(주)씨제이이엔엠</td>\n",
       "      <td>20183782</td>\n",
       "      <td>['드라마']</td>\n",
       "      <td>일반영화</td>\n",
       "      <td>장편</td>\n",
       "      <td>131분 39초</td>\n",
       "      <td>15세이상관람가</td>\n",
       "      <td>['송강호', '이선균', '조여정', '최우식', '박소담', '이정은', '장혜...</td>\n",
       "      <td>10215</td>\n",
       "      <td>19744174</td>\n",
       "      <td>1974417.4</td>\n",
       "      <td>0.962721</td>\n",
       "      <td>11.748620</td>\n",
       "      <td>2.085190</td>\n",
       "      <td>5.109347e+06</td>\n",
       "    </tr>\n",
       "    <tr>\n",
       "      <th>...</th>\n",
       "      <td>...</td>\n",
       "      <td>...</td>\n",
       "      <td>...</td>\n",
       "      <td>...</td>\n",
       "      <td>...</td>\n",
       "      <td>...</td>\n",
       "      <td>...</td>\n",
       "      <td>...</td>\n",
       "      <td>...</td>\n",
       "      <td>...</td>\n",
       "      <td>...</td>\n",
       "      <td>...</td>\n",
       "      <td>...</td>\n",
       "      <td>...</td>\n",
       "      <td>...</td>\n",
       "      <td>...</td>\n",
       "      <td>...</td>\n",
       "      <td>...</td>\n",
       "      <td>...</td>\n",
       "      <td>...</td>\n",
       "    </tr>\n",
       "    <tr>\n",
       "      <th>89</th>\n",
       "      <td>프리즌 이스케이프</td>\n",
       "      <td>2020-05-06</td>\n",
       "      <td>1848297600</td>\n",
       "      <td>217056</td>\n",
       "      <td>영국</td>\n",
       "      <td>(주)이놀미디어</td>\n",
       "      <td>20207893</td>\n",
       "      <td>['어드벤처', '스릴러']</td>\n",
       "      <td>예술영화</td>\n",
       "      <td>장편</td>\n",
       "      <td>106분 16초</td>\n",
       "      <td>12세이상관람가</td>\n",
       "      <td>['다니엘 래드클리프', '이안 하트']</td>\n",
       "      <td>207</td>\n",
       "      <td>3479761</td>\n",
       "      <td>347976.1</td>\n",
       "      <td>0.201935</td>\n",
       "      <td>2.308607</td>\n",
       "      <td>0.791509</td>\n",
       "      <td>8.232217e+04</td>\n",
       "    </tr>\n",
       "    <tr>\n",
       "      <th>90</th>\n",
       "      <td>검객</td>\n",
       "      <td>2020-09-23</td>\n",
       "      <td>1619781870</td>\n",
       "      <td>190237</td>\n",
       "      <td>한국</td>\n",
       "      <td>(주)키위미디어그룹,오퍼스픽쳐스(유),(주)씨네필운</td>\n",
       "      <td>20178401</td>\n",
       "      <td>['액션']</td>\n",
       "      <td>일반영화</td>\n",
       "      <td>장편</td>\n",
       "      <td>100분 24초</td>\n",
       "      <td>15세이상관람가</td>\n",
       "      <td>['장혁', '김현수', '조 타슬림']</td>\n",
       "      <td>531</td>\n",
       "      <td>1976717</td>\n",
       "      <td>197671.7</td>\n",
       "      <td>-1.097571</td>\n",
       "      <td>41.793877</td>\n",
       "      <td>3.028084</td>\n",
       "      <td>1.902370e+05</td>\n",
       "    </tr>\n",
       "    <tr>\n",
       "      <th>91</th>\n",
       "      <td>조제</td>\n",
       "      <td>2020-12-10</td>\n",
       "      <td>1673427570</td>\n",
       "      <td>186647</td>\n",
       "      <td>한국</td>\n",
       "      <td>워너브러더스 코리아(주)</td>\n",
       "      <td>20201002</td>\n",
       "      <td>['멜로/로맨스', '드라마']</td>\n",
       "      <td>일반영화</td>\n",
       "      <td>장편</td>\n",
       "      <td>116분 51초</td>\n",
       "      <td>15세이상관람가</td>\n",
       "      <td>['한지민', '남주혁']</td>\n",
       "      <td>1132</td>\n",
       "      <td>602745</td>\n",
       "      <td>60274.5</td>\n",
       "      <td>0.320022</td>\n",
       "      <td>15.378775</td>\n",
       "      <td>2.439042</td>\n",
       "      <td>1.335327e+06</td>\n",
       "    </tr>\n",
       "    <tr>\n",
       "      <th>92</th>\n",
       "      <td>사라진 시간</td>\n",
       "      <td>2020-06-18</td>\n",
       "      <td>1652522580</td>\n",
       "      <td>185802</td>\n",
       "      <td>한국</td>\n",
       "      <td>(주)에이스메이커무비웍스</td>\n",
       "      <td>20193859</td>\n",
       "      <td>['미스터리', '드라마']</td>\n",
       "      <td>일반영화</td>\n",
       "      <td>장편</td>\n",
       "      <td>104분 38초</td>\n",
       "      <td>15세이상관람가</td>\n",
       "      <td>['조진웅', '배수빈', '정해균', '차수연']</td>\n",
       "      <td>780</td>\n",
       "      <td>479967</td>\n",
       "      <td>47996.7</td>\n",
       "      <td>2.605052</td>\n",
       "      <td>29.338148</td>\n",
       "      <td>3.225536</td>\n",
       "      <td>1.872178e+06</td>\n",
       "    </tr>\n",
       "    <tr>\n",
       "      <th>93</th>\n",
       "      <td>밤쉘: 세상을 바꾼 폭탄선언</td>\n",
       "      <td>2020-07-08</td>\n",
       "      <td>1544025340</td>\n",
       "      <td>182026</td>\n",
       "      <td>미국</td>\n",
       "      <td>(주)홈초이스</td>\n",
       "      <td>20204644</td>\n",
       "      <td>['드라마']</td>\n",
       "      <td>예술영화</td>\n",
       "      <td>장편</td>\n",
       "      <td>108분 51초</td>\n",
       "      <td>15세이상관람가</td>\n",
       "      <td>['샤를리즈 테론', '니콜 키드먼', '마고 로비']</td>\n",
       "      <td>142</td>\n",
       "      <td>79679</td>\n",
       "      <td>7967.9</td>\n",
       "      <td>-0.482656</td>\n",
       "      <td>67.923844</td>\n",
       "      <td>4.372499</td>\n",
       "      <td>5.237502e+05</td>\n",
       "    </tr>\n",
       "  </tbody>\n",
       "</table>\n",
       "<p>94 rows × 20 columns</p>\n",
       "</div>"
      ],
      "text/plain": [
       "         movie_name    release          take  audience nation  \\\n",
       "0              극한직업 2019-01-23  139651845516  16265618     한국   \n",
       "1        어벤져스: 엔드게임 2019-04-24  122182694160  13934592     미국   \n",
       "2            겨울왕국 2 2019-11-21  229620842900  27495584     미국   \n",
       "3               알라딘 2019-05-23  216321098078  25447554     미국   \n",
       "4               기생충 2019-05-30  174921006190  20626290     한국   \n",
       "..              ...        ...           ...       ...    ...   \n",
       "89        프리즌 이스케이프 2020-05-06    1848297600    217056     영국   \n",
       "90               검객 2020-09-23    1619781870    190237     한국   \n",
       "91               조제 2020-12-10    1673427570    186647     한국   \n",
       "92           사라진 시간 2020-06-18    1652522580    185802     한국   \n",
       "93  밤쉘: 세상을 바꾼 폭탄선언 2020-07-08    1544025340    182026     미국   \n",
       "\n",
       "            distribution_company      code                  genre  kind scale  \\\n",
       "0                      (주)씨제이이엔엠  20182530                ['코미디']  일반영화    장편   \n",
       "1             월트디즈니컴퍼니코리아 유한책임회사  20184889           ['액션', 'SF']  일반영화    장편   \n",
       "2             월트디즈니컴퍼니코리아 유한책임회사  20197803              ['애니메이션']  일반영화    장편   \n",
       "3             월트디즈니컴퍼니코리아 유한책임회사  20183867  ['어드벤처', '가족', '판타지']  일반영화    장편   \n",
       "4                      (주)씨제이이엔엠  20183782                ['드라마']  일반영화    장편   \n",
       "..                           ...       ...                    ...   ...   ...   \n",
       "89                      (주)이놀미디어  20207893        ['어드벤처', '스릴러']  예술영화    장편   \n",
       "90  (주)키위미디어그룹,오퍼스픽쳐스(유),(주)씨네필운  20178401                 ['액션']  일반영화    장편   \n",
       "91                 워너브러더스 코리아(주)  20201002      ['멜로/로맨스', '드라마']  일반영화    장편   \n",
       "92                 (주)에이스메이커무비웍스  20193859        ['미스터리', '드라마']  일반영화    장편   \n",
       "93                       (주)홈초이스  20204644                ['드라마']  예술영화    장편   \n",
       "\n",
       "   running_time       age                                              actor  \\\n",
       "0       111분 0초  15세이상관람가   ['류승룡', '이하늬', '진선규', '이동휘', '공명', '진선규', '홍은진']   \n",
       "1      180분 57초  12세이상관람가  ['로버트 다우니 주니어', '크리스 에반스', '마크 러팔로', '크리스 헴스워스...   \n",
       "2       103분 4초     전체관람가           ['크리스틴 벨', '이디나 멘젤', '조시 게드', '조나단 그로프']   \n",
       "3      127분 48초     전체관람가                      ['메나 마수드', '윌 스미스', '나오미 스콧']   \n",
       "4      131분 39초  15세이상관람가  ['송강호', '이선균', '조여정', '최우식', '박소담', '이정은', '장혜...   \n",
       "..          ...       ...                                                ...   \n",
       "89     106분 16초  12세이상관람가                             ['다니엘 래드클리프', '이안 하트']   \n",
       "90     100분 24초  15세이상관람가                             ['장혁', '김현수', '조 타슬림']   \n",
       "91     116분 51초  15세이상관람가                                     ['한지민', '남주혁']   \n",
       "92     104분 38초  15세이상관람가                       ['조진웅', '배수빈', '정해균', '차수연']   \n",
       "93     108분 51초  15세이상관람가                     ['샤를리즈 테론', '니콜 키드먼', '마고 로비']   \n",
       "\n",
       "    youtube_comment_count  youtube_view_sum  youtube_view_mean  mean_score  \\\n",
       "0                    9518           6169458           616945.8    0.423979   \n",
       "1                   26299          30475747          3047574.7   -1.797502   \n",
       "2                   20661          98141742          9814174.2   -0.396436   \n",
       "3                    6934          48941252          4894125.2   -0.197228   \n",
       "4                   10215          19744174          1974417.4    0.962721   \n",
       "..                    ...               ...                ...         ...   \n",
       "89                    207           3479761           347976.1    0.201935   \n",
       "90                    531           1976717           197671.7   -1.097571   \n",
       "91                   1132            602745            60274.5    0.320022   \n",
       "92                    780            479967            47996.7    2.605052   \n",
       "93                    142             79679             7967.9   -0.482656   \n",
       "\n",
       "    sqr_mean_score  abs_mean_score   actor_power  \n",
       "0         3.100996        1.019999  4.539712e+06  \n",
       "1        16.775890        2.126920  9.367612e+06  \n",
       "2         6.719689        1.154460  9.751492e+06  \n",
       "3        12.235387        1.495438  6.752496e+06  \n",
       "4        11.748620        2.085190  5.109347e+06  \n",
       "..             ...             ...           ...  \n",
       "89        2.308607        0.791509  8.232217e+04  \n",
       "90       41.793877        3.028084  1.902370e+05  \n",
       "91       15.378775        2.439042  1.335327e+06  \n",
       "92       29.338148        3.225536  1.872178e+06  \n",
       "93       67.923844        4.372499  5.237502e+05  \n",
       "\n",
       "[94 rows x 20 columns]"
      ]
     },
     "execution_count": 3,
     "metadata": {},
     "output_type": "execute_result"
    }
   ],
   "source": [
    "data"
   ]
  },
  {
   "cell_type": "markdown",
   "metadata": {},
   "source": [
    "# EDA\n",
    "- 각 Feature에 대한 설명, 단위 등도 작성\n",
    "\n",
    "> Feature\n",
    "- movie_name : 영화명\n",
    "- release : 개봉일\n",
    "- take : 수익(매출액)\n",
    "- audience : 관객수\n",
    "- nation : 대표국가\n",
    "- distribution_company : 배급사\n",
    "- code : KOBIS 기준 영화 코드\n",
    "- genre : 장르\n",
    "- kind : 영화종류 (일반영화 | 예술영화 | 예술,독립영화)\n",
    "- scale : 장편 | 단편\n",
    "- running_time : 상영시간 \n",
    "- age : 연령\n",
    "- actor : 주연배우\n",
    "- youtube_comment_count : 영화 관련 유튜브 컨텐츠 댓글 수\n",
    "- youtube_view_sum : 영화 관련 유튜브 컨텐츠 조회수 합\n",
    "- youtube_view_mean : 영화 관련 유튜브 컨텐츠 조회수 평균\n",
    "- mean_score : 댓글감성분석 score 평균\n",
    "- sqr_mean_score : 댓글감성분석 score 제곱 평균\n",
    "- abs_mean_score : 댓글감성분석 score 절댓값 평균\n",
    "- actor_power : 주연배우 2명의 영화 이전 3년간 영화 관객수 평균"
   ]
  },
  {
   "cell_type": "markdown",
   "metadata": {},
   "source": [
    "## DataFrame\n",
    "- 전체적인 DataFrame 확인 후 columns selection\n",
    "\n",
    "> columns selection (remove)\n",
    "- release : 모델링할 때 제외\n",
    "- take : 매출액을 가지고 관객수를 예측하는 건 이상함 -> 종속변수로 사용할 수 있을 듯\n",
    "- code : 영화 가져오려고 사용한 코드\n",
    "- kind : 거의 다 일반영화 (91/94)\n",
    "- scale : 모두 장편영화\n",
    "- actor : actor -> actor_power\n",
    "- youtube_view_sum : youtube_view_mean 선택\n",
    "- mean_score : abs_mean_score 선택\n",
    "- sqr_mean_score : abs_mean_score 선택"
   ]
  },
  {
   "cell_type": "markdown",
   "metadata": {},
   "source": [
    "### Check"
   ]
  },
  {
   "cell_type": "code",
   "execution_count": 4,
   "metadata": {
    "ExecuteTime": {
     "end_time": "2021-11-25T07:48:22.060214Z",
     "start_time": "2021-11-25T07:48:22.050683Z"
    }
   },
   "outputs": [
    {
     "data": {
      "text/plain": [
       "(94, 20)"
      ]
     },
     "execution_count": 4,
     "metadata": {},
     "output_type": "execute_result"
    }
   ],
   "source": [
    "data.shape"
   ]
  },
  {
   "cell_type": "code",
   "execution_count": 5,
   "metadata": {
    "ExecuteTime": {
     "end_time": "2021-11-25T07:48:22.589171Z",
     "start_time": "2021-11-25T07:48:22.583175Z"
    },
    "scrolled": true
   },
   "outputs": [
    {
     "name": "stdout",
     "output_type": "stream",
     "text": [
      "Index(['movie_name', 'release', 'take', 'audience', 'nation',\n",
      "       'distribution_company', 'code', 'genre', 'kind', 'scale',\n",
      "       'running_time', 'age', 'actor', 'youtube_comment_count',\n",
      "       'youtube_view_sum', 'youtube_view_mean', 'mean_score', 'sqr_mean_score',\n",
      "       'abs_mean_score', 'actor_power'],\n",
      "      dtype='object')\n",
      "20\n"
     ]
    }
   ],
   "source": [
    "print(data.columns)\n",
    "print(len(data.columns))"
   ]
  },
  {
   "cell_type": "code",
   "execution_count": 6,
   "metadata": {
    "ExecuteTime": {
     "end_time": "2021-11-25T07:48:24.859721Z",
     "start_time": "2021-11-25T07:48:24.848751Z"
    }
   },
   "outputs": [
    {
     "name": "stdout",
     "output_type": "stream",
     "text": [
      "<class 'pandas.core.frame.DataFrame'>\n",
      "RangeIndex: 94 entries, 0 to 93\n",
      "Data columns (total 20 columns):\n",
      " #   Column                 Non-Null Count  Dtype         \n",
      "---  ------                 --------------  -----         \n",
      " 0   movie_name             94 non-null     object        \n",
      " 1   release                94 non-null     datetime64[ns]\n",
      " 2   take                   94 non-null     int64         \n",
      " 3   audience               94 non-null     int64         \n",
      " 4   nation                 94 non-null     object        \n",
      " 5   distribution_company   94 non-null     object        \n",
      " 6   code                   94 non-null     int64         \n",
      " 7   genre                  94 non-null     object        \n",
      " 8   kind                   94 non-null     object        \n",
      " 9   scale                  94 non-null     object        \n",
      " 10  running_time           94 non-null     object        \n",
      " 11  age                    94 non-null     object        \n",
      " 12  actor                  94 non-null     object        \n",
      " 13  youtube_comment_count  94 non-null     int64         \n",
      " 14  youtube_view_sum       94 non-null     int64         \n",
      " 15  youtube_view_mean      94 non-null     float64       \n",
      " 16  mean_score             94 non-null     float64       \n",
      " 17  sqr_mean_score         94 non-null     float64       \n",
      " 18  abs_mean_score         94 non-null     float64       \n",
      " 19  actor_power            94 non-null     float64       \n",
      "dtypes: datetime64[ns](1), float64(5), int64(5), object(9)\n",
      "memory usage: 14.8+ KB\n"
     ]
    }
   ],
   "source": [
    "data.info()"
   ]
  },
  {
   "cell_type": "code",
   "execution_count": 7,
   "metadata": {
    "ExecuteTime": {
     "end_time": "2021-11-25T07:48:27.230756Z",
     "start_time": "2021-11-25T07:48:27.218728Z"
    }
   },
   "outputs": [
    {
     "data": {
      "text/plain": [
       "movie_name               0\n",
       "release                  0\n",
       "take                     0\n",
       "audience                 0\n",
       "nation                   0\n",
       "distribution_company     0\n",
       "code                     0\n",
       "genre                    0\n",
       "kind                     0\n",
       "scale                    0\n",
       "running_time             0\n",
       "age                      0\n",
       "actor                    0\n",
       "youtube_comment_count    0\n",
       "youtube_view_sum         0\n",
       "youtube_view_mean        0\n",
       "mean_score               0\n",
       "sqr_mean_score           0\n",
       "abs_mean_score           0\n",
       "actor_power              0\n",
       "dtype: int64"
      ]
     },
     "execution_count": 7,
     "metadata": {},
     "output_type": "execute_result"
    }
   ],
   "source": [
    "# 결측값 없음\n",
    "data.isnull().sum()"
   ]
  },
  {
   "cell_type": "code",
   "execution_count": 8,
   "metadata": {
    "ExecuteTime": {
     "end_time": "2021-11-25T07:48:28.293170Z",
     "start_time": "2021-11-25T07:48:28.248258Z"
    }
   },
   "outputs": [
    {
     "data": {
      "text/html": [
       "<div>\n",
       "<style scoped>\n",
       "    .dataframe tbody tr th:only-of-type {\n",
       "        vertical-align: middle;\n",
       "    }\n",
       "\n",
       "    .dataframe tbody tr th {\n",
       "        vertical-align: top;\n",
       "    }\n",
       "\n",
       "    .dataframe thead th {\n",
       "        text-align: right;\n",
       "    }\n",
       "</style>\n",
       "<table border=\"1\" class=\"dataframe\">\n",
       "  <thead>\n",
       "    <tr style=\"text-align: right;\">\n",
       "      <th></th>\n",
       "      <th>take</th>\n",
       "      <th>audience</th>\n",
       "      <th>code</th>\n",
       "      <th>youtube_comment_count</th>\n",
       "      <th>youtube_view_sum</th>\n",
       "      <th>youtube_view_mean</th>\n",
       "      <th>mean_score</th>\n",
       "      <th>sqr_mean_score</th>\n",
       "      <th>abs_mean_score</th>\n",
       "      <th>actor_power</th>\n",
       "    </tr>\n",
       "  </thead>\n",
       "  <tbody>\n",
       "    <tr>\n",
       "      <th>count</th>\n",
       "      <td>9.400000e+01</td>\n",
       "      <td>9.400000e+01</td>\n",
       "      <td>9.400000e+01</td>\n",
       "      <td>94.000000</td>\n",
       "      <td>9.400000e+01</td>\n",
       "      <td>9.400000e+01</td>\n",
       "      <td>94.000000</td>\n",
       "      <td>94.000000</td>\n",
       "      <td>94.000000</td>\n",
       "      <td>9.400000e+01</td>\n",
       "    </tr>\n",
       "    <tr>\n",
       "      <th>mean</th>\n",
       "      <td>2.591510e+10</td>\n",
       "      <td>3.040029e+06</td>\n",
       "      <td>2.019011e+07</td>\n",
       "      <td>3610.106383</td>\n",
       "      <td>4.843645e+06</td>\n",
       "      <td>4.843645e+05</td>\n",
       "      <td>-0.139490</td>\n",
       "      <td>35.293510</td>\n",
       "      <td>2.545502</td>\n",
       "      <td>2.191564e+06</td>\n",
       "    </tr>\n",
       "    <tr>\n",
       "      <th>std</th>\n",
       "      <td>4.194569e+10</td>\n",
       "      <td>4.944617e+06</td>\n",
       "      <td>7.392603e+03</td>\n",
       "      <td>4769.085268</td>\n",
       "      <td>1.249800e+07</td>\n",
       "      <td>1.249800e+06</td>\n",
       "      <td>2.124647</td>\n",
       "      <td>53.752887</td>\n",
       "      <td>1.271184</td>\n",
       "      <td>1.850791e+06</td>\n",
       "    </tr>\n",
       "    <tr>\n",
       "      <th>min</th>\n",
       "      <td>1.544025e+09</td>\n",
       "      <td>1.820260e+05</td>\n",
       "      <td>2.017577e+07</td>\n",
       "      <td>63.000000</td>\n",
       "      <td>7.967900e+04</td>\n",
       "      <td>7.967900e+03</td>\n",
       "      <td>-7.404132</td>\n",
       "      <td>2.265150</td>\n",
       "      <td>0.444444</td>\n",
       "      <td>8.232217e+04</td>\n",
       "    </tr>\n",
       "    <tr>\n",
       "      <th>25%</th>\n",
       "      <td>5.878552e+09</td>\n",
       "      <td>6.779418e+05</td>\n",
       "      <td>2.018406e+07</td>\n",
       "      <td>689.750000</td>\n",
       "      <td>5.226735e+05</td>\n",
       "      <td>5.226735e+04</td>\n",
       "      <td>-1.380297</td>\n",
       "      <td>8.894974</td>\n",
       "      <td>1.682838</td>\n",
       "      <td>9.640234e+05</td>\n",
       "    </tr>\n",
       "    <tr>\n",
       "      <th>50%</th>\n",
       "      <td>1.272053e+10</td>\n",
       "      <td>1.515718e+06</td>\n",
       "      <td>2.019132e+07</td>\n",
       "      <td>1286.000000</td>\n",
       "      <td>1.580328e+06</td>\n",
       "      <td>1.580328e+05</td>\n",
       "      <td>-0.203720</td>\n",
       "      <td>16.724306</td>\n",
       "      <td>2.210856</td>\n",
       "      <td>1.550275e+06</td>\n",
       "    </tr>\n",
       "    <tr>\n",
       "      <th>75%</th>\n",
       "      <td>2.297960e+10</td>\n",
       "      <td>2.743345e+06</td>\n",
       "      <td>2.019630e+07</td>\n",
       "      <td>5255.250000</td>\n",
       "      <td>3.760153e+06</td>\n",
       "      <td>3.760153e+05</td>\n",
       "      <td>0.904702</td>\n",
       "      <td>41.050000</td>\n",
       "      <td>3.172481</td>\n",
       "      <td>2.800744e+06</td>\n",
       "    </tr>\n",
       "    <tr>\n",
       "      <th>max</th>\n",
       "      <td>2.296208e+11</td>\n",
       "      <td>2.749558e+07</td>\n",
       "      <td>2.020789e+07</td>\n",
       "      <td>26299.000000</td>\n",
       "      <td>9.814174e+07</td>\n",
       "      <td>9.814174e+06</td>\n",
       "      <td>5.900385</td>\n",
       "      <td>342.291801</td>\n",
       "      <td>7.463804</td>\n",
       "      <td>9.751492e+06</td>\n",
       "    </tr>\n",
       "  </tbody>\n",
       "</table>\n",
       "</div>"
      ],
      "text/plain": [
       "               take      audience          code  youtube_comment_count  \\\n",
       "count  9.400000e+01  9.400000e+01  9.400000e+01              94.000000   \n",
       "mean   2.591510e+10  3.040029e+06  2.019011e+07            3610.106383   \n",
       "std    4.194569e+10  4.944617e+06  7.392603e+03            4769.085268   \n",
       "min    1.544025e+09  1.820260e+05  2.017577e+07              63.000000   \n",
       "25%    5.878552e+09  6.779418e+05  2.018406e+07             689.750000   \n",
       "50%    1.272053e+10  1.515718e+06  2.019132e+07            1286.000000   \n",
       "75%    2.297960e+10  2.743345e+06  2.019630e+07            5255.250000   \n",
       "max    2.296208e+11  2.749558e+07  2.020789e+07           26299.000000   \n",
       "\n",
       "       youtube_view_sum  youtube_view_mean  mean_score  sqr_mean_score  \\\n",
       "count      9.400000e+01       9.400000e+01   94.000000       94.000000   \n",
       "mean       4.843645e+06       4.843645e+05   -0.139490       35.293510   \n",
       "std        1.249800e+07       1.249800e+06    2.124647       53.752887   \n",
       "min        7.967900e+04       7.967900e+03   -7.404132        2.265150   \n",
       "25%        5.226735e+05       5.226735e+04   -1.380297        8.894974   \n",
       "50%        1.580328e+06       1.580328e+05   -0.203720       16.724306   \n",
       "75%        3.760153e+06       3.760153e+05    0.904702       41.050000   \n",
       "max        9.814174e+07       9.814174e+06    5.900385      342.291801   \n",
       "\n",
       "       abs_mean_score   actor_power  \n",
       "count       94.000000  9.400000e+01  \n",
       "mean         2.545502  2.191564e+06  \n",
       "std          1.271184  1.850791e+06  \n",
       "min          0.444444  8.232217e+04  \n",
       "25%          1.682838  9.640234e+05  \n",
       "50%          2.210856  1.550275e+06  \n",
       "75%          3.172481  2.800744e+06  \n",
       "max          7.463804  9.751492e+06  "
      ]
     },
     "execution_count": 8,
     "metadata": {},
     "output_type": "execute_result"
    }
   ],
   "source": [
    "# 수치형 데이터만 나옴\n",
    "data.describe()"
   ]
  },
  {
   "cell_type": "markdown",
   "metadata": {},
   "source": [
    "### Select columns"
   ]
  },
  {
   "cell_type": "code",
   "execution_count": 9,
   "metadata": {
    "ExecuteTime": {
     "end_time": "2021-11-25T07:48:30.846425Z",
     "start_time": "2021-11-25T07:48:30.837387Z"
    }
   },
   "outputs": [
    {
     "name": "stdout",
     "output_type": "stream",
     "text": [
      "9\n"
     ]
    }
   ],
   "source": [
    "# columns 제거\n",
    "colums_rm = ['release', 'take', 'code', 'kind', 'scale', 'actor', 'youtube_view_sum', 'mean_score', 'sqr_mean_score']\n",
    "print(len(colums_rm))\n",
    "def remove_columns(movie_df):\n",
    "    col = list(movie_df.columns)\n",
    "    for i in colums_rm:\n",
    "        col.remove(i)\n",
    "    movie_df = movie_df.loc[:, col]\n",
    "    \n",
    "    return movie_df"
   ]
  },
  {
   "cell_type": "code",
   "execution_count": 10,
   "metadata": {
    "ExecuteTime": {
     "end_time": "2021-11-25T07:48:32.669604Z",
     "start_time": "2021-11-25T07:48:32.665475Z"
    }
   },
   "outputs": [],
   "source": [
    "data = remove_columns(data)"
   ]
  },
  {
   "cell_type": "code",
   "execution_count": 11,
   "metadata": {
    "ExecuteTime": {
     "end_time": "2021-11-25T07:48:33.398632Z",
     "start_time": "2021-11-25T07:48:33.392640Z"
    }
   },
   "outputs": [
    {
     "data": {
      "text/plain": [
       "(94, 11)"
      ]
     },
     "execution_count": 11,
     "metadata": {},
     "output_type": "execute_result"
    }
   ],
   "source": [
    "data.shape"
   ]
  },
  {
   "cell_type": "markdown",
   "metadata": {},
   "source": [
    "## Feature"
   ]
  },
  {
   "cell_type": "code",
   "execution_count": 12,
   "metadata": {
    "ExecuteTime": {
     "end_time": "2021-11-25T07:48:34.843262Z",
     "start_time": "2021-11-25T07:48:34.839263Z"
    }
   },
   "outputs": [
    {
     "name": "stdout",
     "output_type": "stream",
     "text": [
      "Index(['movie_name', 'audience', 'nation', 'distribution_company', 'genre',\n",
      "       'running_time', 'age', 'youtube_comment_count', 'youtube_view_mean',\n",
      "       'abs_mean_score', 'actor_power'],\n",
      "      dtype='object')\n",
      "11\n"
     ]
    }
   ],
   "source": [
    "print(data.columns)\n",
    "print(len(data.columns))"
   ]
  },
  {
   "cell_type": "markdown",
   "metadata": {},
   "source": [
    "### Audiences(관객수)\n",
    "-> transformation 무조건 해야할 듯"
   ]
  },
  {
   "cell_type": "code",
   "execution_count": 13,
   "metadata": {
    "ExecuteTime": {
     "end_time": "2021-11-25T07:48:37.213324Z",
     "start_time": "2021-11-25T07:48:37.209326Z"
    }
   },
   "outputs": [],
   "source": [
    "# 과학적 표기법(지수표현식)으로 나와서 설정 변경\n",
    "pd.options.display.float_format = '{:.1f}'.format"
   ]
  },
  {
   "cell_type": "code",
   "execution_count": 14,
   "metadata": {
    "ExecuteTime": {
     "end_time": "2021-11-25T07:48:37.559844Z",
     "start_time": "2021-11-25T07:48:37.551844Z"
    }
   },
   "outputs": [
    {
     "data": {
      "text/plain": [
       "count         94.0\n",
       "mean     3040028.6\n",
       "std      4944616.6\n",
       "min       182026.0\n",
       "25%       677941.8\n",
       "50%      1515718.0\n",
       "75%      2743344.8\n",
       "max     27495584.0\n",
       "Name: audience, dtype: float64"
      ]
     },
     "execution_count": 14,
     "metadata": {},
     "output_type": "execute_result"
    }
   ],
   "source": [
    "data['audience'].describe()"
   ]
  },
  {
   "cell_type": "code",
   "execution_count": 15,
   "metadata": {
    "ExecuteTime": {
     "end_time": "2021-11-25T07:48:38.357772Z",
     "start_time": "2021-11-25T07:48:38.178774Z"
    }
   },
   "outputs": [
    {
     "data": {
      "image/png": "[encoded data removed]",
      "text/plain": [
       "<Figure size 432x288 with 1 Axes>"
      ]
     },
     "metadata": {
      "needs_background": "light"
     },
     "output_type": "display_data"
    }
   ],
   "source": [
    "# ad : audiences\n",
    "ad_plot = sns.distplot(data['audience'])\n",
    "plt.show()"
   ]
  },
  {
   "cell_type": "code",
   "execution_count": 16,
   "metadata": {
    "ExecuteTime": {
     "end_time": "2021-11-25T07:48:38.624827Z",
     "start_time": "2021-11-25T07:48:38.455738Z"
    },
    "scrolled": true
   },
   "outputs": [
    {
     "data": {
      "image/png": "[encoded data removed]",
      "text/plain": [
       "<Figure size 432x288 with 1 Axes>"
      ]
     },
     "metadata": {
      "needs_background": "light"
     },
     "output_type": "display_data"
    }
   ],
   "source": [
    "fig, ax = plt.subplots()\n",
    "fig = data['audience'].hist(ax=ax)\n",
    "plt.show()"
   ]
  },
  {
   "cell_type": "code",
   "execution_count": 17,
   "metadata": {
    "ExecuteTime": {
     "end_time": "2021-11-25T07:48:38.975197Z",
     "start_time": "2021-11-25T07:48:38.863793Z"
    }
   },
   "outputs": [
    {
     "data": {
      "text/plain": [
       "<matplotlib.axes._subplots.AxesSubplot at 0x2621ccf0670>"
      ]
     },
     "execution_count": 17,
     "metadata": {},
     "output_type": "execute_result"
    },
    {
     "data": {
      "image/png": "[encoded data removed]",
      "text/plain": [
       "<Figure size 432x288 with 1 Axes>"
      ]
     },
     "metadata": {
      "needs_background": "light"
     },
     "output_type": "display_data"
    }
   ],
   "source": [
    "sns.boxplot('audience', data = data)"
   ]
  },
  {
   "cell_type": "code",
   "execution_count": 18,
   "metadata": {
    "ExecuteTime": {
     "end_time": "2021-11-25T07:48:39.236157Z",
     "start_time": "2021-11-25T07:48:39.230160Z"
    }
   },
   "outputs": [
    {
     "name": "stdout",
     "output_type": "stream",
     "text": [
      "Skewness: 3.380230\n",
      "Kurtosis: 12.003974\n"
     ]
    }
   ],
   "source": [
    "# skewness and kurtosis\n",
    "# skewness(왜도) : 절댓값 3미만이면 치우침의 정도가 크지 않다고 판단\n",
    "# kurtosis(첨도) : 절댓값 10미만이면 괜찮다고 판단\n",
    "print(\"Skewness: %f\" % data['audience'].skew())\n",
    "print(\"Kurtosis: %f\" % data['audience'].kurt())"
   ]
  },
  {
   "cell_type": "code",
   "execution_count": 19,
   "metadata": {
    "ExecuteTime": {
     "end_time": "2021-11-25T07:48:40.040969Z",
     "start_time": "2021-11-25T07:48:39.614794Z"
    }
   },
   "outputs": [
    {
     "data": {
      "image/png": "[encoded data removed]",
      "text/plain": [
       "<Figure size 432x288 with 1 Axes>"
      ]
     },
     "metadata": {
      "needs_background": "light"
     },
     "output_type": "display_data"
    }
   ],
   "source": [
    "# 정규분포 곡선 그리기\n",
    "sns.distplot(data['audience'], fit = norm) \n",
    "(mu, sigma) = norm.fit(data['audience'])\n",
    "\n",
    "plt.title('Audience distribution')\n",
    "plt.ylabel('count')\n",
    "plt.legend(['Normal dist. ( $\\mu=$ {:.2f} and $\\sigma$= {:.2f} )'.format(mu, sigma)],\n",
    "           loc='best')\n",
    "plt.show()"
   ]
  },
  {
   "cell_type": "code",
   "execution_count": 20,
   "metadata": {
    "ExecuteTime": {
     "end_time": "2021-11-25T07:48:40.263970Z",
     "start_time": "2021-11-25T07:48:40.116940Z"
    }
   },
   "outputs": [
    {
     "data": {
      "image/png": "[encoded data removed]",
      "text/plain": [
       "<Figure size 432x288 with 1 Axes>"
      ]
     },
     "metadata": {
      "needs_background": "light"
     },
     "output_type": "display_data"
    }
   ],
   "source": [
    "# QQ plot\n",
    "\n",
    "fig = plt.figure()\n",
    "stats.probplot(data['audience'], plot = plt)\n",
    "plt.show()"
   ]
  },
  {
   "cell_type": "code",
   "execution_count": 21,
   "metadata": {
    "ExecuteTime": {
     "end_time": "2021-11-25T07:48:40.484942Z",
     "start_time": "2021-11-25T07:48:40.479984Z"
    }
   },
   "outputs": [
    {
     "name": "stdout",
     "output_type": "stream",
     "text": [
      "p :  1.0351823641246483e-15 \t SalePrice does not look Gaussian (reject H0)\n"
     ]
    }
   ],
   "source": [
    "# shapiro test\n",
    "stat, p = shapiro(data['audience'])\n",
    "\n",
    "# interpret\n",
    "alpha = 0.05\n",
    "if p > alpha:\n",
    "    print('p : ', p, '\\t SalePrice looks Gaussian (fail to reject H0)')\n",
    "else:\n",
    "    print('p : ', p, '\\t SalePrice does not look Gaussian (reject H0)')"
   ]
  },
  {
   "cell_type": "markdown",
   "metadata": {},
   "source": [
    "#### Log transformation"
   ]
  },
  {
   "cell_type": "code",
   "execution_count": 22,
   "metadata": {
    "ExecuteTime": {
     "end_time": "2021-11-25T07:48:42.467248Z",
     "start_time": "2021-11-25T07:48:42.436171Z"
    }
   },
   "outputs": [
    {
     "data": {
      "text/html": [
       "<div>\n",
       "<style scoped>\n",
       "    .dataframe tbody tr th:only-of-type {\n",
       "        vertical-align: middle;\n",
       "    }\n",
       "\n",
       "    .dataframe tbody tr th {\n",
       "        vertical-align: top;\n",
       "    }\n",
       "\n",
       "    .dataframe thead th {\n",
       "        text-align: right;\n",
       "    }\n",
       "</style>\n",
       "<table border=\"1\" class=\"dataframe\">\n",
       "  <thead>\n",
       "    <tr style=\"text-align: right;\">\n",
       "      <th></th>\n",
       "      <th>audience</th>\n",
       "      <th>LogAudience</th>\n",
       "    </tr>\n",
       "  </thead>\n",
       "  <tbody>\n",
       "    <tr>\n",
       "      <th>0</th>\n",
       "      <td>16265618</td>\n",
       "      <td>16.6</td>\n",
       "    </tr>\n",
       "    <tr>\n",
       "      <th>1</th>\n",
       "      <td>13934592</td>\n",
       "      <td>16.4</td>\n",
       "    </tr>\n",
       "    <tr>\n",
       "      <th>2</th>\n",
       "      <td>27495584</td>\n",
       "      <td>17.1</td>\n",
       "    </tr>\n",
       "    <tr>\n",
       "      <th>3</th>\n",
       "      <td>25447554</td>\n",
       "      <td>17.1</td>\n",
       "    </tr>\n",
       "    <tr>\n",
       "      <th>4</th>\n",
       "      <td>20626290</td>\n",
       "      <td>16.8</td>\n",
       "    </tr>\n",
       "  </tbody>\n",
       "</table>\n",
       "</div>"
      ],
      "text/plain": [
       "   audience  LogAudience\n",
       "0  16265618         16.6\n",
       "1  13934592         16.4\n",
       "2  27495584         17.1\n",
       "3  25447554         17.1\n",
       "4  20626290         16.8"
      ]
     },
     "execution_count": 22,
     "metadata": {},
     "output_type": "execute_result"
    }
   ],
   "source": [
    "# 로그 변환 시 주의점! (0 과 1 사이의 값은 -무한~0 의 값이기 때문에 \n",
    "# 모든 수에 1을 더해주고 로그를 취해줌 => np.log1p\n",
    "\n",
    "df = pd.concat([data['audience'],  np.log(data['audience'] + 1).rename('LogAudience')], axis=1, names=['Audience', 'LogAudience'])\n",
    "df.head()"
   ]
  },
  {
   "cell_type": "code",
   "execution_count": 23,
   "metadata": {
    "ExecuteTime": {
     "end_time": "2021-11-25T07:48:43.886241Z",
     "start_time": "2021-11-25T07:48:43.882276Z"
    }
   },
   "outputs": [],
   "source": [
    "# 로그 변환한거 분포 보기"
   ]
  },
  {
   "cell_type": "markdown",
   "metadata": {},
   "source": [
    "### genre\n",
    "- 장르의 수가 다 달라서 첫번째 장르만 사용"
   ]
  },
  {
   "cell_type": "code",
   "execution_count": 24,
   "metadata": {
    "ExecuteTime": {
     "end_time": "2021-11-25T07:48:44.967127Z",
     "start_time": "2021-11-25T07:48:44.954164Z"
    },
    "scrolled": true
   },
   "outputs": [
    {
     "data": {
      "text/plain": [
       "['드라마']                                  14\n",
       "['액션']                                    5\n",
       "['코미디', '액션']                             5\n",
       "['범죄', '액션']                              5\n",
       "['액션', '드라마']                             4\n",
       "['코미디', '드라마']                            4\n",
       "['코미디']                                   3\n",
       "['애니메이션']                                 3\n",
       "['범죄', '드라마']                             3\n",
       "['액션', 'SF']                              2\n",
       "['어드벤처', '드라마', '가족']                     2\n",
       "['멜로/로맨스', '드라마']                         2\n",
       "['범죄']                                    2\n",
       "['애니메이션', '어드벤처', '코미디']                  2\n",
       "['드라마', '코미디']                            2\n",
       "['공포(호러)', '스릴러']                         2\n",
       "['액션', '어드벤처', 'SF']                      2\n",
       "['어드벤처', '가족', '판타지']                     2\n",
       "['미스터리', '스릴러']                           2\n",
       "['미스터리', '드라마']                           2\n",
       "['액션', '어드벤처', '코미디', 'SF']               1\n",
       "['미스터리', '액션', '판타지', '공포(호러)']           1\n",
       "['애니메이션', '어드벤처', '판타지']                  1\n",
       "['스릴러', '범죄']                             1\n",
       "['전쟁']                                    1\n",
       "['액션', '어드벤처', '멜로/로맨스', 'SF', '스릴러']     1\n",
       "['애니메이션', '어드벤처', '코미디', '가족']            1\n",
       "['사극', '액션', '드라마']                       1\n",
       "['액션', '스릴러']                             1\n",
       "['애니메이션', '액션', '코미디', '가족', 'SF']        1\n",
       "['액션', '범죄', '스릴러']                       1\n",
       "['액션', '어드벤처']                            1\n",
       "['멜로/로맨스', '코미디']                         1\n",
       "['드라마', '멜로/로맨스']                         1\n",
       "['액션', '어드벤처', '범죄']                      1\n",
       "['드라마', '뮤지컬']                            1\n",
       "['드라마', '전쟁']                             1\n",
       "['사극']                                    1\n",
       "['액션', '드라마', '스릴러']                      1\n",
       "['어드벤처', '드라마']                           1\n",
       "['판타지', '코미디']                            1\n",
       "['드라마', '액션']                             1\n",
       "['액션', '어드벤처', '판타지', 'SF']               1\n",
       "['어드벤처', '스릴러']                           1\n",
       "['판타지', '어드벤처']                           1\n",
       "['공포(호러)']                                1\n",
       "Name: genre, dtype: int64"
      ]
     },
     "execution_count": 24,
     "metadata": {},
     "output_type": "execute_result"
    }
   ],
   "source": [
    "data['genre'].value_counts()"
   ]
  },
  {
   "cell_type": "code",
   "execution_count": 25,
   "metadata": {
    "ExecuteTime": {
     "end_time": "2021-11-25T07:48:47.849309Z",
     "start_time": "2021-11-25T07:48:47.795306Z"
    }
   },
   "outputs": [],
   "source": [
    "for i in range(len(data['genre'])):\n",
    "    idx = data['genre'][i][2:].find(\"\\'\")\n",
    "    data.loc[i,'genre'] = data['genre'][i][2:idx+2]"
   ]
  },
  {
   "cell_type": "code",
   "execution_count": 26,
   "metadata": {
    "ExecuteTime": {
     "end_time": "2021-11-25T07:48:48.208864Z",
     "start_time": "2021-11-25T07:48:48.201882Z"
    }
   },
   "outputs": [
    {
     "data": {
      "text/plain": [
       "액션        21\n",
       "드라마       20\n",
       "코미디       12\n",
       "범죄        10\n",
       "애니메이션      8\n",
       "어드벤처       6\n",
       "미스터리       5\n",
       "공포(호러)     3\n",
       "멜로/로맨스     3\n",
       "사극         2\n",
       "판타지        2\n",
       "전쟁         1\n",
       "스릴러        1\n",
       "Name: genre, dtype: int64"
      ]
     },
     "execution_count": 26,
     "metadata": {},
     "output_type": "execute_result"
    }
   ],
   "source": [
    "data['genre'].value_counts()"
   ]
  },
  {
   "cell_type": "markdown",
   "metadata": {},
   "source": [
    "### nation"
   ]
  },
  {
   "cell_type": "code",
   "execution_count": 27,
   "metadata": {
    "ExecuteTime": {
     "end_time": "2021-11-25T07:48:51.106741Z",
     "start_time": "2021-11-25T07:48:51.093775Z"
    }
   },
   "outputs": [
    {
     "data": {
      "text/plain": [
       "한국    57\n",
       "미국    36\n",
       "영국     1\n",
       "Name: nation, dtype: int64"
      ]
     },
     "execution_count": 27,
     "metadata": {},
     "output_type": "execute_result"
    }
   ],
   "source": [
    "data['nation'].value_counts()"
   ]
  },
  {
   "cell_type": "markdown",
   "metadata": {},
   "source": [
    "### disribution_company"
   ]
  },
  {
   "cell_type": "code",
   "execution_count": 28,
   "metadata": {
    "ExecuteTime": {
     "end_time": "2021-11-25T07:48:52.057547Z",
     "start_time": "2021-11-25T07:48:52.014795Z"
    },
    "scrolled": false
   },
   "outputs": [],
   "source": [
    "for i in range(len(data['distribution_company'])):\n",
    "    data.loc[i,'distribution_company'] = data['distribution_company'][i].split(',')[0]"
   ]
  },
  {
   "cell_type": "code",
   "execution_count": 29,
   "metadata": {
    "ExecuteTime": {
     "end_time": "2021-11-25T07:48:52.613406Z",
     "start_time": "2021-11-25T07:48:52.602451Z"
    }
   },
   "outputs": [
    {
     "data": {
      "text/plain": [
       "월트디즈니컴퍼니코리아 유한책임회사          16\n",
       "(주)씨제이이엔엠                   13\n",
       "롯데컬처웍스(주)롯데엔터테인먼트           11\n",
       "워너브러더스 코리아(주)                8\n",
       "(주)에이스메이커무비웍스                7\n",
       "(주)넥스트엔터테인먼트월드(NEW)          7\n",
       "유니버설픽쳐스인터내셔널 코리아(유)          6\n",
       "(주)쇼박스                       6\n",
       "소니픽쳐스엔터테인먼트코리아주식회사극장배급지점     5\n",
       "메가박스중앙(주)플러스엠                4\n",
       "(주)제이앤씨미디어그룹                 2\n",
       "CGV아트하우스                     2\n",
       "(주)홈초이스                      1\n",
       "(주)누리픽쳐스                     1\n",
       "(주)리틀빅픽쳐스                    1\n",
       "(주)키위미디어그룹                   1\n",
       "(주)이놀미디어                     1\n",
       "(주)메리크리스마스                   1\n",
       "(주)스마일이엔티                    1\n",
       "Name: distribution_company, dtype: int64"
      ]
     },
     "execution_count": 29,
     "metadata": {},
     "output_type": "execute_result"
    }
   ],
   "source": [
    "data['distribution_company'].value_counts()"
   ]
  },
  {
   "cell_type": "markdown",
   "metadata": {},
   "source": [
    "### running_time\n",
    "- 분(Minite)만 사용"
   ]
  },
  {
   "cell_type": "code",
   "execution_count": 30,
   "metadata": {
    "ExecuteTime": {
     "end_time": "2021-11-25T07:48:54.891265Z",
     "start_time": "2021-11-25T07:48:54.886269Z"
    }
   },
   "outputs": [
    {
     "name": "stdout",
     "output_type": "stream",
     "text": [
      "['111', ' 0초']\n"
     ]
    }
   ],
   "source": [
    "print(str(data['running_time'][0]).split('분'))"
   ]
  },
  {
   "cell_type": "code",
   "execution_count": 39,
   "metadata": {
    "ExecuteTime": {
     "end_time": "2021-11-25T07:50:02.113687Z",
     "start_time": "2021-11-25T07:50:02.073644Z"
    }
   },
   "outputs": [],
   "source": [
    "for i in range(len(data['running_time'])):\n",
    "    data.loc[i,'running_time'] =  int(str(data['running_time'][i]).split('분')[0])"
   ]
  },
  {
   "cell_type": "code",
   "execution_count": 43,
   "metadata": {
    "ExecuteTime": {
     "end_time": "2021-11-25T07:50:16.164855Z",
     "start_time": "2021-11-25T07:50:16.154879Z"
    }
   },
   "outputs": [
    {
     "data": {
      "text/plain": [
       "0     111\n",
       "1     180\n",
       "2     103\n",
       "3     127\n",
       "4     131\n",
       "     ... \n",
       "89    106\n",
       "90    100\n",
       "91    116\n",
       "92    104\n",
       "93    108\n",
       "Name: running_time, Length: 94, dtype: object"
      ]
     },
     "execution_count": 43,
     "metadata": {},
     "output_type": "execute_result"
    }
   ],
   "source": [
    "data['running_time']"
   ]
  },
  {
   "cell_type": "markdown",
   "metadata": {},
   "source": [
    "### age\n",
    "- 그냥 사용해도 될 듯"
   ]
  },
  {
   "cell_type": "code",
   "execution_count": 34,
   "metadata": {
    "ExecuteTime": {
     "end_time": "2021-11-25T07:49:22.131555Z",
     "start_time": "2021-11-25T07:49:22.122555Z"
    }
   },
   "outputs": [
    {
     "data": {
      "text/plain": [
       "15세이상관람가    39\n",
       "12세이상관람가    37\n",
       "전체관람가       13\n",
       "청소년관람불가      5\n",
       "Name: age, dtype: int64"
      ]
     },
     "execution_count": 34,
     "metadata": {},
     "output_type": "execute_result"
    }
   ],
   "source": [
    "data['age'].value_counts()"
   ]
  },
  {
   "cell_type": "markdown",
   "metadata": {},
   "source": [
    "### youtube_comment_count"
   ]
  },
  {
   "cell_type": "code",
   "execution_count": 35,
   "metadata": {
    "ExecuteTime": {
     "end_time": "2021-11-25T07:49:24.049658Z",
     "start_time": "2021-11-25T07:49:24.033764Z"
    }
   },
   "outputs": [
    {
     "data": {
      "text/plain": [
       "count      94.0\n",
       "mean     3610.1\n",
       "std      4769.1\n",
       "min        63.0\n",
       "25%       689.8\n",
       "50%      1286.0\n",
       "75%      5255.2\n",
       "max     26299.0\n",
       "Name: youtube_comment_count, dtype: float64"
      ]
     },
     "execution_count": 35,
     "metadata": {},
     "output_type": "execute_result"
    }
   ],
   "source": [
    "data['youtube_comment_count'].describe()"
   ]
  },
  {
   "cell_type": "markdown",
   "metadata": {},
   "source": [
    "### youtube_view_mean"
   ]
  },
  {
   "cell_type": "markdown",
   "metadata": {},
   "source": [
    "### abs_mean_score"
   ]
  },
  {
   "cell_type": "markdown",
   "metadata": {},
   "source": [
    "### actor_power"
   ]
  },
  {
   "cell_type": "code",
   "execution_count": 36,
   "metadata": {
    "ExecuteTime": {
     "end_time": "2021-11-25T07:49:27.140451Z",
     "start_time": "2021-11-25T07:49:27.132441Z"
    }
   },
   "outputs": [
    {
     "data": {
      "text/plain": [
       "count        94.0\n",
       "mean    2191563.8\n",
       "std     1850791.0\n",
       "min       82322.2\n",
       "25%      964023.4\n",
       "50%     1550275.0\n",
       "75%     2800743.6\n",
       "max     9751491.7\n",
       "Name: actor_power, dtype: float64"
      ]
     },
     "execution_count": 36,
     "metadata": {},
     "output_type": "execute_result"
    }
   ],
   "source": [
    "data['actor_power'].describe()"
   ]
  },
  {
   "cell_type": "markdown",
   "metadata": {},
   "source": [
    "# Preprocessed Data"
   ]
  },
  {
   "cell_type": "code",
   "execution_count": 37,
   "metadata": {
    "ExecuteTime": {
     "end_time": "2021-11-25T07:49:28.880522Z",
     "start_time": "2021-11-25T07:49:28.874556Z"
    }
   },
   "outputs": [
    {
     "data": {
      "text/plain": [
       "(94, 11)"
      ]
     },
     "execution_count": 37,
     "metadata": {},
     "output_type": "execute_result"
    }
   ],
   "source": [
    "data.shape"
   ]
  },
  {
   "cell_type": "code",
   "execution_count": 38,
   "metadata": {
    "ExecuteTime": {
     "end_time": "2021-11-25T07:49:29.498130Z",
     "start_time": "2021-11-25T07:49:29.482163Z"
    }
   },
   "outputs": [
    {
     "name": "stdout",
     "output_type": "stream",
     "text": [
      "<class 'pandas.core.frame.DataFrame'>\n",
      "RangeIndex: 94 entries, 0 to 93\n",
      "Data columns (total 11 columns):\n",
      " #   Column                 Non-Null Count  Dtype  \n",
      "---  ------                 --------------  -----  \n",
      " 0   movie_name             94 non-null     object \n",
      " 1   audience               94 non-null     int64  \n",
      " 2   nation                 94 non-null     object \n",
      " 3   distribution_company   94 non-null     object \n",
      " 4   genre                  94 non-null     object \n",
      " 5   running_time           94 non-null     object \n",
      " 6   age                    94 non-null     object \n",
      " 7   youtube_comment_count  94 non-null     int64  \n",
      " 8   youtube_view_mean      94 non-null     float64\n",
      " 9   abs_mean_score         94 non-null     float64\n",
      " 10  actor_power            94 non-null     float64\n",
      "dtypes: float64(3), int64(2), object(6)\n",
      "memory usage: 8.2+ KB\n"
     ]
    }
   ],
   "source": [
    "data.info()"
   ]
  },
  {
   "cell_type": "code",
   "execution_count": 45,
   "metadata": {
    "ExecuteTime": {
     "end_time": "2021-11-25T07:50:42.225007Z",
     "start_time": "2021-11-25T07:50:42.218502Z"
    }
   },
   "outputs": [],
   "source": [
    "preprocessed_data = data.copy()"
   ]
  },
  {
   "cell_type": "code",
   "execution_count": 47,
   "metadata": {
    "ExecuteTime": {
     "end_time": "2021-11-25T07:52:07.724023Z",
     "start_time": "2021-11-25T07:52:07.603025Z"
    }
   },
   "outputs": [],
   "source": [
    "preprocessed_data.to_excel('Preprocessed_Data.xlsx')"
   ]
  },
  {
   "cell_type": "code",
   "execution_count": null,
   "metadata": {},
   "outputs": [],
   "source": []
  }
 ],
 "metadata": {
  "hide_input": false,
  "kernelspec": {
   "display_name": "Python 3",
   "language": "python",
   "name": "python3"
  },
  "language_info": {
   "codemirror_mode": {
    "name": "ipython",
    "version": 3
   },
   "file_extension": ".py",
   "mimetype": "text/x-python",
   "name": "python",
   "nbconvert_exporter": "python",
   "pygments_lexer": "ipython3",
   "version": "3.8.3"
  },
  "toc": {
   "base_numbering": 1,
   "nav_menu": {},
   "number_sections": true,
   "sideBar": true,
   "skip_h1_title": false,
   "title_cell": "Table of Contents",
   "title_sidebar": "Contents",
   "toc_cell": false,
   "toc_position": {
    "height": "calc(100% - 180px)",
    "left": "10px",
    "top": "150px",
    "width": "244.566px"
   },
   "toc_section_display": true,
   "toc_window_display": true
  },
  "varInspector": {
   "cols": {
    "lenName": 16,
    "lenType": 16,
    "lenVar": 40
   },
   "kernels_config": {
    "python": {
     "delete_cmd_postfix": "",
     "delete_cmd_prefix": "del ",
     "library": "var_list.py",
     "varRefreshCmd": "print(var_dic_list())"
    },
    "r": {
     "delete_cmd_postfix": ") ",
     "delete_cmd_prefix": "rm(",
     "library": "var_list.r",
     "varRefreshCmd": "cat(var_dic_list()) "
    }
   },
   "types_to_exclude": [
    "module",
    "function",
    "builtin_function_or_method",
    "instance",
    "_Feature"
   ],
   "window_display": false
  }
 },
 "nbformat": 4,
 "nbformat_minor": 4
}
