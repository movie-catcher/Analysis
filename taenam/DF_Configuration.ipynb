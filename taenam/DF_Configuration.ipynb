{
 "cells": [
  {
   "cell_type": "markdown",
   "metadata": {},
   "source": [
    "# Make DataFrame\n",
    "- https://www.kobis.or.kr/kobis/business/stat/boxs/findYearlyBoxOfficeList.do\n",
    "- 2019년, 2020년 기간별 박스오피스 관객 수 상위 50개씩 DataFrame"
   ]
  },
  {
   "cell_type": "markdown",
   "metadata": {},
   "source": [
    "## road excel\n",
    "- 제공되는 엑셀 파일 업로드"
   ]
  },
  {
   "cell_type": "code",
   "execution_count": 1,
   "metadata": {
    "ExecuteTime": {
     "end_time": "2021-11-25T09:42:55.682386Z",
     "start_time": "2021-11-25T09:42:55.614232Z"
    }
   },
   "outputs": [
    {
     "name": "stdout",
     "output_type": "stream",
     "text": [
      " C 드라이브의 볼륨에는 이름이 없습니다.\n",
      " 볼륨 일련 번호: CA2E-52A2\n",
      "\n",
      " C:\\Users\\User\\Desktop\\Viral_Effect\\Analysis\\taenam 디렉터리\n",
      "\n",
      "2021-11-25  오후 05:36    <DIR>          .\n",
      "2021-11-25  오후 05:36    <DIR>          ..\n",
      "2021-11-25  오전 02:01    <DIR>          .ipynb_checkpoints\n",
      "2021-11-25  오전 01:07    <DIR>          __pycache__\n",
      "2021-11-25  오전 02:16        11,275,264 chromedriver.exe\n",
      "2021-11-25  오후 05:36           182,938 DF_Configuration.ipynb\n",
      "2021-11-25  오후 05:05           372,687 KOBIS_2017.xlsx\n",
      "2021-11-25  오후 05:03           383,236 KOBIS_2018.xlsx\n",
      "2021-11-25  오전 02:16           373,658 KOBIS_2019.xlsx\n",
      "2021-11-25  오전 02:16           350,418 KOBIS_2020.xlsx\n",
      "2021-11-25  오후 05:36            30,928 KOBIS_Webscraping.ipynb\n",
      "2021-11-25  오전 02:16             5,755 KOBIS_Webscraping.py\n",
      "2021-11-25  오전 02:01             7,082 movie_actor_power.csv\n",
      "2021-11-25  오전 02:45            25,932 Movie_Data.xlsx\n",
      "2021-11-25  오후 04:52            14,775 Preprocessed_Data.xlsx\n",
      "2021-11-25  오전 02:16                65 README.md\n",
      "2021-11-25  오후 05:36           124,125 Statistical_Analysis.ipynb\n",
      "2021-11-25  오전 02:16             3,750 view_count_state.csv\n",
      "              14개 파일          13,150,613 바이트\n",
      "               4개 디렉터리  26,309,451,776 바이트 남음\n"
     ]
    }
   ],
   "source": [
    "%ls"
   ]
  },
  {
   "cell_type": "code",
   "execution_count": 2,
   "metadata": {
    "ExecuteTime": {
     "end_time": "2021-11-25T09:43:05.540792Z",
     "start_time": "2021-11-25T09:42:58.871967Z"
    }
   },
   "outputs": [],
   "source": [
    "import numpy as np\n",
    "import pandas as pd\n",
    "import seaborn as sns\n",
    "import matplotlib.pyplot as plt"
   ]
  },
  {
   "cell_type": "code",
   "execution_count": 3,
   "metadata": {
    "ExecuteTime": {
     "end_time": "2021-11-25T09:43:17.011712Z",
     "start_time": "2021-11-25T09:43:08.460610Z"
    }
   },
   "outputs": [],
   "source": [
    "data_17 = pd.read_excel('KOBIS_2017.xlsx', sep='\\t')[:50]\n",
    "data_18 = pd.read_excel('KOBIS_2018.xlsx', sep='\\t')[:50]\n",
    "data_19 = pd.read_excel('KOBIS_2019.xlsx', sep='\\t')[:50]\n",
    "data_20 = pd.read_excel('KOBIS_2020.xlsx', sep='\\t')[:50]\n",
    "movie_data = pd.concat([data_17, data_18, data_19, data_20])\n",
    "movie_data.reset_index(inplace = True)\n",
    "movie_data.drop(['index', '순위'], axis = 1, inplace=True)"
   ]
  },
  {
   "cell_type": "code",
   "execution_count": 4,
   "metadata": {
    "ExecuteTime": {
     "end_time": "2021-11-25T09:43:19.019151Z",
     "start_time": "2021-11-25T09:43:19.011770Z"
    },
    "scrolled": true
   },
   "outputs": [],
   "source": [
    "movie_data.columns = ['movie_name', 'release', 'take', 'take_ratio', 'audience', 'screen','view','nation','nations','distribution_company'] "
   ]
  },
  {
   "cell_type": "code",
   "execution_count": 5,
   "metadata": {
    "ExecuteTime": {
     "end_time": "2021-11-25T09:43:20.057009Z",
     "start_time": "2021-11-25T09:43:20.048066Z"
    }
   },
   "outputs": [],
   "source": [
    "# 1917 과 같은 숫자 제목이 int형으로 저장되어 있음 -> str\n",
    "movie_names = [str(name) for name in movie_data['movie_name']]\n",
    "movie_data['movie_name'] = movie_names"
   ]
  },
  {
   "cell_type": "code",
   "execution_count": 6,
   "metadata": {
    "ExecuteTime": {
     "end_time": "2021-11-25T09:43:20.846872Z",
     "start_time": "2021-11-25T09:43:20.785556Z"
    },
    "scrolled": true
   },
   "outputs": [
    {
     "data": {
      "text/html": [
       "<div>\n",
       "<style scoped>\n",
       "    .dataframe tbody tr th:only-of-type {\n",
       "        vertical-align: middle;\n",
       "    }\n",
       "\n",
       "    .dataframe tbody tr th {\n",
       "        vertical-align: top;\n",
       "    }\n",
       "\n",
       "    .dataframe thead th {\n",
       "        text-align: right;\n",
       "    }\n",
       "</style>\n",
       "<table border=\"1\" class=\"dataframe\">\n",
       "  <thead>\n",
       "    <tr style=\"text-align: right;\">\n",
       "      <th></th>\n",
       "      <th>movie_name</th>\n",
       "      <th>release</th>\n",
       "      <th>take</th>\n",
       "      <th>take_ratio</th>\n",
       "      <th>audience</th>\n",
       "      <th>screen</th>\n",
       "      <th>view</th>\n",
       "      <th>nation</th>\n",
       "      <th>nations</th>\n",
       "      <th>distribution_company</th>\n",
       "    </tr>\n",
       "  </thead>\n",
       "  <tbody>\n",
       "    <tr>\n",
       "      <th>0</th>\n",
       "      <td>택시운전사</td>\n",
       "      <td>2017-08-02</td>\n",
       "      <td>95853645649</td>\n",
       "      <td>0.055</td>\n",
       "      <td>12186327</td>\n",
       "      <td>1906</td>\n",
       "      <td>184075</td>\n",
       "      <td>한국</td>\n",
       "      <td>한국</td>\n",
       "      <td>(주)쇼박스</td>\n",
       "    </tr>\n",
       "    <tr>\n",
       "      <th>1</th>\n",
       "      <td>신과함께-죄와 벌</td>\n",
       "      <td>2017-12-20</td>\n",
       "      <td>68350496432</td>\n",
       "      <td>0.039</td>\n",
       "      <td>8539495</td>\n",
       "      <td>1912</td>\n",
       "      <td>91301</td>\n",
       "      <td>한국</td>\n",
       "      <td>한국</td>\n",
       "      <td>롯데쇼핑㈜롯데엔터테인먼트</td>\n",
       "    </tr>\n",
       "    <tr>\n",
       "      <th>2</th>\n",
       "      <td>공조</td>\n",
       "      <td>2017-01-18</td>\n",
       "      <td>63783051326</td>\n",
       "      <td>0.036</td>\n",
       "      <td>7817618</td>\n",
       "      <td>1392</td>\n",
       "      <td>142989</td>\n",
       "      <td>한국</td>\n",
       "      <td>한국</td>\n",
       "      <td>(주)씨제이이엔엠</td>\n",
       "    </tr>\n",
       "    <tr>\n",
       "      <th>3</th>\n",
       "      <td>스파이더맨: 홈 커밍</td>\n",
       "      <td>2017-07-05</td>\n",
       "      <td>59125813820</td>\n",
       "      <td>0.034</td>\n",
       "      <td>7258678</td>\n",
       "      <td>1965</td>\n",
       "      <td>164448</td>\n",
       "      <td>미국</td>\n",
       "      <td>미국</td>\n",
       "      <td>소니픽쳐스엔터테인먼트코리아주식회사극장배급지점</td>\n",
       "    </tr>\n",
       "    <tr>\n",
       "      <th>4</th>\n",
       "      <td>범죄도시</td>\n",
       "      <td>2017-10-03</td>\n",
       "      <td>56318014149</td>\n",
       "      <td>0.032</td>\n",
       "      <td>6879841</td>\n",
       "      <td>1315</td>\n",
       "      <td>149334</td>\n",
       "      <td>한국</td>\n",
       "      <td>한국</td>\n",
       "      <td>메가박스중앙(주)플러스엠,(주)키위미디어그룹</td>\n",
       "    </tr>\n",
       "    <tr>\n",
       "      <th>...</th>\n",
       "      <td>...</td>\n",
       "      <td>...</td>\n",
       "      <td>...</td>\n",
       "      <td>...</td>\n",
       "      <td>...</td>\n",
       "      <td>...</td>\n",
       "      <td>...</td>\n",
       "      <td>...</td>\n",
       "      <td>...</td>\n",
       "      <td>...</td>\n",
       "    </tr>\n",
       "    <tr>\n",
       "      <th>195</th>\n",
       "      <td>검객</td>\n",
       "      <td>2020-09-23</td>\n",
       "      <td>1619781870</td>\n",
       "      <td>0.003</td>\n",
       "      <td>190237</td>\n",
       "      <td>832</td>\n",
       "      <td>21595</td>\n",
       "      <td>한국</td>\n",
       "      <td>한국</td>\n",
       "      <td>(주)키위미디어그룹,오퍼스픽쳐스(유),(주)씨네필운</td>\n",
       "    </tr>\n",
       "    <tr>\n",
       "      <th>196</th>\n",
       "      <td>조제</td>\n",
       "      <td>2020-12-10</td>\n",
       "      <td>1673427570</td>\n",
       "      <td>0.003</td>\n",
       "      <td>186647</td>\n",
       "      <td>1179</td>\n",
       "      <td>38291</td>\n",
       "      <td>한국</td>\n",
       "      <td>한국</td>\n",
       "      <td>워너브러더스 코리아(주)</td>\n",
       "    </tr>\n",
       "    <tr>\n",
       "      <th>197</th>\n",
       "      <td>사라진 시간</td>\n",
       "      <td>2020-06-18</td>\n",
       "      <td>1652522580</td>\n",
       "      <td>0.003</td>\n",
       "      <td>185802</td>\n",
       "      <td>874</td>\n",
       "      <td>20790</td>\n",
       "      <td>한국</td>\n",
       "      <td>한국</td>\n",
       "      <td>(주)에이스메이커무비웍스</td>\n",
       "    </tr>\n",
       "    <tr>\n",
       "      <th>198</th>\n",
       "      <td>밤쉘: 세상을 바꾼 폭탄선언</td>\n",
       "      <td>2020-07-08</td>\n",
       "      <td>1544025340</td>\n",
       "      <td>0.003</td>\n",
       "      <td>182026</td>\n",
       "      <td>882</td>\n",
       "      <td>27363</td>\n",
       "      <td>미국</td>\n",
       "      <td>미국,캐나다</td>\n",
       "      <td>(주)홈초이스</td>\n",
       "    </tr>\n",
       "    <tr>\n",
       "      <th>199</th>\n",
       "      <td>알라딘</td>\n",
       "      <td>2019-05-23</td>\n",
       "      <td>1205410680</td>\n",
       "      <td>0.002</td>\n",
       "      <td>171494</td>\n",
       "      <td>549</td>\n",
       "      <td>15752</td>\n",
       "      <td>미국</td>\n",
       "      <td>미국</td>\n",
       "      <td>월트디즈니컴퍼니코리아 유한책임회사</td>\n",
       "    </tr>\n",
       "  </tbody>\n",
       "</table>\n",
       "<p>200 rows × 10 columns</p>\n",
       "</div>"
      ],
      "text/plain": [
       "          movie_name    release         take  take_ratio  audience  screen  \\\n",
       "0              택시운전사 2017-08-02  95853645649       0.055  12186327    1906   \n",
       "1          신과함께-죄와 벌 2017-12-20  68350496432       0.039   8539495    1912   \n",
       "2                 공조 2017-01-18  63783051326       0.036   7817618    1392   \n",
       "3        스파이더맨: 홈 커밍 2017-07-05  59125813820       0.034   7258678    1965   \n",
       "4               범죄도시 2017-10-03  56318014149       0.032   6879841    1315   \n",
       "..               ...        ...          ...         ...       ...     ...   \n",
       "195               검객 2020-09-23   1619781870       0.003    190237     832   \n",
       "196               조제 2020-12-10   1673427570       0.003    186647    1179   \n",
       "197           사라진 시간 2020-06-18   1652522580       0.003    185802     874   \n",
       "198  밤쉘: 세상을 바꾼 폭탄선언 2020-07-08   1544025340       0.003    182026     882   \n",
       "199              알라딘 2019-05-23   1205410680       0.002    171494     549   \n",
       "\n",
       "       view nation nations          distribution_company  \n",
       "0    184075     한국      한국                        (주)쇼박스  \n",
       "1     91301     한국      한국                 롯데쇼핑㈜롯데엔터테인먼트  \n",
       "2    142989     한국      한국                     (주)씨제이이엔엠  \n",
       "3    164448     미국      미국      소니픽쳐스엔터테인먼트코리아주식회사극장배급지점  \n",
       "4    149334     한국      한국      메가박스중앙(주)플러스엠,(주)키위미디어그룹  \n",
       "..      ...    ...     ...                           ...  \n",
       "195   21595     한국      한국  (주)키위미디어그룹,오퍼스픽쳐스(유),(주)씨네필운  \n",
       "196   38291     한국      한국                 워너브러더스 코리아(주)  \n",
       "197   20790     한국      한국                 (주)에이스메이커무비웍스  \n",
       "198   27363     미국  미국,캐나다                       (주)홈초이스  \n",
       "199   15752     미국      미국            월트디즈니컴퍼니코리아 유한책임회사  \n",
       "\n",
       "[200 rows x 10 columns]"
      ]
     },
     "execution_count": 6,
     "metadata": {},
     "output_type": "execute_result"
    }
   ],
   "source": [
    "movie_data"
   ]
  },
  {
   "cell_type": "markdown",
   "metadata": {},
   "source": [
    "## webscraping Dataframe"
   ]
  },
  {
   "cell_type": "code",
   "execution_count": 7,
   "metadata": {
    "ExecuteTime": {
     "end_time": "2021-11-24T17:24:37.607681Z",
     "start_time": "2021-11-24T17:24:37.577672Z"
    }
   },
   "outputs": [],
   "source": [
    "%store -r movie_df"
   ]
  },
  {
   "cell_type": "code",
   "execution_count": 8,
   "metadata": {
    "ExecuteTime": {
     "end_time": "2021-11-24T17:24:37.654663Z",
     "start_time": "2021-11-24T17:24:37.611680Z"
    },
    "scrolled": true
   },
   "outputs": [
    {
     "data": {
      "text/html": [
       "<div>\n",
       "<style scoped>\n",
       "    .dataframe tbody tr th:only-of-type {\n",
       "        vertical-align: middle;\n",
       "    }\n",
       "\n",
       "    .dataframe tbody tr th {\n",
       "        vertical-align: top;\n",
       "    }\n",
       "\n",
       "    .dataframe thead th {\n",
       "        text-align: right;\n",
       "    }\n",
       "</style>\n",
       "<table border=\"1\" class=\"dataframe\">\n",
       "  <thead>\n",
       "    <tr style=\"text-align: right;\">\n",
       "      <th></th>\n",
       "      <th>movie_name</th>\n",
       "      <th>code</th>\n",
       "      <th>genre</th>\n",
       "      <th>kind</th>\n",
       "      <th>scale</th>\n",
       "      <th>running_time</th>\n",
       "      <th>age</th>\n",
       "      <th>actor</th>\n",
       "    </tr>\n",
       "  </thead>\n",
       "  <tbody>\n",
       "    <tr>\n",
       "      <th>0</th>\n",
       "      <td>남산의 부장들</td>\n",
       "      <td>20180939</td>\n",
       "      <td>[드라마]</td>\n",
       "      <td>일반영화</td>\n",
       "      <td>장편</td>\n",
       "      <td>113분 38초</td>\n",
       "      <td>15세이상관람가</td>\n",
       "      <td>[이병헌, 이성민, 곽도원, 이희준, 김소진]</td>\n",
       "    </tr>\n",
       "    <tr>\n",
       "      <th>1</th>\n",
       "      <td>다만 악에서 구하소서</td>\n",
       "      <td>20197922</td>\n",
       "      <td>[범죄, 액션]</td>\n",
       "      <td>일반영화</td>\n",
       "      <td>장편</td>\n",
       "      <td>107분 49초</td>\n",
       "      <td>15세이상관람가</td>\n",
       "      <td>[황정민, 이정재, 박정민, 박소이]</td>\n",
       "    </tr>\n",
       "    <tr>\n",
       "      <th>2</th>\n",
       "      <td>반도</td>\n",
       "      <td>20193450</td>\n",
       "      <td>[액션, 드라마]</td>\n",
       "      <td>일반영화</td>\n",
       "      <td>장편</td>\n",
       "      <td>115분 35초</td>\n",
       "      <td>15세이상관람가</td>\n",
       "      <td>[강동원, 이정현]</td>\n",
       "    </tr>\n",
       "    <tr>\n",
       "      <th>3</th>\n",
       "      <td>히트맨</td>\n",
       "      <td>20192101</td>\n",
       "      <td>[코미디, 액션]</td>\n",
       "      <td>일반영화</td>\n",
       "      <td>장편</td>\n",
       "      <td>109분 47초</td>\n",
       "      <td>15세이상관람가</td>\n",
       "      <td>[권상우, 정준호, 황우슬혜, 이이경, 이지원]</td>\n",
       "    </tr>\n",
       "    <tr>\n",
       "      <th>4</th>\n",
       "      <td>테넷</td>\n",
       "      <td>20201122</td>\n",
       "      <td>[액션, SF]</td>\n",
       "      <td>일반영화</td>\n",
       "      <td>장편</td>\n",
       "      <td>149분 59초</td>\n",
       "      <td>12세이상관람가</td>\n",
       "      <td>[존 데이비드 워싱턴, 로버트 패틴슨, 엘리자베스 데비키, 애런 존슨]</td>\n",
       "    </tr>\n",
       "    <tr>\n",
       "      <th>...</th>\n",
       "      <td>...</td>\n",
       "      <td>...</td>\n",
       "      <td>...</td>\n",
       "      <td>...</td>\n",
       "      <td>...</td>\n",
       "      <td>...</td>\n",
       "      <td>...</td>\n",
       "      <td>...</td>\n",
       "    </tr>\n",
       "    <tr>\n",
       "      <th>95</th>\n",
       "      <td>장사리 : 잊혀진 영웅들</td>\n",
       "      <td>20193601</td>\n",
       "      <td>[전쟁]</td>\n",
       "      <td>일반영화</td>\n",
       "      <td>장편</td>\n",
       "      <td>103분 37초</td>\n",
       "      <td>12세이상관람가</td>\n",
       "      <td>[김명민, 최민호, 김성철, 김인권, 곽시양, 봉명필]</td>\n",
       "    </tr>\n",
       "    <tr>\n",
       "      <th>96</th>\n",
       "      <td>마이펫의 이중생활 2</td>\n",
       "      <td>20183844</td>\n",
       "      <td>[애니메이션, 어드벤처, 코미디]</td>\n",
       "      <td>일반영화</td>\n",
       "      <td>장편</td>\n",
       "      <td>85분 56초</td>\n",
       "      <td>전체관람가</td>\n",
       "      <td>[패튼 오스왈트, 케빈 하트, 에릭 스톤스트릿, 제니 슬레이트, 티파니 해디쉬, 레...</td>\n",
       "    </tr>\n",
       "    <tr>\n",
       "      <th>97</th>\n",
       "      <td>롱 리브 더 킹: 목포 영웅</td>\n",
       "      <td>20198453</td>\n",
       "      <td>[액션, 드라마]</td>\n",
       "      <td>일반영화</td>\n",
       "      <td>장편</td>\n",
       "      <td>117분 37초</td>\n",
       "      <td>15세이상관람가</td>\n",
       "      <td>[김래원, 원진아, 진선규, 최귀화, 주진모, 신용욱, 진선규, 황정인]</td>\n",
       "    </tr>\n",
       "    <tr>\n",
       "      <th>98</th>\n",
       "      <td>쥬만지: 넥스트 레벨</td>\n",
       "      <td>20198681</td>\n",
       "      <td>[액션]</td>\n",
       "      <td>일반영화</td>\n",
       "      <td>장편</td>\n",
       "      <td>122분 44초</td>\n",
       "      <td>12세이상관람가</td>\n",
       "      <td>[드웨인 존슨, 잭 블랙, 케빈 하트, 카렌 길런, 아콰피나]</td>\n",
       "    </tr>\n",
       "    <tr>\n",
       "      <th>99</th>\n",
       "      <td>존 윅 3: 파라벨룸</td>\n",
       "      <td>20196655</td>\n",
       "      <td>[액션, 범죄, 스릴러]</td>\n",
       "      <td>일반영화</td>\n",
       "      <td>장편</td>\n",
       "      <td>131분 14초</td>\n",
       "      <td>청소년관람불가</td>\n",
       "      <td>[키아누 리브스, 할리 베리, 로렌스 피쉬번, 이안 맥쉐인]</td>\n",
       "    </tr>\n",
       "  </tbody>\n",
       "</table>\n",
       "<p>100 rows × 8 columns</p>\n",
       "</div>"
      ],
      "text/plain": [
       "         movie_name      code               genre  kind scale running_time  \\\n",
       "0           남산의 부장들  20180939               [드라마]  일반영화    장편     113분 38초   \n",
       "1       다만 악에서 구하소서  20197922            [범죄, 액션]  일반영화    장편     107분 49초   \n",
       "2                반도  20193450           [액션, 드라마]  일반영화    장편     115분 35초   \n",
       "3               히트맨  20192101           [코미디, 액션]  일반영화    장편     109분 47초   \n",
       "4                테넷  20201122            [액션, SF]  일반영화    장편     149분 59초   \n",
       "..              ...       ...                 ...   ...   ...          ...   \n",
       "95    장사리 : 잊혀진 영웅들  20193601                [전쟁]  일반영화    장편     103분 37초   \n",
       "96      마이펫의 이중생활 2  20183844  [애니메이션, 어드벤처, 코미디]  일반영화    장편      85분 56초   \n",
       "97  롱 리브 더 킹: 목포 영웅  20198453           [액션, 드라마]  일반영화    장편     117분 37초   \n",
       "98      쥬만지: 넥스트 레벨  20198681                [액션]  일반영화    장편     122분 44초   \n",
       "99      존 윅 3: 파라벨룸  20196655       [액션, 범죄, 스릴러]  일반영화    장편     131분 14초   \n",
       "\n",
       "         age                                              actor  \n",
       "0   15세이상관람가                          [이병헌, 이성민, 곽도원, 이희준, 김소진]  \n",
       "1   15세이상관람가                               [황정민, 이정재, 박정민, 박소이]  \n",
       "2   15세이상관람가                                         [강동원, 이정현]  \n",
       "3   15세이상관람가                         [권상우, 정준호, 황우슬혜, 이이경, 이지원]  \n",
       "4   12세이상관람가            [존 데이비드 워싱턴, 로버트 패틴슨, 엘리자베스 데비키, 애런 존슨]  \n",
       "..       ...                                                ...  \n",
       "95  12세이상관람가                     [김명민, 최민호, 김성철, 김인권, 곽시양, 봉명필]  \n",
       "96     전체관람가  [패튼 오스왈트, 케빈 하트, 에릭 스톤스트릿, 제니 슬레이트, 티파니 해디쉬, 레...  \n",
       "97  15세이상관람가           [김래원, 원진아, 진선규, 최귀화, 주진모, 신용욱, 진선규, 황정인]  \n",
       "98  12세이상관람가                 [드웨인 존슨, 잭 블랙, 케빈 하트, 카렌 길런, 아콰피나]  \n",
       "99   청소년관람불가                  [키아누 리브스, 할리 베리, 로렌스 피쉬번, 이안 맥쉐인]  \n",
       "\n",
       "[100 rows x 8 columns]"
      ]
     },
     "execution_count": 8,
     "metadata": {},
     "output_type": "execute_result"
    }
   ],
   "source": [
    "movie_df"
   ]
  },
  {
   "cell_type": "markdown",
   "metadata": {},
   "source": [
    "## merge Dataframe"
   ]
  },
  {
   "cell_type": "code",
   "execution_count": 9,
   "metadata": {
    "ExecuteTime": {
     "end_time": "2021-11-24T17:24:37.675665Z",
     "start_time": "2021-11-24T17:24:37.658673Z"
    },
    "scrolled": true
   },
   "outputs": [],
   "source": [
    "movie_merge_df = pd.merge(movie_data, movie_df, on = 'movie_name')"
   ]
  },
  {
   "cell_type": "code",
   "execution_count": 10,
   "metadata": {
    "ExecuteTime": {
     "end_time": "2021-11-24T17:24:37.687661Z",
     "start_time": "2021-11-24T17:24:37.677660Z"
    }
   },
   "outputs": [
    {
     "data": {
      "text/plain": [
       "Index(['movie_name', 'release', 'take', 'take_ratio', 'audience', 'screen',\n",
       "       'view', 'nation', 'nations', 'distribution_company', 'code', 'genre',\n",
       "       'kind', 'scale', 'running_time', 'age', 'actor'],\n",
       "      dtype='object')"
      ]
     },
     "execution_count": 10,
     "metadata": {},
     "output_type": "execute_result"
    }
   ],
   "source": [
    "movie_merge_df.columns"
   ]
  },
  {
   "cell_type": "code",
   "execution_count": 11,
   "metadata": {
    "ExecuteTime": {
     "end_time": "2021-11-24T17:24:37.703688Z",
     "start_time": "2021-11-24T17:24:37.691663Z"
    }
   },
   "outputs": [
    {
     "data": {
      "text/plain": [
       "(110, 17)"
      ]
     },
     "execution_count": 11,
     "metadata": {},
     "output_type": "execute_result"
    }
   ],
   "source": [
    "movie_merge_df.shape"
   ]
  },
  {
   "cell_type": "markdown",
   "metadata": {},
   "source": [
    "# DataFrame Preprocessing"
   ]
  },
  {
   "cell_type": "markdown",
   "metadata": {},
   "source": [
    "## Delete Feature\n",
    "> 필요없는 Feature 삭제 \n",
    "- 영화와 OTT 둘 다 해당되지 않으면 제거\n",
    "- 없어도 되겠다 싶은 Feature 제거"
   ]
  },
  {
   "cell_type": "code",
   "execution_count": 12,
   "metadata": {
    "ExecuteTime": {
     "end_time": "2021-11-24T17:24:37.717717Z",
     "start_time": "2021-11-24T17:24:37.707662Z"
    }
   },
   "outputs": [],
   "source": [
    "movie_df_preprocessed = movie_merge_df.copy()"
   ]
  },
  {
   "cell_type": "code",
   "execution_count": 13,
   "metadata": {
    "ExecuteTime": {
     "end_time": "2021-11-24T17:24:37.737667Z",
     "start_time": "2021-11-24T17:24:37.723666Z"
    }
   },
   "outputs": [
    {
     "data": {
      "text/plain": [
       "Index(['movie_name', 'release', 'take', 'take_ratio', 'audience', 'screen',\n",
       "       'view', 'nation', 'nations', 'distribution_company', 'code', 'genre',\n",
       "       'kind', 'scale', 'running_time', 'age', 'actor'],\n",
       "      dtype='object')"
      ]
     },
     "execution_count": 13,
     "metadata": {},
     "output_type": "execute_result"
    }
   ],
   "source": [
    "movie_df_preprocessed.columns"
   ]
  },
  {
   "cell_type": "code",
   "execution_count": 14,
   "metadata": {
    "ExecuteTime": {
     "end_time": "2021-11-24T17:24:37.752664Z",
     "start_time": "2021-11-24T17:24:37.742663Z"
    }
   },
   "outputs": [],
   "source": [
    "# 필요없는 columns 제거\n",
    "def movie_columns(movie_df):\n",
    "    col = list(movie_df.columns)\n",
    "    for i in ['nations', 'take_ratio', 'view', 'screen']:\n",
    "        col.remove(i)\n",
    "    movie_df = movie_df[col]\n",
    "    \n",
    "    return movie_df"
   ]
  },
  {
   "cell_type": "code",
   "execution_count": 15,
   "metadata": {
    "ExecuteTime": {
     "end_time": "2021-11-24T17:24:37.771664Z",
     "start_time": "2021-11-24T17:24:37.756663Z"
    }
   },
   "outputs": [],
   "source": [
    "movie_df_preprocessed = movie_columns(movie_df_preprocessed)"
   ]
  },
  {
   "cell_type": "code",
   "execution_count": 16,
   "metadata": {
    "ExecuteTime": {
     "end_time": "2021-11-24T17:24:37.783678Z",
     "start_time": "2021-11-24T17:24:37.774663Z"
    },
    "scrolled": true
   },
   "outputs": [
    {
     "data": {
      "text/plain": [
       "Index(['movie_name', 'release', 'take', 'audience', 'nation',\n",
       "       'distribution_company', 'code', 'genre', 'kind', 'scale',\n",
       "       'running_time', 'age', 'actor'],\n",
       "      dtype='object')"
      ]
     },
     "execution_count": 16,
     "metadata": {},
     "output_type": "execute_result"
    }
   ],
   "source": [
    "movie_df_preprocessed.columns"
   ]
  },
  {
   "cell_type": "markdown",
   "metadata": {},
   "source": [
    "## 영화이름\n",
    "- movie_name\n",
    "\n",
    "> 겹치는 영화 -> 합치는 게 나을 것 같음\n",
    "- 관객수 많이 차이 : 재개봉\n",
    "- 관객수 조금 차이 : 12월에 개봉해서 해 넘어감\n",
    "\n",
    "> 제거할 영화\n",
    "- 런 : 유튜브 검색 결과 이상"
   ]
  },
  {
   "cell_type": "code",
   "execution_count": 17,
   "metadata": {
    "ExecuteTime": {
     "end_time": "2021-11-24T17:24:37.803664Z",
     "start_time": "2021-11-24T17:24:37.790665Z"
    }
   },
   "outputs": [
    {
     "data": {
      "text/plain": [
       "0                 극한직업\n",
       "1           어벤져스: 엔드게임\n",
       "2               겨울왕국 2\n",
       "3               겨울왕국 2\n",
       "4               겨울왕국 2\n",
       "            ...       \n",
       "105          프리즌 이스케이프\n",
       "106                 검객\n",
       "107                 조제\n",
       "108             사라진 시간\n",
       "109    밤쉘: 세상을 바꾼 폭탄선언\n",
       "Name: movie_name, Length: 110, dtype: object"
      ]
     },
     "execution_count": 17,
     "metadata": {},
     "output_type": "execute_result"
    }
   ],
   "source": [
    "# 겹치는 이름들이 있음 -> 알라딘\n",
    "movie_name = movie_df_preprocessed['movie_name']\n",
    "movie_name"
   ]
  },
  {
   "cell_type": "code",
   "execution_count": 7,
   "metadata": {
    "ExecuteTime": {
     "end_time": "2021-11-25T09:44:03.462376Z",
     "start_time": "2021-11-25T09:44:03.449668Z"
    }
   },
   "outputs": [
    {
     "name": "stdout",
     "output_type": "stream",
     "text": [
      "8\n"
     ]
    }
   ],
   "source": [
    "print(sum(movie_data['movie_name'].value_counts()>1))"
   ]
  },
  {
   "cell_type": "code",
   "execution_count": 18,
   "metadata": {
    "ExecuteTime": {
     "end_time": "2021-11-24T17:24:37.821662Z",
     "start_time": "2021-11-24T17:24:37.806665Z"
    }
   },
   "outputs": [
    {
     "name": "stdout",
     "output_type": "stream",
     "text": [
      "5\n"
     ]
    }
   ],
   "source": [
    "# 겹치는 영화명이 5개 있음\n",
    "print(sum(movie_name.value_counts()>1))"
   ]
  },
  {
   "cell_type": "code",
   "execution_count": 8,
   "metadata": {
    "ExecuteTime": {
     "end_time": "2021-11-25T09:44:23.368667Z",
     "start_time": "2021-11-25T09:44:23.351570Z"
    }
   },
   "outputs": [],
   "source": [
    "# 겹치는 영화 처리하는 함수\n",
    "# 영화명, 개봉일, 대표국적, 배급사 : 관객수 많은 행 사용\n",
    "# 매출액, 관객수 : 더해서 사용\n",
    "\n",
    "def duplicate_movie(movie_df):\n",
    "    # 겹치는 영화 확인\n",
    "    movie_cnt = movie_df.loc[:,'movie_name'].value_counts()\n",
    "    num = 0\n",
    "    dup_movie = []\n",
    "\n",
    "    for i in movie_cnt:\n",
    "        if i == 4:\n",
    "            dup_movie.append(movie_cnt.index[num])\n",
    "        num += 1\n",
    "    \n",
    "    # 관객수 적은 행 \n",
    "    small_movie = []\n",
    "    for name in dup_movie:\n",
    "        small_view = (movie_df[movie_df['movie_name'] == name].loc[:,'audience'] > movie_df[movie_df['movie_name'] == name].loc[:,'audience'].mean())\n",
    "        small_movie.extend(small_view.index[small_view])\n",
    "        \n",
    "    # 매출액, 관객수 합 사용\n",
    "    for name in dup_movie:\n",
    "        dup_movie_idx = movie_df[movie_df['movie_name'] == name].index\n",
    "        movie_df.loc[dup_movie_idx, 'audience'] = movie_df[movie_df['movie_name']== name].loc[:,'audience'].sum()\n",
    "        movie_df.loc[dup_movie_idx, 'take'] = movie_df[movie_df['movie_name']== name].loc[:,'take'].sum()\n",
    "        \n",
    "    # 관객수 적은 행 삭제\n",
    "    movie_df = movie_df.drop(small_movie)\n",
    "\n",
    "    return movie_df"
   ]
  },
  {
   "cell_type": "code",
   "execution_count": 20,
   "metadata": {
    "ExecuteTime": {
     "end_time": "2021-11-24T17:24:37.912683Z",
     "start_time": "2021-11-24T17:24:37.851687Z"
    }
   },
   "outputs": [],
   "source": [
    "movie_df_preprocessed = duplicate_movie(movie_df_preprocessed)"
   ]
  },
  {
   "cell_type": "code",
   "execution_count": null,
   "metadata": {},
   "outputs": [],
   "source": []
  },
  {
   "cell_type": "code",
   "execution_count": 9,
   "metadata": {
    "ExecuteTime": {
     "end_time": "2021-11-25T09:44:27.836637Z",
     "start_time": "2021-11-25T09:44:27.817809Z"
    }
   },
   "outputs": [
    {
     "data": {
      "text/plain": [
       "신과함께-죄와 벌             2\n",
       "시동                    2\n",
       "겨울왕국 2                2\n",
       "기생충                   2\n",
       "백두산                   2\n",
       "                     ..\n",
       "가디언즈 오브 갤럭시 VOL. 2    1\n",
       "꾼                     1\n",
       "남산의 부장들               1\n",
       "원더 우먼                 1\n",
       "#살아있다                 1\n",
       "Name: movie_name, Length: 192, dtype: int64"
      ]
     },
     "execution_count": 9,
     "metadata": {},
     "output_type": "execute_result"
    }
   ],
   "source": [
    "movie_data = duplicate_movie(movie_data)\n",
    "movie_data.loc[:,'movie_name'].value_counts()"
   ]
  },
  {
   "cell_type": "code",
   "execution_count": 10,
   "metadata": {
    "ExecuteTime": {
     "end_time": "2021-11-25T09:44:43.590626Z",
     "start_time": "2021-11-25T09:44:43.567884Z"
    }
   },
   "outputs": [],
   "source": [
    "movie_data = movie_data.drop_duplicates(['movie_name'], keep = 'first')"
   ]
  },
  {
   "cell_type": "code",
   "execution_count": 11,
   "metadata": {
    "ExecuteTime": {
     "end_time": "2021-11-25T09:44:44.395421Z",
     "start_time": "2021-11-25T09:44:44.383812Z"
    }
   },
   "outputs": [
    {
     "data": {
      "text/plain": [
       "0                택시운전사\n",
       "1            신과함께-죄와 벌\n",
       "2                   공조\n",
       "3          스파이더맨: 홈 커밍\n",
       "4                 범죄도시\n",
       "            ...       \n",
       "194          프리즌 이스케이프\n",
       "195                 검객\n",
       "196                 조제\n",
       "197             사라진 시간\n",
       "198    밤쉘: 세상을 바꾼 폭탄선언\n",
       "Name: movie_name, Length: 192, dtype: object"
      ]
     },
     "execution_count": 11,
     "metadata": {},
     "output_type": "execute_result"
    }
   ],
   "source": [
    "movie_data['movie_name']"
   ]
  },
  {
   "cell_type": "code",
   "execution_count": 12,
   "metadata": {
    "ExecuteTime": {
     "end_time": "2021-11-25T09:45:06.950200Z",
     "start_time": "2021-11-25T09:45:06.916001Z"
    }
   },
   "outputs": [
    {
     "data": {
      "text/html": [
       "<div>\n",
       "<style scoped>\n",
       "    .dataframe tbody tr th:only-of-type {\n",
       "        vertical-align: middle;\n",
       "    }\n",
       "\n",
       "    .dataframe tbody tr th {\n",
       "        vertical-align: top;\n",
       "    }\n",
       "\n",
       "    .dataframe thead th {\n",
       "        text-align: right;\n",
       "    }\n",
       "</style>\n",
       "<table border=\"1\" class=\"dataframe\">\n",
       "  <thead>\n",
       "    <tr style=\"text-align: right;\">\n",
       "      <th></th>\n",
       "      <th>movie_name</th>\n",
       "      <th>release</th>\n",
       "      <th>take</th>\n",
       "      <th>take_ratio</th>\n",
       "      <th>audience</th>\n",
       "      <th>screen</th>\n",
       "      <th>view</th>\n",
       "      <th>nation</th>\n",
       "      <th>nations</th>\n",
       "      <th>distribution_company</th>\n",
       "    </tr>\n",
       "  </thead>\n",
       "  <tbody>\n",
       "    <tr>\n",
       "      <th>0</th>\n",
       "      <td>택시운전사</td>\n",
       "      <td>2017-08-02</td>\n",
       "      <td>95853645649</td>\n",
       "      <td>0.055</td>\n",
       "      <td>12186327</td>\n",
       "      <td>1906</td>\n",
       "      <td>184075</td>\n",
       "      <td>한국</td>\n",
       "      <td>한국</td>\n",
       "      <td>(주)쇼박스</td>\n",
       "    </tr>\n",
       "  </tbody>\n",
       "</table>\n",
       "</div>"
      ],
      "text/plain": [
       "  movie_name    release         take  take_ratio  audience  screen    view  \\\n",
       "0      택시운전사 2017-08-02  95853645649       0.055  12186327    1906  184075   \n",
       "\n",
       "  nation nations distribution_company  \n",
       "0     한국      한국               (주)쇼박스  "
      ]
     },
     "execution_count": 12,
     "metadata": {},
     "output_type": "execute_result"
    }
   ],
   "source": [
    "movie_data[movie_data['movie_name'] == '택시운전사']"
   ]
  },
  {
   "cell_type": "code",
   "execution_count": 21,
   "metadata": {
    "ExecuteTime": {
     "end_time": "2021-11-24T17:24:37.927658Z",
     "start_time": "2021-11-24T17:24:37.917665Z"
    }
   },
   "outputs": [
    {
     "data": {
      "text/plain": [
       "알라딘             2\n",
       "시동              2\n",
       "겨울왕국 2          2\n",
       "백두산             2\n",
       "기생충             2\n",
       "               ..\n",
       "82년생 김지영        1\n",
       "증인              1\n",
       "다만 악에서 구하소서     1\n",
       "어벤져스: 엔드게임      1\n",
       "분노의 질주: 홉스&쇼    1\n",
       "Name: movie_name, Length: 95, dtype: int64"
      ]
     },
     "execution_count": 21,
     "metadata": {},
     "output_type": "execute_result"
    }
   ],
   "source": [
    "# 겹치는 영화 있나 확인\n",
    "# 관객수 적은 행만 삭제되고 아예 동일한 행은 삭제 안됌\n",
    "movie_df_preprocessed.loc[:,'movie_name'].value_counts()"
   ]
  },
  {
   "cell_type": "code",
   "execution_count": 22,
   "metadata": {
    "ExecuteTime": {
     "end_time": "2021-11-24T17:24:37.944662Z",
     "start_time": "2021-11-24T17:24:37.932688Z"
    }
   },
   "outputs": [],
   "source": [
    "# 완전히 중복되는 행 제거\n",
    "movie_df_preprocessed = movie_df_preprocessed.drop_duplicates(['movie_name'], keep = 'first')"
   ]
  },
  {
   "cell_type": "code",
   "execution_count": 23,
   "metadata": {
    "ExecuteTime": {
     "end_time": "2021-11-24T17:24:37.967675Z",
     "start_time": "2021-11-24T17:24:37.948664Z"
    }
   },
   "outputs": [
    {
     "data": {
      "text/plain": [
       "말모이                        1\n",
       "포드 V 페라리                   1\n",
       "담보                         1\n",
       "버즈 오브 프레이(할리 퀸의 황홀한 해방)    1\n",
       "뮬란                         1\n",
       "                          ..\n",
       "다만 악에서 구하소서                1\n",
       "어벤져스: 엔드게임                 1\n",
       "터미네이터: 다크 페이트              1\n",
       "클로젯                        1\n",
       "분노의 질주: 홉스&쇼               1\n",
       "Name: movie_name, Length: 95, dtype: int64"
      ]
     },
     "execution_count": 23,
     "metadata": {},
     "output_type": "execute_result"
    }
   ],
   "source": [
    "movie_df_preprocessed.loc[:,'movie_name'].value_counts()"
   ]
  },
  {
   "cell_type": "code",
   "execution_count": 24,
   "metadata": {
    "ExecuteTime": {
     "end_time": "2021-11-24T17:24:38.019667Z",
     "start_time": "2021-11-24T17:24:37.974667Z"
    },
    "scrolled": true
   },
   "outputs": [
    {
     "data": {
      "text/html": [
       "<div>\n",
       "<style scoped>\n",
       "    .dataframe tbody tr th:only-of-type {\n",
       "        vertical-align: middle;\n",
       "    }\n",
       "\n",
       "    .dataframe tbody tr th {\n",
       "        vertical-align: top;\n",
       "    }\n",
       "\n",
       "    .dataframe thead th {\n",
       "        text-align: right;\n",
       "    }\n",
       "</style>\n",
       "<table border=\"1\" class=\"dataframe\">\n",
       "  <thead>\n",
       "    <tr style=\"text-align: right;\">\n",
       "      <th></th>\n",
       "      <th>movie_name</th>\n",
       "      <th>release</th>\n",
       "      <th>take</th>\n",
       "      <th>audience</th>\n",
       "      <th>nation</th>\n",
       "      <th>distribution_company</th>\n",
       "      <th>code</th>\n",
       "      <th>genre</th>\n",
       "      <th>kind</th>\n",
       "      <th>scale</th>\n",
       "      <th>running_time</th>\n",
       "      <th>age</th>\n",
       "      <th>actor</th>\n",
       "    </tr>\n",
       "  </thead>\n",
       "  <tbody>\n",
       "    <tr>\n",
       "      <th>0</th>\n",
       "      <td>극한직업</td>\n",
       "      <td>2019-01-23</td>\n",
       "      <td>139651845516</td>\n",
       "      <td>16265618</td>\n",
       "      <td>한국</td>\n",
       "      <td>(주)씨제이이엔엠</td>\n",
       "      <td>20182530</td>\n",
       "      <td>[코미디]</td>\n",
       "      <td>일반영화</td>\n",
       "      <td>장편</td>\n",
       "      <td>111분 0초</td>\n",
       "      <td>15세이상관람가</td>\n",
       "      <td>[류승룡, 이하늬, 진선규, 이동휘, 공명, 진선규, 홍은진]</td>\n",
       "    </tr>\n",
       "    <tr>\n",
       "      <th>1</th>\n",
       "      <td>어벤져스: 엔드게임</td>\n",
       "      <td>2019-04-24</td>\n",
       "      <td>122182694160</td>\n",
       "      <td>13934592</td>\n",
       "      <td>미국</td>\n",
       "      <td>월트디즈니컴퍼니코리아 유한책임회사</td>\n",
       "      <td>20184889</td>\n",
       "      <td>[액션, SF]</td>\n",
       "      <td>일반영화</td>\n",
       "      <td>장편</td>\n",
       "      <td>180분 57초</td>\n",
       "      <td>12세이상관람가</td>\n",
       "      <td>[로버트 다우니 주니어, 크리스 에반스, 마크 러팔로, 크리스 헴스워스, 스칼렛 요...</td>\n",
       "    </tr>\n",
       "    <tr>\n",
       "      <th>4</th>\n",
       "      <td>겨울왕국 2</td>\n",
       "      <td>2019-11-21</td>\n",
       "      <td>229620842900</td>\n",
       "      <td>27495584</td>\n",
       "      <td>미국</td>\n",
       "      <td>월트디즈니컴퍼니코리아 유한책임회사</td>\n",
       "      <td>20197803</td>\n",
       "      <td>[애니메이션]</td>\n",
       "      <td>일반영화</td>\n",
       "      <td>장편</td>\n",
       "      <td>103분 4초</td>\n",
       "      <td>전체관람가</td>\n",
       "      <td>[크리스틴 벨, 이디나 멘젤, 조시 게드, 조나단 그로프]</td>\n",
       "    </tr>\n",
       "    <tr>\n",
       "      <th>8</th>\n",
       "      <td>알라딘</td>\n",
       "      <td>2019-05-23</td>\n",
       "      <td>216321098078</td>\n",
       "      <td>25447554</td>\n",
       "      <td>미국</td>\n",
       "      <td>월트디즈니컴퍼니코리아 유한책임회사</td>\n",
       "      <td>20183867</td>\n",
       "      <td>[어드벤처, 가족, 판타지]</td>\n",
       "      <td>일반영화</td>\n",
       "      <td>장편</td>\n",
       "      <td>127분 48초</td>\n",
       "      <td>전체관람가</td>\n",
       "      <td>[메나 마수드, 윌 스미스, 나오미 스콧]</td>\n",
       "    </tr>\n",
       "    <tr>\n",
       "      <th>12</th>\n",
       "      <td>기생충</td>\n",
       "      <td>2019-05-30</td>\n",
       "      <td>174921006190</td>\n",
       "      <td>20626290</td>\n",
       "      <td>한국</td>\n",
       "      <td>(주)씨제이이엔엠</td>\n",
       "      <td>20183782</td>\n",
       "      <td>[드라마]</td>\n",
       "      <td>일반영화</td>\n",
       "      <td>장편</td>\n",
       "      <td>131분 39초</td>\n",
       "      <td>15세이상관람가</td>\n",
       "      <td>[송강호, 이선균, 조여정, 최우식, 박소담, 이정은, 장혜진, 박명훈]</td>\n",
       "    </tr>\n",
       "    <tr>\n",
       "      <th>...</th>\n",
       "      <td>...</td>\n",
       "      <td>...</td>\n",
       "      <td>...</td>\n",
       "      <td>...</td>\n",
       "      <td>...</td>\n",
       "      <td>...</td>\n",
       "      <td>...</td>\n",
       "      <td>...</td>\n",
       "      <td>...</td>\n",
       "      <td>...</td>\n",
       "      <td>...</td>\n",
       "      <td>...</td>\n",
       "      <td>...</td>\n",
       "    </tr>\n",
       "    <tr>\n",
       "      <th>105</th>\n",
       "      <td>프리즌 이스케이프</td>\n",
       "      <td>2020-05-06</td>\n",
       "      <td>1848297600</td>\n",
       "      <td>217056</td>\n",
       "      <td>영국</td>\n",
       "      <td>(주)이놀미디어</td>\n",
       "      <td>20207893</td>\n",
       "      <td>[어드벤처, 스릴러]</td>\n",
       "      <td>예술영화</td>\n",
       "      <td>장편</td>\n",
       "      <td>106분 16초</td>\n",
       "      <td>12세이상관람가</td>\n",
       "      <td>[다니엘 래드클리프, 이안 하트]</td>\n",
       "    </tr>\n",
       "    <tr>\n",
       "      <th>106</th>\n",
       "      <td>검객</td>\n",
       "      <td>2020-09-23</td>\n",
       "      <td>1619781870</td>\n",
       "      <td>190237</td>\n",
       "      <td>한국</td>\n",
       "      <td>(주)키위미디어그룹,오퍼스픽쳐스(유),(주)씨네필운</td>\n",
       "      <td>20178401</td>\n",
       "      <td>[액션]</td>\n",
       "      <td>일반영화</td>\n",
       "      <td>장편</td>\n",
       "      <td>100분 24초</td>\n",
       "      <td>15세이상관람가</td>\n",
       "      <td>[장혁, 김현수, 조 타슬림]</td>\n",
       "    </tr>\n",
       "    <tr>\n",
       "      <th>107</th>\n",
       "      <td>조제</td>\n",
       "      <td>2020-12-10</td>\n",
       "      <td>1673427570</td>\n",
       "      <td>186647</td>\n",
       "      <td>한국</td>\n",
       "      <td>워너브러더스 코리아(주)</td>\n",
       "      <td>20201002</td>\n",
       "      <td>[멜로/로맨스, 드라마]</td>\n",
       "      <td>일반영화</td>\n",
       "      <td>장편</td>\n",
       "      <td>116분 51초</td>\n",
       "      <td>15세이상관람가</td>\n",
       "      <td>[한지민, 남주혁]</td>\n",
       "    </tr>\n",
       "    <tr>\n",
       "      <th>108</th>\n",
       "      <td>사라진 시간</td>\n",
       "      <td>2020-06-18</td>\n",
       "      <td>1652522580</td>\n",
       "      <td>185802</td>\n",
       "      <td>한국</td>\n",
       "      <td>(주)에이스메이커무비웍스</td>\n",
       "      <td>20193859</td>\n",
       "      <td>[미스터리, 드라마]</td>\n",
       "      <td>일반영화</td>\n",
       "      <td>장편</td>\n",
       "      <td>104분 38초</td>\n",
       "      <td>15세이상관람가</td>\n",
       "      <td>[조진웅, 배수빈, 정해균, 차수연]</td>\n",
       "    </tr>\n",
       "    <tr>\n",
       "      <th>109</th>\n",
       "      <td>밤쉘: 세상을 바꾼 폭탄선언</td>\n",
       "      <td>2020-07-08</td>\n",
       "      <td>1544025340</td>\n",
       "      <td>182026</td>\n",
       "      <td>미국</td>\n",
       "      <td>(주)홈초이스</td>\n",
       "      <td>20204644</td>\n",
       "      <td>[드라마]</td>\n",
       "      <td>예술영화</td>\n",
       "      <td>장편</td>\n",
       "      <td>108분 51초</td>\n",
       "      <td>15세이상관람가</td>\n",
       "      <td>[샤를리즈 테론, 니콜 키드먼, 마고 로비]</td>\n",
       "    </tr>\n",
       "  </tbody>\n",
       "</table>\n",
       "<p>95 rows × 13 columns</p>\n",
       "</div>"
      ],
      "text/plain": [
       "          movie_name    release          take  audience nation  \\\n",
       "0               극한직업 2019-01-23  139651845516  16265618     한국   \n",
       "1         어벤져스: 엔드게임 2019-04-24  122182694160  13934592     미국   \n",
       "4             겨울왕국 2 2019-11-21  229620842900  27495584     미국   \n",
       "8                알라딘 2019-05-23  216321098078  25447554     미국   \n",
       "12               기생충 2019-05-30  174921006190  20626290     한국   \n",
       "..               ...        ...           ...       ...    ...   \n",
       "105        프리즌 이스케이프 2020-05-06    1848297600    217056     영국   \n",
       "106               검객 2020-09-23    1619781870    190237     한국   \n",
       "107               조제 2020-12-10    1673427570    186647     한국   \n",
       "108           사라진 시간 2020-06-18    1652522580    185802     한국   \n",
       "109  밤쉘: 세상을 바꾼 폭탄선언 2020-07-08    1544025340    182026     미국   \n",
       "\n",
       "             distribution_company      code            genre  kind scale  \\\n",
       "0                       (주)씨제이이엔엠  20182530            [코미디]  일반영화    장편   \n",
       "1              월트디즈니컴퍼니코리아 유한책임회사  20184889         [액션, SF]  일반영화    장편   \n",
       "4              월트디즈니컴퍼니코리아 유한책임회사  20197803          [애니메이션]  일반영화    장편   \n",
       "8              월트디즈니컴퍼니코리아 유한책임회사  20183867  [어드벤처, 가족, 판타지]  일반영화    장편   \n",
       "12                      (주)씨제이이엔엠  20183782            [드라마]  일반영화    장편   \n",
       "..                            ...       ...              ...   ...   ...   \n",
       "105                      (주)이놀미디어  20207893      [어드벤처, 스릴러]  예술영화    장편   \n",
       "106  (주)키위미디어그룹,오퍼스픽쳐스(유),(주)씨네필운  20178401             [액션]  일반영화    장편   \n",
       "107                 워너브러더스 코리아(주)  20201002    [멜로/로맨스, 드라마]  일반영화    장편   \n",
       "108                 (주)에이스메이커무비웍스  20193859      [미스터리, 드라마]  일반영화    장편   \n",
       "109                       (주)홈초이스  20204644            [드라마]  예술영화    장편   \n",
       "\n",
       "    running_time       age                                              actor  \n",
       "0        111분 0초  15세이상관람가                 [류승룡, 이하늬, 진선규, 이동휘, 공명, 진선규, 홍은진]  \n",
       "1       180분 57초  12세이상관람가  [로버트 다우니 주니어, 크리스 에반스, 마크 러팔로, 크리스 헴스워스, 스칼렛 요...  \n",
       "4        103분 4초     전체관람가                   [크리스틴 벨, 이디나 멘젤, 조시 게드, 조나단 그로프]  \n",
       "8       127분 48초     전체관람가                            [메나 마수드, 윌 스미스, 나오미 스콧]  \n",
       "12      131분 39초  15세이상관람가           [송강호, 이선균, 조여정, 최우식, 박소담, 이정은, 장혜진, 박명훈]  \n",
       "..           ...       ...                                                ...  \n",
       "105     106분 16초  12세이상관람가                                 [다니엘 래드클리프, 이안 하트]  \n",
       "106     100분 24초  15세이상관람가                                   [장혁, 김현수, 조 타슬림]  \n",
       "107     116분 51초  15세이상관람가                                         [한지민, 남주혁]  \n",
       "108     104분 38초  15세이상관람가                               [조진웅, 배수빈, 정해균, 차수연]  \n",
       "109     108분 51초  15세이상관람가                           [샤를리즈 테론, 니콜 키드먼, 마고 로비]  \n",
       "\n",
       "[95 rows x 13 columns]"
      ]
     },
     "execution_count": 24,
     "metadata": {},
     "output_type": "execute_result"
    }
   ],
   "source": [
    "movie_df_preprocessed"
   ]
  },
  {
   "cell_type": "code",
   "execution_count": 25,
   "metadata": {
    "ExecuteTime": {
     "end_time": "2021-11-24T17:24:38.028662Z",
     "start_time": "2021-11-24T17:24:38.022662Z"
    },
    "scrolled": true
   },
   "outputs": [
    {
     "name": "stdout",
     "output_type": "stream",
     "text": [
      "95\n",
      "['극한직업', '어벤져스: 엔드게임', '겨울왕국 2', '알라딘', '기생충', '엑시트', '스파이더맨: 파 프롬 홈', '백두산', '캡틴 마블', '조커', '봉오동 전투', '라이온 킹', '나쁜 녀석들: 더 무비', '82년생 김지영', '분노의 질주: 홉스&쇼', '토이 스토리 4', '돈', '악인전', '가장 보통의 연애', '말모이', '증인', '시동', '블랙머니', '터미네이터: 다크 페이트', '사바하', '타짜: 원 아이드 잭', '신의 한 수: 귀수편', '알리타: 배틀 엔젤', '내안의 그놈', '뺑반', '변신', '주먹왕 랄프 2: 인터넷 속으로', '걸캅스', '사자', '아쿠아맨', '드래곤 길들이기 3', '나의 특별한 형제', '어스', '말레피센트 2', '유열의 음악앨범', '퍼펙트맨', '포드 V 페라리', '생일', '힘을 내요, 미스터 리', '항거:유관순 이야기', '장사리 : 잊혀진 영웅들', '마이펫의 이중생활 2', '롱 리브 더 킹: 목포 영웅', '쥬만지: 넥스트 레벨', '존 윅 3: 파라벨룸', '남산의 부장들', '다만 악에서 구하소서', '반도', '히트맨', '테넷', '#살아있다', '강철비2: 정상회담', '담보', '닥터 두리틀', '삼진그룹 영어토익반', '정직한 후보', '도굴', '클로젯', '오케이 마담', '해치지않아', '천문: 하늘에 묻는다', '결백', '1917', '작은 아씨들', '미드웨이', '지푸라기라도 잡고 싶은 짐승들', '미스터 주: 사라진 VIP', '인비저블맨', '나쁜 녀석들: 포에버', '국제수사', '침입자', '스타워즈: 라이즈 오브 스카이워커', '스파이 지니어스', '이웃사촌', '온워드: 단 하루의 기적', '소리도 없이', '버즈 오브 프레이(할리 퀸의 황홀한 해방)', '원더 우먼 1984', '오! 문희', '그린랜드', '위대한 쇼맨', '런', '뮬란', '내가 죽던 날', '신비아파트 극장판 하늘도깨비 대 요르문간드', '프리즌 이스케이프', '검객', '조제', '사라진 시간', '밤쉘: 세상을 바꾼 폭탄선언']\n"
     ]
    }
   ],
   "source": [
    "# 중복되는 영화 제거 후 영화명\n",
    "movie_name = list(movie_df_preprocessed.loc[:, 'movie_name'])\n",
    "\n",
    "print(len(movie_name))\n",
    "print(movie_name)"
   ]
  },
  {
   "cell_type": "markdown",
   "metadata": {},
   "source": [
    "## 특정 영화 제거"
   ]
  },
  {
   "cell_type": "code",
   "execution_count": 13,
   "metadata": {
    "ExecuteTime": {
     "end_time": "2021-11-25T09:45:31.602903Z",
     "start_time": "2021-11-25T09:45:31.593876Z"
    }
   },
   "outputs": [],
   "source": [
    "movie_data = movie_data[movie_data['movie_name']!='런']"
   ]
  },
  {
   "cell_type": "code",
   "execution_count": 14,
   "metadata": {
    "ExecuteTime": {
     "end_time": "2021-11-25T09:45:38.652528Z",
     "start_time": "2021-11-25T09:45:38.643248Z"
    }
   },
   "outputs": [
    {
     "name": "stdout",
     "output_type": "stream",
     "text": [
      "191\n",
      "True\n",
      "['택시운전사', '신과함께-죄와 벌', '공조', '스파이더맨: 홈 커밍', '범죄도시', '군함도', '청년경찰', '더 킹', '미녀와 야수', '킹스맨: 골든 서클', '토르: 라그나로크', '꾼', '강철비', '남한산성', '미이라', '분노의 질주: 더 익스트림', '너의 이름은.', '슈퍼배드 3', '아이 캔 스피크', '캐리비안의 해적: 죽은 자는 말이 없다', '프리즌', '덩케르크', '가디언즈 오브 갤럭시 VOL. 2', '살인자의 기억법', '트랜스포머: 최후의 기사', '보안관', '조작된 도시', '보스 베이비', '재심', '박열', '모아나', '마스터', '로건', '원더 우먼', '겟 아웃', '혹성탈출: 종의 전쟁', '1987', '애나벨 : 인형의 주인', '노무현입니다', '저스티스 리그', '킬러의 보디가드', '콩: 스컬 아일랜드', '23 아이덴티티', '임금님의 사건수첩', '부라더', '기억의 밤', '해피 데스데이', '브이아이피', '특별시민', '에이리언: 커버넌트', '신과함께-인과 연', '어벤져스: 인피니티 워', '보헤미안 랩소디', '미션 임파서블: 폴아웃', '쥬라기 월드: 폴른 킹덤', '앤트맨과 와스프', '안시성', '블랙 팬서', '완벽한 타인', '독전', '공작', '베놈', '암수살인', '데드풀 2', '국가부도의 날', '코코', '아쿠아맨', '그것만이 내 세상', '마녀', '탐정: 리턴즈', '인크레더블 2', '서치', '너의 결혼식', '곤지암', '지금 만나러 갑니다', '목격자', '조선명탐정: 흡혈괴마의 비밀', '신비한 동물들과 그린델왈드의 범죄', '메이즈 러너: 데스 큐어', '맘마미아!2', '레디 플레이어 원', '명당', '협상', '마약왕', '쥬만지: 새로운 세계', '창궐', '성난황소', '도어락', '리틀 포레스트', '골든슬럼버', '램페이지', '궁합', '오션스8', '사라진 밤', '스윙키즈', '바람 바람 바람', 'PMC: 더 벙커', '범블비', '극한직업', '어벤져스: 엔드게임', '겨울왕국 2', '알라딘', '기생충', '엑시트', '스파이더맨: 파 프롬 홈', '백두산', '캡틴 마블', '조커', '봉오동 전투', '라이온 킹', '나쁜 녀석들: 더 무비', '82년생 김지영', '분노의 질주: 홉스&쇼', '토이 스토리 4', '돈', '악인전', '가장 보통의 연애', '말모이', '증인', '시동', '블랙머니', '터미네이터: 다크 페이트', '사바하', '타짜: 원 아이드 잭', '신의 한 수: 귀수편', '알리타: 배틀 엔젤', '내안의 그놈', '뺑반', '변신', '주먹왕 랄프 2: 인터넷 속으로', '걸캅스', '사자', '드래곤 길들이기 3', '나의 특별한 형제', '어스', '말레피센트 2', '유열의 음악앨범', '퍼펙트맨', '포드 V 페라리', '생일', '힘을 내요, 미스터 리', '항거:유관순 이야기', '장사리 : 잊혀진 영웅들', '마이펫의 이중생활 2', '롱 리브 더 킹: 목포 영웅', '쥬만지: 넥스트 레벨', '존 윅 3: 파라벨룸', '남산의 부장들', '다만 악에서 구하소서', '반도', '히트맨', '테넷', '#살아있다', '강철비2: 정상회담', '담보', '닥터 두리틀', '삼진그룹 영어토익반', '정직한 후보', '도굴', '클로젯', '오케이 마담', '해치지않아', '천문: 하늘에 묻는다', '결백', '1917', '작은 아씨들', '미드웨이', '지푸라기라도 잡고 싶은 짐승들', '미스터 주: 사라진 VIP', '인비저블맨', '나쁜 녀석들: 포에버', '국제수사', '침입자', '스타워즈: 라이즈 오브 스카이워커', '스파이 지니어스', '이웃사촌', '온워드: 단 하루의 기적', '소리도 없이', '버즈 오브 프레이(할리 퀸의 황홀한 해방)', '원더 우먼 1984', '오! 문희', '그린랜드', '위대한 쇼맨', '뮬란', '내가 죽던 날', '신비아파트 극장판 하늘도깨비 대 요르문간드', '프리즌 이스케이프', '검객', '조제', '사라진 시간', '밤쉘: 세상을 바꾼 폭탄선언']\n"
     ]
    }
   ],
   "source": [
    "# 특정 영화 제거 후 영화명\n",
    "movie_name_20_17 = list(movie_data.loc[:, 'movie_name'])\n",
    "\n",
    "print(len(movie_name_20_17))\n",
    "print('런' not in movie_name_20_17)\n",
    "print(movie_name_20_17)"
   ]
  },
  {
   "cell_type": "code",
   "execution_count": 26,
   "metadata": {
    "ExecuteTime": {
     "end_time": "2021-11-24T17:24:38.040663Z",
     "start_time": "2021-11-24T17:24:38.034662Z"
    }
   },
   "outputs": [],
   "source": [
    "# 런 제거\n",
    "movie_df_preprocessed = movie_df_preprocessed[movie_df_preprocessed['movie_name']!='런']"
   ]
  },
  {
   "cell_type": "code",
   "execution_count": 27,
   "metadata": {
    "ExecuteTime": {
     "end_time": "2021-11-24T17:24:38.053667Z",
     "start_time": "2021-11-24T17:24:38.042661Z"
    }
   },
   "outputs": [
    {
     "name": "stdout",
     "output_type": "stream",
     "text": [
      "94\n",
      "True\n",
      "['극한직업', '어벤져스: 엔드게임', '겨울왕국 2', '알라딘', '기생충', '엑시트', '스파이더맨: 파 프롬 홈', '백두산', '캡틴 마블', '조커', '봉오동 전투', '라이온 킹', '나쁜 녀석들: 더 무비', '82년생 김지영', '분노의 질주: 홉스&쇼', '토이 스토리 4', '돈', '악인전', '가장 보통의 연애', '말모이', '증인', '시동', '블랙머니', '터미네이터: 다크 페이트', '사바하', '타짜: 원 아이드 잭', '신의 한 수: 귀수편', '알리타: 배틀 엔젤', '내안의 그놈', '뺑반', '변신', '주먹왕 랄프 2: 인터넷 속으로', '걸캅스', '사자', '아쿠아맨', '드래곤 길들이기 3', '나의 특별한 형제', '어스', '말레피센트 2', '유열의 음악앨범', '퍼펙트맨', '포드 V 페라리', '생일', '힘을 내요, 미스터 리', '항거:유관순 이야기', '장사리 : 잊혀진 영웅들', '마이펫의 이중생활 2', '롱 리브 더 킹: 목포 영웅', '쥬만지: 넥스트 레벨', '존 윅 3: 파라벨룸', '남산의 부장들', '다만 악에서 구하소서', '반도', '히트맨', '테넷', '#살아있다', '강철비2: 정상회담', '담보', '닥터 두리틀', '삼진그룹 영어토익반', '정직한 후보', '도굴', '클로젯', '오케이 마담', '해치지않아', '천문: 하늘에 묻는다', '결백', '1917', '작은 아씨들', '미드웨이', '지푸라기라도 잡고 싶은 짐승들', '미스터 주: 사라진 VIP', '인비저블맨', '나쁜 녀석들: 포에버', '국제수사', '침입자', '스타워즈: 라이즈 오브 스카이워커', '스파이 지니어스', '이웃사촌', '온워드: 단 하루의 기적', '소리도 없이', '버즈 오브 프레이(할리 퀸의 황홀한 해방)', '원더 우먼 1984', '오! 문희', '그린랜드', '위대한 쇼맨', '뮬란', '내가 죽던 날', '신비아파트 극장판 하늘도깨비 대 요르문간드', '프리즌 이스케이프', '검객', '조제', '사라진 시간', '밤쉘: 세상을 바꾼 폭탄선언']\n"
     ]
    }
   ],
   "source": [
    "# 특정 영화 제거 후 영화명\n",
    "movie_name = list(movie_df_preprocessed.loc[:, 'movie_name'])\n",
    "\n",
    "print(len(movie_name))\n",
    "print('런' not in movie_name)\n",
    "print(movie_name)"
   ]
  },
  {
   "cell_type": "markdown",
   "metadata": {},
   "source": [
    "## reindex"
   ]
  },
  {
   "cell_type": "code",
   "execution_count": 28,
   "metadata": {
    "ExecuteTime": {
     "end_time": "2021-11-24T17:24:38.075673Z",
     "start_time": "2021-11-24T17:24:38.059668Z"
    }
   },
   "outputs": [],
   "source": [
    "movie_df_preprocessed = movie_df_preprocessed.reset_index()\n",
    "movie_df_preprocessed = movie_df_preprocessed.drop('index', axis = 1)"
   ]
  },
  {
   "cell_type": "code",
   "execution_count": 29,
   "metadata": {
    "ExecuteTime": {
     "end_time": "2021-11-24T17:24:38.125667Z",
     "start_time": "2021-11-24T17:24:38.080680Z"
    },
    "scrolled": true
   },
   "outputs": [
    {
     "data": {
      "text/html": [
       "<div>\n",
       "<style scoped>\n",
       "    .dataframe tbody tr th:only-of-type {\n",
       "        vertical-align: middle;\n",
       "    }\n",
       "\n",
       "    .dataframe tbody tr th {\n",
       "        vertical-align: top;\n",
       "    }\n",
       "\n",
       "    .dataframe thead th {\n",
       "        text-align: right;\n",
       "    }\n",
       "</style>\n",
       "<table border=\"1\" class=\"dataframe\">\n",
       "  <thead>\n",
       "    <tr style=\"text-align: right;\">\n",
       "      <th></th>\n",
       "      <th>movie_name</th>\n",
       "      <th>release</th>\n",
       "      <th>take</th>\n",
       "      <th>audience</th>\n",
       "      <th>nation</th>\n",
       "      <th>distribution_company</th>\n",
       "      <th>code</th>\n",
       "      <th>genre</th>\n",
       "      <th>kind</th>\n",
       "      <th>scale</th>\n",
       "      <th>running_time</th>\n",
       "      <th>age</th>\n",
       "      <th>actor</th>\n",
       "    </tr>\n",
       "  </thead>\n",
       "  <tbody>\n",
       "    <tr>\n",
       "      <th>0</th>\n",
       "      <td>극한직업</td>\n",
       "      <td>2019-01-23</td>\n",
       "      <td>139651845516</td>\n",
       "      <td>16265618</td>\n",
       "      <td>한국</td>\n",
       "      <td>(주)씨제이이엔엠</td>\n",
       "      <td>20182530</td>\n",
       "      <td>[코미디]</td>\n",
       "      <td>일반영화</td>\n",
       "      <td>장편</td>\n",
       "      <td>111분 0초</td>\n",
       "      <td>15세이상관람가</td>\n",
       "      <td>[류승룡, 이하늬, 진선규, 이동휘, 공명, 진선규, 홍은진]</td>\n",
       "    </tr>\n",
       "    <tr>\n",
       "      <th>1</th>\n",
       "      <td>어벤져스: 엔드게임</td>\n",
       "      <td>2019-04-24</td>\n",
       "      <td>122182694160</td>\n",
       "      <td>13934592</td>\n",
       "      <td>미국</td>\n",
       "      <td>월트디즈니컴퍼니코리아 유한책임회사</td>\n",
       "      <td>20184889</td>\n",
       "      <td>[액션, SF]</td>\n",
       "      <td>일반영화</td>\n",
       "      <td>장편</td>\n",
       "      <td>180분 57초</td>\n",
       "      <td>12세이상관람가</td>\n",
       "      <td>[로버트 다우니 주니어, 크리스 에반스, 마크 러팔로, 크리스 헴스워스, 스칼렛 요...</td>\n",
       "    </tr>\n",
       "    <tr>\n",
       "      <th>2</th>\n",
       "      <td>겨울왕국 2</td>\n",
       "      <td>2019-11-21</td>\n",
       "      <td>229620842900</td>\n",
       "      <td>27495584</td>\n",
       "      <td>미국</td>\n",
       "      <td>월트디즈니컴퍼니코리아 유한책임회사</td>\n",
       "      <td>20197803</td>\n",
       "      <td>[애니메이션]</td>\n",
       "      <td>일반영화</td>\n",
       "      <td>장편</td>\n",
       "      <td>103분 4초</td>\n",
       "      <td>전체관람가</td>\n",
       "      <td>[크리스틴 벨, 이디나 멘젤, 조시 게드, 조나단 그로프]</td>\n",
       "    </tr>\n",
       "    <tr>\n",
       "      <th>3</th>\n",
       "      <td>알라딘</td>\n",
       "      <td>2019-05-23</td>\n",
       "      <td>216321098078</td>\n",
       "      <td>25447554</td>\n",
       "      <td>미국</td>\n",
       "      <td>월트디즈니컴퍼니코리아 유한책임회사</td>\n",
       "      <td>20183867</td>\n",
       "      <td>[어드벤처, 가족, 판타지]</td>\n",
       "      <td>일반영화</td>\n",
       "      <td>장편</td>\n",
       "      <td>127분 48초</td>\n",
       "      <td>전체관람가</td>\n",
       "      <td>[메나 마수드, 윌 스미스, 나오미 스콧]</td>\n",
       "    </tr>\n",
       "    <tr>\n",
       "      <th>4</th>\n",
       "      <td>기생충</td>\n",
       "      <td>2019-05-30</td>\n",
       "      <td>174921006190</td>\n",
       "      <td>20626290</td>\n",
       "      <td>한국</td>\n",
       "      <td>(주)씨제이이엔엠</td>\n",
       "      <td>20183782</td>\n",
       "      <td>[드라마]</td>\n",
       "      <td>일반영화</td>\n",
       "      <td>장편</td>\n",
       "      <td>131분 39초</td>\n",
       "      <td>15세이상관람가</td>\n",
       "      <td>[송강호, 이선균, 조여정, 최우식, 박소담, 이정은, 장혜진, 박명훈]</td>\n",
       "    </tr>\n",
       "    <tr>\n",
       "      <th>...</th>\n",
       "      <td>...</td>\n",
       "      <td>...</td>\n",
       "      <td>...</td>\n",
       "      <td>...</td>\n",
       "      <td>...</td>\n",
       "      <td>...</td>\n",
       "      <td>...</td>\n",
       "      <td>...</td>\n",
       "      <td>...</td>\n",
       "      <td>...</td>\n",
       "      <td>...</td>\n",
       "      <td>...</td>\n",
       "      <td>...</td>\n",
       "    </tr>\n",
       "    <tr>\n",
       "      <th>89</th>\n",
       "      <td>프리즌 이스케이프</td>\n",
       "      <td>2020-05-06</td>\n",
       "      <td>1848297600</td>\n",
       "      <td>217056</td>\n",
       "      <td>영국</td>\n",
       "      <td>(주)이놀미디어</td>\n",
       "      <td>20207893</td>\n",
       "      <td>[어드벤처, 스릴러]</td>\n",
       "      <td>예술영화</td>\n",
       "      <td>장편</td>\n",
       "      <td>106분 16초</td>\n",
       "      <td>12세이상관람가</td>\n",
       "      <td>[다니엘 래드클리프, 이안 하트]</td>\n",
       "    </tr>\n",
       "    <tr>\n",
       "      <th>90</th>\n",
       "      <td>검객</td>\n",
       "      <td>2020-09-23</td>\n",
       "      <td>1619781870</td>\n",
       "      <td>190237</td>\n",
       "      <td>한국</td>\n",
       "      <td>(주)키위미디어그룹,오퍼스픽쳐스(유),(주)씨네필운</td>\n",
       "      <td>20178401</td>\n",
       "      <td>[액션]</td>\n",
       "      <td>일반영화</td>\n",
       "      <td>장편</td>\n",
       "      <td>100분 24초</td>\n",
       "      <td>15세이상관람가</td>\n",
       "      <td>[장혁, 김현수, 조 타슬림]</td>\n",
       "    </tr>\n",
       "    <tr>\n",
       "      <th>91</th>\n",
       "      <td>조제</td>\n",
       "      <td>2020-12-10</td>\n",
       "      <td>1673427570</td>\n",
       "      <td>186647</td>\n",
       "      <td>한국</td>\n",
       "      <td>워너브러더스 코리아(주)</td>\n",
       "      <td>20201002</td>\n",
       "      <td>[멜로/로맨스, 드라마]</td>\n",
       "      <td>일반영화</td>\n",
       "      <td>장편</td>\n",
       "      <td>116분 51초</td>\n",
       "      <td>15세이상관람가</td>\n",
       "      <td>[한지민, 남주혁]</td>\n",
       "    </tr>\n",
       "    <tr>\n",
       "      <th>92</th>\n",
       "      <td>사라진 시간</td>\n",
       "      <td>2020-06-18</td>\n",
       "      <td>1652522580</td>\n",
       "      <td>185802</td>\n",
       "      <td>한국</td>\n",
       "      <td>(주)에이스메이커무비웍스</td>\n",
       "      <td>20193859</td>\n",
       "      <td>[미스터리, 드라마]</td>\n",
       "      <td>일반영화</td>\n",
       "      <td>장편</td>\n",
       "      <td>104분 38초</td>\n",
       "      <td>15세이상관람가</td>\n",
       "      <td>[조진웅, 배수빈, 정해균, 차수연]</td>\n",
       "    </tr>\n",
       "    <tr>\n",
       "      <th>93</th>\n",
       "      <td>밤쉘: 세상을 바꾼 폭탄선언</td>\n",
       "      <td>2020-07-08</td>\n",
       "      <td>1544025340</td>\n",
       "      <td>182026</td>\n",
       "      <td>미국</td>\n",
       "      <td>(주)홈초이스</td>\n",
       "      <td>20204644</td>\n",
       "      <td>[드라마]</td>\n",
       "      <td>예술영화</td>\n",
       "      <td>장편</td>\n",
       "      <td>108분 51초</td>\n",
       "      <td>15세이상관람가</td>\n",
       "      <td>[샤를리즈 테론, 니콜 키드먼, 마고 로비]</td>\n",
       "    </tr>\n",
       "  </tbody>\n",
       "</table>\n",
       "<p>94 rows × 13 columns</p>\n",
       "</div>"
      ],
      "text/plain": [
       "         movie_name    release          take  audience nation  \\\n",
       "0              극한직업 2019-01-23  139651845516  16265618     한국   \n",
       "1        어벤져스: 엔드게임 2019-04-24  122182694160  13934592     미국   \n",
       "2            겨울왕국 2 2019-11-21  229620842900  27495584     미국   \n",
       "3               알라딘 2019-05-23  216321098078  25447554     미국   \n",
       "4               기생충 2019-05-30  174921006190  20626290     한국   \n",
       "..              ...        ...           ...       ...    ...   \n",
       "89        프리즌 이스케이프 2020-05-06    1848297600    217056     영국   \n",
       "90               검객 2020-09-23    1619781870    190237     한국   \n",
       "91               조제 2020-12-10    1673427570    186647     한국   \n",
       "92           사라진 시간 2020-06-18    1652522580    185802     한국   \n",
       "93  밤쉘: 세상을 바꾼 폭탄선언 2020-07-08    1544025340    182026     미국   \n",
       "\n",
       "            distribution_company      code            genre  kind scale  \\\n",
       "0                      (주)씨제이이엔엠  20182530            [코미디]  일반영화    장편   \n",
       "1             월트디즈니컴퍼니코리아 유한책임회사  20184889         [액션, SF]  일반영화    장편   \n",
       "2             월트디즈니컴퍼니코리아 유한책임회사  20197803          [애니메이션]  일반영화    장편   \n",
       "3             월트디즈니컴퍼니코리아 유한책임회사  20183867  [어드벤처, 가족, 판타지]  일반영화    장편   \n",
       "4                      (주)씨제이이엔엠  20183782            [드라마]  일반영화    장편   \n",
       "..                           ...       ...              ...   ...   ...   \n",
       "89                      (주)이놀미디어  20207893      [어드벤처, 스릴러]  예술영화    장편   \n",
       "90  (주)키위미디어그룹,오퍼스픽쳐스(유),(주)씨네필운  20178401             [액션]  일반영화    장편   \n",
       "91                 워너브러더스 코리아(주)  20201002    [멜로/로맨스, 드라마]  일반영화    장편   \n",
       "92                 (주)에이스메이커무비웍스  20193859      [미스터리, 드라마]  일반영화    장편   \n",
       "93                       (주)홈초이스  20204644            [드라마]  예술영화    장편   \n",
       "\n",
       "   running_time       age                                              actor  \n",
       "0       111분 0초  15세이상관람가                 [류승룡, 이하늬, 진선규, 이동휘, 공명, 진선규, 홍은진]  \n",
       "1      180분 57초  12세이상관람가  [로버트 다우니 주니어, 크리스 에반스, 마크 러팔로, 크리스 헴스워스, 스칼렛 요...  \n",
       "2       103분 4초     전체관람가                   [크리스틴 벨, 이디나 멘젤, 조시 게드, 조나단 그로프]  \n",
       "3      127분 48초     전체관람가                            [메나 마수드, 윌 스미스, 나오미 스콧]  \n",
       "4      131분 39초  15세이상관람가           [송강호, 이선균, 조여정, 최우식, 박소담, 이정은, 장혜진, 박명훈]  \n",
       "..          ...       ...                                                ...  \n",
       "89     106분 16초  12세이상관람가                                 [다니엘 래드클리프, 이안 하트]  \n",
       "90     100분 24초  15세이상관람가                                   [장혁, 김현수, 조 타슬림]  \n",
       "91     116분 51초  15세이상관람가                                         [한지민, 남주혁]  \n",
       "92     104분 38초  15세이상관람가                               [조진웅, 배수빈, 정해균, 차수연]  \n",
       "93     108분 51초  15세이상관람가                           [샤를리즈 테론, 니콜 키드먼, 마고 로비]  \n",
       "\n",
       "[94 rows x 13 columns]"
      ]
     },
     "execution_count": 29,
     "metadata": {},
     "output_type": "execute_result"
    }
   ],
   "source": [
    "movie_df_preprocessed"
   ]
  },
  {
   "cell_type": "markdown",
   "metadata": {},
   "source": [
    "# Merge SNS Features"
   ]
  },
  {
   "cell_type": "code",
   "execution_count": 30,
   "metadata": {
    "ExecuteTime": {
     "end_time": "2021-11-24T17:24:38.139662Z",
     "start_time": "2021-11-24T17:24:38.129673Z"
    }
   },
   "outputs": [
    {
     "name": "stdout",
     "output_type": "stream",
     "text": [
      "13\n",
      "Index(['movie_name', 'release', 'take', 'audience', 'nation',\n",
      "       'distribution_company', 'code', 'genre', 'kind', 'scale',\n",
      "       'running_time', 'age', 'actor'],\n",
      "      dtype='object')\n"
     ]
    }
   ],
   "source": [
    "print(len(movie_df_preprocessed.columns))\n",
    "print(movie_df_preprocessed.columns)"
   ]
  },
  {
   "cell_type": "code",
   "execution_count": 31,
   "metadata": {
    "ExecuteTime": {
     "end_time": "2021-11-24T17:24:38.148685Z",
     "start_time": "2021-11-24T17:24:38.142665Z"
    }
   },
   "outputs": [],
   "source": [
    "df_merge = movie_df_preprocessed.copy()"
   ]
  },
  {
   "cell_type": "markdown",
   "metadata": {},
   "source": [
    "## youtube"
   ]
  },
  {
   "cell_type": "markdown",
   "metadata": {
    "ExecuteTime": {
     "end_time": "2021-11-18T14:13:54.280511Z",
     "start_time": "2021-11-18T14:13:54.278406Z"
    }
   },
   "source": [
    "### youtube_commets_counts"
   ]
  },
  {
   "cell_type": "code",
   "execution_count": 32,
   "metadata": {
    "ExecuteTime": {
     "end_time": "2021-11-24T17:24:38.190659Z",
     "start_time": "2021-11-24T17:24:38.152661Z"
    }
   },
   "outputs": [],
   "source": [
    "comments_count = pd.read_excel('C:/Users/User/Desktop/Viral_Effect/SNS-scraping/youtube/huiwon/movie_comments_count.xlsx')\n",
    "comments_count.columns = ['movie_name', 'youtube_comment_count']"
   ]
  },
  {
   "cell_type": "code",
   "execution_count": 33,
   "metadata": {
    "ExecuteTime": {
     "end_time": "2021-11-24T17:24:38.205658Z",
     "start_time": "2021-11-24T17:24:38.191662Z"
    }
   },
   "outputs": [],
   "source": [
    "# 1917 과 같은 숫자 제목이 int형으로 저장되어 있음 -> str\n",
    "movie_names = [str(name) for name in comments_count['movie_name']]\n",
    "comments_count['movie_name'] = movie_names"
   ]
  },
  {
   "cell_type": "code",
   "execution_count": 34,
   "metadata": {
    "ExecuteTime": {
     "end_time": "2021-11-24T17:24:38.226658Z",
     "start_time": "2021-11-24T17:24:38.207665Z"
    }
   },
   "outputs": [
    {
     "data": {
      "text/html": [
       "<div>\n",
       "<style scoped>\n",
       "    .dataframe tbody tr th:only-of-type {\n",
       "        vertical-align: middle;\n",
       "    }\n",
       "\n",
       "    .dataframe tbody tr th {\n",
       "        vertical-align: top;\n",
       "    }\n",
       "\n",
       "    .dataframe thead th {\n",
       "        text-align: right;\n",
       "    }\n",
       "</style>\n",
       "<table border=\"1\" class=\"dataframe\">\n",
       "  <thead>\n",
       "    <tr style=\"text-align: right;\">\n",
       "      <th></th>\n",
       "      <th>movie_name</th>\n",
       "      <th>youtube_comment_count</th>\n",
       "    </tr>\n",
       "  </thead>\n",
       "  <tbody>\n",
       "    <tr>\n",
       "      <th>0</th>\n",
       "      <td>극한직업</td>\n",
       "      <td>9518</td>\n",
       "    </tr>\n",
       "    <tr>\n",
       "      <th>1</th>\n",
       "      <td>어벤져스: 엔드게임</td>\n",
       "      <td>26299</td>\n",
       "    </tr>\n",
       "    <tr>\n",
       "      <th>2</th>\n",
       "      <td>겨울왕국 2</td>\n",
       "      <td>20661</td>\n",
       "    </tr>\n",
       "    <tr>\n",
       "      <th>3</th>\n",
       "      <td>알라딘</td>\n",
       "      <td>6934</td>\n",
       "    </tr>\n",
       "    <tr>\n",
       "      <th>4</th>\n",
       "      <td>기생충</td>\n",
       "      <td>10215</td>\n",
       "    </tr>\n",
       "    <tr>\n",
       "      <th>...</th>\n",
       "      <td>...</td>\n",
       "      <td>...</td>\n",
       "    </tr>\n",
       "    <tr>\n",
       "      <th>89</th>\n",
       "      <td>프리즌 이스케이프</td>\n",
       "      <td>207</td>\n",
       "    </tr>\n",
       "    <tr>\n",
       "      <th>90</th>\n",
       "      <td>검객</td>\n",
       "      <td>531</td>\n",
       "    </tr>\n",
       "    <tr>\n",
       "      <th>91</th>\n",
       "      <td>조제</td>\n",
       "      <td>1132</td>\n",
       "    </tr>\n",
       "    <tr>\n",
       "      <th>92</th>\n",
       "      <td>사라진 시간</td>\n",
       "      <td>780</td>\n",
       "    </tr>\n",
       "    <tr>\n",
       "      <th>93</th>\n",
       "      <td>밤쉘: 세상을 바꾼 폭탄선언</td>\n",
       "      <td>142</td>\n",
       "    </tr>\n",
       "  </tbody>\n",
       "</table>\n",
       "<p>94 rows × 2 columns</p>\n",
       "</div>"
      ],
      "text/plain": [
       "         movie_name  youtube_comment_count\n",
       "0              극한직업                   9518\n",
       "1        어벤져스: 엔드게임                  26299\n",
       "2            겨울왕국 2                  20661\n",
       "3               알라딘                   6934\n",
       "4               기생충                  10215\n",
       "..              ...                    ...\n",
       "89        프리즌 이스케이프                    207\n",
       "90               검객                    531\n",
       "91               조제                   1132\n",
       "92           사라진 시간                    780\n",
       "93  밤쉘: 세상을 바꾼 폭탄선언                    142\n",
       "\n",
       "[94 rows x 2 columns]"
      ]
     },
     "execution_count": 34,
     "metadata": {},
     "output_type": "execute_result"
    }
   ],
   "source": [
    "comments_count"
   ]
  },
  {
   "cell_type": "code",
   "execution_count": 35,
   "metadata": {
    "ExecuteTime": {
     "end_time": "2021-11-24T17:24:38.237658Z",
     "start_time": "2021-11-24T17:24:38.228663Z"
    }
   },
   "outputs": [],
   "source": [
    "# merge 하기 위해 영화명이 겹치지 않는 것이 있나 확인\n",
    "for i in movie_name:\n",
    "    if i not in list(comments_count['movie_name']):\n",
    "        print(i)"
   ]
  },
  {
   "cell_type": "code",
   "execution_count": 36,
   "metadata": {
    "ExecuteTime": {
     "end_time": "2021-11-24T17:24:38.248662Z",
     "start_time": "2021-11-24T17:24:38.239659Z"
    }
   },
   "outputs": [],
   "source": [
    "df_merge = pd.merge(df_merge, comments_count, on = 'movie_name')"
   ]
  },
  {
   "cell_type": "code",
   "execution_count": 37,
   "metadata": {
    "ExecuteTime": {
     "end_time": "2021-11-24T17:24:38.308660Z",
     "start_time": "2021-11-24T17:24:38.252665Z"
    },
    "scrolled": true
   },
   "outputs": [
    {
     "data": {
      "text/html": [
       "<div>\n",
       "<style scoped>\n",
       "    .dataframe tbody tr th:only-of-type {\n",
       "        vertical-align: middle;\n",
       "    }\n",
       "\n",
       "    .dataframe tbody tr th {\n",
       "        vertical-align: top;\n",
       "    }\n",
       "\n",
       "    .dataframe thead th {\n",
       "        text-align: right;\n",
       "    }\n",
       "</style>\n",
       "<table border=\"1\" class=\"dataframe\">\n",
       "  <thead>\n",
       "    <tr style=\"text-align: right;\">\n",
       "      <th></th>\n",
       "      <th>movie_name</th>\n",
       "      <th>release</th>\n",
       "      <th>take</th>\n",
       "      <th>audience</th>\n",
       "      <th>nation</th>\n",
       "      <th>distribution_company</th>\n",
       "      <th>code</th>\n",
       "      <th>genre</th>\n",
       "      <th>kind</th>\n",
       "      <th>scale</th>\n",
       "      <th>running_time</th>\n",
       "      <th>age</th>\n",
       "      <th>actor</th>\n",
       "      <th>youtube_comment_count</th>\n",
       "    </tr>\n",
       "  </thead>\n",
       "  <tbody>\n",
       "    <tr>\n",
       "      <th>0</th>\n",
       "      <td>극한직업</td>\n",
       "      <td>2019-01-23</td>\n",
       "      <td>139651845516</td>\n",
       "      <td>16265618</td>\n",
       "      <td>한국</td>\n",
       "      <td>(주)씨제이이엔엠</td>\n",
       "      <td>20182530</td>\n",
       "      <td>[코미디]</td>\n",
       "      <td>일반영화</td>\n",
       "      <td>장편</td>\n",
       "      <td>111분 0초</td>\n",
       "      <td>15세이상관람가</td>\n",
       "      <td>[류승룡, 이하늬, 진선규, 이동휘, 공명, 진선규, 홍은진]</td>\n",
       "      <td>9518</td>\n",
       "    </tr>\n",
       "    <tr>\n",
       "      <th>1</th>\n",
       "      <td>어벤져스: 엔드게임</td>\n",
       "      <td>2019-04-24</td>\n",
       "      <td>122182694160</td>\n",
       "      <td>13934592</td>\n",
       "      <td>미국</td>\n",
       "      <td>월트디즈니컴퍼니코리아 유한책임회사</td>\n",
       "      <td>20184889</td>\n",
       "      <td>[액션, SF]</td>\n",
       "      <td>일반영화</td>\n",
       "      <td>장편</td>\n",
       "      <td>180분 57초</td>\n",
       "      <td>12세이상관람가</td>\n",
       "      <td>[로버트 다우니 주니어, 크리스 에반스, 마크 러팔로, 크리스 헴스워스, 스칼렛 요...</td>\n",
       "      <td>26299</td>\n",
       "    </tr>\n",
       "    <tr>\n",
       "      <th>2</th>\n",
       "      <td>겨울왕국 2</td>\n",
       "      <td>2019-11-21</td>\n",
       "      <td>229620842900</td>\n",
       "      <td>27495584</td>\n",
       "      <td>미국</td>\n",
       "      <td>월트디즈니컴퍼니코리아 유한책임회사</td>\n",
       "      <td>20197803</td>\n",
       "      <td>[애니메이션]</td>\n",
       "      <td>일반영화</td>\n",
       "      <td>장편</td>\n",
       "      <td>103분 4초</td>\n",
       "      <td>전체관람가</td>\n",
       "      <td>[크리스틴 벨, 이디나 멘젤, 조시 게드, 조나단 그로프]</td>\n",
       "      <td>20661</td>\n",
       "    </tr>\n",
       "    <tr>\n",
       "      <th>3</th>\n",
       "      <td>알라딘</td>\n",
       "      <td>2019-05-23</td>\n",
       "      <td>216321098078</td>\n",
       "      <td>25447554</td>\n",
       "      <td>미국</td>\n",
       "      <td>월트디즈니컴퍼니코리아 유한책임회사</td>\n",
       "      <td>20183867</td>\n",
       "      <td>[어드벤처, 가족, 판타지]</td>\n",
       "      <td>일반영화</td>\n",
       "      <td>장편</td>\n",
       "      <td>127분 48초</td>\n",
       "      <td>전체관람가</td>\n",
       "      <td>[메나 마수드, 윌 스미스, 나오미 스콧]</td>\n",
       "      <td>6934</td>\n",
       "    </tr>\n",
       "    <tr>\n",
       "      <th>4</th>\n",
       "      <td>기생충</td>\n",
       "      <td>2019-05-30</td>\n",
       "      <td>174921006190</td>\n",
       "      <td>20626290</td>\n",
       "      <td>한국</td>\n",
       "      <td>(주)씨제이이엔엠</td>\n",
       "      <td>20183782</td>\n",
       "      <td>[드라마]</td>\n",
       "      <td>일반영화</td>\n",
       "      <td>장편</td>\n",
       "      <td>131분 39초</td>\n",
       "      <td>15세이상관람가</td>\n",
       "      <td>[송강호, 이선균, 조여정, 최우식, 박소담, 이정은, 장혜진, 박명훈]</td>\n",
       "      <td>10215</td>\n",
       "    </tr>\n",
       "    <tr>\n",
       "      <th>...</th>\n",
       "      <td>...</td>\n",
       "      <td>...</td>\n",
       "      <td>...</td>\n",
       "      <td>...</td>\n",
       "      <td>...</td>\n",
       "      <td>...</td>\n",
       "      <td>...</td>\n",
       "      <td>...</td>\n",
       "      <td>...</td>\n",
       "      <td>...</td>\n",
       "      <td>...</td>\n",
       "      <td>...</td>\n",
       "      <td>...</td>\n",
       "      <td>...</td>\n",
       "    </tr>\n",
       "    <tr>\n",
       "      <th>89</th>\n",
       "      <td>프리즌 이스케이프</td>\n",
       "      <td>2020-05-06</td>\n",
       "      <td>1848297600</td>\n",
       "      <td>217056</td>\n",
       "      <td>영국</td>\n",
       "      <td>(주)이놀미디어</td>\n",
       "      <td>20207893</td>\n",
       "      <td>[어드벤처, 스릴러]</td>\n",
       "      <td>예술영화</td>\n",
       "      <td>장편</td>\n",
       "      <td>106분 16초</td>\n",
       "      <td>12세이상관람가</td>\n",
       "      <td>[다니엘 래드클리프, 이안 하트]</td>\n",
       "      <td>207</td>\n",
       "    </tr>\n",
       "    <tr>\n",
       "      <th>90</th>\n",
       "      <td>검객</td>\n",
       "      <td>2020-09-23</td>\n",
       "      <td>1619781870</td>\n",
       "      <td>190237</td>\n",
       "      <td>한국</td>\n",
       "      <td>(주)키위미디어그룹,오퍼스픽쳐스(유),(주)씨네필운</td>\n",
       "      <td>20178401</td>\n",
       "      <td>[액션]</td>\n",
       "      <td>일반영화</td>\n",
       "      <td>장편</td>\n",
       "      <td>100분 24초</td>\n",
       "      <td>15세이상관람가</td>\n",
       "      <td>[장혁, 김현수, 조 타슬림]</td>\n",
       "      <td>531</td>\n",
       "    </tr>\n",
       "    <tr>\n",
       "      <th>91</th>\n",
       "      <td>조제</td>\n",
       "      <td>2020-12-10</td>\n",
       "      <td>1673427570</td>\n",
       "      <td>186647</td>\n",
       "      <td>한국</td>\n",
       "      <td>워너브러더스 코리아(주)</td>\n",
       "      <td>20201002</td>\n",
       "      <td>[멜로/로맨스, 드라마]</td>\n",
       "      <td>일반영화</td>\n",
       "      <td>장편</td>\n",
       "      <td>116분 51초</td>\n",
       "      <td>15세이상관람가</td>\n",
       "      <td>[한지민, 남주혁]</td>\n",
       "      <td>1132</td>\n",
       "    </tr>\n",
       "    <tr>\n",
       "      <th>92</th>\n",
       "      <td>사라진 시간</td>\n",
       "      <td>2020-06-18</td>\n",
       "      <td>1652522580</td>\n",
       "      <td>185802</td>\n",
       "      <td>한국</td>\n",
       "      <td>(주)에이스메이커무비웍스</td>\n",
       "      <td>20193859</td>\n",
       "      <td>[미스터리, 드라마]</td>\n",
       "      <td>일반영화</td>\n",
       "      <td>장편</td>\n",
       "      <td>104분 38초</td>\n",
       "      <td>15세이상관람가</td>\n",
       "      <td>[조진웅, 배수빈, 정해균, 차수연]</td>\n",
       "      <td>780</td>\n",
       "    </tr>\n",
       "    <tr>\n",
       "      <th>93</th>\n",
       "      <td>밤쉘: 세상을 바꾼 폭탄선언</td>\n",
       "      <td>2020-07-08</td>\n",
       "      <td>1544025340</td>\n",
       "      <td>182026</td>\n",
       "      <td>미국</td>\n",
       "      <td>(주)홈초이스</td>\n",
       "      <td>20204644</td>\n",
       "      <td>[드라마]</td>\n",
       "      <td>예술영화</td>\n",
       "      <td>장편</td>\n",
       "      <td>108분 51초</td>\n",
       "      <td>15세이상관람가</td>\n",
       "      <td>[샤를리즈 테론, 니콜 키드먼, 마고 로비]</td>\n",
       "      <td>142</td>\n",
       "    </tr>\n",
       "  </tbody>\n",
       "</table>\n",
       "<p>94 rows × 14 columns</p>\n",
       "</div>"
      ],
      "text/plain": [
       "         movie_name    release          take  audience nation  \\\n",
       "0              극한직업 2019-01-23  139651845516  16265618     한국   \n",
       "1        어벤져스: 엔드게임 2019-04-24  122182694160  13934592     미국   \n",
       "2            겨울왕국 2 2019-11-21  229620842900  27495584     미국   \n",
       "3               알라딘 2019-05-23  216321098078  25447554     미국   \n",
       "4               기생충 2019-05-30  174921006190  20626290     한국   \n",
       "..              ...        ...           ...       ...    ...   \n",
       "89        프리즌 이스케이프 2020-05-06    1848297600    217056     영국   \n",
       "90               검객 2020-09-23    1619781870    190237     한국   \n",
       "91               조제 2020-12-10    1673427570    186647     한국   \n",
       "92           사라진 시간 2020-06-18    1652522580    185802     한국   \n",
       "93  밤쉘: 세상을 바꾼 폭탄선언 2020-07-08    1544025340    182026     미국   \n",
       "\n",
       "            distribution_company      code            genre  kind scale  \\\n",
       "0                      (주)씨제이이엔엠  20182530            [코미디]  일반영화    장편   \n",
       "1             월트디즈니컴퍼니코리아 유한책임회사  20184889         [액션, SF]  일반영화    장편   \n",
       "2             월트디즈니컴퍼니코리아 유한책임회사  20197803          [애니메이션]  일반영화    장편   \n",
       "3             월트디즈니컴퍼니코리아 유한책임회사  20183867  [어드벤처, 가족, 판타지]  일반영화    장편   \n",
       "4                      (주)씨제이이엔엠  20183782            [드라마]  일반영화    장편   \n",
       "..                           ...       ...              ...   ...   ...   \n",
       "89                      (주)이놀미디어  20207893      [어드벤처, 스릴러]  예술영화    장편   \n",
       "90  (주)키위미디어그룹,오퍼스픽쳐스(유),(주)씨네필운  20178401             [액션]  일반영화    장편   \n",
       "91                 워너브러더스 코리아(주)  20201002    [멜로/로맨스, 드라마]  일반영화    장편   \n",
       "92                 (주)에이스메이커무비웍스  20193859      [미스터리, 드라마]  일반영화    장편   \n",
       "93                       (주)홈초이스  20204644            [드라마]  예술영화    장편   \n",
       "\n",
       "   running_time       age                                              actor  \\\n",
       "0       111분 0초  15세이상관람가                 [류승룡, 이하늬, 진선규, 이동휘, 공명, 진선규, 홍은진]   \n",
       "1      180분 57초  12세이상관람가  [로버트 다우니 주니어, 크리스 에반스, 마크 러팔로, 크리스 헴스워스, 스칼렛 요...   \n",
       "2       103분 4초     전체관람가                   [크리스틴 벨, 이디나 멘젤, 조시 게드, 조나단 그로프]   \n",
       "3      127분 48초     전체관람가                            [메나 마수드, 윌 스미스, 나오미 스콧]   \n",
       "4      131분 39초  15세이상관람가           [송강호, 이선균, 조여정, 최우식, 박소담, 이정은, 장혜진, 박명훈]   \n",
       "..          ...       ...                                                ...   \n",
       "89     106분 16초  12세이상관람가                                 [다니엘 래드클리프, 이안 하트]   \n",
       "90     100분 24초  15세이상관람가                                   [장혁, 김현수, 조 타슬림]   \n",
       "91     116분 51초  15세이상관람가                                         [한지민, 남주혁]   \n",
       "92     104분 38초  15세이상관람가                               [조진웅, 배수빈, 정해균, 차수연]   \n",
       "93     108분 51초  15세이상관람가                           [샤를리즈 테론, 니콜 키드먼, 마고 로비]   \n",
       "\n",
       "    youtube_comment_count  \n",
       "0                    9518  \n",
       "1                   26299  \n",
       "2                   20661  \n",
       "3                    6934  \n",
       "4                   10215  \n",
       "..                    ...  \n",
       "89                    207  \n",
       "90                    531  \n",
       "91                   1132  \n",
       "92                    780  \n",
       "93                    142  \n",
       "\n",
       "[94 rows x 14 columns]"
      ]
     },
     "execution_count": 37,
     "metadata": {},
     "output_type": "execute_result"
    }
   ],
   "source": [
    "df_merge"
   ]
  },
  {
   "cell_type": "code",
   "execution_count": 38,
   "metadata": {
    "ExecuteTime": {
     "end_time": "2021-11-24T17:24:38.316668Z",
     "start_time": "2021-11-24T17:24:38.309659Z"
    }
   },
   "outputs": [
    {
     "name": "stdout",
     "output_type": "stream",
     "text": [
      "14\n",
      "Index(['movie_name', 'release', 'take', 'audience', 'nation',\n",
      "       'distribution_company', 'code', 'genre', 'kind', 'scale',\n",
      "       'running_time', 'age', 'actor', 'youtube_comment_count'],\n",
      "      dtype='object')\n"
     ]
    }
   ],
   "source": [
    "print(len(df_merge.columns))\n",
    "print(df_merge.columns)"
   ]
  },
  {
   "cell_type": "markdown",
   "metadata": {},
   "source": [
    "### youtube_view_count"
   ]
  },
  {
   "cell_type": "code",
   "execution_count": 39,
   "metadata": {
    "ExecuteTime": {
     "end_time": "2021-11-24T17:24:38.333664Z",
     "start_time": "2021-11-24T17:24:38.318664Z"
    }
   },
   "outputs": [],
   "source": [
    "view_count = pd.read_csv('C:/Users/User/Desktop/Viral_Effect/SNS-scraping/youtube/eun-seong/view_count/view_count_state.csv')"
   ]
  },
  {
   "cell_type": "code",
   "execution_count": 40,
   "metadata": {
    "ExecuteTime": {
     "end_time": "2021-11-24T17:24:38.343663Z",
     "start_time": "2021-11-24T17:24:38.337669Z"
    }
   },
   "outputs": [],
   "source": [
    "view_count = view_count.iloc[:,1:]"
   ]
  },
  {
   "cell_type": "code",
   "execution_count": 41,
   "metadata": {
    "ExecuteTime": {
     "end_time": "2021-11-24T17:24:38.356663Z",
     "start_time": "2021-11-24T17:24:38.349690Z"
    }
   },
   "outputs": [],
   "source": [
    "view_count.columns = ['movie_name', 'youtube_view_sum', 'youtube_view_mean']"
   ]
  },
  {
   "cell_type": "code",
   "execution_count": 42,
   "metadata": {
    "ExecuteTime": {
     "end_time": "2021-11-24T17:24:38.367670Z",
     "start_time": "2021-11-24T17:24:38.358662Z"
    }
   },
   "outputs": [],
   "source": [
    "# 1917 과 같은 숫자 제목이 int형으로 저장되어 있음 -> str\n",
    "movie_names = [str(name) for name in view_count['movie_name']]\n",
    "view_count['movie_name'] = movie_names"
   ]
  },
  {
   "cell_type": "code",
   "execution_count": 43,
   "metadata": {
    "ExecuteTime": {
     "end_time": "2021-11-24T17:24:38.383673Z",
     "start_time": "2021-11-24T17:24:38.369668Z"
    }
   },
   "outputs": [
    {
     "name": "stdout",
     "output_type": "stream",
     "text": [
      "런\n"
     ]
    }
   ],
   "source": [
    "# 행 수가 달라서 확인해보니 런이 들어가있음\n",
    "for i in view_count['movie_name']:\n",
    "    if i not in list(df_merge['movie_name']):\n",
    "        print(i)"
   ]
  },
  {
   "cell_type": "code",
   "execution_count": 44,
   "metadata": {
    "ExecuteTime": {
     "end_time": "2021-11-24T17:24:38.412670Z",
     "start_time": "2021-11-24T17:24:38.387661Z"
    }
   },
   "outputs": [
    {
     "data": {
      "text/html": [
       "<div>\n",
       "<style scoped>\n",
       "    .dataframe tbody tr th:only-of-type {\n",
       "        vertical-align: middle;\n",
       "    }\n",
       "\n",
       "    .dataframe tbody tr th {\n",
       "        vertical-align: top;\n",
       "    }\n",
       "\n",
       "    .dataframe thead th {\n",
       "        text-align: right;\n",
       "    }\n",
       "</style>\n",
       "<table border=\"1\" class=\"dataframe\">\n",
       "  <thead>\n",
       "    <tr style=\"text-align: right;\">\n",
       "      <th></th>\n",
       "      <th>movie_name</th>\n",
       "      <th>youtube_view_sum</th>\n",
       "      <th>youtube_view_mean</th>\n",
       "    </tr>\n",
       "  </thead>\n",
       "  <tbody>\n",
       "    <tr>\n",
       "      <th>0</th>\n",
       "      <td>#살아있다</td>\n",
       "      <td>2955998</td>\n",
       "      <td>295599.8</td>\n",
       "    </tr>\n",
       "    <tr>\n",
       "      <th>1</th>\n",
       "      <td>1917</td>\n",
       "      <td>787714</td>\n",
       "      <td>78771.4</td>\n",
       "    </tr>\n",
       "    <tr>\n",
       "      <th>2</th>\n",
       "      <td>82년생 김지영</td>\n",
       "      <td>3722539</td>\n",
       "      <td>372253.9</td>\n",
       "    </tr>\n",
       "    <tr>\n",
       "      <th>3</th>\n",
       "      <td>가장 보통의 연애</td>\n",
       "      <td>396635</td>\n",
       "      <td>39663.5</td>\n",
       "    </tr>\n",
       "    <tr>\n",
       "      <th>4</th>\n",
       "      <td>강철비2: 정상회담</td>\n",
       "      <td>2405868</td>\n",
       "      <td>240586.8</td>\n",
       "    </tr>\n",
       "    <tr>\n",
       "      <th>...</th>\n",
       "      <td>...</td>\n",
       "      <td>...</td>\n",
       "      <td>...</td>\n",
       "    </tr>\n",
       "    <tr>\n",
       "      <th>90</th>\n",
       "      <td>프리즌 이스케이프</td>\n",
       "      <td>3479761</td>\n",
       "      <td>347976.1</td>\n",
       "    </tr>\n",
       "    <tr>\n",
       "      <th>91</th>\n",
       "      <td>항거:유관순 이야기</td>\n",
       "      <td>669208</td>\n",
       "      <td>66920.8</td>\n",
       "    </tr>\n",
       "    <tr>\n",
       "      <th>92</th>\n",
       "      <td>해치지않아</td>\n",
       "      <td>537360</td>\n",
       "      <td>53736.0</td>\n",
       "    </tr>\n",
       "    <tr>\n",
       "      <th>93</th>\n",
       "      <td>히트맨</td>\n",
       "      <td>509315</td>\n",
       "      <td>50931.5</td>\n",
       "    </tr>\n",
       "    <tr>\n",
       "      <th>94</th>\n",
       "      <td>힘을 내요, 미스터 리</td>\n",
       "      <td>214374</td>\n",
       "      <td>21437.4</td>\n",
       "    </tr>\n",
       "  </tbody>\n",
       "</table>\n",
       "<p>94 rows × 3 columns</p>\n",
       "</div>"
      ],
      "text/plain": [
       "      movie_name  youtube_view_sum  youtube_view_mean\n",
       "0          #살아있다           2955998           295599.8\n",
       "1           1917            787714            78771.4\n",
       "2       82년생 김지영           3722539           372253.9\n",
       "3      가장 보통의 연애            396635            39663.5\n",
       "4     강철비2: 정상회담           2405868           240586.8\n",
       "..           ...               ...                ...\n",
       "90     프리즌 이스케이프           3479761           347976.1\n",
       "91    항거:유관순 이야기            669208            66920.8\n",
       "92         해치지않아            537360            53736.0\n",
       "93           히트맨            509315            50931.5\n",
       "94  힘을 내요, 미스터 리            214374            21437.4\n",
       "\n",
       "[94 rows x 3 columns]"
      ]
     },
     "execution_count": 44,
     "metadata": {},
     "output_type": "execute_result"
    }
   ],
   "source": [
    "# 런 제거\n",
    "view_count = view_count[view_count['movie_name']!='런']\n",
    "view_count"
   ]
  },
  {
   "cell_type": "code",
   "execution_count": 45,
   "metadata": {
    "ExecuteTime": {
     "end_time": "2021-11-24T17:24:38.488680Z",
     "start_time": "2021-11-24T17:24:38.418663Z"
    }
   },
   "outputs": [
    {
     "data": {
      "text/html": [
       "<div>\n",
       "<style scoped>\n",
       "    .dataframe tbody tr th:only-of-type {\n",
       "        vertical-align: middle;\n",
       "    }\n",
       "\n",
       "    .dataframe tbody tr th {\n",
       "        vertical-align: top;\n",
       "    }\n",
       "\n",
       "    .dataframe thead th {\n",
       "        text-align: right;\n",
       "    }\n",
       "</style>\n",
       "<table border=\"1\" class=\"dataframe\">\n",
       "  <thead>\n",
       "    <tr style=\"text-align: right;\">\n",
       "      <th></th>\n",
       "      <th>movie_name</th>\n",
       "      <th>release</th>\n",
       "      <th>take</th>\n",
       "      <th>audience</th>\n",
       "      <th>nation</th>\n",
       "      <th>distribution_company</th>\n",
       "      <th>code</th>\n",
       "      <th>genre</th>\n",
       "      <th>kind</th>\n",
       "      <th>scale</th>\n",
       "      <th>running_time</th>\n",
       "      <th>age</th>\n",
       "      <th>actor</th>\n",
       "      <th>youtube_comment_count</th>\n",
       "      <th>youtube_view_sum</th>\n",
       "      <th>youtube_view_mean</th>\n",
       "    </tr>\n",
       "  </thead>\n",
       "  <tbody>\n",
       "    <tr>\n",
       "      <th>0</th>\n",
       "      <td>극한직업</td>\n",
       "      <td>2019-01-23</td>\n",
       "      <td>139651845516</td>\n",
       "      <td>16265618</td>\n",
       "      <td>한국</td>\n",
       "      <td>(주)씨제이이엔엠</td>\n",
       "      <td>20182530</td>\n",
       "      <td>[코미디]</td>\n",
       "      <td>일반영화</td>\n",
       "      <td>장편</td>\n",
       "      <td>111분 0초</td>\n",
       "      <td>15세이상관람가</td>\n",
       "      <td>[류승룡, 이하늬, 진선규, 이동휘, 공명, 진선규, 홍은진]</td>\n",
       "      <td>9518</td>\n",
       "      <td>6169458</td>\n",
       "      <td>616945.8</td>\n",
       "    </tr>\n",
       "    <tr>\n",
       "      <th>1</th>\n",
       "      <td>어벤져스: 엔드게임</td>\n",
       "      <td>2019-04-24</td>\n",
       "      <td>122182694160</td>\n",
       "      <td>13934592</td>\n",
       "      <td>미국</td>\n",
       "      <td>월트디즈니컴퍼니코리아 유한책임회사</td>\n",
       "      <td>20184889</td>\n",
       "      <td>[액션, SF]</td>\n",
       "      <td>일반영화</td>\n",
       "      <td>장편</td>\n",
       "      <td>180분 57초</td>\n",
       "      <td>12세이상관람가</td>\n",
       "      <td>[로버트 다우니 주니어, 크리스 에반스, 마크 러팔로, 크리스 헴스워스, 스칼렛 요...</td>\n",
       "      <td>26299</td>\n",
       "      <td>30475747</td>\n",
       "      <td>3047574.7</td>\n",
       "    </tr>\n",
       "    <tr>\n",
       "      <th>2</th>\n",
       "      <td>겨울왕국 2</td>\n",
       "      <td>2019-11-21</td>\n",
       "      <td>229620842900</td>\n",
       "      <td>27495584</td>\n",
       "      <td>미국</td>\n",
       "      <td>월트디즈니컴퍼니코리아 유한책임회사</td>\n",
       "      <td>20197803</td>\n",
       "      <td>[애니메이션]</td>\n",
       "      <td>일반영화</td>\n",
       "      <td>장편</td>\n",
       "      <td>103분 4초</td>\n",
       "      <td>전체관람가</td>\n",
       "      <td>[크리스틴 벨, 이디나 멘젤, 조시 게드, 조나단 그로프]</td>\n",
       "      <td>20661</td>\n",
       "      <td>98141742</td>\n",
       "      <td>9814174.2</td>\n",
       "    </tr>\n",
       "    <tr>\n",
       "      <th>3</th>\n",
       "      <td>알라딘</td>\n",
       "      <td>2019-05-23</td>\n",
       "      <td>216321098078</td>\n",
       "      <td>25447554</td>\n",
       "      <td>미국</td>\n",
       "      <td>월트디즈니컴퍼니코리아 유한책임회사</td>\n",
       "      <td>20183867</td>\n",
       "      <td>[어드벤처, 가족, 판타지]</td>\n",
       "      <td>일반영화</td>\n",
       "      <td>장편</td>\n",
       "      <td>127분 48초</td>\n",
       "      <td>전체관람가</td>\n",
       "      <td>[메나 마수드, 윌 스미스, 나오미 스콧]</td>\n",
       "      <td>6934</td>\n",
       "      <td>48941252</td>\n",
       "      <td>4894125.2</td>\n",
       "    </tr>\n",
       "    <tr>\n",
       "      <th>4</th>\n",
       "      <td>기생충</td>\n",
       "      <td>2019-05-30</td>\n",
       "      <td>174921006190</td>\n",
       "      <td>20626290</td>\n",
       "      <td>한국</td>\n",
       "      <td>(주)씨제이이엔엠</td>\n",
       "      <td>20183782</td>\n",
       "      <td>[드라마]</td>\n",
       "      <td>일반영화</td>\n",
       "      <td>장편</td>\n",
       "      <td>131분 39초</td>\n",
       "      <td>15세이상관람가</td>\n",
       "      <td>[송강호, 이선균, 조여정, 최우식, 박소담, 이정은, 장혜진, 박명훈]</td>\n",
       "      <td>10215</td>\n",
       "      <td>19744174</td>\n",
       "      <td>1974417.4</td>\n",
       "    </tr>\n",
       "    <tr>\n",
       "      <th>...</th>\n",
       "      <td>...</td>\n",
       "      <td>...</td>\n",
       "      <td>...</td>\n",
       "      <td>...</td>\n",
       "      <td>...</td>\n",
       "      <td>...</td>\n",
       "      <td>...</td>\n",
       "      <td>...</td>\n",
       "      <td>...</td>\n",
       "      <td>...</td>\n",
       "      <td>...</td>\n",
       "      <td>...</td>\n",
       "      <td>...</td>\n",
       "      <td>...</td>\n",
       "      <td>...</td>\n",
       "      <td>...</td>\n",
       "    </tr>\n",
       "    <tr>\n",
       "      <th>89</th>\n",
       "      <td>프리즌 이스케이프</td>\n",
       "      <td>2020-05-06</td>\n",
       "      <td>1848297600</td>\n",
       "      <td>217056</td>\n",
       "      <td>영국</td>\n",
       "      <td>(주)이놀미디어</td>\n",
       "      <td>20207893</td>\n",
       "      <td>[어드벤처, 스릴러]</td>\n",
       "      <td>예술영화</td>\n",
       "      <td>장편</td>\n",
       "      <td>106분 16초</td>\n",
       "      <td>12세이상관람가</td>\n",
       "      <td>[다니엘 래드클리프, 이안 하트]</td>\n",
       "      <td>207</td>\n",
       "      <td>3479761</td>\n",
       "      <td>347976.1</td>\n",
       "    </tr>\n",
       "    <tr>\n",
       "      <th>90</th>\n",
       "      <td>검객</td>\n",
       "      <td>2020-09-23</td>\n",
       "      <td>1619781870</td>\n",
       "      <td>190237</td>\n",
       "      <td>한국</td>\n",
       "      <td>(주)키위미디어그룹,오퍼스픽쳐스(유),(주)씨네필운</td>\n",
       "      <td>20178401</td>\n",
       "      <td>[액션]</td>\n",
       "      <td>일반영화</td>\n",
       "      <td>장편</td>\n",
       "      <td>100분 24초</td>\n",
       "      <td>15세이상관람가</td>\n",
       "      <td>[장혁, 김현수, 조 타슬림]</td>\n",
       "      <td>531</td>\n",
       "      <td>1976717</td>\n",
       "      <td>197671.7</td>\n",
       "    </tr>\n",
       "    <tr>\n",
       "      <th>91</th>\n",
       "      <td>조제</td>\n",
       "      <td>2020-12-10</td>\n",
       "      <td>1673427570</td>\n",
       "      <td>186647</td>\n",
       "      <td>한국</td>\n",
       "      <td>워너브러더스 코리아(주)</td>\n",
       "      <td>20201002</td>\n",
       "      <td>[멜로/로맨스, 드라마]</td>\n",
       "      <td>일반영화</td>\n",
       "      <td>장편</td>\n",
       "      <td>116분 51초</td>\n",
       "      <td>15세이상관람가</td>\n",
       "      <td>[한지민, 남주혁]</td>\n",
       "      <td>1132</td>\n",
       "      <td>602745</td>\n",
       "      <td>60274.5</td>\n",
       "    </tr>\n",
       "    <tr>\n",
       "      <th>92</th>\n",
       "      <td>사라진 시간</td>\n",
       "      <td>2020-06-18</td>\n",
       "      <td>1652522580</td>\n",
       "      <td>185802</td>\n",
       "      <td>한국</td>\n",
       "      <td>(주)에이스메이커무비웍스</td>\n",
       "      <td>20193859</td>\n",
       "      <td>[미스터리, 드라마]</td>\n",
       "      <td>일반영화</td>\n",
       "      <td>장편</td>\n",
       "      <td>104분 38초</td>\n",
       "      <td>15세이상관람가</td>\n",
       "      <td>[조진웅, 배수빈, 정해균, 차수연]</td>\n",
       "      <td>780</td>\n",
       "      <td>479967</td>\n",
       "      <td>47996.7</td>\n",
       "    </tr>\n",
       "    <tr>\n",
       "      <th>93</th>\n",
       "      <td>밤쉘: 세상을 바꾼 폭탄선언</td>\n",
       "      <td>2020-07-08</td>\n",
       "      <td>1544025340</td>\n",
       "      <td>182026</td>\n",
       "      <td>미국</td>\n",
       "      <td>(주)홈초이스</td>\n",
       "      <td>20204644</td>\n",
       "      <td>[드라마]</td>\n",
       "      <td>예술영화</td>\n",
       "      <td>장편</td>\n",
       "      <td>108분 51초</td>\n",
       "      <td>15세이상관람가</td>\n",
       "      <td>[샤를리즈 테론, 니콜 키드먼, 마고 로비]</td>\n",
       "      <td>142</td>\n",
       "      <td>79679</td>\n",
       "      <td>7967.9</td>\n",
       "    </tr>\n",
       "  </tbody>\n",
       "</table>\n",
       "<p>94 rows × 16 columns</p>\n",
       "</div>"
      ],
      "text/plain": [
       "         movie_name    release          take  audience nation  \\\n",
       "0              극한직업 2019-01-23  139651845516  16265618     한국   \n",
       "1        어벤져스: 엔드게임 2019-04-24  122182694160  13934592     미국   \n",
       "2            겨울왕국 2 2019-11-21  229620842900  27495584     미국   \n",
       "3               알라딘 2019-05-23  216321098078  25447554     미국   \n",
       "4               기생충 2019-05-30  174921006190  20626290     한국   \n",
       "..              ...        ...           ...       ...    ...   \n",
       "89        프리즌 이스케이프 2020-05-06    1848297600    217056     영국   \n",
       "90               검객 2020-09-23    1619781870    190237     한국   \n",
       "91               조제 2020-12-10    1673427570    186647     한국   \n",
       "92           사라진 시간 2020-06-18    1652522580    185802     한국   \n",
       "93  밤쉘: 세상을 바꾼 폭탄선언 2020-07-08    1544025340    182026     미국   \n",
       "\n",
       "            distribution_company      code            genre  kind scale  \\\n",
       "0                      (주)씨제이이엔엠  20182530            [코미디]  일반영화    장편   \n",
       "1             월트디즈니컴퍼니코리아 유한책임회사  20184889         [액션, SF]  일반영화    장편   \n",
       "2             월트디즈니컴퍼니코리아 유한책임회사  20197803          [애니메이션]  일반영화    장편   \n",
       "3             월트디즈니컴퍼니코리아 유한책임회사  20183867  [어드벤처, 가족, 판타지]  일반영화    장편   \n",
       "4                      (주)씨제이이엔엠  20183782            [드라마]  일반영화    장편   \n",
       "..                           ...       ...              ...   ...   ...   \n",
       "89                      (주)이놀미디어  20207893      [어드벤처, 스릴러]  예술영화    장편   \n",
       "90  (주)키위미디어그룹,오퍼스픽쳐스(유),(주)씨네필운  20178401             [액션]  일반영화    장편   \n",
       "91                 워너브러더스 코리아(주)  20201002    [멜로/로맨스, 드라마]  일반영화    장편   \n",
       "92                 (주)에이스메이커무비웍스  20193859      [미스터리, 드라마]  일반영화    장편   \n",
       "93                       (주)홈초이스  20204644            [드라마]  예술영화    장편   \n",
       "\n",
       "   running_time       age                                              actor  \\\n",
       "0       111분 0초  15세이상관람가                 [류승룡, 이하늬, 진선규, 이동휘, 공명, 진선규, 홍은진]   \n",
       "1      180분 57초  12세이상관람가  [로버트 다우니 주니어, 크리스 에반스, 마크 러팔로, 크리스 헴스워스, 스칼렛 요...   \n",
       "2       103분 4초     전체관람가                   [크리스틴 벨, 이디나 멘젤, 조시 게드, 조나단 그로프]   \n",
       "3      127분 48초     전체관람가                            [메나 마수드, 윌 스미스, 나오미 스콧]   \n",
       "4      131분 39초  15세이상관람가           [송강호, 이선균, 조여정, 최우식, 박소담, 이정은, 장혜진, 박명훈]   \n",
       "..          ...       ...                                                ...   \n",
       "89     106분 16초  12세이상관람가                                 [다니엘 래드클리프, 이안 하트]   \n",
       "90     100분 24초  15세이상관람가                                   [장혁, 김현수, 조 타슬림]   \n",
       "91     116분 51초  15세이상관람가                                         [한지민, 남주혁]   \n",
       "92     104분 38초  15세이상관람가                               [조진웅, 배수빈, 정해균, 차수연]   \n",
       "93     108분 51초  15세이상관람가                           [샤를리즈 테론, 니콜 키드먼, 마고 로비]   \n",
       "\n",
       "    youtube_comment_count  youtube_view_sum  youtube_view_mean  \n",
       "0                    9518           6169458           616945.8  \n",
       "1                   26299          30475747          3047574.7  \n",
       "2                   20661          98141742          9814174.2  \n",
       "3                    6934          48941252          4894125.2  \n",
       "4                   10215          19744174          1974417.4  \n",
       "..                    ...               ...                ...  \n",
       "89                    207           3479761           347976.1  \n",
       "90                    531           1976717           197671.7  \n",
       "91                   1132            602745            60274.5  \n",
       "92                    780            479967            47996.7  \n",
       "93                    142             79679             7967.9  \n",
       "\n",
       "[94 rows x 16 columns]"
      ]
     },
     "execution_count": 45,
     "metadata": {},
     "output_type": "execute_result"
    }
   ],
   "source": [
    "df_merge = pd.merge(df_merge, view_count, on = 'movie_name')\n",
    "df_merge"
   ]
  },
  {
   "cell_type": "code",
   "execution_count": 46,
   "metadata": {
    "ExecuteTime": {
     "end_time": "2021-11-24T17:24:38.495676Z",
     "start_time": "2021-11-24T17:24:38.490659Z"
    }
   },
   "outputs": [
    {
     "name": "stdout",
     "output_type": "stream",
     "text": [
      "16\n",
      "Index(['movie_name', 'release', 'take', 'audience', 'nation',\n",
      "       'distribution_company', 'code', 'genre', 'kind', 'scale',\n",
      "       'running_time', 'age', 'actor', 'youtube_comment_count',\n",
      "       'youtube_view_sum', 'youtube_view_mean'],\n",
      "      dtype='object')\n"
     ]
    }
   ],
   "source": [
    "print(len(df_merge.columns))\n",
    "print(df_merge.columns)"
   ]
  },
  {
   "cell_type": "markdown",
   "metadata": {},
   "source": [
    "### sentiment analysis score"
   ]
  },
  {
   "cell_type": "code",
   "execution_count": 70,
   "metadata": {
    "ExecuteTime": {
     "end_time": "2021-11-24T17:36:24.294813Z",
     "start_time": "2021-11-24T17:36:24.287602Z"
    }
   },
   "outputs": [],
   "source": [
    "sentiment_score = pd.read_csv('C:/Users/User/Desktop/Viral_Effect/SNS-scraping/sentiment/eun-seong/state_score.csv')"
   ]
  },
  {
   "cell_type": "code",
   "execution_count": null,
   "metadata": {
    "ExecuteTime": {
     "end_time": "2021-11-24T17:24:38.557675Z",
     "start_time": "2021-11-24T17:24:38.552689Z"
    }
   },
   "outputs": [],
   "source": [
    "sentiment_score = sentiment_score.iloc[:,1:]"
   ]
  },
  {
   "cell_type": "code",
   "execution_count": null,
   "metadata": {
    "ExecuteTime": {
     "end_time": "2021-11-24T17:24:38.557675Z",
     "start_time": "2021-11-24T17:24:38.552689Z"
    }
   },
   "outputs": [],
   "source": [
    "sentiment_score.columns = ['movie_name', 'mean_score','sqr_mean_score', 'abs_mean_score']"
   ]
  },
  {
   "cell_type": "code",
   "execution_count": null,
   "metadata": {
    "ExecuteTime": {
     "end_time": "2021-11-24T17:24:38.557675Z",
     "start_time": "2021-11-24T17:24:38.552689Z"
    }
   },
   "outputs": [],
   "source": [
    "# 1917 과 같은 숫자 제목이 int형으로 저장되어 있음 -> str\n",
    "movie_names = [str(name) for name in sentiment_score['movie_name']]\n",
    "sentiment_score['movie_name'] = movie_names"
   ]
  },
  {
   "cell_type": "code",
   "execution_count": null,
   "metadata": {
    "ExecuteTime": {
     "end_time": "2021-11-24T17:24:38.557675Z",
     "start_time": "2021-11-24T17:24:38.552689Z"
    }
   },
   "outputs": [],
   "source": [
    "no = []\n",
    "for name in sentiment_score['movie_name']:\n",
    "    if name not in list(df_merge['movie_name']):\n",
    "        print(name)\n",
    "        no.append(name)\n",
    "print(len(no))"
   ]
  },
  {
   "cell_type": "code",
   "execution_count": null,
   "metadata": {
    "ExecuteTime": {
     "end_time": "2021-11-24T17:24:38.557675Z",
     "start_time": "2021-11-24T17:24:38.552689Z"
    }
   },
   "outputs": [],
   "source": [
    "no = []\n",
    "for name in df_merge['movie_name']:\n",
    "    if name not in list(sentiment_score['movie_name']):\n",
    "        print(name)\n",
    "        no.append(name)\n",
    "print(len(no))"
   ]
  },
  {
   "cell_type": "code",
   "execution_count": null,
   "metadata": {
    "ExecuteTime": {
     "end_time": "2021-11-24T17:24:38.557675Z",
     "start_time": "2021-11-24T17:24:38.552689Z"
    }
   },
   "outputs": [],
   "source": [
    "sentiment_score['movie_name']"
   ]
  },
  {
   "cell_type": "code",
   "execution_count": null,
   "metadata": {
    "ExecuteTime": {
     "end_time": "2021-11-24T17:24:38.557675Z",
     "start_time": "2021-11-24T17:24:38.552689Z"
    }
   },
   "outputs": [],
   "source": [
    "df_merge = pd.merge(df_merge, sentiment_score, on = 'movie_name')\n",
    "df_merge"
   ]
  },
  {
   "cell_type": "code",
   "execution_count": 48,
   "metadata": {
    "ExecuteTime": {
     "end_time": "2021-11-24T17:24:38.557675Z",
     "start_time": "2021-11-24T17:24:38.552689Z"
    }
   },
   "outputs": [],
   "source": [
    "print(len(df_merge.columns))\n",
    "print(df_merge.columns)"
   ]
  },
  {
   "cell_type": "markdown",
   "metadata": {},
   "source": [
    "# Merge etc"
   ]
  },
  {
   "cell_type": "markdown",
   "metadata": {},
   "source": [
    "## actor power"
   ]
  },
  {
   "cell_type": "code",
   "execution_count": 79,
   "metadata": {
    "ExecuteTime": {
     "end_time": "2021-11-24T17:42:37.174168Z",
     "start_time": "2021-11-24T17:42:37.148197Z"
    }
   },
   "outputs": [
    {
     "data": {
      "text/html": [
       "<div>\n",
       "<style scoped>\n",
       "    .dataframe tbody tr th:only-of-type {\n",
       "        vertical-align: middle;\n",
       "    }\n",
       "\n",
       "    .dataframe tbody tr th {\n",
       "        vertical-align: top;\n",
       "    }\n",
       "\n",
       "    .dataframe thead th {\n",
       "        text-align: right;\n",
       "    }\n",
       "</style>\n",
       "<table border=\"1\" class=\"dataframe\">\n",
       "  <thead>\n",
       "    <tr style=\"text-align: right;\">\n",
       "      <th></th>\n",
       "      <th>Unnamed: 0</th>\n",
       "      <th>movie_name</th>\n",
       "      <th>code</th>\n",
       "      <th>actor1_code</th>\n",
       "      <th>actor2_code</th>\n",
       "      <th>release</th>\n",
       "      <th>actor_power</th>\n",
       "    </tr>\n",
       "  </thead>\n",
       "  <tbody>\n",
       "    <tr>\n",
       "      <th>0</th>\n",
       "      <td>0</td>\n",
       "      <td>극한직업</td>\n",
       "      <td>20182530</td>\n",
       "      <td>10019065</td>\n",
       "      <td>20125825</td>\n",
       "      <td>2019-01-23</td>\n",
       "      <td>4.539712e+06</td>\n",
       "    </tr>\n",
       "    <tr>\n",
       "      <th>1</th>\n",
       "      <td>1</td>\n",
       "      <td>어벤져스: 엔드게임</td>\n",
       "      <td>20184889</td>\n",
       "      <td>10016538</td>\n",
       "      <td>10077150</td>\n",
       "      <td>2019-04-24</td>\n",
       "      <td>9.367612e+06</td>\n",
       "    </tr>\n",
       "    <tr>\n",
       "      <th>2</th>\n",
       "      <td>2</td>\n",
       "      <td>겨울왕국 2</td>\n",
       "      <td>20197803</td>\n",
       "      <td>10077984</td>\n",
       "      <td>10055204</td>\n",
       "      <td>2019-11-21</td>\n",
       "      <td>9.751492e+06</td>\n",
       "    </tr>\n",
       "    <tr>\n",
       "      <th>3</th>\n",
       "      <td>3</td>\n",
       "      <td>알라딘</td>\n",
       "      <td>20183867</td>\n",
       "      <td>10044943</td>\n",
       "      <td>10052967</td>\n",
       "      <td>2019-05-23</td>\n",
       "      <td>6.752496e+06</td>\n",
       "    </tr>\n",
       "    <tr>\n",
       "      <th>4</th>\n",
       "      <td>4</td>\n",
       "      <td>기생충</td>\n",
       "      <td>20183782</td>\n",
       "      <td>10037018</td>\n",
       "      <td>10055970</td>\n",
       "      <td>2019-05-30</td>\n",
       "      <td>5.109347e+06</td>\n",
       "    </tr>\n",
       "    <tr>\n",
       "      <th>...</th>\n",
       "      <td>...</td>\n",
       "      <td>...</td>\n",
       "      <td>...</td>\n",
       "      <td>...</td>\n",
       "      <td>...</td>\n",
       "      <td>...</td>\n",
       "      <td>...</td>\n",
       "    </tr>\n",
       "    <tr>\n",
       "      <th>89</th>\n",
       "      <td>89</td>\n",
       "      <td>프리즌 이스케이프</td>\n",
       "      <td>20207893</td>\n",
       "      <td>10009288</td>\n",
       "      <td>10056554</td>\n",
       "      <td>2020-05-06</td>\n",
       "      <td>8.232217e+04</td>\n",
       "    </tr>\n",
       "    <tr>\n",
       "      <th>90</th>\n",
       "      <td>90</td>\n",
       "      <td>검객</td>\n",
       "      <td>20178401</td>\n",
       "      <td>10060612</td>\n",
       "      <td>20129449</td>\n",
       "      <td>2020-09-23</td>\n",
       "      <td>1.902370e+05</td>\n",
       "    </tr>\n",
       "    <tr>\n",
       "      <th>91</th>\n",
       "      <td>91</td>\n",
       "      <td>조제</td>\n",
       "      <td>20201002</td>\n",
       "      <td>10087751</td>\n",
       "      <td>20279929</td>\n",
       "      <td>2020-12-10</td>\n",
       "      <td>1.335327e+06</td>\n",
       "    </tr>\n",
       "    <tr>\n",
       "      <th>92</th>\n",
       "      <td>92</td>\n",
       "      <td>사라진 시간</td>\n",
       "      <td>20193859</td>\n",
       "      <td>10067353</td>\n",
       "      <td>10030161</td>\n",
       "      <td>2020-06-18</td>\n",
       "      <td>1.872178e+06</td>\n",
       "    </tr>\n",
       "    <tr>\n",
       "      <th>93</th>\n",
       "      <td>93</td>\n",
       "      <td>밤쉘: 세상을 바꾼 폭탄선언</td>\n",
       "      <td>20204644</td>\n",
       "      <td>10035154</td>\n",
       "      <td>10008581</td>\n",
       "      <td>2020-07-08</td>\n",
       "      <td>5.237502e+05</td>\n",
       "    </tr>\n",
       "  </tbody>\n",
       "</table>\n",
       "<p>94 rows × 7 columns</p>\n",
       "</div>"
      ],
      "text/plain": [
       "    Unnamed: 0       movie_name      code  actor1_code  actor2_code  \\\n",
       "0            0             극한직업  20182530     10019065     20125825   \n",
       "1            1       어벤져스: 엔드게임  20184889     10016538     10077150   \n",
       "2            2           겨울왕국 2  20197803     10077984     10055204   \n",
       "3            3              알라딘  20183867     10044943     10052967   \n",
       "4            4              기생충  20183782     10037018     10055970   \n",
       "..         ...              ...       ...          ...          ...   \n",
       "89          89        프리즌 이스케이프  20207893     10009288     10056554   \n",
       "90          90               검객  20178401     10060612     20129449   \n",
       "91          91               조제  20201002     10087751     20279929   \n",
       "92          92           사라진 시간  20193859     10067353     10030161   \n",
       "93          93  밤쉘: 세상을 바꾼 폭탄선언  20204644     10035154     10008581   \n",
       "\n",
       "       release   actor_power  \n",
       "0   2019-01-23  4.539712e+06  \n",
       "1   2019-04-24  9.367612e+06  \n",
       "2   2019-11-21  9.751492e+06  \n",
       "3   2019-05-23  6.752496e+06  \n",
       "4   2019-05-30  5.109347e+06  \n",
       "..         ...           ...  \n",
       "89  2020-05-06  8.232217e+04  \n",
       "90  2020-09-23  1.902370e+05  \n",
       "91  2020-12-10  1.335327e+06  \n",
       "92  2020-06-18  1.872178e+06  \n",
       "93  2020-07-08  5.237502e+05  \n",
       "\n",
       "[94 rows x 7 columns]"
      ]
     },
     "execution_count": 79,
     "metadata": {},
     "output_type": "execute_result"
    }
   ],
   "source": [
    "actor_power = pd.read_csv('movie_actor_power.csv')\n",
    "actor_power"
   ]
  },
  {
   "cell_type": "code",
   "execution_count": 80,
   "metadata": {
    "ExecuteTime": {
     "end_time": "2021-11-24T17:43:12.673910Z",
     "start_time": "2021-11-24T17:43:12.657903Z"
    }
   },
   "outputs": [
    {
     "data": {
      "text/html": [
       "<div>\n",
       "<style scoped>\n",
       "    .dataframe tbody tr th:only-of-type {\n",
       "        vertical-align: middle;\n",
       "    }\n",
       "\n",
       "    .dataframe tbody tr th {\n",
       "        vertical-align: top;\n",
       "    }\n",
       "\n",
       "    .dataframe thead th {\n",
       "        text-align: right;\n",
       "    }\n",
       "</style>\n",
       "<table border=\"1\" class=\"dataframe\">\n",
       "  <thead>\n",
       "    <tr style=\"text-align: right;\">\n",
       "      <th></th>\n",
       "      <th>movie_name</th>\n",
       "      <th>actor_power</th>\n",
       "    </tr>\n",
       "  </thead>\n",
       "  <tbody>\n",
       "    <tr>\n",
       "      <th>0</th>\n",
       "      <td>극한직업</td>\n",
       "      <td>4.539712e+06</td>\n",
       "    </tr>\n",
       "    <tr>\n",
       "      <th>1</th>\n",
       "      <td>어벤져스: 엔드게임</td>\n",
       "      <td>9.367612e+06</td>\n",
       "    </tr>\n",
       "    <tr>\n",
       "      <th>2</th>\n",
       "      <td>겨울왕국 2</td>\n",
       "      <td>9.751492e+06</td>\n",
       "    </tr>\n",
       "    <tr>\n",
       "      <th>3</th>\n",
       "      <td>알라딘</td>\n",
       "      <td>6.752496e+06</td>\n",
       "    </tr>\n",
       "    <tr>\n",
       "      <th>4</th>\n",
       "      <td>기생충</td>\n",
       "      <td>5.109347e+06</td>\n",
       "    </tr>\n",
       "    <tr>\n",
       "      <th>...</th>\n",
       "      <td>...</td>\n",
       "      <td>...</td>\n",
       "    </tr>\n",
       "    <tr>\n",
       "      <th>89</th>\n",
       "      <td>프리즌 이스케이프</td>\n",
       "      <td>8.232217e+04</td>\n",
       "    </tr>\n",
       "    <tr>\n",
       "      <th>90</th>\n",
       "      <td>검객</td>\n",
       "      <td>1.902370e+05</td>\n",
       "    </tr>\n",
       "    <tr>\n",
       "      <th>91</th>\n",
       "      <td>조제</td>\n",
       "      <td>1.335327e+06</td>\n",
       "    </tr>\n",
       "    <tr>\n",
       "      <th>92</th>\n",
       "      <td>사라진 시간</td>\n",
       "      <td>1.872178e+06</td>\n",
       "    </tr>\n",
       "    <tr>\n",
       "      <th>93</th>\n",
       "      <td>밤쉘: 세상을 바꾼 폭탄선언</td>\n",
       "      <td>5.237502e+05</td>\n",
       "    </tr>\n",
       "  </tbody>\n",
       "</table>\n",
       "<p>94 rows × 2 columns</p>\n",
       "</div>"
      ],
      "text/plain": [
       "         movie_name   actor_power\n",
       "0              극한직업  4.539712e+06\n",
       "1        어벤져스: 엔드게임  9.367612e+06\n",
       "2            겨울왕국 2  9.751492e+06\n",
       "3               알라딘  6.752496e+06\n",
       "4               기생충  5.109347e+06\n",
       "..              ...           ...\n",
       "89        프리즌 이스케이프  8.232217e+04\n",
       "90               검객  1.902370e+05\n",
       "91               조제  1.335327e+06\n",
       "92           사라진 시간  1.872178e+06\n",
       "93  밤쉘: 세상을 바꾼 폭탄선언  5.237502e+05\n",
       "\n",
       "[94 rows x 2 columns]"
      ]
     },
     "execution_count": 80,
     "metadata": {},
     "output_type": "execute_result"
    }
   ],
   "source": [
    "actor_power = actor_power.iloc[:,[1,6]]\n",
    "actor_power"
   ]
  },
  {
   "cell_type": "code",
   "execution_count": 81,
   "metadata": {
    "ExecuteTime": {
     "end_time": "2021-11-24T17:43:51.644480Z",
     "start_time": "2021-11-24T17:43:51.639501Z"
    }
   },
   "outputs": [
    {
     "name": "stderr",
     "output_type": "stream",
     "text": [
      "<ipython-input-81-186355260573>:3: SettingWithCopyWarning: \n",
      "A value is trying to be set on a copy of a slice from a DataFrame.\n",
      "Try using .loc[row_indexer,col_indexer] = value instead\n",
      "\n",
      "See the caveats in the documentation: https://pandas.pydata.org/pandas-docs/stable/user_guide/indexing.html#returning-a-view-versus-a-copy\n",
      "  actor_power['movie_name'] = movie_names\n"
     ]
    }
   ],
   "source": [
    "# 1917 과 같은 숫자 제목이 int형으로 저장되어 있음 -> str\n",
    "movie_names = [str(name) for name in actor_power['movie_name']]\n",
    "actor_power['movie_name'] = movie_names"
   ]
  },
  {
   "cell_type": "code",
   "execution_count": 87,
   "metadata": {
    "ExecuteTime": {
     "end_time": "2021-11-24T17:44:44.850659Z",
     "start_time": "2021-11-24T17:44:44.810639Z"
    }
   },
   "outputs": [
    {
     "data": {
      "text/html": [
       "<div>\n",
       "<style scoped>\n",
       "    .dataframe tbody tr th:only-of-type {\n",
       "        vertical-align: middle;\n",
       "    }\n",
       "\n",
       "    .dataframe tbody tr th {\n",
       "        vertical-align: top;\n",
       "    }\n",
       "\n",
       "    .dataframe thead th {\n",
       "        text-align: right;\n",
       "    }\n",
       "</style>\n",
       "<table border=\"1\" class=\"dataframe\">\n",
       "  <thead>\n",
       "    <tr style=\"text-align: right;\">\n",
       "      <th></th>\n",
       "      <th>movie_name</th>\n",
       "      <th>release</th>\n",
       "      <th>take</th>\n",
       "      <th>audience</th>\n",
       "      <th>nation</th>\n",
       "      <th>distribution_company</th>\n",
       "      <th>code</th>\n",
       "      <th>genre</th>\n",
       "      <th>kind</th>\n",
       "      <th>scale</th>\n",
       "      <th>running_time</th>\n",
       "      <th>age</th>\n",
       "      <th>actor</th>\n",
       "      <th>youtube_comment_count</th>\n",
       "      <th>youtube_view_sum</th>\n",
       "      <th>youtube_view_mean</th>\n",
       "      <th>mean_score</th>\n",
       "      <th>sqr_mean_score</th>\n",
       "      <th>abs_mean_score</th>\n",
       "      <th>actor_power</th>\n",
       "    </tr>\n",
       "  </thead>\n",
       "  <tbody>\n",
       "    <tr>\n",
       "      <th>0</th>\n",
       "      <td>극한직업</td>\n",
       "      <td>2019-01-23</td>\n",
       "      <td>139651845516</td>\n",
       "      <td>16265618</td>\n",
       "      <td>한국</td>\n",
       "      <td>(주)씨제이이엔엠</td>\n",
       "      <td>20182530</td>\n",
       "      <td>[코미디]</td>\n",
       "      <td>일반영화</td>\n",
       "      <td>장편</td>\n",
       "      <td>111분 0초</td>\n",
       "      <td>15세이상관람가</td>\n",
       "      <td>[류승룡, 이하늬, 진선규, 이동휘, 공명, 진선규, 홍은진]</td>\n",
       "      <td>9518</td>\n",
       "      <td>6169458</td>\n",
       "      <td>616945.8</td>\n",
       "      <td>0.423979</td>\n",
       "      <td>3.100996</td>\n",
       "      <td>1.019999</td>\n",
       "      <td>4.539712e+06</td>\n",
       "    </tr>\n",
       "    <tr>\n",
       "      <th>1</th>\n",
       "      <td>어벤져스: 엔드게임</td>\n",
       "      <td>2019-04-24</td>\n",
       "      <td>122182694160</td>\n",
       "      <td>13934592</td>\n",
       "      <td>미국</td>\n",
       "      <td>월트디즈니컴퍼니코리아 유한책임회사</td>\n",
       "      <td>20184889</td>\n",
       "      <td>[액션, SF]</td>\n",
       "      <td>일반영화</td>\n",
       "      <td>장편</td>\n",
       "      <td>180분 57초</td>\n",
       "      <td>12세이상관람가</td>\n",
       "      <td>[로버트 다우니 주니어, 크리스 에반스, 마크 러팔로, 크리스 헴스워스, 스칼렛 요...</td>\n",
       "      <td>26299</td>\n",
       "      <td>30475747</td>\n",
       "      <td>3047574.7</td>\n",
       "      <td>-1.797502</td>\n",
       "      <td>16.775890</td>\n",
       "      <td>2.126920</td>\n",
       "      <td>9.367612e+06</td>\n",
       "    </tr>\n",
       "    <tr>\n",
       "      <th>2</th>\n",
       "      <td>겨울왕국 2</td>\n",
       "      <td>2019-11-21</td>\n",
       "      <td>229620842900</td>\n",
       "      <td>27495584</td>\n",
       "      <td>미국</td>\n",
       "      <td>월트디즈니컴퍼니코리아 유한책임회사</td>\n",
       "      <td>20197803</td>\n",
       "      <td>[애니메이션]</td>\n",
       "      <td>일반영화</td>\n",
       "      <td>장편</td>\n",
       "      <td>103분 4초</td>\n",
       "      <td>전체관람가</td>\n",
       "      <td>[크리스틴 벨, 이디나 멘젤, 조시 게드, 조나단 그로프]</td>\n",
       "      <td>20661</td>\n",
       "      <td>98141742</td>\n",
       "      <td>9814174.2</td>\n",
       "      <td>-0.396436</td>\n",
       "      <td>6.719689</td>\n",
       "      <td>1.154460</td>\n",
       "      <td>9.751492e+06</td>\n",
       "    </tr>\n",
       "    <tr>\n",
       "      <th>3</th>\n",
       "      <td>알라딘</td>\n",
       "      <td>2019-05-23</td>\n",
       "      <td>216321098078</td>\n",
       "      <td>25447554</td>\n",
       "      <td>미국</td>\n",
       "      <td>월트디즈니컴퍼니코리아 유한책임회사</td>\n",
       "      <td>20183867</td>\n",
       "      <td>[어드벤처, 가족, 판타지]</td>\n",
       "      <td>일반영화</td>\n",
       "      <td>장편</td>\n",
       "      <td>127분 48초</td>\n",
       "      <td>전체관람가</td>\n",
       "      <td>[메나 마수드, 윌 스미스, 나오미 스콧]</td>\n",
       "      <td>6934</td>\n",
       "      <td>48941252</td>\n",
       "      <td>4894125.2</td>\n",
       "      <td>-0.197228</td>\n",
       "      <td>12.235387</td>\n",
       "      <td>1.495438</td>\n",
       "      <td>6.752496e+06</td>\n",
       "    </tr>\n",
       "    <tr>\n",
       "      <th>4</th>\n",
       "      <td>기생충</td>\n",
       "      <td>2019-05-30</td>\n",
       "      <td>174921006190</td>\n",
       "      <td>20626290</td>\n",
       "      <td>한국</td>\n",
       "      <td>(주)씨제이이엔엠</td>\n",
       "      <td>20183782</td>\n",
       "      <td>[드라마]</td>\n",
       "      <td>일반영화</td>\n",
       "      <td>장편</td>\n",
       "      <td>131분 39초</td>\n",
       "      <td>15세이상관람가</td>\n",
       "      <td>[송강호, 이선균, 조여정, 최우식, 박소담, 이정은, 장혜진, 박명훈]</td>\n",
       "      <td>10215</td>\n",
       "      <td>19744174</td>\n",
       "      <td>1974417.4</td>\n",
       "      <td>0.962721</td>\n",
       "      <td>11.748620</td>\n",
       "      <td>2.085190</td>\n",
       "      <td>5.109347e+06</td>\n",
       "    </tr>\n",
       "    <tr>\n",
       "      <th>...</th>\n",
       "      <td>...</td>\n",
       "      <td>...</td>\n",
       "      <td>...</td>\n",
       "      <td>...</td>\n",
       "      <td>...</td>\n",
       "      <td>...</td>\n",
       "      <td>...</td>\n",
       "      <td>...</td>\n",
       "      <td>...</td>\n",
       "      <td>...</td>\n",
       "      <td>...</td>\n",
       "      <td>...</td>\n",
       "      <td>...</td>\n",
       "      <td>...</td>\n",
       "      <td>...</td>\n",
       "      <td>...</td>\n",
       "      <td>...</td>\n",
       "      <td>...</td>\n",
       "      <td>...</td>\n",
       "      <td>...</td>\n",
       "    </tr>\n",
       "    <tr>\n",
       "      <th>89</th>\n",
       "      <td>프리즌 이스케이프</td>\n",
       "      <td>2020-05-06</td>\n",
       "      <td>1848297600</td>\n",
       "      <td>217056</td>\n",
       "      <td>영국</td>\n",
       "      <td>(주)이놀미디어</td>\n",
       "      <td>20207893</td>\n",
       "      <td>[어드벤처, 스릴러]</td>\n",
       "      <td>예술영화</td>\n",
       "      <td>장편</td>\n",
       "      <td>106분 16초</td>\n",
       "      <td>12세이상관람가</td>\n",
       "      <td>[다니엘 래드클리프, 이안 하트]</td>\n",
       "      <td>207</td>\n",
       "      <td>3479761</td>\n",
       "      <td>347976.1</td>\n",
       "      <td>0.201935</td>\n",
       "      <td>2.308607</td>\n",
       "      <td>0.791509</td>\n",
       "      <td>8.232217e+04</td>\n",
       "    </tr>\n",
       "    <tr>\n",
       "      <th>90</th>\n",
       "      <td>검객</td>\n",
       "      <td>2020-09-23</td>\n",
       "      <td>1619781870</td>\n",
       "      <td>190237</td>\n",
       "      <td>한국</td>\n",
       "      <td>(주)키위미디어그룹,오퍼스픽쳐스(유),(주)씨네필운</td>\n",
       "      <td>20178401</td>\n",
       "      <td>[액션]</td>\n",
       "      <td>일반영화</td>\n",
       "      <td>장편</td>\n",
       "      <td>100분 24초</td>\n",
       "      <td>15세이상관람가</td>\n",
       "      <td>[장혁, 김현수, 조 타슬림]</td>\n",
       "      <td>531</td>\n",
       "      <td>1976717</td>\n",
       "      <td>197671.7</td>\n",
       "      <td>-1.097571</td>\n",
       "      <td>41.793877</td>\n",
       "      <td>3.028084</td>\n",
       "      <td>1.902370e+05</td>\n",
       "    </tr>\n",
       "    <tr>\n",
       "      <th>91</th>\n",
       "      <td>조제</td>\n",
       "      <td>2020-12-10</td>\n",
       "      <td>1673427570</td>\n",
       "      <td>186647</td>\n",
       "      <td>한국</td>\n",
       "      <td>워너브러더스 코리아(주)</td>\n",
       "      <td>20201002</td>\n",
       "      <td>[멜로/로맨스, 드라마]</td>\n",
       "      <td>일반영화</td>\n",
       "      <td>장편</td>\n",
       "      <td>116분 51초</td>\n",
       "      <td>15세이상관람가</td>\n",
       "      <td>[한지민, 남주혁]</td>\n",
       "      <td>1132</td>\n",
       "      <td>602745</td>\n",
       "      <td>60274.5</td>\n",
       "      <td>0.320022</td>\n",
       "      <td>15.378775</td>\n",
       "      <td>2.439042</td>\n",
       "      <td>1.335327e+06</td>\n",
       "    </tr>\n",
       "    <tr>\n",
       "      <th>92</th>\n",
       "      <td>사라진 시간</td>\n",
       "      <td>2020-06-18</td>\n",
       "      <td>1652522580</td>\n",
       "      <td>185802</td>\n",
       "      <td>한국</td>\n",
       "      <td>(주)에이스메이커무비웍스</td>\n",
       "      <td>20193859</td>\n",
       "      <td>[미스터리, 드라마]</td>\n",
       "      <td>일반영화</td>\n",
       "      <td>장편</td>\n",
       "      <td>104분 38초</td>\n",
       "      <td>15세이상관람가</td>\n",
       "      <td>[조진웅, 배수빈, 정해균, 차수연]</td>\n",
       "      <td>780</td>\n",
       "      <td>479967</td>\n",
       "      <td>47996.7</td>\n",
       "      <td>2.605052</td>\n",
       "      <td>29.338148</td>\n",
       "      <td>3.225536</td>\n",
       "      <td>1.872178e+06</td>\n",
       "    </tr>\n",
       "    <tr>\n",
       "      <th>93</th>\n",
       "      <td>밤쉘: 세상을 바꾼 폭탄선언</td>\n",
       "      <td>2020-07-08</td>\n",
       "      <td>1544025340</td>\n",
       "      <td>182026</td>\n",
       "      <td>미국</td>\n",
       "      <td>(주)홈초이스</td>\n",
       "      <td>20204644</td>\n",
       "      <td>[드라마]</td>\n",
       "      <td>예술영화</td>\n",
       "      <td>장편</td>\n",
       "      <td>108분 51초</td>\n",
       "      <td>15세이상관람가</td>\n",
       "      <td>[샤를리즈 테론, 니콜 키드먼, 마고 로비]</td>\n",
       "      <td>142</td>\n",
       "      <td>79679</td>\n",
       "      <td>7967.9</td>\n",
       "      <td>-0.482656</td>\n",
       "      <td>67.923844</td>\n",
       "      <td>4.372499</td>\n",
       "      <td>5.237502e+05</td>\n",
       "    </tr>\n",
       "  </tbody>\n",
       "</table>\n",
       "<p>94 rows × 20 columns</p>\n",
       "</div>"
      ],
      "text/plain": [
       "         movie_name    release          take  audience nation  \\\n",
       "0              극한직업 2019-01-23  139651845516  16265618     한국   \n",
       "1        어벤져스: 엔드게임 2019-04-24  122182694160  13934592     미국   \n",
       "2            겨울왕국 2 2019-11-21  229620842900  27495584     미국   \n",
       "3               알라딘 2019-05-23  216321098078  25447554     미국   \n",
       "4               기생충 2019-05-30  174921006190  20626290     한국   \n",
       "..              ...        ...           ...       ...    ...   \n",
       "89        프리즌 이스케이프 2020-05-06    1848297600    217056     영국   \n",
       "90               검객 2020-09-23    1619781870    190237     한국   \n",
       "91               조제 2020-12-10    1673427570    186647     한국   \n",
       "92           사라진 시간 2020-06-18    1652522580    185802     한국   \n",
       "93  밤쉘: 세상을 바꾼 폭탄선언 2020-07-08    1544025340    182026     미국   \n",
       "\n",
       "            distribution_company      code            genre  kind scale  \\\n",
       "0                      (주)씨제이이엔엠  20182530            [코미디]  일반영화    장편   \n",
       "1             월트디즈니컴퍼니코리아 유한책임회사  20184889         [액션, SF]  일반영화    장편   \n",
       "2             월트디즈니컴퍼니코리아 유한책임회사  20197803          [애니메이션]  일반영화    장편   \n",
       "3             월트디즈니컴퍼니코리아 유한책임회사  20183867  [어드벤처, 가족, 판타지]  일반영화    장편   \n",
       "4                      (주)씨제이이엔엠  20183782            [드라마]  일반영화    장편   \n",
       "..                           ...       ...              ...   ...   ...   \n",
       "89                      (주)이놀미디어  20207893      [어드벤처, 스릴러]  예술영화    장편   \n",
       "90  (주)키위미디어그룹,오퍼스픽쳐스(유),(주)씨네필운  20178401             [액션]  일반영화    장편   \n",
       "91                 워너브러더스 코리아(주)  20201002    [멜로/로맨스, 드라마]  일반영화    장편   \n",
       "92                 (주)에이스메이커무비웍스  20193859      [미스터리, 드라마]  일반영화    장편   \n",
       "93                       (주)홈초이스  20204644            [드라마]  예술영화    장편   \n",
       "\n",
       "   running_time       age                                              actor  \\\n",
       "0       111분 0초  15세이상관람가                 [류승룡, 이하늬, 진선규, 이동휘, 공명, 진선규, 홍은진]   \n",
       "1      180분 57초  12세이상관람가  [로버트 다우니 주니어, 크리스 에반스, 마크 러팔로, 크리스 헴스워스, 스칼렛 요...   \n",
       "2       103분 4초     전체관람가                   [크리스틴 벨, 이디나 멘젤, 조시 게드, 조나단 그로프]   \n",
       "3      127분 48초     전체관람가                            [메나 마수드, 윌 스미스, 나오미 스콧]   \n",
       "4      131분 39초  15세이상관람가           [송강호, 이선균, 조여정, 최우식, 박소담, 이정은, 장혜진, 박명훈]   \n",
       "..          ...       ...                                                ...   \n",
       "89     106분 16초  12세이상관람가                                 [다니엘 래드클리프, 이안 하트]   \n",
       "90     100분 24초  15세이상관람가                                   [장혁, 김현수, 조 타슬림]   \n",
       "91     116분 51초  15세이상관람가                                         [한지민, 남주혁]   \n",
       "92     104분 38초  15세이상관람가                               [조진웅, 배수빈, 정해균, 차수연]   \n",
       "93     108분 51초  15세이상관람가                           [샤를리즈 테론, 니콜 키드먼, 마고 로비]   \n",
       "\n",
       "    youtube_comment_count  youtube_view_sum  youtube_view_mean  mean_score  \\\n",
       "0                    9518           6169458           616945.8    0.423979   \n",
       "1                   26299          30475747          3047574.7   -1.797502   \n",
       "2                   20661          98141742          9814174.2   -0.396436   \n",
       "3                    6934          48941252          4894125.2   -0.197228   \n",
       "4                   10215          19744174          1974417.4    0.962721   \n",
       "..                    ...               ...                ...         ...   \n",
       "89                    207           3479761           347976.1    0.201935   \n",
       "90                    531           1976717           197671.7   -1.097571   \n",
       "91                   1132            602745            60274.5    0.320022   \n",
       "92                    780            479967            47996.7    2.605052   \n",
       "93                    142             79679             7967.9   -0.482656   \n",
       "\n",
       "    sqr_mean_score  abs_mean_score   actor_power  \n",
       "0         3.100996        1.019999  4.539712e+06  \n",
       "1        16.775890        2.126920  9.367612e+06  \n",
       "2         6.719689        1.154460  9.751492e+06  \n",
       "3        12.235387        1.495438  6.752496e+06  \n",
       "4        11.748620        2.085190  5.109347e+06  \n",
       "..             ...             ...           ...  \n",
       "89        2.308607        0.791509  8.232217e+04  \n",
       "90       41.793877        3.028084  1.902370e+05  \n",
       "91       15.378775        2.439042  1.335327e+06  \n",
       "92       29.338148        3.225536  1.872178e+06  \n",
       "93       67.923844        4.372499  5.237502e+05  \n",
       "\n",
       "[94 rows x 20 columns]"
      ]
     },
     "execution_count": 87,
     "metadata": {},
     "output_type": "execute_result"
    }
   ],
   "source": [
    "df_merge = pd.merge(df_merge, actor_power, on = 'movie_name')\n",
    "df_merge"
   ]
  },
  {
   "cell_type": "code",
   "execution_count": 88,
   "metadata": {
    "ExecuteTime": {
     "end_time": "2021-11-24T17:44:48.788385Z",
     "start_time": "2021-11-24T17:44:48.780395Z"
    }
   },
   "outputs": [
    {
     "name": "stdout",
     "output_type": "stream",
     "text": [
      "20\n",
      "Index(['movie_name', 'release', 'take', 'audience', 'nation',\n",
      "       'distribution_company', 'code', 'genre', 'kind', 'scale',\n",
      "       'running_time', 'age', 'actor', 'youtube_comment_count',\n",
      "       'youtube_view_sum', 'youtube_view_mean', 'mean_score', 'sqr_mean_score',\n",
      "       'abs_mean_score', 'actor_power'],\n",
      "      dtype='object')\n"
     ]
    }
   ],
   "source": [
    "print(len(df_merge.columns))\n",
    "print(df_merge.columns)"
   ]
  },
  {
   "cell_type": "markdown",
   "metadata": {},
   "source": [
    "# Processed DataFrame "
   ]
  },
  {
   "cell_type": "code",
   "execution_count": 89,
   "metadata": {
    "ExecuteTime": {
     "end_time": "2021-11-24T17:44:57.074388Z",
     "start_time": "2021-11-24T17:44:57.068386Z"
    }
   },
   "outputs": [],
   "source": [
    "df = df_merge.copy()"
   ]
  },
  {
   "cell_type": "code",
   "execution_count": 90,
   "metadata": {
    "ExecuteTime": {
     "end_time": "2021-11-24T17:44:57.741066Z",
     "start_time": "2021-11-24T17:44:57.701835Z"
    },
    "scrolled": true
   },
   "outputs": [
    {
     "data": {
      "text/html": [
       "<div>\n",
       "<style scoped>\n",
       "    .dataframe tbody tr th:only-of-type {\n",
       "        vertical-align: middle;\n",
       "    }\n",
       "\n",
       "    .dataframe tbody tr th {\n",
       "        vertical-align: top;\n",
       "    }\n",
       "\n",
       "    .dataframe thead th {\n",
       "        text-align: right;\n",
       "    }\n",
       "</style>\n",
       "<table border=\"1\" class=\"dataframe\">\n",
       "  <thead>\n",
       "    <tr style=\"text-align: right;\">\n",
       "      <th></th>\n",
       "      <th>movie_name</th>\n",
       "      <th>release</th>\n",
       "      <th>take</th>\n",
       "      <th>audience</th>\n",
       "      <th>nation</th>\n",
       "      <th>distribution_company</th>\n",
       "      <th>code</th>\n",
       "      <th>genre</th>\n",
       "      <th>kind</th>\n",
       "      <th>scale</th>\n",
       "      <th>running_time</th>\n",
       "      <th>age</th>\n",
       "      <th>actor</th>\n",
       "      <th>youtube_comment_count</th>\n",
       "      <th>youtube_view_sum</th>\n",
       "      <th>youtube_view_mean</th>\n",
       "      <th>mean_score</th>\n",
       "      <th>sqr_mean_score</th>\n",
       "      <th>abs_mean_score</th>\n",
       "      <th>actor_power</th>\n",
       "    </tr>\n",
       "  </thead>\n",
       "  <tbody>\n",
       "    <tr>\n",
       "      <th>0</th>\n",
       "      <td>극한직업</td>\n",
       "      <td>2019-01-23</td>\n",
       "      <td>139651845516</td>\n",
       "      <td>16265618</td>\n",
       "      <td>한국</td>\n",
       "      <td>(주)씨제이이엔엠</td>\n",
       "      <td>20182530</td>\n",
       "      <td>[코미디]</td>\n",
       "      <td>일반영화</td>\n",
       "      <td>장편</td>\n",
       "      <td>111분 0초</td>\n",
       "      <td>15세이상관람가</td>\n",
       "      <td>[류승룡, 이하늬, 진선규, 이동휘, 공명, 진선규, 홍은진]</td>\n",
       "      <td>9518</td>\n",
       "      <td>6169458</td>\n",
       "      <td>616945.8</td>\n",
       "      <td>0.423979</td>\n",
       "      <td>3.100996</td>\n",
       "      <td>1.019999</td>\n",
       "      <td>4.539712e+06</td>\n",
       "    </tr>\n",
       "    <tr>\n",
       "      <th>1</th>\n",
       "      <td>어벤져스: 엔드게임</td>\n",
       "      <td>2019-04-24</td>\n",
       "      <td>122182694160</td>\n",
       "      <td>13934592</td>\n",
       "      <td>미국</td>\n",
       "      <td>월트디즈니컴퍼니코리아 유한책임회사</td>\n",
       "      <td>20184889</td>\n",
       "      <td>[액션, SF]</td>\n",
       "      <td>일반영화</td>\n",
       "      <td>장편</td>\n",
       "      <td>180분 57초</td>\n",
       "      <td>12세이상관람가</td>\n",
       "      <td>[로버트 다우니 주니어, 크리스 에반스, 마크 러팔로, 크리스 헴스워스, 스칼렛 요...</td>\n",
       "      <td>26299</td>\n",
       "      <td>30475747</td>\n",
       "      <td>3047574.7</td>\n",
       "      <td>-1.797502</td>\n",
       "      <td>16.775890</td>\n",
       "      <td>2.126920</td>\n",
       "      <td>9.367612e+06</td>\n",
       "    </tr>\n",
       "    <tr>\n",
       "      <th>2</th>\n",
       "      <td>겨울왕국 2</td>\n",
       "      <td>2019-11-21</td>\n",
       "      <td>229620842900</td>\n",
       "      <td>27495584</td>\n",
       "      <td>미국</td>\n",
       "      <td>월트디즈니컴퍼니코리아 유한책임회사</td>\n",
       "      <td>20197803</td>\n",
       "      <td>[애니메이션]</td>\n",
       "      <td>일반영화</td>\n",
       "      <td>장편</td>\n",
       "      <td>103분 4초</td>\n",
       "      <td>전체관람가</td>\n",
       "      <td>[크리스틴 벨, 이디나 멘젤, 조시 게드, 조나단 그로프]</td>\n",
       "      <td>20661</td>\n",
       "      <td>98141742</td>\n",
       "      <td>9814174.2</td>\n",
       "      <td>-0.396436</td>\n",
       "      <td>6.719689</td>\n",
       "      <td>1.154460</td>\n",
       "      <td>9.751492e+06</td>\n",
       "    </tr>\n",
       "    <tr>\n",
       "      <th>3</th>\n",
       "      <td>알라딘</td>\n",
       "      <td>2019-05-23</td>\n",
       "      <td>216321098078</td>\n",
       "      <td>25447554</td>\n",
       "      <td>미국</td>\n",
       "      <td>월트디즈니컴퍼니코리아 유한책임회사</td>\n",
       "      <td>20183867</td>\n",
       "      <td>[어드벤처, 가족, 판타지]</td>\n",
       "      <td>일반영화</td>\n",
       "      <td>장편</td>\n",
       "      <td>127분 48초</td>\n",
       "      <td>전체관람가</td>\n",
       "      <td>[메나 마수드, 윌 스미스, 나오미 스콧]</td>\n",
       "      <td>6934</td>\n",
       "      <td>48941252</td>\n",
       "      <td>4894125.2</td>\n",
       "      <td>-0.197228</td>\n",
       "      <td>12.235387</td>\n",
       "      <td>1.495438</td>\n",
       "      <td>6.752496e+06</td>\n",
       "    </tr>\n",
       "    <tr>\n",
       "      <th>4</th>\n",
       "      <td>기생충</td>\n",
       "      <td>2019-05-30</td>\n",
       "      <td>174921006190</td>\n",
       "      <td>20626290</td>\n",
       "      <td>한국</td>\n",
       "      <td>(주)씨제이이엔엠</td>\n",
       "      <td>20183782</td>\n",
       "      <td>[드라마]</td>\n",
       "      <td>일반영화</td>\n",
       "      <td>장편</td>\n",
       "      <td>131분 39초</td>\n",
       "      <td>15세이상관람가</td>\n",
       "      <td>[송강호, 이선균, 조여정, 최우식, 박소담, 이정은, 장혜진, 박명훈]</td>\n",
       "      <td>10215</td>\n",
       "      <td>19744174</td>\n",
       "      <td>1974417.4</td>\n",
       "      <td>0.962721</td>\n",
       "      <td>11.748620</td>\n",
       "      <td>2.085190</td>\n",
       "      <td>5.109347e+06</td>\n",
       "    </tr>\n",
       "    <tr>\n",
       "      <th>...</th>\n",
       "      <td>...</td>\n",
       "      <td>...</td>\n",
       "      <td>...</td>\n",
       "      <td>...</td>\n",
       "      <td>...</td>\n",
       "      <td>...</td>\n",
       "      <td>...</td>\n",
       "      <td>...</td>\n",
       "      <td>...</td>\n",
       "      <td>...</td>\n",
       "      <td>...</td>\n",
       "      <td>...</td>\n",
       "      <td>...</td>\n",
       "      <td>...</td>\n",
       "      <td>...</td>\n",
       "      <td>...</td>\n",
       "      <td>...</td>\n",
       "      <td>...</td>\n",
       "      <td>...</td>\n",
       "      <td>...</td>\n",
       "    </tr>\n",
       "    <tr>\n",
       "      <th>89</th>\n",
       "      <td>프리즌 이스케이프</td>\n",
       "      <td>2020-05-06</td>\n",
       "      <td>1848297600</td>\n",
       "      <td>217056</td>\n",
       "      <td>영국</td>\n",
       "      <td>(주)이놀미디어</td>\n",
       "      <td>20207893</td>\n",
       "      <td>[어드벤처, 스릴러]</td>\n",
       "      <td>예술영화</td>\n",
       "      <td>장편</td>\n",
       "      <td>106분 16초</td>\n",
       "      <td>12세이상관람가</td>\n",
       "      <td>[다니엘 래드클리프, 이안 하트]</td>\n",
       "      <td>207</td>\n",
       "      <td>3479761</td>\n",
       "      <td>347976.1</td>\n",
       "      <td>0.201935</td>\n",
       "      <td>2.308607</td>\n",
       "      <td>0.791509</td>\n",
       "      <td>8.232217e+04</td>\n",
       "    </tr>\n",
       "    <tr>\n",
       "      <th>90</th>\n",
       "      <td>검객</td>\n",
       "      <td>2020-09-23</td>\n",
       "      <td>1619781870</td>\n",
       "      <td>190237</td>\n",
       "      <td>한국</td>\n",
       "      <td>(주)키위미디어그룹,오퍼스픽쳐스(유),(주)씨네필운</td>\n",
       "      <td>20178401</td>\n",
       "      <td>[액션]</td>\n",
       "      <td>일반영화</td>\n",
       "      <td>장편</td>\n",
       "      <td>100분 24초</td>\n",
       "      <td>15세이상관람가</td>\n",
       "      <td>[장혁, 김현수, 조 타슬림]</td>\n",
       "      <td>531</td>\n",
       "      <td>1976717</td>\n",
       "      <td>197671.7</td>\n",
       "      <td>-1.097571</td>\n",
       "      <td>41.793877</td>\n",
       "      <td>3.028084</td>\n",
       "      <td>1.902370e+05</td>\n",
       "    </tr>\n",
       "    <tr>\n",
       "      <th>91</th>\n",
       "      <td>조제</td>\n",
       "      <td>2020-12-10</td>\n",
       "      <td>1673427570</td>\n",
       "      <td>186647</td>\n",
       "      <td>한국</td>\n",
       "      <td>워너브러더스 코리아(주)</td>\n",
       "      <td>20201002</td>\n",
       "      <td>[멜로/로맨스, 드라마]</td>\n",
       "      <td>일반영화</td>\n",
       "      <td>장편</td>\n",
       "      <td>116분 51초</td>\n",
       "      <td>15세이상관람가</td>\n",
       "      <td>[한지민, 남주혁]</td>\n",
       "      <td>1132</td>\n",
       "      <td>602745</td>\n",
       "      <td>60274.5</td>\n",
       "      <td>0.320022</td>\n",
       "      <td>15.378775</td>\n",
       "      <td>2.439042</td>\n",
       "      <td>1.335327e+06</td>\n",
       "    </tr>\n",
       "    <tr>\n",
       "      <th>92</th>\n",
       "      <td>사라진 시간</td>\n",
       "      <td>2020-06-18</td>\n",
       "      <td>1652522580</td>\n",
       "      <td>185802</td>\n",
       "      <td>한국</td>\n",
       "      <td>(주)에이스메이커무비웍스</td>\n",
       "      <td>20193859</td>\n",
       "      <td>[미스터리, 드라마]</td>\n",
       "      <td>일반영화</td>\n",
       "      <td>장편</td>\n",
       "      <td>104분 38초</td>\n",
       "      <td>15세이상관람가</td>\n",
       "      <td>[조진웅, 배수빈, 정해균, 차수연]</td>\n",
       "      <td>780</td>\n",
       "      <td>479967</td>\n",
       "      <td>47996.7</td>\n",
       "      <td>2.605052</td>\n",
       "      <td>29.338148</td>\n",
       "      <td>3.225536</td>\n",
       "      <td>1.872178e+06</td>\n",
       "    </tr>\n",
       "    <tr>\n",
       "      <th>93</th>\n",
       "      <td>밤쉘: 세상을 바꾼 폭탄선언</td>\n",
       "      <td>2020-07-08</td>\n",
       "      <td>1544025340</td>\n",
       "      <td>182026</td>\n",
       "      <td>미국</td>\n",
       "      <td>(주)홈초이스</td>\n",
       "      <td>20204644</td>\n",
       "      <td>[드라마]</td>\n",
       "      <td>예술영화</td>\n",
       "      <td>장편</td>\n",
       "      <td>108분 51초</td>\n",
       "      <td>15세이상관람가</td>\n",
       "      <td>[샤를리즈 테론, 니콜 키드먼, 마고 로비]</td>\n",
       "      <td>142</td>\n",
       "      <td>79679</td>\n",
       "      <td>7967.9</td>\n",
       "      <td>-0.482656</td>\n",
       "      <td>67.923844</td>\n",
       "      <td>4.372499</td>\n",
       "      <td>5.237502e+05</td>\n",
       "    </tr>\n",
       "  </tbody>\n",
       "</table>\n",
       "<p>94 rows × 20 columns</p>\n",
       "</div>"
      ],
      "text/plain": [
       "         movie_name    release          take  audience nation  \\\n",
       "0              극한직업 2019-01-23  139651845516  16265618     한국   \n",
       "1        어벤져스: 엔드게임 2019-04-24  122182694160  13934592     미국   \n",
       "2            겨울왕국 2 2019-11-21  229620842900  27495584     미국   \n",
       "3               알라딘 2019-05-23  216321098078  25447554     미국   \n",
       "4               기생충 2019-05-30  174921006190  20626290     한국   \n",
       "..              ...        ...           ...       ...    ...   \n",
       "89        프리즌 이스케이프 2020-05-06    1848297600    217056     영국   \n",
       "90               검객 2020-09-23    1619781870    190237     한국   \n",
       "91               조제 2020-12-10    1673427570    186647     한국   \n",
       "92           사라진 시간 2020-06-18    1652522580    185802     한국   \n",
       "93  밤쉘: 세상을 바꾼 폭탄선언 2020-07-08    1544025340    182026     미국   \n",
       "\n",
       "            distribution_company      code            genre  kind scale  \\\n",
       "0                      (주)씨제이이엔엠  20182530            [코미디]  일반영화    장편   \n",
       "1             월트디즈니컴퍼니코리아 유한책임회사  20184889         [액션, SF]  일반영화    장편   \n",
       "2             월트디즈니컴퍼니코리아 유한책임회사  20197803          [애니메이션]  일반영화    장편   \n",
       "3             월트디즈니컴퍼니코리아 유한책임회사  20183867  [어드벤처, 가족, 판타지]  일반영화    장편   \n",
       "4                      (주)씨제이이엔엠  20183782            [드라마]  일반영화    장편   \n",
       "..                           ...       ...              ...   ...   ...   \n",
       "89                      (주)이놀미디어  20207893      [어드벤처, 스릴러]  예술영화    장편   \n",
       "90  (주)키위미디어그룹,오퍼스픽쳐스(유),(주)씨네필운  20178401             [액션]  일반영화    장편   \n",
       "91                 워너브러더스 코리아(주)  20201002    [멜로/로맨스, 드라마]  일반영화    장편   \n",
       "92                 (주)에이스메이커무비웍스  20193859      [미스터리, 드라마]  일반영화    장편   \n",
       "93                       (주)홈초이스  20204644            [드라마]  예술영화    장편   \n",
       "\n",
       "   running_time       age                                              actor  \\\n",
       "0       111분 0초  15세이상관람가                 [류승룡, 이하늬, 진선규, 이동휘, 공명, 진선규, 홍은진]   \n",
       "1      180분 57초  12세이상관람가  [로버트 다우니 주니어, 크리스 에반스, 마크 러팔로, 크리스 헴스워스, 스칼렛 요...   \n",
       "2       103분 4초     전체관람가                   [크리스틴 벨, 이디나 멘젤, 조시 게드, 조나단 그로프]   \n",
       "3      127분 48초     전체관람가                            [메나 마수드, 윌 스미스, 나오미 스콧]   \n",
       "4      131분 39초  15세이상관람가           [송강호, 이선균, 조여정, 최우식, 박소담, 이정은, 장혜진, 박명훈]   \n",
       "..          ...       ...                                                ...   \n",
       "89     106분 16초  12세이상관람가                                 [다니엘 래드클리프, 이안 하트]   \n",
       "90     100분 24초  15세이상관람가                                   [장혁, 김현수, 조 타슬림]   \n",
       "91     116분 51초  15세이상관람가                                         [한지민, 남주혁]   \n",
       "92     104분 38초  15세이상관람가                               [조진웅, 배수빈, 정해균, 차수연]   \n",
       "93     108분 51초  15세이상관람가                           [샤를리즈 테론, 니콜 키드먼, 마고 로비]   \n",
       "\n",
       "    youtube_comment_count  youtube_view_sum  youtube_view_mean  mean_score  \\\n",
       "0                    9518           6169458           616945.8    0.423979   \n",
       "1                   26299          30475747          3047574.7   -1.797502   \n",
       "2                   20661          98141742          9814174.2   -0.396436   \n",
       "3                    6934          48941252          4894125.2   -0.197228   \n",
       "4                   10215          19744174          1974417.4    0.962721   \n",
       "..                    ...               ...                ...         ...   \n",
       "89                    207           3479761           347976.1    0.201935   \n",
       "90                    531           1976717           197671.7   -1.097571   \n",
       "91                   1132            602745            60274.5    0.320022   \n",
       "92                    780            479967            47996.7    2.605052   \n",
       "93                    142             79679             7967.9   -0.482656   \n",
       "\n",
       "    sqr_mean_score  abs_mean_score   actor_power  \n",
       "0         3.100996        1.019999  4.539712e+06  \n",
       "1        16.775890        2.126920  9.367612e+06  \n",
       "2         6.719689        1.154460  9.751492e+06  \n",
       "3        12.235387        1.495438  6.752496e+06  \n",
       "4        11.748620        2.085190  5.109347e+06  \n",
       "..             ...             ...           ...  \n",
       "89        2.308607        0.791509  8.232217e+04  \n",
       "90       41.793877        3.028084  1.902370e+05  \n",
       "91       15.378775        2.439042  1.335327e+06  \n",
       "92       29.338148        3.225536  1.872178e+06  \n",
       "93       67.923844        4.372499  5.237502e+05  \n",
       "\n",
       "[94 rows x 20 columns]"
      ]
     },
     "execution_count": 90,
     "metadata": {},
     "output_type": "execute_result"
    }
   ],
   "source": [
    "df"
   ]
  },
  {
   "cell_type": "code",
   "execution_count": 91,
   "metadata": {
    "ExecuteTime": {
     "end_time": "2021-11-24T17:44:59.790042Z",
     "start_time": "2021-11-24T17:44:59.785047Z"
    }
   },
   "outputs": [
    {
     "name": "stdout",
     "output_type": "stream",
     "text": [
      "Index(['movie_name', 'release', 'take', 'audience', 'nation',\n",
      "       'distribution_company', 'code', 'genre', 'kind', 'scale',\n",
      "       'running_time', 'age', 'actor', 'youtube_comment_count',\n",
      "       'youtube_view_sum', 'youtube_view_mean', 'mean_score', 'sqr_mean_score',\n",
      "       'abs_mean_score', 'actor_power'],\n",
      "      dtype='object')\n",
      "20\n"
     ]
    }
   ],
   "source": [
    "print(df.columns)\n",
    "print(len(df.columns))"
   ]
  },
  {
   "cell_type": "code",
   "execution_count": 92,
   "metadata": {
    "ExecuteTime": {
     "end_time": "2021-11-24T17:45:09.350340Z",
     "start_time": "2021-11-24T17:45:09.150864Z"
    }
   },
   "outputs": [],
   "source": [
    "df.to_excel('Movie_Data.xlsx')"
   ]
  },
  {
   "cell_type": "code",
   "execution_count": null,
   "metadata": {},
   "outputs": [],
   "source": []
  },
  {
   "cell_type": "code",
   "execution_count": null,
   "metadata": {},
   "outputs": [],
   "source": []
  },
  {
   "cell_type": "code",
   "execution_count": null,
   "metadata": {},
   "outputs": [],
   "source": []
  },
  {
   "cell_type": "code",
   "execution_count": null,
   "metadata": {},
   "outputs": [],
   "source": []
  },
  {
   "cell_type": "code",
   "execution_count": null,
   "metadata": {},
   "outputs": [],
   "source": []
  },
  {
   "cell_type": "code",
   "execution_count": null,
   "metadata": {},
   "outputs": [],
   "source": []
  },
  {
   "cell_type": "markdown",
   "metadata": {},
   "source": [
    "# 추가작업"
   ]
  },
  {
   "cell_type": "code",
   "execution_count": 15,
   "metadata": {
    "ExecuteTime": {
     "end_time": "2021-11-25T09:45:52.306425Z",
     "start_time": "2021-11-25T09:45:52.297834Z"
    }
   },
   "outputs": [
    {
     "name": "stdout",
     "output_type": "stream",
     "text": [
      "['택시운전사', '신과함께-죄와 벌', '공조', '스파이더맨: 홈 커밍', '범죄도시', '군함도', '청년경찰', '더 킹', '미녀와 야수', '킹스맨: 골든 서클', '토르: 라그나로크', '꾼', '강철비', '남한산성', '미이라', '분노의 질주: 더 익스트림', '너의 이름은.', '슈퍼배드 3', '아이 캔 스피크', '캐리비안의 해적: 죽은 자는 말이 없다', '프리즌', '덩케르크', '가디언즈 오브 갤럭시 VOL. 2', '살인자의 기억법', '트랜스포머: 최후의 기사', '보안관', '조작된 도시', '보스 베이비', '재심', '박열', '모아나', '마스터', '로건', '원더 우먼', '겟 아웃', '혹성탈출: 종의 전쟁', '1987', '애나벨 : 인형의 주인', '노무현입니다', '저스티스 리그', '킬러의 보디가드', '콩: 스컬 아일랜드', '23 아이덴티티', '임금님의 사건수첩', '부라더', '기억의 밤', '해피 데스데이', '브이아이피', '특별시민', '에이리언: 커버넌트', '신과함께-인과 연', '어벤져스: 인피니티 워', '보헤미안 랩소디', '미션 임파서블: 폴아웃', '쥬라기 월드: 폴른 킹덤', '앤트맨과 와스프', '안시성', '블랙 팬서', '완벽한 타인', '독전', '공작', '베놈', '암수살인', '데드풀 2', '국가부도의 날', '코코', '아쿠아맨', '그것만이 내 세상', '마녀', '탐정: 리턴즈', '인크레더블 2', '서치', '너의 결혼식', '곤지암', '지금 만나러 갑니다', '목격자', '조선명탐정: 흡혈괴마의 비밀', '신비한 동물들과 그린델왈드의 범죄', '메이즈 러너: 데스 큐어', '맘마미아!2', '레디 플레이어 원', '명당', '협상', '마약왕', '쥬만지: 새로운 세계', '창궐', '성난황소', '도어락', '리틀 포레스트', '골든슬럼버', '램페이지', '궁합', '오션스8', '사라진 밤', '스윙키즈', '바람 바람 바람', 'PMC: 더 벙커', '범블비', '극한직업', '어벤져스: 엔드게임', '겨울왕국 2', '알라딘', '기생충', '엑시트', '스파이더맨: 파 프롬 홈', '백두산', '캡틴 마블', '조커', '봉오동 전투', '라이온 킹', '나쁜 녀석들: 더 무비', '82년생 김지영', '분노의 질주: 홉스&쇼', '토이 스토리 4', '돈', '악인전', '가장 보통의 연애', '말모이', '증인', '시동', '블랙머니', '터미네이터: 다크 페이트', '사바하', '타짜: 원 아이드 잭', '신의 한 수: 귀수편', '알리타: 배틀 엔젤', '내안의 그놈', '뺑반', '변신', '주먹왕 랄프 2: 인터넷 속으로', '걸캅스', '사자', '드래곤 길들이기 3', '나의 특별한 형제', '어스', '말레피센트 2', '유열의 음악앨범', '퍼펙트맨', '포드 V 페라리', '생일', '힘을 내요, 미스터 리', '항거:유관순 이야기', '장사리 : 잊혀진 영웅들', '마이펫의 이중생활 2', '롱 리브 더 킹: 목포 영웅', '쥬만지: 넥스트 레벨', '존 윅 3: 파라벨룸', '남산의 부장들', '다만 악에서 구하소서', '반도', '히트맨', '테넷', '#살아있다', '강철비2: 정상회담', '담보', '닥터 두리틀', '삼진그룹 영어토익반', '정직한 후보', '도굴', '클로젯', '오케이 마담', '해치지않아', '천문: 하늘에 묻는다', '결백', '1917', '작은 아씨들', '미드웨이', '지푸라기라도 잡고 싶은 짐승들', '미스터 주: 사라진 VIP', '인비저블맨', '나쁜 녀석들: 포에버', '국제수사', '침입자', '스타워즈: 라이즈 오브 스카이워커', '스파이 지니어스', '이웃사촌', '온워드: 단 하루의 기적', '소리도 없이', '버즈 오브 프레이(할리 퀸의 황홀한 해방)', '원더 우먼 1984', '오! 문희', '그린랜드', '위대한 쇼맨', '뮬란', '내가 죽던 날', '신비아파트 극장판 하늘도깨비 대 요르문간드', '프리즌 이스케이프', '검객', '조제', '사라진 시간', '밤쉘: 세상을 바꾼 폭탄선언']\n",
      "191\n"
     ]
    }
   ],
   "source": [
    "print(movie_name_20_17)\n",
    "print(len(movie_name_20_17))"
   ]
  },
  {
   "cell_type": "code",
   "execution_count": 16,
   "metadata": {
    "ExecuteTime": {
     "end_time": "2021-11-25T09:46:12.379829Z",
     "start_time": "2021-11-25T09:46:12.369841Z"
    }
   },
   "outputs": [
    {
     "data": {
      "text/plain": [
       "191"
      ]
     },
     "execution_count": 16,
     "metadata": {},
     "output_type": "execute_result"
    }
   ],
   "source": [
    "len(set(movie_name_20_17))"
   ]
  },
  {
   "cell_type": "code",
   "execution_count": 17,
   "metadata": {
    "ExecuteTime": {
     "end_time": "2021-11-25T09:46:30.091844Z",
     "start_time": "2021-11-25T09:46:30.002061Z"
    }
   },
   "outputs": [],
   "source": [
    "existing_data = pd.read_excel('Preprocessed_Data.xlsx').iloc[:,1:]"
   ]
  },
  {
   "cell_type": "code",
   "execution_count": 18,
   "metadata": {
    "ExecuteTime": {
     "end_time": "2021-11-25T09:46:30.740108Z",
     "start_time": "2021-11-25T09:46:30.735085Z"
    }
   },
   "outputs": [],
   "source": [
    "movie_name_20_19 = existing_data['movie_name']"
   ]
  },
  {
   "cell_type": "code",
   "execution_count": 19,
   "metadata": {
    "ExecuteTime": {
     "end_time": "2021-11-25T09:46:31.690856Z",
     "start_time": "2021-11-25T09:46:31.681157Z"
    }
   },
   "outputs": [
    {
     "name": "stdout",
     "output_type": "stream",
     "text": [
      "0                극한직업\n",
      "1          어벤져스: 엔드게임\n",
      "2              겨울왕국 2\n",
      "3                 알라딘\n",
      "4                 기생충\n",
      "           ...       \n",
      "89          프리즌 이스케이프\n",
      "90                 검객\n",
      "91                 조제\n",
      "92             사라진 시간\n",
      "93    밤쉘: 세상을 바꾼 폭탄선언\n",
      "Name: movie_name, Length: 94, dtype: object\n",
      "94\n"
     ]
    }
   ],
   "source": [
    "print(movie_name_20_19)\n",
    "print(len(movie_name_20_19))"
   ]
  },
  {
   "cell_type": "code",
   "execution_count": 20,
   "metadata": {
    "ExecuteTime": {
     "end_time": "2021-11-25T09:46:37.449422Z",
     "start_time": "2021-11-25T09:46:37.440849Z"
    }
   },
   "outputs": [
    {
     "data": {
      "text/plain": [
       "94"
      ]
     },
     "execution_count": 20,
     "metadata": {},
     "output_type": "execute_result"
    }
   ],
   "source": [
    "len(set(movie_name_20_19))"
   ]
  },
  {
   "cell_type": "code",
   "execution_count": 22,
   "metadata": {
    "ExecuteTime": {
     "end_time": "2021-11-25T09:46:53.930789Z",
     "start_time": "2021-11-25T09:46:53.919811Z"
    }
   },
   "outputs": [
    {
     "name": "stdout",
     "output_type": "stream",
     "text": [
      "97\n"
     ]
    },
    {
     "data": {
      "text/plain": [
       "97"
      ]
     },
     "execution_count": 22,
     "metadata": {},
     "output_type": "execute_result"
    }
   ],
   "source": [
    "print(191-94)\n",
    "len(set(movie_name_20_17) - set(movie_name_20_19))"
   ]
  },
  {
   "cell_type": "code",
   "execution_count": 23,
   "metadata": {
    "ExecuteTime": {
     "end_time": "2021-11-25T09:46:59.423188Z",
     "start_time": "2021-11-25T09:46:59.417189Z"
    }
   },
   "outputs": [],
   "source": [
    "extra_movie = list(set(movie_name_20_17) - set(movie_name_20_19))"
   ]
  },
  {
   "cell_type": "code",
   "execution_count": 24,
   "metadata": {
    "ExecuteTime": {
     "end_time": "2021-11-25T09:47:03.585418Z",
     "start_time": "2021-11-25T09:47:03.572169Z"
    },
    "scrolled": true
   },
   "outputs": [
    {
     "data": {
      "text/plain": [
       "['킬러의 보디가드',\n",
       " '청년경찰',\n",
       " '마녀',\n",
       " '아이 캔 스피크',\n",
       " '모아나',\n",
       " '지금 만나러 갑니다',\n",
       " '사라진 밤',\n",
       " '브이아이피',\n",
       " '궁합',\n",
       " '분노의 질주: 더 익스트림',\n",
       " '겟 아웃',\n",
       " '마스터',\n",
       " '창궐',\n",
       " '범블비',\n",
       " '암수살인',\n",
       " '곤지암',\n",
       " '기억의 밤',\n",
       " '너의 이름은.',\n",
       " '프리즌',\n",
       " '탐정: 리턴즈',\n",
       " '성난황소',\n",
       " '램페이지',\n",
       " '앤트맨과 와스프',\n",
       " '강철비',\n",
       " '데드풀 2',\n",
       " '공조',\n",
       " 'PMC: 더 벙커',\n",
       " '캐리비안의 해적: 죽은 자는 말이 없다',\n",
       " '저스티스 리그',\n",
       " '킹스맨: 골든 서클',\n",
       " '쥬만지: 새로운 세계',\n",
       " '원더 우먼',\n",
       " '꾼',\n",
       " '1987',\n",
       " '노무현입니다',\n",
       " '그것만이 내 세상',\n",
       " '인크레더블 2',\n",
       " '목격자',\n",
       " '애나벨 : 인형의 주인',\n",
       " '골든슬럼버',\n",
       " '박열',\n",
       " '재심',\n",
       " '미이라',\n",
       " '어벤져스: 인피니티 워',\n",
       " '베놈',\n",
       " '보헤미안 랩소디',\n",
       " '스파이더맨: 홈 커밍',\n",
       " '서치',\n",
       " '오션스8',\n",
       " '쥬라기 월드: 폴른 킹덤',\n",
       " '신과함께-죄와 벌',\n",
       " '슈퍼배드 3',\n",
       " '보안관',\n",
       " '너의 결혼식',\n",
       " '공작',\n",
       " '바람 바람 바람',\n",
       " '블랙 팬서',\n",
       " '혹성탈출: 종의 전쟁',\n",
       " '미녀와 야수',\n",
       " '택시운전사',\n",
       " '범죄도시',\n",
       " '살인자의 기억법',\n",
       " '콩: 스컬 아일랜드',\n",
       " '특별시민',\n",
       " '신비한 동물들과 그린델왈드의 범죄',\n",
       " '로건',\n",
       " '완벽한 타인',\n",
       " '도어락',\n",
       " '보스 베이비',\n",
       " '더 킹',\n",
       " '코코',\n",
       " '해피 데스데이',\n",
       " '리틀 포레스트',\n",
       " '에이리언: 커버넌트',\n",
       " '남한산성',\n",
       " '명당',\n",
       " '트랜스포머: 최후의 기사',\n",
       " '협상',\n",
       " '가디언즈 오브 갤럭시 VOL. 2',\n",
       " '메이즈 러너: 데스 큐어',\n",
       " '마약왕',\n",
       " '군함도',\n",
       " '맘마미아!2',\n",
       " '조작된 도시',\n",
       " '임금님의 사건수첩',\n",
       " '23 아이덴티티',\n",
       " '국가부도의 날',\n",
       " '독전',\n",
       " '레디 플레이어 원',\n",
       " '토르: 라그나로크',\n",
       " '미션 임파서블: 폴아웃',\n",
       " '부라더',\n",
       " '덩케르크',\n",
       " '신과함께-인과 연',\n",
       " '안시성',\n",
       " '스윙키즈',\n",
       " '조선명탐정: 흡혈괴마의 비밀']"
      ]
     },
     "execution_count": 24,
     "metadata": {},
     "output_type": "execute_result"
    }
   ],
   "source": [
    "extra_movie"
   ]
  },
  {
   "cell_type": "code",
   "execution_count": 27,
   "metadata": {
    "ExecuteTime": {
     "end_time": "2021-11-25T09:47:20.330809Z",
     "start_time": "2021-11-25T09:47:20.322810Z"
    }
   },
   "outputs": [
    {
     "name": "stdout",
     "output_type": "stream",
     "text": [
      "97\n"
     ]
    }
   ],
   "source": [
    "print(len(extra_movie))"
   ]
  },
  {
   "cell_type": "code",
   "execution_count": null,
   "metadata": {},
   "outputs": [],
   "source": []
  }
 ],
 "metadata": {
  "hide_input": false,
  "kernelspec": {
   "display_name": "Python 3",
   "language": "python",
   "name": "python3"
  },
  "language_info": {
   "codemirror_mode": {
    "name": "ipython",
    "version": 3
   },
   "file_extension": ".py",
   "mimetype": "text/x-python",
   "name": "python",
   "nbconvert_exporter": "python",
   "pygments_lexer": "ipython3",
   "version": "3.8.3"
  },
  "toc": {
   "base_numbering": 1,
   "nav_menu": {},
   "number_sections": true,
   "sideBar": true,
   "skip_h1_title": false,
   "title_cell": "Table of Contents",
   "title_sidebar": "Contents",
   "toc_cell": false,
   "toc_position": {
    "height": "calc(100% - 180px)",
    "left": "10px",
    "top": "150px",
    "width": "226.25px"
   },
   "toc_section_display": true,
   "toc_window_display": true
  },
  "varInspector": {
   "cols": {
    "lenName": 16,
    "lenType": 16,
    "lenVar": 40
   },
   "kernels_config": {
    "python": {
     "delete_cmd_postfix": "",
     "delete_cmd_prefix": "del ",
     "library": "var_list.py",
     "varRefreshCmd": "print(var_dic_list())"
    },
    "r": {
     "delete_cmd_postfix": ") ",
     "delete_cmd_prefix": "rm(",
     "library": "var_list.r",
     "varRefreshCmd": "cat(var_dic_list()) "
    }
   },
   "types_to_exclude": [
    "module",
    "function",
    "builtin_function_or_method",
    "instance",
    "_Feature"
   ],
   "window_display": false
  }
 },
 "nbformat": 4,
 "nbformat_minor": 4
}
