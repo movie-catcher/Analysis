{
 "cells": [
  {
   "cell_type": "markdown",
   "metadata": {},
   "source": [
    "# KOBIS Webscraping\n",
    "- https://www.kobis.or.kr/kobis/business/stat/boxs/findYearlyBoxOfficeList.do\n",
    "\n",
    "\n",
    "> 코드 -> id\n",
    "- 20204117\n",
    "\n",
    "> 요약정보\n",
    "- 장편/단편 | 종류 | 장르 | runtime | 연령 | 국가\n",
    "- 장편 | 일반영화 | 액션, 드라마 | 121분 2초 | 15세이상관람가 | 한국\n",
    "\n",
    "> 배우 [주연]\n",
    "- 김윤석(한신성 대사) | 조인성(강대진 참사관) | 허준호(림용수 대사) | 구교환(태준기 참사관) | 김소진(김명희) | 정만식(공수철 서기관)"
   ]
  },
  {
   "cell_type": "code",
   "execution_count": null,
   "metadata": {
    "ExecuteTime": {
     "end_time": "2021-11-18T13:40:07.383337Z",
     "start_time": "2021-11-18T13:40:07.381337Z"
    }
   },
   "outputs": [],
   "source": [
    "# import requests\n",
    "# from bs4 import BeautifulSoup\n",
    "# from selenium import webdriver\n",
    "# from selenium.webdriver.support.ui import Select\n",
    "# import time\n",
    "\n",
    "# browser = webdriver.Chrome()\n",
    "# # browser.maximize_window()\n",
    "\n",
    "# url = 'https://www.kobis.or.kr/kobis/business/stat/boxs/findYearlyBoxOfficeList.do'\n",
    "# browser.get(url)"
   ]
  },
  {
   "cell_type": "markdown",
   "metadata": {},
   "source": [
    "## Function"
   ]
  },
  {
   "cell_type": "code",
   "execution_count": 4,
   "metadata": {
    "ExecuteTime": {
     "end_time": "2021-11-26T12:06:15.583108Z",
     "start_time": "2021-11-26T12:06:15.574102Z"
    }
   },
   "outputs": [],
   "source": [
    "# 연도 선택 후 조회\n",
    "def select_year(year):\n",
    "    # select by value \n",
    "    select = Select(browser.find_element_by_id('sSearchYearFrom'))\n",
    "    # 2019년 선택\n",
    "    select.select_by_value(str(year))\n",
    "    # 조회 버튼 클릭\n",
    "    browser.find_element_by_class_name('btn_blue').click()\n",
    "    \n",
    "    return"
   ]
  },
  {
   "cell_type": "code",
   "execution_count": 5,
   "metadata": {
    "ExecuteTime": {
     "end_time": "2021-11-26T12:06:16.303758Z",
     "start_time": "2021-11-26T12:06:16.298017Z"
    }
   },
   "outputs": [],
   "source": [
    "# # 영화명 추출\n",
    "# def movie_name_extract():\n",
    "#     soup = BeautifulSoup(browser.page_source, 'lxml')\n",
    "#     movies = soup.find_all('td', attrs = {'class':'tal'})\n",
    "\n",
    "#     movie_title = []\n",
    "#     for movie in movies:\n",
    "#         title = movie.find('span', attrs={'class':'ellip per90'}).get_text()\n",
    "#         movie_title.append(title)\n",
    "\n",
    "#     return movie_title"
   ]
  },
  {
   "cell_type": "code",
   "execution_count": 6,
   "metadata": {
    "ExecuteTime": {
     "end_time": "2021-11-26T12:06:16.754772Z",
     "start_time": "2021-11-26T12:06:16.745050Z"
    }
   },
   "outputs": [],
   "source": [
    "# 불러올 tr_id 생성하는 함수\n",
    "# 가져오고 싶은 영화 갯수\n",
    "def make_id(num):\n",
    "    lst = []\n",
    "    for i in range(num):\n",
    "         lst.append('tr_' + str(i))\n",
    "    return lst"
   ]
  },
  {
   "cell_type": "code",
   "execution_count": 16,
   "metadata": {
    "ExecuteTime": {
     "end_time": "2021-11-26T12:16:24.923025Z",
     "start_time": "2021-11-26T12:16:24.892939Z"
    }
   },
   "outputs": [],
   "source": [
    "# 필요한 영화 정보 가져오는 함수\n",
    "def extract_movie_info(soup):\n",
    "    try:\n",
    "        movie_contents = soup.find('dl',{'class':'ovf cont'}).find_all('dd')\n",
    "    except:\n",
    "        movie_contents = None\n",
    "        \n",
    "    try:\n",
    "        movie_info_lst = []\n",
    "        for movie_content in movie_contents:\n",
    "            movie_info = movie_content.get_text(strip = True)\n",
    "            movie_info_lst.append(movie_info)\n",
    "    except:\n",
    "        movie_info_lst = []\n",
    "\n",
    "    movie_info_dic = {}\n",
    "    movie_info_dic['movie_name'] = soup.find('div',{'class':'hd_layer'}).find('strong').get_text().strip()\n",
    "    try:\n",
    "        movie_info_dic['code'] = movie_info_lst[0]\n",
    "        movie_info_dic['summary'] = movie_info_lst[3]\n",
    "\n",
    "        movie_info_dic['summary'] = movie_info_dic['summary'].replace('\\n',\"\").replace('\\t',\"\").split('|')\n",
    "\n",
    "        movie_info_dic['scale'] = movie_info_dic['summary'][0].strip()\n",
    "        movie_info_dic['kind'] = movie_info_dic['summary'][1].strip()\n",
    "\n",
    "        movie_genre = [genre.strip() for genre in movie_info_dic['summary'][2].strip().split(',')]\n",
    "        movie_info_dic['genre'] = movie_genre\n",
    "\n",
    "        movie_info_dic['running_time'] = movie_info_dic['summary'][3].strip()\n",
    "        movie_info_dic['age'] = movie_info_dic['summary'][4].strip()\n",
    "\n",
    "        del movie_info_dic['summary']\n",
    "    except:\n",
    "        movie_info_dic['code'] = None\n",
    "        movie_info_dic['scale'] = None\n",
    "        movie_info_dic['kind'] = None\n",
    "        movie_info_dic['genre'] = None\n",
    "        movie_info_dic['running_time'] = None\n",
    "        movie_info_dic['age'] = None\n",
    "    \n",
    "    try:\n",
    "        actors_pre = soup.find('dl',{'class':'desc_info'}).find('td').find_all('a')\n",
    "        actors = []\n",
    "        for actor in actors_pre:\n",
    "            idx = actor.get_text().find('(')\n",
    "            if idx != -1:\n",
    "                actors.append(actor.get_text()[:idx])\n",
    "            else:\n",
    "                actors.append(actor.get_text())\n",
    "        movie_info_dic['actor'] = actors\n",
    "    except:\n",
    "        movie_info_dic['actor'] = None\n",
    "    \n",
    "    return movie_info_dic"
   ]
  },
  {
   "cell_type": "code",
   "execution_count": 8,
   "metadata": {
    "ExecuteTime": {
     "end_time": "2021-11-26T12:06:18.059571Z",
     "start_time": "2021-11-26T12:06:18.045938Z"
    }
   },
   "outputs": [],
   "source": [
    "# 영화 클릭해서 필요 정보 가져오고 창 닫는 함수\n",
    "def movie_click(ids):\n",
    "    movie_info = []\n",
    "    for id in ids:\n",
    "        print(\"Scrapping movie_id : {}\".format(id))\n",
    "        movie_tr_id = browser.find_element_by_id(id)\n",
    "        movie_click = movie_tr_id.find_element_by_css_selector('#td_movie > span > a')\n",
    "        movie_click.click()\n",
    "        \n",
    "        html = browser.page_source\n",
    "        soup = BeautifulSoup(html,'lxml')\n",
    "\n",
    "        movie = extract_movie_info(soup)\n",
    "        movie_info.append(movie)\n",
    "        \n",
    "        time.sleep(1) # 벤 안먹기위해서\n",
    "\n",
    "        # 창 닫기\n",
    "        browser.find_element_by_css_selector('body > div.ui-dialog.ui-corner-all.ui-widget.ui-widget-content.ui-front.ui-draggable.ui-resizable > div.ui-dialog-titlebar.ui-corner-all.ui-widget-header.ui-helper-clearfix.ui-draggable-handle > div.hd_layer > a:nth-child(3) > span').click()\n",
    "\n",
    "    return movie_info"
   ]
  },
  {
   "cell_type": "markdown",
   "metadata": {},
   "source": [
    "## 2020~2017"
   ]
  },
  {
   "cell_type": "code",
   "execution_count": 12,
   "metadata": {
    "ExecuteTime": {
     "end_time": "2021-11-26T12:15:09.436702Z",
     "start_time": "2021-11-26T12:15:03.586650Z"
    }
   },
   "outputs": [],
   "source": [
    "import warnings\n",
    "warnings.filterwarnings(\"ignore\") \n",
    "\n",
    "import requests\n",
    "from bs4 import BeautifulSoup\n",
    "from selenium import webdriver\n",
    "from selenium.webdriver.support.ui import Select\n",
    "import time\n",
    "\n",
    "browser = webdriver.Chrome()\n",
    "# browser.maximize_window()\n",
    "\n",
    "url = 'https://www.kobis.or.kr/kobis/business/stat/boxs/findYearlyBoxOfficeList.do'\n",
    "browser.get(url)"
   ]
  },
  {
   "cell_type": "markdown",
   "metadata": {},
   "source": [
    "### 2020"
   ]
  },
  {
   "cell_type": "code",
   "execution_count": 28,
   "metadata": {
    "ExecuteTime": {
     "end_time": "2021-11-26T12:36:20.232169Z",
     "start_time": "2021-11-26T12:33:20.607278Z"
    },
    "scrolled": true
   },
   "outputs": [
    {
     "name": "stdout",
     "output_type": "stream",
     "text": [
      "Scrapping movie_id : tr_0\n",
      "Scrapping movie_id : tr_1\n",
      "Scrapping movie_id : tr_2\n",
      "Scrapping movie_id : tr_3\n",
      "Scrapping movie_id : tr_4\n",
      "Scrapping movie_id : tr_5\n",
      "Scrapping movie_id : tr_6\n",
      "Scrapping movie_id : tr_7\n",
      "Scrapping movie_id : tr_8\n",
      "Scrapping movie_id : tr_9\n",
      "Scrapping movie_id : tr_10\n",
      "Scrapping movie_id : tr_11\n",
      "Scrapping movie_id : tr_12\n",
      "Scrapping movie_id : tr_13\n",
      "Scrapping movie_id : tr_14\n",
      "Scrapping movie_id : tr_15\n",
      "Scrapping movie_id : tr_16\n",
      "Scrapping movie_id : tr_17\n",
      "Scrapping movie_id : tr_18\n",
      "Scrapping movie_id : tr_19\n",
      "Scrapping movie_id : tr_20\n",
      "Scrapping movie_id : tr_21\n",
      "Scrapping movie_id : tr_22\n",
      "Scrapping movie_id : tr_23\n",
      "Scrapping movie_id : tr_24\n",
      "Scrapping movie_id : tr_25\n",
      "Scrapping movie_id : tr_26\n",
      "Scrapping movie_id : tr_27\n",
      "Scrapping movie_id : tr_28\n",
      "Scrapping movie_id : tr_29\n",
      "Scrapping movie_id : tr_30\n",
      "Scrapping movie_id : tr_31\n",
      "Scrapping movie_id : tr_32\n",
      "Scrapping movie_id : tr_33\n",
      "Scrapping movie_id : tr_34\n",
      "Scrapping movie_id : tr_35\n",
      "Scrapping movie_id : tr_36\n",
      "Scrapping movie_id : tr_37\n",
      "Scrapping movie_id : tr_38\n",
      "Scrapping movie_id : tr_39\n",
      "Scrapping movie_id : tr_40\n",
      "Scrapping movie_id : tr_41\n",
      "Scrapping movie_id : tr_42\n",
      "Scrapping movie_id : tr_43\n",
      "Scrapping movie_id : tr_44\n",
      "Scrapping movie_id : tr_45\n",
      "Scrapping movie_id : tr_46\n",
      "Scrapping movie_id : tr_47\n",
      "Scrapping movie_id : tr_48\n",
      "Scrapping movie_id : tr_49\n",
      "Webscraping Done\n"
     ]
    }
   ],
   "source": [
    "select_year(2020) # 2020 선택 후 조회 버튼 클릭\n",
    "\n",
    "# movie_title_2020 = movie_name_extract() # 영화명 list\n",
    "\n",
    "movie_ids = make_id(50) # 영화 50개 id\n",
    "movie_info_20 = movie_click(movie_ids)\n",
    "\n",
    "print('Webscraping Done')"
   ]
  },
  {
   "cell_type": "markdown",
   "metadata": {},
   "source": [
    "### 2019"
   ]
  },
  {
   "cell_type": "code",
   "execution_count": 27,
   "metadata": {
    "ExecuteTime": {
     "end_time": "2021-11-26T12:30:21.954180Z",
     "start_time": "2021-11-26T12:26:48.307741Z"
    },
    "scrolled": true
   },
   "outputs": [
    {
     "name": "stdout",
     "output_type": "stream",
     "text": [
      "Scrapping movie_id : tr_0\n",
      "Scrapping movie_id : tr_1\n",
      "Scrapping movie_id : tr_2\n",
      "Scrapping movie_id : tr_3\n",
      "Scrapping movie_id : tr_4\n",
      "Scrapping movie_id : tr_5\n",
      "Scrapping movie_id : tr_6\n",
      "Scrapping movie_id : tr_7\n",
      "Scrapping movie_id : tr_8\n",
      "Scrapping movie_id : tr_9\n",
      "Scrapping movie_id : tr_10\n",
      "Scrapping movie_id : tr_11\n",
      "Scrapping movie_id : tr_12\n",
      "Scrapping movie_id : tr_13\n",
      "Scrapping movie_id : tr_14\n",
      "Scrapping movie_id : tr_15\n",
      "Scrapping movie_id : tr_16\n",
      "Scrapping movie_id : tr_17\n",
      "Scrapping movie_id : tr_18\n",
      "Scrapping movie_id : tr_19\n",
      "Scrapping movie_id : tr_20\n",
      "Scrapping movie_id : tr_21\n",
      "Scrapping movie_id : tr_22\n",
      "Scrapping movie_id : tr_23\n",
      "Scrapping movie_id : tr_24\n",
      "Scrapping movie_id : tr_25\n",
      "Scrapping movie_id : tr_26\n",
      "Scrapping movie_id : tr_27\n",
      "Scrapping movie_id : tr_28\n",
      "Scrapping movie_id : tr_29\n",
      "Scrapping movie_id : tr_30\n",
      "Scrapping movie_id : tr_31\n",
      "Scrapping movie_id : tr_32\n",
      "Scrapping movie_id : tr_33\n",
      "Scrapping movie_id : tr_34\n",
      "Scrapping movie_id : tr_35\n",
      "Scrapping movie_id : tr_36\n",
      "Scrapping movie_id : tr_37\n",
      "Scrapping movie_id : tr_38\n",
      "Scrapping movie_id : tr_39\n",
      "Scrapping movie_id : tr_40\n",
      "Scrapping movie_id : tr_41\n",
      "Scrapping movie_id : tr_42\n",
      "Scrapping movie_id : tr_43\n",
      "Scrapping movie_id : tr_44\n",
      "Scrapping movie_id : tr_45\n",
      "Scrapping movie_id : tr_46\n",
      "Scrapping movie_id : tr_47\n",
      "Scrapping movie_id : tr_48\n",
      "Scrapping movie_id : tr_49\n",
      "Webscraping Done\n"
     ]
    }
   ],
   "source": [
    "select_year(2019) # 2020 선택 후 조회 버튼 클릭\n",
    "\n",
    "# movie_title_2019 = movie_name_extract() # 영화명 list\n",
    "\n",
    "movie_ids = make_id(50) # 영화 50개 id\n",
    "movie_info_19 = movie_click(movie_ids)\n",
    "\n",
    "print('Webscraping Done')"
   ]
  },
  {
   "cell_type": "markdown",
   "metadata": {},
   "source": [
    "### 2018"
   ]
  },
  {
   "cell_type": "code",
   "execution_count": 18,
   "metadata": {
    "ExecuteTime": {
     "end_time": "2021-11-26T12:19:58.430792Z",
     "start_time": "2021-11-26T12:16:31.150570Z"
    },
    "scrolled": true
   },
   "outputs": [
    {
     "name": "stdout",
     "output_type": "stream",
     "text": [
      "Scrapping movie_id : tr_0\n",
      "Scrapping movie_id : tr_1\n",
      "Scrapping movie_id : tr_2\n",
      "Scrapping movie_id : tr_3\n",
      "Scrapping movie_id : tr_4\n",
      "Scrapping movie_id : tr_5\n",
      "Scrapping movie_id : tr_6\n",
      "Scrapping movie_id : tr_7\n",
      "Scrapping movie_id : tr_8\n",
      "Scrapping movie_id : tr_9\n",
      "Scrapping movie_id : tr_10\n",
      "Scrapping movie_id : tr_11\n",
      "Scrapping movie_id : tr_12\n",
      "Scrapping movie_id : tr_13\n",
      "Scrapping movie_id : tr_14\n",
      "Scrapping movie_id : tr_15\n",
      "Scrapping movie_id : tr_16\n",
      "Scrapping movie_id : tr_17\n",
      "Scrapping movie_id : tr_18\n",
      "Scrapping movie_id : tr_19\n",
      "Scrapping movie_id : tr_20\n",
      "Scrapping movie_id : tr_21\n",
      "Scrapping movie_id : tr_22\n",
      "Scrapping movie_id : tr_23\n",
      "Scrapping movie_id : tr_24\n",
      "Scrapping movie_id : tr_25\n",
      "Scrapping movie_id : tr_26\n",
      "Scrapping movie_id : tr_27\n",
      "Scrapping movie_id : tr_28\n",
      "Scrapping movie_id : tr_29\n",
      "Scrapping movie_id : tr_30\n",
      "Scrapping movie_id : tr_31\n",
      "Scrapping movie_id : tr_32\n",
      "Scrapping movie_id : tr_33\n",
      "Scrapping movie_id : tr_34\n",
      "Scrapping movie_id : tr_35\n",
      "Scrapping movie_id : tr_36\n",
      "Scrapping movie_id : tr_37\n",
      "Scrapping movie_id : tr_38\n",
      "Scrapping movie_id : tr_39\n",
      "Scrapping movie_id : tr_40\n",
      "Scrapping movie_id : tr_41\n",
      "Scrapping movie_id : tr_42\n",
      "Scrapping movie_id : tr_43\n",
      "Scrapping movie_id : tr_44\n",
      "Scrapping movie_id : tr_45\n",
      "Scrapping movie_id : tr_46\n",
      "Scrapping movie_id : tr_47\n",
      "Scrapping movie_id : tr_48\n",
      "Scrapping movie_id : tr_49\n",
      "Webscraping Done\n"
     ]
    }
   ],
   "source": [
    "select_year(2018) # 2020 선택 후 조회 버튼 클릭\n",
    "\n",
    "# movie_title_2020 = movie_name_extract() # 영화명 list\n",
    "\n",
    "movie_ids = make_id(50) # 영화 50개 id\n",
    "movie_info_18 = movie_click(movie_ids)\n",
    "\n",
    "print('Webscraping Done')"
   ]
  },
  {
   "cell_type": "markdown",
   "metadata": {},
   "source": [
    "### 2017"
   ]
  },
  {
   "cell_type": "code",
   "execution_count": 26,
   "metadata": {
    "ExecuteTime": {
     "end_time": "2021-11-26T12:25:17.579343Z",
     "start_time": "2021-11-26T12:22:07.298172Z"
    },
    "scrolled": true
   },
   "outputs": [
    {
     "name": "stdout",
     "output_type": "stream",
     "text": [
      "Scrapping movie_id : tr_0\n",
      "Scrapping movie_id : tr_1\n",
      "Scrapping movie_id : tr_2\n",
      "Scrapping movie_id : tr_3\n",
      "Scrapping movie_id : tr_4\n",
      "Scrapping movie_id : tr_5\n",
      "Scrapping movie_id : tr_6\n",
      "Scrapping movie_id : tr_7\n",
      "Scrapping movie_id : tr_8\n",
      "Scrapping movie_id : tr_9\n",
      "Scrapping movie_id : tr_10\n",
      "Scrapping movie_id : tr_11\n",
      "Scrapping movie_id : tr_12\n",
      "Scrapping movie_id : tr_13\n",
      "Scrapping movie_id : tr_14\n",
      "Scrapping movie_id : tr_15\n",
      "Scrapping movie_id : tr_16\n",
      "Scrapping movie_id : tr_17\n",
      "Scrapping movie_id : tr_18\n",
      "Scrapping movie_id : tr_19\n",
      "Scrapping movie_id : tr_20\n",
      "Scrapping movie_id : tr_21\n",
      "Scrapping movie_id : tr_22\n",
      "Scrapping movie_id : tr_23\n",
      "Scrapping movie_id : tr_24\n",
      "Scrapping movie_id : tr_25\n",
      "Scrapping movie_id : tr_26\n",
      "Scrapping movie_id : tr_27\n",
      "Scrapping movie_id : tr_28\n",
      "Scrapping movie_id : tr_29\n",
      "Scrapping movie_id : tr_30\n",
      "Scrapping movie_id : tr_31\n",
      "Scrapping movie_id : tr_32\n",
      "Scrapping movie_id : tr_33\n",
      "Scrapping movie_id : tr_34\n",
      "Scrapping movie_id : tr_35\n",
      "Scrapping movie_id : tr_36\n",
      "Scrapping movie_id : tr_37\n",
      "Scrapping movie_id : tr_38\n",
      "Scrapping movie_id : tr_39\n",
      "Scrapping movie_id : tr_40\n",
      "Scrapping movie_id : tr_41\n",
      "Scrapping movie_id : tr_42\n",
      "Scrapping movie_id : tr_43\n",
      "Scrapping movie_id : tr_44\n",
      "Scrapping movie_id : tr_45\n",
      "Scrapping movie_id : tr_46\n",
      "Scrapping movie_id : tr_47\n",
      "Scrapping movie_id : tr_48\n",
      "Scrapping movie_id : tr_49\n",
      "Webscraping Done\n"
     ]
    }
   ],
   "source": [
    "select_year(2017) # 2020 선택 후 조회 버튼 클릭\n",
    "\n",
    "# movie_title_2020 = movie_name_extract() # 영화명 list\n",
    "\n",
    "movie_ids = make_id(50) # 영화 50개 id\n",
    "movie_info_17 = movie_click(movie_ids)\n",
    "\n",
    "print('Webscraping Done')"
   ]
  },
  {
   "cell_type": "markdown",
   "metadata": {},
   "source": [
    "## DataFrame Configuration"
   ]
  },
  {
   "cell_type": "code",
   "execution_count": 29,
   "metadata": {
    "ExecuteTime": {
     "end_time": "2021-11-26T12:36:39.692697Z",
     "start_time": "2021-11-26T12:36:39.686828Z"
    }
   },
   "outputs": [],
   "source": [
    "import pandas as pd"
   ]
  },
  {
   "cell_type": "code",
   "execution_count": 30,
   "metadata": {
    "ExecuteTime": {
     "end_time": "2021-11-26T12:37:03.555399Z",
     "start_time": "2021-11-26T12:37:01.346660Z"
    }
   },
   "outputs": [],
   "source": [
    "movie_df = pd.DataFrame()\n",
    "movie_df_idx = ['movie_name','code','genre','kind','scale','running_time','age', 'actor']\n",
    "movie_df = movie_df.reindex(columns=movie_df_idx)\n",
    "\n",
    "for movie_info in movie_info_20:\n",
    "    movie_df = movie_df.append(movie_info, ignore_index = True)\n",
    "for movie_info in movie_info_19:\n",
    "    movie_df = movie_df.append(movie_info, ignore_index = True)\n",
    "for movie_info in movie_info_18:\n",
    "    movie_df = movie_df.append(movie_info, ignore_index = True)\n",
    "for movie_info in movie_info_17:\n",
    "    movie_df = movie_df.append(movie_info, ignore_index = True)"
   ]
  },
  {
   "cell_type": "code",
   "execution_count": 31,
   "metadata": {
    "ExecuteTime": {
     "end_time": "2021-11-26T12:37:05.136771Z",
     "start_time": "2021-11-26T12:37:05.085338Z"
    },
    "scrolled": true
   },
   "outputs": [
    {
     "data": {
      "text/html": [
       "<div>\n",
       "<style scoped>\n",
       "    .dataframe tbody tr th:only-of-type {\n",
       "        vertical-align: middle;\n",
       "    }\n",
       "\n",
       "    .dataframe tbody tr th {\n",
       "        vertical-align: top;\n",
       "    }\n",
       "\n",
       "    .dataframe thead th {\n",
       "        text-align: right;\n",
       "    }\n",
       "</style>\n",
       "<table border=\"1\" class=\"dataframe\">\n",
       "  <thead>\n",
       "    <tr style=\"text-align: right;\">\n",
       "      <th></th>\n",
       "      <th>movie_name</th>\n",
       "      <th>code</th>\n",
       "      <th>genre</th>\n",
       "      <th>kind</th>\n",
       "      <th>scale</th>\n",
       "      <th>running_time</th>\n",
       "      <th>age</th>\n",
       "      <th>actor</th>\n",
       "    </tr>\n",
       "  </thead>\n",
       "  <tbody>\n",
       "    <tr>\n",
       "      <th>0</th>\n",
       "      <td>남산의 부장들</td>\n",
       "      <td>20180939</td>\n",
       "      <td>[드라마]</td>\n",
       "      <td>일반영화</td>\n",
       "      <td>장편</td>\n",
       "      <td>113분 38초</td>\n",
       "      <td>15세이상관람가</td>\n",
       "      <td>[이병헌, 이성민, 곽도원, 이희준, 김소진]</td>\n",
       "    </tr>\n",
       "    <tr>\n",
       "      <th>1</th>\n",
       "      <td>다만 악에서 구하소서</td>\n",
       "      <td>20197922</td>\n",
       "      <td>[범죄, 액션]</td>\n",
       "      <td>일반영화</td>\n",
       "      <td>장편</td>\n",
       "      <td>107분 49초</td>\n",
       "      <td>15세이상관람가</td>\n",
       "      <td>[황정민, 이정재, 박정민, 박소이]</td>\n",
       "    </tr>\n",
       "    <tr>\n",
       "      <th>2</th>\n",
       "      <td>반도</td>\n",
       "      <td>20193450</td>\n",
       "      <td>[액션, 드라마]</td>\n",
       "      <td>일반영화</td>\n",
       "      <td>장편</td>\n",
       "      <td>115분 35초</td>\n",
       "      <td>15세이상관람가</td>\n",
       "      <td>[강동원, 이정현]</td>\n",
       "    </tr>\n",
       "    <tr>\n",
       "      <th>3</th>\n",
       "      <td>히트맨</td>\n",
       "      <td>20192101</td>\n",
       "      <td>[코미디, 액션]</td>\n",
       "      <td>일반영화</td>\n",
       "      <td>장편</td>\n",
       "      <td>109분 47초</td>\n",
       "      <td>15세이상관람가</td>\n",
       "      <td>[권상우, 정준호, 황우슬혜, 이이경, 이지원]</td>\n",
       "    </tr>\n",
       "    <tr>\n",
       "      <th>4</th>\n",
       "      <td>테넷</td>\n",
       "      <td>20201122</td>\n",
       "      <td>[액션, SF]</td>\n",
       "      <td>일반영화</td>\n",
       "      <td>장편</td>\n",
       "      <td>149분 59초</td>\n",
       "      <td>12세이상관람가</td>\n",
       "      <td>[존 데이비드 워싱턴, 로버트 패틴슨, 엘리자베스 데비키, 애런 존슨]</td>\n",
       "    </tr>\n",
       "    <tr>\n",
       "      <th>...</th>\n",
       "      <td>...</td>\n",
       "      <td>...</td>\n",
       "      <td>...</td>\n",
       "      <td>...</td>\n",
       "      <td>...</td>\n",
       "      <td>...</td>\n",
       "      <td>...</td>\n",
       "      <td>...</td>\n",
       "    </tr>\n",
       "    <tr>\n",
       "      <th>195</th>\n",
       "      <td>기억의 밤</td>\n",
       "      <td>20173581</td>\n",
       "      <td>[미스터리, 스릴러]</td>\n",
       "      <td>일반영화</td>\n",
       "      <td>장편</td>\n",
       "      <td>108분 30초</td>\n",
       "      <td>15세이상관람가</td>\n",
       "      <td>[강하늘, 김무열, 문성근, 나영희]</td>\n",
       "    </tr>\n",
       "    <tr>\n",
       "      <th>196</th>\n",
       "      <td>해피 데스데이</td>\n",
       "      <td>20174622</td>\n",
       "      <td>[공포(호러), 미스터리, 스릴러]</td>\n",
       "      <td>일반영화</td>\n",
       "      <td>장편</td>\n",
       "      <td>96분 12초</td>\n",
       "      <td>15세이상관람가</td>\n",
       "      <td>[제시카 로테, 이스라엘 브로우사드]</td>\n",
       "    </tr>\n",
       "    <tr>\n",
       "      <th>197</th>\n",
       "      <td>브이아이피</td>\n",
       "      <td>20164174</td>\n",
       "      <td>[범죄, 드라마]</td>\n",
       "      <td>일반영화</td>\n",
       "      <td>장편</td>\n",
       "      <td>127분 55초</td>\n",
       "      <td>청소년관람불가</td>\n",
       "      <td>[장동건, 김명민, 박희순, 이종석]</td>\n",
       "    </tr>\n",
       "    <tr>\n",
       "      <th>198</th>\n",
       "      <td>특별시민</td>\n",
       "      <td>20162871</td>\n",
       "      <td>[드라마]</td>\n",
       "      <td>일반영화</td>\n",
       "      <td>장편</td>\n",
       "      <td>130분 24초</td>\n",
       "      <td>15세이상관람가</td>\n",
       "      <td>[최민식, 곽도원, 심은경, 문소리, 라미란, 류혜영, 이기홍]</td>\n",
       "    </tr>\n",
       "    <tr>\n",
       "      <th>199</th>\n",
       "      <td>에이리언: 커버넌트</td>\n",
       "      <td>20179382</td>\n",
       "      <td>[SF, 스릴러]</td>\n",
       "      <td>일반영화</td>\n",
       "      <td>장편</td>\n",
       "      <td>121분 55초</td>\n",
       "      <td>15세이상관람가</td>\n",
       "      <td>[마이클 패스벤더, 캐서린 워터스턴, 제임스 프랭코, 누미 라파스, 가이 피어스, ...</td>\n",
       "    </tr>\n",
       "  </tbody>\n",
       "</table>\n",
       "<p>200 rows × 8 columns</p>\n",
       "</div>"
      ],
      "text/plain": [
       "      movie_name      code                genre  kind scale running_time  \\\n",
       "0        남산의 부장들  20180939                [드라마]  일반영화    장편     113분 38초   \n",
       "1    다만 악에서 구하소서  20197922             [범죄, 액션]  일반영화    장편     107분 49초   \n",
       "2             반도  20193450            [액션, 드라마]  일반영화    장편     115분 35초   \n",
       "3            히트맨  20192101            [코미디, 액션]  일반영화    장편     109분 47초   \n",
       "4             테넷  20201122             [액션, SF]  일반영화    장편     149분 59초   \n",
       "..           ...       ...                  ...   ...   ...          ...   \n",
       "195        기억의 밤  20173581          [미스터리, 스릴러]  일반영화    장편     108분 30초   \n",
       "196      해피 데스데이  20174622  [공포(호러), 미스터리, 스릴러]  일반영화    장편      96분 12초   \n",
       "197        브이아이피  20164174            [범죄, 드라마]  일반영화    장편     127분 55초   \n",
       "198         특별시민  20162871                [드라마]  일반영화    장편     130분 24초   \n",
       "199   에이리언: 커버넌트  20179382            [SF, 스릴러]  일반영화    장편     121분 55초   \n",
       "\n",
       "          age                                              actor  \n",
       "0    15세이상관람가                          [이병헌, 이성민, 곽도원, 이희준, 김소진]  \n",
       "1    15세이상관람가                               [황정민, 이정재, 박정민, 박소이]  \n",
       "2    15세이상관람가                                         [강동원, 이정현]  \n",
       "3    15세이상관람가                         [권상우, 정준호, 황우슬혜, 이이경, 이지원]  \n",
       "4    12세이상관람가            [존 데이비드 워싱턴, 로버트 패틴슨, 엘리자베스 데비키, 애런 존슨]  \n",
       "..        ...                                                ...  \n",
       "195  15세이상관람가                               [강하늘, 김무열, 문성근, 나영희]  \n",
       "196  15세이상관람가                               [제시카 로테, 이스라엘 브로우사드]  \n",
       "197   청소년관람불가                               [장동건, 김명민, 박희순, 이종석]  \n",
       "198  15세이상관람가                [최민식, 곽도원, 심은경, 문소리, 라미란, 류혜영, 이기홍]  \n",
       "199  15세이상관람가  [마이클 패스벤더, 캐서린 워터스턴, 제임스 프랭코, 누미 라파스, 가이 피어스, ...  \n",
       "\n",
       "[200 rows x 8 columns]"
      ]
     },
     "execution_count": 31,
     "metadata": {},
     "output_type": "execute_result"
    }
   ],
   "source": [
    "movie_df"
   ]
  },
  {
   "cell_type": "markdown",
   "metadata": {},
   "source": [
    "## 변수 저장"
   ]
  },
  {
   "cell_type": "code",
   "execution_count": null,
   "metadata": {
    "ExecuteTime": {
     "end_time": "2021-11-17T12:27:19.230659Z",
     "start_time": "2021-11-17T12:27:19.227523Z"
    }
   },
   "outputs": [],
   "source": [
    "# %magic"
   ]
  },
  {
   "cell_type": "code",
   "execution_count": 32,
   "metadata": {
    "ExecuteTime": {
     "end_time": "2021-11-26T12:37:11.815686Z",
     "start_time": "2021-11-26T12:37:11.792911Z"
    }
   },
   "outputs": [
    {
     "name": "stdout",
     "output_type": "stream",
     "text": [
      "Stored 'movie_df' (DataFrame)\n"
     ]
    }
   ],
   "source": [
    "%store movie_df"
   ]
  },
  {
   "cell_type": "code",
   "execution_count": null,
   "metadata": {},
   "outputs": [],
   "source": []
  }
 ],
 "metadata": {
  "hide_input": false,
  "kernelspec": {
   "display_name": "Python 3",
   "language": "python",
   "name": "python3"
  },
  "toc": {
   "base_numbering": 1,
   "nav_menu": {},
   "number_sections": true,
   "sideBar": true,
   "skip_h1_title": false,
   "title_cell": "Table of Contents",
   "title_sidebar": "Contents",
   "toc_cell": false,
   "toc_position": {},
   "toc_section_display": true,
   "toc_window_display": false
  },
  "varInspector": {
   "cols": {
    "lenName": 16,
    "lenType": 16,
    "lenVar": 40
   },
   "kernels_config": {
    "python": {
     "delete_cmd_postfix": "",
     "delete_cmd_prefix": "del ",
     "library": "var_list.py",
     "varRefreshCmd": "print(var_dic_list())"
    },
    "r": {
     "delete_cmd_postfix": ") ",
     "delete_cmd_prefix": "rm(",
     "library": "var_list.r",
     "varRefreshCmd": "cat(var_dic_list()) "
    }
   },
   "types_to_exclude": [
    "module",
    "function",
    "builtin_function_or_method",
    "instance",
    "_Feature"
   ],
   "window_display": false
  }
 },
 "nbformat": 4,
 "nbformat_minor": 4
}
